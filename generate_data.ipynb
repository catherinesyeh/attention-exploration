{
 "cells": [
  {
   "cell_type": "markdown",
   "id": "9d949f7e-e75f-4c73-9060-0f4e5c6ee712",
   "metadata": {
    "tags": []
   },
   "source": [
    "# A) load data"
   ]
  },
  {
   "cell_type": "markdown",
   "id": "17d8e089-9cc5-4512-8a2f-077fb146c4a0",
   "metadata": {},
   "source": [
    "After this step, you should end up with an array with all the sentences in your dataset"
   ]
  },
  {
   "cell_type": "code",
   "execution_count": 1,
   "id": "fe89a278-1d55-4be1-8f58-2a59fb130253",
   "metadata": {},
   "outputs": [
    {
     "name": "stderr",
     "output_type": "stream",
     "text": [
      "/n/home10/cyeh/anaconda3/envs/diffusion/lib/python3.9/site-packages/tqdm/auto.py:22: TqdmWarning: IProgress not found. Please update jupyter and ipywidgets. See https://ipywidgets.readthedocs.io/en/stable/user_install.html\n",
      "  from .autonotebook import tqdm as notebook_tqdm\n",
      "Using custom data configuration qwedsacf--grade-school-math-instructions-27f3498f0a6417ed\n"
     ]
    },
    {
     "name": "stdout",
     "output_type": "stream",
     "text": [
      "Downloading and preparing dataset parquet/qwedsacf--grade-school-math-instructions to /n/home10/cyeh/.cache/huggingface/datasets/qwedsacf___parquet/qwedsacf--grade-school-math-instructions-27f3498f0a6417ed/0.0.0/2a3b91fbd88a2c90d1dbbb32b460cf621d31bd5b05b934492fdef7d8d6f236ec...\n"
     ]
    },
    {
     "name": "stderr",
     "output_type": "stream",
     "text": [
      "Downloading data files:   0%|          | 0/1 [00:00<?, ?it/s]\n",
      "Downloading data:   0%|          | 0.00/2.55M [00:00<?, ?B/s]\u001b[A\n",
      "Downloading data: 100%|██████████| 2.55M/2.55M [00:00<00:00, 19.4MB/s]\u001b[A\n",
      "Downloading data files: 100%|██████████| 1/1 [00:00<00:00,  1.03it/s]\n",
      "Extracting data files: 100%|██████████| 1/1 [00:00<00:00, 47.45it/s]\n",
      "                            \r"
     ]
    },
    {
     "name": "stdout",
     "output_type": "stream",
     "text": [
      "Dataset parquet downloaded and prepared to /n/home10/cyeh/.cache/huggingface/datasets/qwedsacf___parquet/qwedsacf--grade-school-math-instructions-27f3498f0a6417ed/0.0.0/2a3b91fbd88a2c90d1dbbb32b460cf621d31bd5b05b934492fdef7d8d6f236ec. Subsequent calls will reuse this data.\n"
     ]
    },
    {
     "name": "stderr",
     "output_type": "stream",
     "text": [
      "100%|██████████| 1/1 [00:00<00:00, 87.87it/s]\n"
     ]
    }
   ],
   "source": [
    "from datasets import load_dataset\n",
    "\n",
    "# dataset = load_dataset(\"trivia_qa\", 'rc.nocontext')\n",
    "dataset = load_dataset(\"super_glue\", \"axb\")\n",
    "# dataset = load_dataset(\"qwedsacf/grade-school-math-instructions\")"
   ]
  },
  {
   "cell_type": "code",
   "execution_count": 6,
   "id": "e93bef26-19d2-4964-bc8b-0e211fccf6a3",
   "metadata": {},
   "outputs": [
    {
     "name": "stdout",
     "output_type": "stream",
     "text": [
      "8792\n"
     ]
    }
   ],
   "source": [
    "test_data = dataset['train']\n",
    "print(len(test_data))"
   ]
  },
  {
   "cell_type": "markdown",
   "id": "6fd4bccb-9e56-4902-8304-9821ef7b93d2",
   "metadata": {
    "tags": []
   },
   "source": [
    "## sample from data"
   ]
  },
  {
   "cell_type": "code",
   "execution_count": 8,
   "id": "52f07c07-bbc6-45f3-8d21-0382f2268087",
   "metadata": {},
   "outputs": [],
   "source": [
    "# prepare for sampling\n",
    "import random\n",
    "num_examples = 120\n",
    "random.seed(10) # set seed\n",
    "# indices = random.sample(range(len(test_data)), num_examples)\n",
    "# indices[:10]"
   ]
  },
  {
   "cell_type": "code",
   "execution_count": 39,
   "id": "b9732372-2fce-4d91-933c-cdce99094c25",
   "metadata": {},
   "outputs": [
    {
     "data": {
      "text/plain": [
       "['there were 100 jelly beans in a bag to be given away on halloween. out of the 40 children taking part in the halloween celebration, 80% were allowed to draw jelly beans from the bag. each child drew two jelly beans out of the bag. how many jelly beans remained in the bag after the children took their share? how to solve this?',\n",
       " 'alton owns a business. he is currently renting a space that costs $20 per week. if alton earns $8 per day, how much is his total profit every week? solve this problem.',\n",
       " '15 gallons of gas were equally divided into 5 different containers. josey needed 1/4 of a container to run her lawnmower. how many pints of gasoline did josey need? can you solve this problem?',\n",
       " 'mckenna starts her day at 8:00 a.m. she works in her office up to 11:00 a.m. then joins her team of developers at the conference room to talk about projects up to 13:00, from which she works for another two hours and then heads home. how many hours does mckenna stay at work?',\n",
       " \"i need a clearer understanding of how to solve: john used to go to the gym multiple times a weak but because of lockdowns he hasn't been able to go. he used to lift 700 for squat, 400 for bench, and 800 for deadlift. for squat he lost 30% of his lift. he didn't lose any weight on bench because he was able to train that at home and he lost 200 pounds on deadlift. what is his new total?\",\n",
       " 'cody eats three times as many cookies as amir eats. if amir eats 5 cookies, how many cookies do both of them eat together? how to solve this?',\n",
       " 'can you explain how to solve this math problem: gerald is a furniture maker. he has 672 pieces of wood and he wants to make some tables and chairs. it takes 12 pieces of wood to make a table and 8 pieces of wood to make a chair. how many chairs can he make if he makes 24 tables?',\n",
       " \"55% of toby's friends are boys and the rest are girls. if he has 33 friends who are boys, how many friends does he have who are girls? solve this problem.\",\n",
       " 'there are 84 people waiting in line to ride a roller coaster at an amusement park. the roller coaster has 7 cars, and each car seats 2 people. how many times will the ride operator have to run the roller coaster to give everyone in line a turn?',\n",
       " 'jill and her friends watch 4 movies every saturday and half the number of movies on sunday than on saturday. if they watch movies every weekend, how many movies can they watch in 4 weeks? what is the solution?']"
      ]
     },
     "execution_count": 39,
     "metadata": {},
     "output_type": "execute_result"
    }
   ],
   "source": [
    "# pick 'num_examples' math instructions\n",
    "sentences = []\n",
    "sent_lengths = []\n",
    "for i in indices:\n",
    "    point = test_data[i]\n",
    "    sent = point['INSTRUCTION'].lower().split()\n",
    "    sent_len = len(sent)\n",
    "    if sent_len > 100: # skip really long sentences\n",
    "        continue\n",
    "    sent_lengths.append(sent_len)\n",
    "    sentences.append(' '.join(sent)) # add to list\n",
    " \n",
    "sentences[:10]"
   ]
  },
  {
   "cell_type": "code",
   "execution_count": 40,
   "id": "b9857b0c-eb23-4a47-ac28-30c552c53a3f",
   "metadata": {},
   "outputs": [
    {
     "name": "stdout",
     "output_type": "stream",
     "text": [
      "98\n",
      "18\n",
      "48.3728813559322\n",
      "there are 6 dogs and 2 ducks in the garden. how many feet are there in the garden?\n"
     ]
    }
   ],
   "source": [
    "# look at distribution of sentences\n",
    "max_len = max(sent_lengths)\n",
    "min_len = min(sent_lengths)\n",
    "mean_len = sum(sent_lengths)/len(sent_lengths)\n",
    "\n",
    "print(max_len)\n",
    "print(min_len)\n",
    "print(mean_len)\n",
    "\n",
    "min_ind = sent_lengths.index(min_len)\n",
    "print(sentences[min_ind])"
   ]
  },
  {
   "cell_type": "code",
   "execution_count": 9,
   "id": "10e4978b-1372-4a33-af2c-06af4fb0b809",
   "metadata": {},
   "outputs": [],
   "source": [
    "# save sentences if desired (to load back, use: np.load(\"qa_sentences.npy\"))\n",
    "import numpy as np\n",
    "# np.save(\"math_sentences.npy\", sentences)"
   ]
  },
  {
   "cell_type": "markdown",
   "id": "c2f6db0b-208f-4d0d-aee1-6ace75597700",
   "metadata": {
    "jp-MarkdownHeadingCollapsed": true,
    "tags": []
   },
   "source": [
    "## archive"
   ]
  },
  {
   "cell_type": "code",
   "execution_count": null,
   "id": "fb7b6228-3b7b-44df-b39f-17a614788f61",
   "metadata": {},
   "outputs": [],
   "source": [
    "# pick 'num_examples' random entailment pairs\n",
    "sentences = []\n",
    "sent_lengths = []\n",
    "for i in indices:\n",
    "    point = test_data[i]\n",
    "    sent1 = point['sentence1']\n",
    "    sent2 = point['sentence2']\n",
    "    sent = sent1 + \" \" + sent2 # create sentence pair\n",
    "    if sent not in sentences:\n",
    "        sentences.append(sent.lower()) # add to list\n",
    "        sent_lengths.append(len(sent.split()))\n",
    " \n",
    "sentences[:10]"
   ]
  },
  {
   "cell_type": "code",
   "execution_count": null,
   "id": "e490348e-757f-47a3-8b24-cc3b5ee5b257",
   "metadata": {},
   "outputs": [],
   "source": [
    "# pick 'num_examples' random Q/A pairs\n",
    "sentences = []\n",
    "sent_lengths = []\n",
    "for i in indices:\n",
    "    point = test_data[i]\n",
    "    question = point['question'].lower()\n",
    "    if question[-1] != '?': # add question mark if needed\n",
    "        question += '?'\n",
    "    answer = point['answer']['value'].lower()\n",
    "    sent = question + \" \" + answer # create sentence from q/a pair\n",
    "    sentences.append(sent) # add to list\n",
    "    sent_lengths.append(len(sent.split()))\n",
    "    \n",
    "sentences[:10]"
   ]
  },
  {
   "cell_type": "markdown",
   "id": "cad84240-3aba-41d1-aa6f-7b07d71fb99b",
   "metadata": {
    "tags": []
   },
   "source": [
    "# b) get necessary info"
   ]
  },
  {
   "cell_type": "markdown",
   "id": "bab40ff0-b7f0-401e-86bd-aa9cf3e08c5a",
   "metadata": {},
   "source": [
    "Here we use helper methods from Jesse Vig's bertviz repo: https://github.com/jessevig/bertviz\n",
    "* the cell below may take a while to run... this is normal"
   ]
  },
  {
   "cell_type": "code",
   "execution_count": 3,
   "id": "41b6b18a-85a6-42fe-84db-ca650258de8a",
   "metadata": {},
   "outputs": [],
   "source": [
    "# if needed, load back sentences\n",
    "# sentences = np.load(\"math_sentences.npy\")\n",
    "# sentences = np.load(\"axb_sentences.npy\")\n",
    "# sentences = np.load(\"qa_sentences.npy\")\n",
    "sentences = np.load(\"sentences.npy\")"
   ]
  },
  {
   "cell_type": "code",
   "execution_count": 4,
   "id": "19a79f00-fb58-4ba3-8ec3-3b99c2bbeeaf",
   "metadata": {},
   "outputs": [],
   "source": [
    "sentences = sentences[:200]"
   ]
  },
  {
   "cell_type": "code",
   "execution_count": 5,
   "id": "0ceaf87c-1de2-4c19-8ded-14b4d2cc19e0",
   "metadata": {},
   "outputs": [
    {
     "name": "stderr",
     "output_type": "stream",
     "text": [
      "/n/home10/cyeh/anaconda3/envs/diffusion/lib/python3.9/site-packages/tqdm/auto.py:22: TqdmWarning: IProgress not found. Please update jupyter and ipywidgets. See https://ipywidgets.readthedocs.io/en/stable/user_install.html\n",
      "  from .autonotebook import tqdm as notebook_tqdm\n"
     ]
    }
   ],
   "source": [
    "# import methods from bertviz\n",
    "from bertviz import neuron_view\n",
    "from bertviz.transformers_neuron_view import BertModel, BertTokenizer, GPT2Model, GPT2Tokenizer\n",
    "import string\n",
    "\n",
    "# BERT\n",
    "# model_type = 'bert'\n",
    "# model_version = 'bert-base-uncased'\n",
    "# model = BertModel.from_pretrained(model_version, output_attentions=True)\n",
    "# tokenizer = BertTokenizer.from_pretrained(model_version, do_lower_case=True)\n",
    "\n",
    "# GPT\n",
    "model_type = 'gpt2'\n",
    "model_version = 'gpt2'\n",
    "model = GPT2Model.from_pretrained(model_version, output_attentions=True)\n",
    "tokenizer = GPT2Tokenizer.from_pretrained(model_version, do_lower_case=True)\n",
    "\n",
    "# may need to change depending on your model\n",
    "num_heads = 12\n",
    "num_layers = 12\n",
    "\n",
    "# master dictionary for all values\n",
    "attn_dict = {'left_text': [], \n",
    "             'right_text': [], \n",
    "             'positions': [],\n",
    "             'normalized_positions': [],\n",
    "             'sentences': [],\n",
    "             'tokenized_sentences': [],\n",
    "             'q_norms': [[[''.join(random.choices(string.ascii_letters, k=5))] for i in range(num_heads)] for j in range(num_layers)], \n",
    "             'k_norms': [[[''.join(random.choices(string.ascii_letters, k=5))] for i in range(num_heads)] for j in range(num_layers)], \n",
    "             'queries': [[[''.join(random.choices(string.ascii_letters, k=5))] for i in range(num_heads)] for j in range(num_layers)], \n",
    "             'keys': [[[''.join(random.choices(string.ascii_letters, k=5))] for i in range(num_heads)] for j in range(num_layers)],\n",
    "             'attn': [[[''.join(random.choices(string.ascii_letters, k=5))] for i in range(num_heads)] for j in range(num_layers)],\n",
    "             'dot_prod': [[[''.join(random.choices(string.ascii_letters, k=5))] for i in range(num_heads)] for j in range(num_layers)]}\n",
    "\n",
    "for s in sentences:\n",
    "    # call method from bertviz to get attention info\n",
    "    s_dict = neuron_view.get_attention(model, model_type, tokenizer, s, include_queries_and_keys=True)['all']\n",
    "    \n",
    "    # append to master dictionary\n",
    "    tokens = s_dict['left_text']\n",
    "    attn_dict['left_text'].extend(tokens)\n",
    "    attn_dict['right_text'].extend(s_dict['right_text'])\n",
    "    \n",
    "    for index in range(len(tokens)): # save position of token and tokenized sentences too\n",
    "        attn_dict['positions'].append(index)\n",
    "        attn_dict['normalized_positions'].append(index / (len(tokens) - 1))\n",
    "        attn_dict['sentences'].append(s)\n",
    "        attn_dict['tokenized_sentences'].append(' '.join(tokens))\n",
    "        \n",
    "    for i in range(num_layers): # updating cumulative q/k vectors + attn + dp\n",
    "        for j in range(num_heads):\n",
    "            q = attn_dict['queries'][i][j]\n",
    "            k = attn_dict['keys'][i][j]\n",
    "            a = attn_dict['attn'][i][j]\n",
    "            d = attn_dict['dot_prod'][i][j]\n",
    "            q_norm = attn_dict['q_norms'][i][j]\n",
    "            k_norm = attn_dict['k_norms'][i][j]\n",
    "            \n",
    "            if len(q) == 1: # on first round, need to empty list (random string was placeholder)\n",
    "                q.clear()\n",
    "            query = s_dict['queries'][i][j]\n",
    "            q.extend(query)\n",
    "            np_query = np.array(query)\n",
    "\n",
    "            if len(k) == 1:\n",
    "                k.clear()\n",
    "            key = s_dict['keys'][i][j]\n",
    "            k.extend(key)\n",
    "            np_key = np.array(key)\n",
    "            \n",
    "            if len(a) == 1:\n",
    "                a.clear()\n",
    "            a.extend(s_dict['attn'][i][j])\n",
    "            \n",
    "            if len(d) == 1:\n",
    "                d.clear()\n",
    "            dp = np.dot(np_query, np_key.transpose())\n",
    "            d.extend(dp)\n",
    "            \n",
    "            # norms too\n",
    "            if len(q_norm) == 1:\n",
    "                q_norm.clear()\n",
    "            if len(k_norm) == 1:\n",
    "                k_norm.clear()\n",
    "            sent_q_norms = [np.linalg.norm(q)for q in np_query]\n",
    "            q_norm.extend(sent_q_norms)\n",
    "            sent_k_norms = [np.linalg.norm(k)for k in np_key]\n",
    "            k_norm.extend(sent_k_norms)\n",
    "            "
   ]
  },
  {
   "cell_type": "code",
   "execution_count": null,
   "id": "1ada60c1-263a-41fb-828f-16da84942720",
   "metadata": {},
   "outputs": [],
   "source": [
    "# optional if you want to save this dictionary (to load back, use: np.load(\"attn_dict.pkl.npy\", allow_pickle=True).item()\n",
    "np.save(\"attn_dict.pkl\", attn_dict)"
   ]
  },
  {
   "cell_type": "code",
   "execution_count": 8,
   "id": "10a681e0-c1a0-43ed-b898-d3ffa08e6b41",
   "metadata": {},
   "outputs": [],
   "source": [
    "crop_data = False # keep false unless you want to crop data further (e.g., see below)"
   ]
  },
  {
   "cell_type": "markdown",
   "id": "e7b907d4-bf84-41af-9db6-c52c7e2ad805",
   "metadata": {
    "tags": []
   },
   "source": [
    "### optional (crop the data further)"
   ]
  },
  {
   "cell_type": "code",
   "execution_count": 43,
   "id": "fda87140-2ed5-45a1-bce2-901eec164e30",
   "metadata": {},
   "outputs": [
    {
     "name": "stdout",
     "output_type": "stream",
     "text": [
      "carol spends 4 hours writing a song, half that much time recording it, and 90 minutes editing it. what percentage of her total work time did she spend editing?\n",
      "82\n"
     ]
    }
   ],
   "source": [
    "for i in range(len(sentences)):\n",
    "    s = sentences[i]\n",
    "    if \"spend editing\" in s:\n",
    "        print(s)\n",
    "        print(i)"
   ]
  },
  {
   "cell_type": "code",
   "execution_count": 13,
   "id": "f0628ae9-eacb-485e-88ab-657e749e288f",
   "metadata": {},
   "outputs": [
    {
     "name": "stdout",
     "output_type": "stream",
     "text": [
      "['people', 'come', 'to', 'the', 'festival', '.', '[SEP]', '[CLS]', 'the', 'population', 'rose', 'from', '100', ',', '04', '##5', '(', '1990', ')', 'to', '202', ',', '73', '##5', 'in', '2010', '.', '[SEP]']\n"
     ]
    }
   ],
   "source": [
    "# bert\n",
    "print(attn_dict[\"left_text\"][2500:2528]) # wiki (small) data\n",
    "# print(attn_dict[\"left_text\"][4994:5017]) # axb data\n",
    "# print(attn_dict[\"left_text\"][5000:5019]) # qa data"
   ]
  },
  {
   "cell_type": "code",
   "execution_count": null,
   "id": "e72f3a74-f835-4e54-bbd6-e6fd64723476",
   "metadata": {},
   "outputs": [
    {
     "data": {
      "text/plain": [
       "'A combination of the river and uplift of the Wasatch Mountains has carved the scenery of American Fork Canyon.'"
      ]
     },
     "execution_count": 11,
     "metadata": {},
     "output_type": "execute_result"
    }
   ],
   "source": [
    "# bert\n",
    "sentences[83]\n",
    "# sentences[226] # qa data"
   ]
  },
  {
   "cell_type": "code",
   "execution_count": 12,
   "id": "e912d1af-313a-4864-aab9-2879b60a6cbb",
   "metadata": {},
   "outputs": [
    {
     "name": "stdout",
     "output_type": "stream",
     "text": [
      "[' and', ' upl', 'ift', ' of', ' the', ' Was', 'atch', ' Mountains', ' has', ' carved', ' the', ' scenery', ' of', ' American', ' Fork', ' Canyon', '.']\n"
     ]
    },
    {
     "data": {
      "text/plain": [
       "'A combination of the river and uplift of the Wasatch Mountains has carved the scenery of American Fork Canyon.'"
      ]
     },
     "execution_count": 12,
     "metadata": {},
     "output_type": "execute_result"
    }
   ],
   "source": [
    "# gpt\n",
    "print(attn_dict[\"left_text\"][2500:2517]) # wiki (small) data\n",
    "# print(attn_dict[\"left_text\"][5002:5012]) # math data\n",
    "# print(attn_dict[\"left_text\"][5002:5020]) # qa data\n",
    "sentences[86]"
   ]
  },
  {
   "cell_type": "code",
   "execution_count": 6,
   "id": "350ed192-f182-4440-98a6-bfb02d113d01",
   "metadata": {},
   "outputs": [],
   "source": [
    "crop_data = True"
   ]
  },
  {
   "cell_type": "markdown",
   "id": "315b504d-68ea-4612-8c92-6be39a5f5d52",
   "metadata": {
    "tags": []
   },
   "source": [
    "# c) generate tokens.json file (1 file w/ info shared across all attn heads)"
   ]
  },
  {
   "cell_type": "markdown",
   "id": "af8551c2-3d69-465c-aa5a-ed6a91ac66e0",
   "metadata": {},
   "source": [
    "Format of this file:\n",
    "\n",
    "```\n",
    "{\n",
    "  \"tokens\": [\n",
    "    {\n",
    "      \"value\": \"[cls]\",\n",
    "      \"type\": \"query\",\n",
    "      \"pos_int\": 0,\n",
    "      \"length\": 13,\n",
    "      \"position\": 0.0,\n",
    "      \"sentence\": \"[CLS] synth ##pop band freeze ##pop have used it on stage . [SEP]\"\n",
    "    },\n",
    "    ...,\n",
    "    {\n",
    "      \"value\": \"synth\",\n",
    "      \"type\": \"query\",\n",
    "      \"pos_int\": 1,\n",
    "      \"length\": 13,\n",
    "      \"position\": 0.083333,\n",
    "      \"sentence\": \"[CLS] synth ##pop band freeze ##pop have used it on stage . [SEP]\"\n",
    "    }\n",
    "  ]\n",
    "}\n",
    "```\n",
    "\n",
    "* **value:** the token\n",
    "* **type:** query or key\n",
    "* **pos_int:** position of token in sentence (zero index)\n",
    "* **length:** length of sentence\n",
    "* **position:** normalized position in sentence (i.e., pos_int / length - 1)\n",
    "* **sentence:** full sentence the current token came from"
   ]
  },
  {
   "cell_type": "code",
   "execution_count": 7,
   "id": "4f1718f9-b2e6-470c-b843-88fc90645238",
   "metadata": {},
   "outputs": [
    {
     "data": {
      "text/plain": [
       "'data/gpt/'"
      ]
     },
     "execution_count": 7,
     "metadata": {},
     "output_type": "execute_result"
    }
   ],
   "source": [
    "# make folder for data if doesn't already exist\n",
    "import os\n",
    "\n",
    "# outer data folder\n",
    "outer_data = \"data/\"\n",
    "if not os.path.exists(outer_data):\n",
    "    os.mkdir(outer_data)\n",
    "  \n",
    "# folder for this model\n",
    "model_name = \"gpt\" if \"gpt\" in model_type else model_type\n",
    "data_folder = outer_data + model_name + \"/\"\n",
    "if not os.path.exists(data_folder):\n",
    "    os.mkdir(data_folder)\n",
    "    \n",
    "data_folder"
   ]
  },
  {
   "cell_type": "code",
   "execution_count": 8,
   "id": "48f1e92b-2457-47de-9c2d-36afa72fdbf4",
   "metadata": {},
   "outputs": [],
   "source": [
    "# get info out of attn_dict\n",
    "tokens = attn_dict['left_text']\n",
    "positions = attn_dict['positions']\n",
    "norm_pos = attn_dict['normalized_positions']\n",
    "tok_sentences = attn_dict['tokenized_sentences']"
   ]
  },
  {
   "cell_type": "code",
   "execution_count": 9,
   "id": "1c9fce78-a447-4fd4-adea-6c54ac223d92",
   "metadata": {},
   "outputs": [
    {
     "data": {
      "text/plain": [
       "2517"
      ]
     },
     "execution_count": 9,
     "metadata": {},
     "output_type": "execute_result"
    }
   ],
   "source": [
    "# threshold = 5012 if \"gpt\" in model_type else 5028 # math\n",
    "# threshold = 5052 if \"gpt\" in model_type else 5017 # axb\n",
    "# threshold = 5020 if \"gpt\" in model_type else 5019 # qa\n",
    "# threshold = 5007 if \"gpt\" in model_type else 5021 # wiki\n",
    "threshold = 2517 if \"gpt\" in model_type else 2528 # wiki\n",
    "\n",
    "token_cutoff = threshold if crop_data else len(tokens)\n",
    "token_cutoff"
   ]
  },
  {
   "cell_type": "markdown",
   "id": "f0fbf5c4-d678-409d-bdb9-8381f8356dde",
   "metadata": {
    "tags": []
   },
   "source": [
    "## actually formatting into json"
   ]
  },
  {
   "cell_type": "code",
   "execution_count": 10,
   "id": "79e24539-bbb7-49af-a209-9d2147c13d49",
   "metadata": {},
   "outputs": [],
   "source": [
    "import json"
   ]
  },
  {
   "cell_type": "code",
   "execution_count": 18,
   "id": "76f0e50d-3858-4f24-89d2-4a5f02490d24",
   "metadata": {},
   "outputs": [],
   "source": [
    "# outer json object\n",
    "shared_json = {\"tokens\": []}\n",
    "\n",
    "# repeat for queries and keys\n",
    "for tok_type in [\"query\", \"key\"]:\n",
    "    for i in range(token_cutoff):\n",
    "        # create new dictionary for each token\n",
    "        new_token = {}\n",
    "        \n",
    "        # reformat sentence (gpt output has extra spaces for some reason)\n",
    "        sent = tok_sentences[i]\n",
    "        split_sent = sent.split()\n",
    "        sent_len = len(split_sent);\n",
    "        sent_format = ' '.join(split_sent)\n",
    "        \n",
    "        # fill in info\n",
    "        new_token[\"value\"] = tokens[i].strip()\n",
    "        new_token[\"type\"] = tok_type\n",
    "        new_token[\"pos_int\"] = int(positions[i])\n",
    "        new_token[\"length\"] = sent_len\n",
    "        new_token[\"position\"] = round(float(norm_pos[i]), 3)\n",
    "        new_token[\"sentence\"] = sent_format\n",
    "\n",
    "        shared_json[\"tokens\"].append(new_token)\n",
    "\n",
    "# save to json file\n",
    "json_str = json.dumps(shared_json)\n",
    "with open(data_folder + \"tokens.json\", \"w\") as f:\n",
    "    f.write(json_str)"
   ]
  },
  {
   "cell_type": "markdown",
   "id": "7dc699dc-bf41-4c43-82fe-b58a68ce7cad",
   "metadata": {
    "tags": []
   },
   "source": [
    "# d) attention files (one for each attention head)"
   ]
  },
  {
   "cell_type": "markdown",
   "id": "0db7e78f-54ce-4b0a-9b30-d59feaeb1043",
   "metadata": {},
   "source": [
    "Format of these files:\n",
    "```\n",
    "{\n",
    "    \"layer\": 0, \n",
    "     \"head\": 0, \n",
    "     \"tokens\": [\n",
    "        {\n",
    "            \"attention\": [1.0, 0.0, 0.0, 0.0, 0.0, 0.0, 0.0, 0.0, 0.0, 0.0, 0.0, 0.0, 0.0, 0.0]\n",
    "        }, \n",
    "        ...,\n",
    "        {\n",
    "            \"attention\": [0.772724, 0.227276, 0.0, 0.0, 0.0, 0.0, 0.0, 0.0, 0.0, 0.0, 0.0, 0.0, 0.0, 0.0]\n",
    "        }\n",
    "     ]\n",
    "}\n",
    "```   \n",
    "* store **attention weights** for each token"
   ]
  },
  {
   "cell_type": "code",
   "execution_count": 19,
   "id": "8e7fd205-e4ea-45e5-97d9-41cdf3a0532a",
   "metadata": {},
   "outputs": [],
   "source": [
    "# make attention data subfolder\n",
    "attn_folder = data_folder + \"attention/\"\n",
    "\n",
    "if not os.path.exists(attn_folder):\n",
    "    os.mkdir(attn_folder)"
   ]
  },
  {
   "cell_type": "code",
   "execution_count": 20,
   "id": "65176bda-5c8c-487e-9929-502d45849fff",
   "metadata": {},
   "outputs": [],
   "source": [
    "# get attention info\n",
    "attention = attn_dict['attn']"
   ]
  },
  {
   "cell_type": "markdown",
   "id": "a4021c6f-db0a-4b9a-92d1-e9bae10d8e69",
   "metadata": {
    "jp-MarkdownHeadingCollapsed": true,
    "tags": []
   },
   "source": [
    "## only for gpt (value norm preprocessing -- for sentence attention visualizations)"
   ]
  },
  {
   "cell_type": "code",
   "execution_count": 21,
   "id": "77ee7cf1-2559-4996-bb2d-238a4cd65cd1",
   "metadata": {},
   "outputs": [],
   "source": [
    "# initialize dict\n",
    "value_norms = {}\n",
    "for head in range(12):\n",
    "    for layer in range(12):\n",
    "        value_norms[(head, layer)] = []"
   ]
  },
  {
   "cell_type": "code",
   "execution_count": 22,
   "id": "e818c93c-3493-4c31-b5bd-3af866700959",
   "metadata": {},
   "outputs": [],
   "source": [
    "# get value norms\n",
    "\n",
    "# GPT\n",
    "from transformers import GPT2Model, GPT2Tokenizer\n",
    "from numpy.linalg import norm\n",
    "\n",
    "model_type = 'gpt2'\n",
    "model_version = 'gpt2'\n",
    "model = GPT2Model.from_pretrained(model_version, return_dict=True, output_attentions=True, output_hidden_states=True, use_cache=True)\n",
    "tokenizer = GPT2Tokenizer.from_pretrained(model_version, do_lower_case=True)\n",
    "\n",
    "for sent in sentences:\n",
    "    inputs = tokenizer(sent, return_tensors=\"pt\")\n",
    "    outputs = model(**inputs)\n",
    "    \n",
    "    key_values = outputs.past_key_values\n",
    "    num_tokens = len(key_values[0][0][0][0])\n",
    "   \n",
    "    for head in range(12):\n",
    "        for layer in range(12):\n",
    "            head_norms = []\n",
    "            for i in range(num_tokens):\n",
    "                val = key_values[head][1][0][layer][i].detach().numpy()\n",
    "                val_norm = norm(val)\n",
    "                head_norms.append(val_norm)\n",
    "            value_norms[(head, layer)].extend(head_norms)"
   ]
  },
  {
   "cell_type": "markdown",
   "id": "4cb8f602-d31c-403f-abc0-9d7617ae0afc",
   "metadata": {
    "jp-MarkdownHeadingCollapsed": true,
    "tags": []
   },
   "source": [
    "### optional: get averages for aggregate visualizations"
   ]
  },
  {
   "cell_type": "code",
   "execution_count": 23,
   "id": "ab078db6-6f10-482f-9ade-2ee10f8e70c1",
   "metadata": {},
   "outputs": [
    {
     "data": {
      "text/plain": [
       "110"
      ]
     },
     "execution_count": 23,
     "metadata": {},
     "output_type": "execute_result"
    }
   ],
   "source": [
    "# find max pos\n",
    "positions = attn_dict[\"positions\"][:token_cutoff]\n",
    "max_pos = max(positions)\n",
    "max_pos"
   ]
  },
  {
   "cell_type": "code",
   "execution_count": 24,
   "id": "353a5787-7e69-4f0b-87a8-88cbb99ed578",
   "metadata": {},
   "outputs": [],
   "source": [
    "# initialize\n",
    "pos_val_norms = {}\n",
    "for layer in range(num_layers):\n",
    "    for head in range(num_heads):\n",
    "        pos_val_norms[(layer, head)] = []"
   ]
  },
  {
   "cell_type": "code",
   "execution_count": 25,
   "id": "e1a8ad71-086a-4ee2-ac05-057d55d174b6",
   "metadata": {},
   "outputs": [],
   "source": [
    "# process value norms\n",
    "for layer in range(num_layers):\n",
    "    for head in range(num_heads):\n",
    "        norm_dict = [[] for i in range(max_pos + 1)]\n",
    "        head_norms = value_norms[(layer, head)][:token_cutoff]\n",
    "        for i in range(len(positions)):\n",
    "            pos = positions[i]\n",
    "            norm_dict[pos].append(head_norms[i])\n",
    "        pos_val_norms[(layer, head)] = norm_dict"
   ]
  },
  {
   "cell_type": "code",
   "execution_count": 26,
   "id": "10d45a35-905c-4dab-814b-7f1204ceecb2",
   "metadata": {},
   "outputs": [],
   "source": [
    "# initialize avg dict\n",
    "avg_val_norms = {}\n",
    "for layer in range(num_layers):\n",
    "    for head in range(num_heads):\n",
    "        avg_val_norms[(layer, head)] = []"
   ]
  },
  {
   "cell_type": "code",
   "execution_count": 27,
   "id": "06935f86-0701-4888-a7bb-b928ac85a4ab",
   "metadata": {},
   "outputs": [],
   "source": [
    "# now take average for each position for each head\n",
    "for layer in range(num_layers):\n",
    "    for head in range(num_heads):\n",
    "        head_norms = pos_val_norms[(layer, head)]\n",
    "        pos_norms = []\n",
    "        for pos in head_norms:\n",
    "            pos_norms.append(sum(pos) / len(pos))\n",
    "        avg_val_norms[(layer, head)] = pos_norms"
   ]
  },
  {
   "cell_type": "markdown",
   "id": "67cc2050-44af-4de1-8d9e-1f9b9baa7d37",
   "metadata": {
    "tags": []
   },
   "source": [
    "## now make attention files"
   ]
  },
  {
   "cell_type": "code",
   "execution_count": 28,
   "id": "369f2932-5057-4f37-9506-8f19ec4792ea",
   "metadata": {},
   "outputs": [],
   "source": [
    "# create json file for each layer/head combo\n",
    "for layer in range(num_layers): # updating cumulative q/k vectors + attn + dp\n",
    "    for head in range(num_heads):\n",
    "        new_json = {}\n",
    "        new_json[\"layer\"] = layer\n",
    "        new_json[\"head\"] = head\n",
    "        new_json[\"tokens\"] = []\n",
    "        \n",
    "        # COMMENT OUT BELOW IF USING BERT\n",
    "        if \"gpt\" in model_type:\n",
    "            head_val_norms = value_norms[(layer, head)]\n",
    "        \n",
    "        head_attn = attention[layer][head]\n",
    "\n",
    "        for i in range(token_cutoff):\n",
    "            # iterate through all tokens\n",
    "            new_token = {}\n",
    "            attn = head_attn[i]\n",
    "            # format attention vals first\n",
    "            attn_format = [round(float(a), 3) for a in attn]\n",
    "            new_token[\"attention\"] = attn_format\n",
    "            \n",
    "            # COMMENT OUT BELOW IF USING BERT\n",
    "            if \"gpt\" in model_type:\n",
    "                new_token[\"value_norm\"] = round(float(head_val_norms[i]), 3)\n",
    "\n",
    "            new_json[\"tokens\"].append(new_token)\n",
    "            \n",
    "        json_str = json.dumps(new_json)\n",
    "        with open(attn_folder + \"layer{}_head{}.json\".format(layer, head), \"w\") as f:\n",
    "            f.write(json_str)"
   ]
  },
  {
   "cell_type": "markdown",
   "id": "08a2989e-a0fe-46f2-8574-a00238a0274e",
   "metadata": {
    "jp-MarkdownHeadingCollapsed": true,
    "tags": []
   },
   "source": [
    "### archive"
   ]
  },
  {
   "cell_type": "code",
   "execution_count": 59,
   "id": "965106be-47a6-4b81-9624-da8094278e77",
   "metadata": {},
   "outputs": [],
   "source": [
    "# helper function to get attention for keys\n",
    "def k_matrix(q_matrix):\n",
    "    # assumes for specific layer + head (e.g., queries[0][0])\n",
    "    num_tokens = len(q_matrix)\n",
    "    k_matrix = []\n",
    "    i = 0\n",
    "    while i < token_cutoff:\n",
    "        q = q_matrix[i]\n",
    "        sent_length = len(q)\n",
    "        for k_i in range(sent_length):\n",
    "            k = []\n",
    "            for q_i in range(sent_length):\n",
    "                k.append(q_matrix[q_i + i][k_i])\n",
    "            k_matrix.append(k)\n",
    "        i += sent_length\n",
    "    \n",
    "    return k_matrix"
   ]
  },
  {
   "cell_type": "code",
   "execution_count": null,
   "id": "a55dbee4-623b-4181-ab35-125784f694a2",
   "metadata": {},
   "outputs": [],
   "source": [
    "# create json file for each layer/head combo\n",
    "for layer in range(num_layers): # updating cumulative q/k vectors + attn + dp\n",
    "    for head in range(num_heads):\n",
    "        new_json = {}\n",
    "        new_json[\"layer\"] = layer\n",
    "        new_json[\"head\"] = head\n",
    "        new_json[\"tokens\"] = []\n",
    "        \n",
    "        # COMMENT OUT BELOW IF USING BERT\n",
    "        head_val_norms = value_norms[(layer, head)]\n",
    "        \n",
    "        for tok_type in [\"query\", \"key\"]:\n",
    "            head_attn = attention[layer][head]\n",
    "            if tok_type == \"key\":\n",
    "                # transpose attn vals if key\n",
    "                head_attn = k_matrix(head_attn)\n",
    "                \n",
    "            for i in range(token_cutoff):\n",
    "                # iterate through all tokens\n",
    "                new_token = {}\n",
    "                attn = head_attn[i]\n",
    "                # format attention vals first\n",
    "                attn_format = [round(float(a), 3) for a in attn]\n",
    "                new_token[\"attention\"] = attn_format\n",
    "                # COMMENT OUT BELOW IF USING BERT\n",
    "                new_token[\"value_norm\"] = round(float(head_val_norms[i]), 3)\n",
    "                \n",
    "                new_json[\"tokens\"].append(new_token)\n",
    "            \n",
    "        json_str = json.dumps(new_json)\n",
    "        with open(attn_folder + \"layer{}_head{}.json\".format(layer, head), \"w\") as f:\n",
    "            f.write(json_str)"
   ]
  },
  {
   "cell_type": "markdown",
   "id": "0b810661-98a3-4b6c-8a0d-9f46b85742cf",
   "metadata": {
    "tags": []
   },
   "source": [
    "# e) TSNE/UMAP/PCA helper functions"
   ]
  },
  {
   "cell_type": "markdown",
   "id": "10784883-8e8a-4781-9388-57b4c8872157",
   "metadata": {},
   "source": [
    "Will be used in next step"
   ]
  },
  {
   "cell_type": "code",
   "execution_count": 11,
   "id": "1ef0629d-681d-4e67-b27f-17966a52201a",
   "metadata": {},
   "outputs": [],
   "source": [
    "# imports\n",
    "from sklearn.manifold import TSNE\n",
    "from umap import UMAP\n",
    "from sklearn.decomposition import PCA\n",
    "import time"
   ]
  },
  {
   "cell_type": "code",
   "execution_count": 12,
   "id": "5adb5a58-7005-4260-9c23-52f3adc62d94",
   "metadata": {},
   "outputs": [],
   "source": [
    "# run PCA\n",
    "def run_pca(data, dim):\n",
    "    if dim == 3:\n",
    "        pca = PCA(n_components=3) # 3D\n",
    "    else:\n",
    "        pca = PCA(n_components=2) # 2D\n",
    "    pca_results = pca.fit_transform(data)\n",
    "    return pca_results"
   ]
  },
  {
   "cell_type": "code",
   "execution_count": 13,
   "id": "4777ac76-6d84-453c-9a14-95d230e8c5e2",
   "metadata": {},
   "outputs": [],
   "source": [
    "# run TSNE\n",
    "def run_tsne(data, dim):\n",
    "    if dim == 3: # 3D\n",
    "        tsne = TSNE(n_components=3, verbose=0, perplexity=50, n_iter=300, metric=\"cosine\", n_jobs=-1) \n",
    "    else: # 2D\n",
    "        tsne = TSNE(n_components=2, verbose=0, perplexity=50, n_iter=300, metric=\"cosine\", n_jobs=-1)\n",
    "    tsne_results = tsne.fit_transform(data)\n",
    "    return tsne_results"
   ]
  },
  {
   "cell_type": "code",
   "execution_count": 14,
   "id": "41dbf4f1-9200-4627-b22e-743b08196471",
   "metadata": {},
   "outputs": [],
   "source": [
    "# run UMAP\n",
    "def run_umap(data, dim):\n",
    "    time_start = time.time()\n",
    "    if dim == 3: # 3D\n",
    "        umap = UMAP(n_components=3, init='random', random_state=0, metric='cosine')\n",
    "    else: # 2D\n",
    "        umap = UMAP(n_components=2, init='random', random_state=0, metric='cosine')\n",
    "    umap_results = umap.fit_transform(data)\n",
    "    return umap_results"
   ]
  },
  {
   "cell_type": "markdown",
   "id": "28634dd2-1c48-4ee7-94b8-821ebf7e6a3c",
   "metadata": {
    "tags": []
   },
   "source": [
    "# f) byLayerHead files (one for each attention head)"
   ]
  },
  {
   "cell_type": "markdown",
   "id": "6a74bc5a-c11e-41aa-a9df-fc1d4e6e9df3",
   "metadata": {},
   "source": [
    "Format of these files:\n",
    "```\n",
    "{\n",
    "    \"layer\": 0, \n",
    "     \"head\": 0, \n",
    "     \"tokens\": [\n",
    "         {\n",
    "             \"tsne_x\": 6.876875, \n",
    "             \"tsne_y\": 7.453007, \n",
    "             \"umap_x\": -11.346616, \n",
    "             \"umap_y\": 12.795157, \n",
    "             \"norm\": 5.628239, \n",
    "             \"tsne_x_3d\": -8.263657, \n",
    "             \"tsne_y_3d\": 0.388844,\n",
    "             \"tsne_z_3d\": -1.241852, \n",
    "             \"umap_x_3d\": 17.736557, \n",
    "             \"umap_y_3d\": -3.88329, \n",
    "             \"umap_z_3d\": 2.701952, \n",
    "             \"pca_x\": -2.444411, \n",
    "             \"pca_y\": -0.763636, \n",
    "             \"pca_x_3d\": -2.444411, \n",
    "             \"pca_y_3d\": -0.763568, \n",
    "             \"pca_z_3d\": 2.882317\n",
    "         }, \n",
    "         ...,\n",
    "         {\n",
    "             ...\n",
    "         }\n",
    "     ]\n",
    "}\n",
    "```   \n",
    "* includes **2D/3D** **TSNE/UMAP/PCA** coordinates for each token for current layer and head + **norm**"
   ]
  },
  {
   "cell_type": "code",
   "execution_count": 15,
   "id": "26225324-39c3-48af-bf35-0d7a8edbd427",
   "metadata": {},
   "outputs": [],
   "source": [
    "# get info from attn_dict\n",
    "queries = attn_dict[\"queries\"]\n",
    "keys = attn_dict[\"keys\"]\n",
    "q_norms = attn_dict[\"q_norms\"]\n",
    "k_norms = attn_dict[\"k_norms\"]"
   ]
  },
  {
   "cell_type": "code",
   "execution_count": 16,
   "id": "886466ae-65f4-4a07-ad31-8321b5412eda",
   "metadata": {},
   "outputs": [],
   "source": [
    "# make new folder for byLayerHead files\n",
    "coord_folder = data_folder + \"byLayerHead/\"\n",
    "\n",
    "if not os.path.exists(coord_folder):\n",
    "    os.mkdir(coord_folder)"
   ]
  },
  {
   "cell_type": "markdown",
   "id": "f33dd4c9-7bf3-486a-ad9d-5998aba19e7a",
   "metadata": {},
   "source": [
    "## preprocessing"
   ]
  },
  {
   "cell_type": "markdown",
   "id": "d0560b70-640a-49da-b166-bf59949a4b71",
   "metadata": {},
   "source": [
    "Here, I translate the keys to have same centroid as the queries (for better visualization)"
   ]
  },
  {
   "cell_type": "code",
   "execution_count": 17,
   "id": "e0af0bfe-5d62-4880-a570-e0e687ee3f65",
   "metadata": {},
   "outputs": [],
   "source": [
    "# get means\n",
    "mean_queries = []\n",
    "mean_keys = []\n",
    "for layer in range(num_layers):\n",
    "    for head in range(num_heads):\n",
    "        q = queries[layer][head][:token_cutoff]\n",
    "        k = keys[layer][head][:token_cutoff]\n",
    "        num_tokens = len(q)\n",
    "        mean_q = [0] * 64\n",
    "        mean_k = [0] * 64\n",
    "        for i in range(num_tokens):\n",
    "            for j in range(64):\n",
    "                q_token = q[i]\n",
    "                k_token = k[i]\n",
    "                mean_q[j] += q_token[j]\n",
    "                mean_k[j] += k_token[j]\n",
    "        \n",
    "        mean_q = [i / num_tokens for i in mean_q]\n",
    "        mean_k = [i / num_tokens for i in mean_k]\n",
    "        mean_queries.append(mean_q)\n",
    "        mean_keys.append(mean_k)"
   ]
  },
  {
   "cell_type": "code",
   "execution_count": 18,
   "id": "8e1561ed-62d1-4cd2-99f7-e5e42ff2d800",
   "metadata": {},
   "outputs": [],
   "source": [
    "# fix key means\n",
    "new_mean_keys = []\n",
    "for layer in range(12):\n",
    "    for head in range(12):\n",
    "        mean_k = [0] * 64\n",
    "        k = keys[layer][head][:token_cutoff]\n",
    "        m_k = mean_keys[12 * layer + head]\n",
    "        q_k = mean_queries[12 * layer + head]\n",
    "        num_tokens = len(k)\n",
    "        for i in range(num_tokens):\n",
    "            k_token = k[i]\n",
    "            for j in range(64):\n",
    "                orig_k = k_token[j]\n",
    "                k_token[j] = orig_k - m_k[j] + q_k[j]  \n",
    "                mean_k[j] += k_token[j]\n",
    "        \n",
    "        mean_k = [i / num_tokens for i in mean_k]\n",
    "        new_mean_keys.append(mean_k)"
   ]
  },
  {
   "cell_type": "markdown",
   "id": "e890da6f-fb97-4957-a2f3-bbc8ba9dec4c",
   "metadata": {
    "jp-MarkdownHeadingCollapsed": true,
    "tags": []
   },
   "source": [
    "### optional: sanity check"
   ]
  },
  {
   "cell_type": "code",
   "execution_count": 19,
   "id": "9d8da3c2-1459-4ffe-9f7e-4a6b260afffe",
   "metadata": {},
   "outputs": [
    {
     "name": "stdout",
     "output_type": "stream",
     "text": [
      "[0.6848973295293289, -0.3467360609969938, -0.26269700110866395, 0.28357407030180876, -1.5189376191377546, -0.24636245584351163, 0.03309040201335697, 0.2891712140301508, 0.17351900224273292, 0.17453344913215754, 0.21400762201048126, 0.3786346098624355, -0.01620293129235506, 0.20989809774232238, 0.2622773690706213, 0.3701978839460106, 0.021652103563817807, -0.4649283692522175, -0.3718088697023171, -2.234208629569746, -0.09269671356806508, 0.0534995700257736, 0.18741138967393625, 0.21054585277002683, -0.006623512567197786, 0.2058337415125342, 0.09630425317622603, 0.35452723088548993, -0.11129213807090552, -0.9479504103736975, 0.03409112205867408, -0.12508464340323913, -0.060090323039765255, -0.0968720187463273, -0.1544236691876409, 0.04284222065868988, -0.04320436226766957, -0.18623881893622235, 0.28354391613437296, -0.12733599418977606, -0.17868119587567693, -0.11340663410189762, -0.5866568648444984, -1.2625731738885464, -0.41618171384001057, -1.7617656388143195, 0.07591455736008909, 0.05572708435297673, 0.18588228750446387, 0.12571622078569275, 0.4758403208077284, 0.07617534375145348, 0.415712067421564, 0.37909494671927135, 0.11510762825012914, -0.3511407413430397, 0.5656257653992057, -0.00692609368670213, -0.3529937704059861, -0.10687584113152816, 0.13385014191249245, 0.12476281839668975, -0.21706335175866437, -0.20426069651553524]\n",
      "[-0.39595135227449924, 0.0915218220716615, 0.04324605242132586, -0.12545456254193146, -1.78584618898421, -0.5729106190371993, 0.001998196841185158, -0.07082622533032665, -0.25215500264551605, -0.08085758481796848, 0.4073292803578521, -0.21380835253144084, -0.037941985398522116, -0.11433457827440145, -0.4876596326070331, -0.18429904308794892, -0.07231070223055143, -1.0870691997167077, 0.03181091781161855, -2.9036219076642507, 0.10095949350455422, 0.02539988763665757, -0.03568950506285293, -0.31719437338761974, 0.03273428629438081, 0.022909492952933333, 0.055677335879351364, -0.6122656808580313, 0.13299816885750881, -0.566439011051685, -0.16037702665309114, 0.04147665095007153, 0.2303398860583658, -0.04626510737248685, -0.09957160707443431, -0.14837761801644303, 0.13880595413833868, 0.029193906785840686, -0.20931239155580914, -0.08066757807664314, 0.11346904990278756, 0.54235872410036, -0.1863411387687997, -0.7913962058123213, 0.593093407546285, -1.0020138441549638, 0.20744229699529212, 0.49285466873191613, 0.13826182087212124, -0.1524791440849496, -0.23039863103709834, 0.10757906482071627, -0.5465092630084321, 1.4376878894694574, -0.20563511684598826, 0.17259493596130493, -0.18380742345949858, 0.06012949006175335, -0.032282761396852, 0.2802702768992587, -1.4107665458194547, 0.03774092812570036, 0.2873681384165288, -0.5739177614315988]\n"
     ]
    }
   ],
   "source": [
    "print(mean_queries[0])\n",
    "print(mean_keys[0])"
   ]
  },
  {
   "cell_type": "code",
   "execution_count": 20,
   "id": "917cfacd-5b37-47b0-9508-6eadada6be6f",
   "metadata": {},
   "outputs": [
    {
     "name": "stdout",
     "output_type": "stream",
     "text": [
      "[0.684897329529348, -0.3467360609970049, -0.2626970011086552, 0.2835740703017998, -1.5189376191378527, -0.24636245584350228, 0.03309040201335697, 0.2891712140301405, 0.1735190022427355, 0.17453344913214972, 0.21400762201047993, 0.37863460986243413, -0.01620293129235355, 0.20989809774232215, 0.262277369070616, 0.3701978839459965, 0.02165210356381789, -0.46492836925222253, -0.37180886970230065, -2.2342086295696704, -0.09269671356806679, 0.05349957002577295, 0.1874113896739327, 0.2105458527700176, -0.006623512567198137, 0.20583374151252168, 0.0963042531762213, 0.3545272308854768, -0.1112921380709018, -0.9479504103737098, 0.03409112205867306, -0.125084643403234, -0.06009032303976681, -0.09687201874632871, -0.15442366918763523, 0.04284222065869106, -0.04320436226766871, -0.18623881893621477, 0.2835439161343845, -0.12733599418977218, -0.1786811958756838, -0.11340663410189059, -0.5866568648444928, -1.2625731738885082, -0.41618171384000097, -1.7617656388143026, 0.07591455736008909, 0.05572708435297436, 0.1858822875044602, 0.12571622078569758, 0.475840320807749, 0.07617534375145059, 0.415712067421562, 0.37909494671924987, 0.11510762825013117, -0.35114074134303125, 0.5656257653992274, -0.0069260936867022675, -0.35299377040600866, -0.10687584113152615, 0.13385014191249103, 0.12476281839668975, -0.21706335175866437, -0.20426069651554118]\n"
     ]
    }
   ],
   "source": [
    "print(new_mean_keys[0])"
   ]
  },
  {
   "cell_type": "markdown",
   "id": "a36636b8-c1b4-4703-be25-610d9a561931",
   "metadata": {},
   "source": [
    "## get the json files"
   ]
  },
  {
   "cell_type": "markdown",
   "id": "fffe9b02-94f1-48e0-a2f0-5f8f1bafc3be",
   "metadata": {},
   "source": [
    "the code block below will likely take some time to run too (I usually start multiple cluster sessions to finish faster)"
   ]
  },
  {
   "cell_type": "code",
   "execution_count": null,
   "id": "9d9df135-2dab-4c14-9790-77c8eee5c88f",
   "metadata": {},
   "outputs": [],
   "source": [
    "# MODIFIED VERSION FOR TESTING\n",
    "# create json file for each layer/head combo \n",
    "# for layer in range(2): # updating cumulative q/k vectors + attn + dp\n",
    "#     for head in range(num_heads):\n",
    "#         time_start = time.time()\n",
    "#         new_json = {}\n",
    "#         new_json[\"layer\"] = layer\n",
    "#         new_json[\"head\"] = head\n",
    "#         new_json[\"tokens\"] = []\n",
    "        \n",
    "#         head_queries = queries[layer][head][:token_cutoff]\n",
    "#         head_keys = keys[layer][head][:token_cutoff]\n",
    "#         head_data = head_queries + head_keys\n",
    "#         head_data = np.array(head_data)\n",
    "        \n",
    "#         head_norms = q_norms[layer][head][:token_cutoff] + k_norms[layer][head][:token_cutoff]\n",
    "#         total_tokens = token_cutoff * 2\n",
    "        \n",
    "#         # run TSNE/UMAP/PCA\n",
    "#         tsne = run_tsne(head_data, 2)\n",
    "#         # tsne_3d = run_tsne(head_data, 3)\n",
    "#         # umap = run_umap(head_data, 2)\n",
    "#         # umap_3d = run_umap(head_data, 3)\n",
    "#         # pca = run_pca(head_data, 2)\n",
    "#         # pca_3d = run_pca(head_data, 3)\n",
    "                \n",
    "#         for i in range(total_tokens):\n",
    "#             # iterate through all tokens\n",
    "#             new_token = {}\n",
    "#             new_token[\"tsne_x\"] = round(float(tsne[i][0]), 3)\n",
    "#             new_token[\"tsne_y\"] = round(float(tsne[i][1]), 3)\n",
    "#             new_token[\"umap_x\"] = 0\n",
    "#             new_token[\"umap_y\"] = 0\n",
    "#             new_token[\"norm\"] = round(float(head_norms[i]), 3)\n",
    "#             new_token[\"tsne_x_3d\"] = 0\n",
    "#             new_token[\"tsne_y_3d\"] = 0\n",
    "#             new_token[\"tsne_z_3d\"] = 0\n",
    "#             new_token[\"umap_x_3d\"] = 0\n",
    "#             new_token[\"umap_y_3d\"] = 0\n",
    "#             new_token[\"umap_z_3d\"] = 0\n",
    "#             new_token[\"pca_x\"] = 0\n",
    "#             new_token[\"pca_y\"] = 0\n",
    "#             new_token[\"pca_x_3d\"] = 0\n",
    "#             new_token[\"pca_y_3d\"] = 0\n",
    "#             new_token[\"pca_z_3d\"] = 0\n",
    "            \n",
    "#             new_json[\"tokens\"].append(new_token)\n",
    "            \n",
    "#         json_str = json.dumps(new_json)\n",
    "#         with open(coord_folder + \"layer{}_head{}.json\".format(layer, head), \"w\") as f:\n",
    "#             f.write(json_str)\n",
    "            \n",
    "#         time_elapsed = time.time() - time_start\n",
    "#         print(\"Layer {} Head {} complete: {}\".format(layer, head, time_elapsed))\n"
   ]
  },
  {
   "cell_type": "code",
   "execution_count": null,
   "id": "a4bdb47b-c0a8-47a0-a9db-753b63959cea",
   "metadata": {},
   "outputs": [
    {
     "name": "stdout",
     "output_type": "stream",
     "text": [
      "Layer 0 Head 0 complete: 145.99890208244324\n",
      "Layer 0 Head 1 complete: 60.88850378990173\n",
      "Layer 0 Head 2 complete: 65.04209303855896\n",
      "Layer 0 Head 3 complete: 75.28867983818054\n",
      "Layer 0 Head 4 complete: 82.01263070106506\n",
      "Layer 0 Head 5 complete: 59.52116107940674\n",
      "Layer 0 Head 6 complete: 63.266850233078\n",
      "Layer 0 Head 7 complete: 69.05907368659973\n",
      "Layer 0 Head 8 complete: 76.11918044090271\n",
      "Layer 0 Head 9 complete: 64.4087929725647\n",
      "Layer 0 Head 10 complete: 66.5719039440155\n",
      "Layer 0 Head 11 complete: 67.79563164710999\n",
      "Layer 1 Head 0 complete: 62.446999073028564\n",
      "Layer 1 Head 1 complete: 57.07890748977661\n"
     ]
    }
   ],
   "source": [
    "# create json file for each layer/head combo \n",
    "for layer in range(num_layers): # updating cumulative q/k vectors + attn + dp\n",
    "    for head in range(num_heads):\n",
    "        time_start = time.time()\n",
    "        new_json = {}\n",
    "        new_json[\"layer\"] = layer\n",
    "        new_json[\"head\"] = head\n",
    "        new_json[\"tokens\"] = []\n",
    "        \n",
    "        head_queries = queries[layer][head][:token_cutoff]\n",
    "        head_keys = keys[layer][head][:token_cutoff]\n",
    "        head_data = head_queries + head_keys\n",
    "        head_data = np.array(head_data)\n",
    "        \n",
    "        head_norms = q_norms[layer][head][:token_cutoff] + k_norms[layer][head][:token_cutoff]\n",
    "        total_tokens = token_cutoff * 2\n",
    "        \n",
    "        # run TSNE/UMAP/PCA\n",
    "        tsne = run_tsne(head_data, 2)\n",
    "        tsne_3d = run_tsne(head_data, 3)\n",
    "        umap = run_umap(head_data, 2)\n",
    "        umap_3d = run_umap(head_data, 3)\n",
    "        pca = run_pca(head_data, 2)\n",
    "        pca_3d = run_pca(head_data, 3)\n",
    "                \n",
    "        for i in range(total_tokens):\n",
    "            # iterate through all tokens\n",
    "            new_token = {}\n",
    "            new_token[\"tsne_x\"] = round(float(tsne[i][0]), 3)\n",
    "            new_token[\"tsne_y\"] = round(float(tsne[i][1]), 3)\n",
    "            new_token[\"umap_x\"] = round(float(umap[i][0]), 3)\n",
    "            new_token[\"umap_y\"] = round(float(umap[i][1]), 3)\n",
    "            new_token[\"norm\"] = round(float(head_norms[i]), 3)\n",
    "            new_token[\"tsne_x_3d\"] = round(float(tsne_3d[i][0]), 3)\n",
    "            new_token[\"tsne_y_3d\"] = round(float(tsne_3d[i][1]), 3)\n",
    "            new_token[\"tsne_z_3d\"] = round(float(tsne_3d[i][2]), 3)\n",
    "            new_token[\"umap_x_3d\"] = round(float(umap_3d[i][0]), 3)\n",
    "            new_token[\"umap_y_3d\"] = round(float(umap_3d[i][1]), 3)\n",
    "            new_token[\"umap_z_3d\"] = round(float(umap_3d[i][2]), 3)\n",
    "            new_token[\"pca_x\"] = round(float(pca[i][0]), 3)\n",
    "            new_token[\"pca_y\"] = round(float(pca[i][1]), 3)\n",
    "            new_token[\"pca_x_3d\"] = round(float(pca_3d[i][0]), 3)\n",
    "            new_token[\"pca_y_3d\"] = round(float(pca_3d[i][1]), 3)\n",
    "            new_token[\"pca_z_3d\"] = round(float(pca_3d[i][2]), 3)\n",
    "            \n",
    "            new_json[\"tokens\"].append(new_token)\n",
    "            \n",
    "        json_str = json.dumps(new_json)\n",
    "        with open(coord_folder + \"layer{}_head{}.json\".format(layer, head), \"w\") as f:\n",
    "            f.write(json_str)\n",
    "            \n",
    "        time_elapsed = time.time() - time_start\n",
    "        print(\"Layer {} Head {} complete: {}\".format(layer, head, time_elapsed))\n"
   ]
  },
  {
   "cell_type": "markdown",
   "id": "28d518f9-8d6c-48f0-9373-238bb441c611",
   "metadata": {},
   "source": [
    "# g) You're done!"
   ]
  },
  {
   "cell_type": "markdown",
   "id": "47b275f6-82d7-4159-90a8-18fb81a623e1",
   "metadata": {},
   "source": [
    "download all the data files & place accordingly (inside web/**data**/ folder) to use in our attention visualization tool: https://github.com/catherinesyeh/attention-viz"
   ]
  },
  {
   "cell_type": "markdown",
   "id": "ac0aee90-e7ee-4437-9ed8-0758ef3e23b6",
   "metadata": {
    "tags": []
   },
   "source": [
    "# optional: shrink data"
   ]
  },
  {
   "cell_type": "code",
   "execution_count": 12,
   "id": "30a505e5-8129-4632-b3c0-ce408908e393",
   "metadata": {},
   "outputs": [],
   "source": [
    "# gpt_folder = \"data/gpt/\"\n",
    "# bert_folder = \"data/bert/\"\n",
    "gpt_folder = \"wiki_medium/gpt/\"\n",
    "bert_folder = \"wiki_medium/bert/\""
   ]
  },
  {
   "cell_type": "code",
   "execution_count": 13,
   "id": "98a3b62d-8562-409b-a72d-7ff93b11c5de",
   "metadata": {},
   "outputs": [],
   "source": [
    "# token files\n",
    "for folder in [gpt_folder, bert_folder]:\n",
    "    token_file = folder + \"tokens.json\"\n",
    "    data = json.load(open(token_file, 'r'))\n",
    "    \n",
    "    tokens = data['tokens']\n",
    "    for i in range(len(tokens)):\n",
    "        t = tokens[i]\n",
    "        # t[\"position\"] = round(float(t[\"position\"]), 3)\n",
    "        t[\"sentence\"] = t[\"sentence\"].lower()\n",
    "        \n",
    "    json_str = json.dumps(data)\n",
    "    with open(token_file, \"w\") as o:\n",
    "        o.write(json_str)"
   ]
  },
  {
   "cell_type": "code",
   "execution_count": 25,
   "id": "28a4f92e-5889-40bd-aced-e0f30cb60338",
   "metadata": {},
   "outputs": [],
   "source": [
    "# attention files\n",
    "for folder in [gpt_folder, bert_folder]:\n",
    "    att_folder = folder + \"attention/\"\n",
    "    for json_file in sorted(os.listdir(att_folder)):\n",
    "        if \".json\" not in json_file:\n",
    "            continue\n",
    "        f = att_folder + json_file\n",
    "        data = json.load(open(f, 'r'))\n",
    "\n",
    "        tokens = data['tokens']\n",
    "        for i in range(len(tokens)):\n",
    "            t = tokens[i]\n",
    "            t[\"attention\"] = [round(float(a), 3) for a in t[\"attention\"]]\n",
    "\n",
    "        json_str = json.dumps(data)\n",
    "        with open(f, \"w\") as o:\n",
    "            o.write(json_str)\n",
    "            "
   ]
  },
  {
   "cell_type": "code",
   "execution_count": 30,
   "id": "688f53d8-8d2a-4707-9eee-ca91a7dae44a",
   "metadata": {},
   "outputs": [],
   "source": [
    "# byLayerHead files\n",
    "for folder in [gpt_folder, bert_folder]:\n",
    "    lh_folder = folder + \"byLayerHead/\"\n",
    "    for json_file in sorted(os.listdir(lh_folder)):\n",
    "        if \".json\" not in json_file:\n",
    "            continue\n",
    "        f = lh_folder + json_file\n",
    "        data = json.load(open(f, 'r'))\n",
    "\n",
    "        tokens = data['tokens']\n",
    "        for i in range(len(tokens)):\n",
    "            t = tokens[i]\n",
    "            for key in t:\n",
    "                t[key] = round(float(t[key]), 3)\n",
    "                \n",
    "        json_str = json.dumps(data)\n",
    "        with open(f, \"w\") as o:\n",
    "            o.write(json_str)"
   ]
  },
  {
   "cell_type": "markdown",
   "id": "bdaf8c1e-8a5d-4317-8379-ff9e801ba013",
   "metadata": {
    "tags": []
   },
   "source": [
    "# optional: aggregate attention matrices"
   ]
  },
  {
   "cell_type": "code",
   "execution_count": 38,
   "id": "8e786e53-dbdb-4c9d-82ed-74d39d480c2c",
   "metadata": {},
   "outputs": [],
   "source": [
    "# get info from attn_dict\n",
    "attention = attn_dict[\"attn\"]\n",
    "positions = attn_dict[\"positions\"][:token_cutoff]\n",
    "sentences = attn_dict['tokenized_sentences']\n",
    "tokens = attn_dict['left_text']"
   ]
  },
  {
   "cell_type": "code",
   "execution_count": 39,
   "id": "23dc6e59-5102-4923-93ab-6f8a6806ba07",
   "metadata": {},
   "outputs": [
    {
     "name": "stdout",
     "output_type": "stream",
     "text": [
      "110\n"
     ]
    }
   ],
   "source": [
    "# find max token position\n",
    "max_pos = max(positions)\n",
    "print(max_pos)"
   ]
  },
  {
   "cell_type": "code",
   "execution_count": 40,
   "id": "aafe59b6-f0be-4384-92cd-45cef505fe3c",
   "metadata": {},
   "outputs": [],
   "source": [
    "# make/set folder paths\n",
    "# overall_folder = \"math_aggregate/\"\n",
    "# overall_folder = \"axb_aggregate/\"\n",
    "# overall_folder = \"qa_aggregate/\"\n",
    "# overall_folder = \"wiki_aggregate/\"\n",
    "overall_folder = \"wiki_small_agg/\"\n",
    "\n",
    "if not os.path.exists(overall_folder):\n",
    "    os.mkdir(overall_folder)\n",
    "    \n",
    "bert_folder = overall_folder + \"bert_attention/\"\n",
    "gpt_folder = overall_folder + \"gpt_attention/\"\n",
    "\n",
    "bert_folder_2 = overall_folder + \"bert_attention_2/\"\n",
    "gpt_folder_2 = overall_folder + \"gpt_attention_2/\"\n",
    "\n",
    "if not os.path.exists(bert_folder):\n",
    "    os.mkdir(bert_folder)\n",
    "    \n",
    "if not os.path.exists(gpt_folder):\n",
    "    os.mkdir(gpt_folder)\n",
    "    \n",
    "if not os.path.exists(bert_folder_2):\n",
    "    os.mkdir(bert_folder_2)\n",
    "    \n",
    "if not os.path.exists(gpt_folder_2):\n",
    "    os.mkdir(gpt_folder_2)"
   ]
  },
  {
   "cell_type": "code",
   "execution_count": 41,
   "id": "8cfb3165-7a0d-4b19-8dad-9f221d4d5c22",
   "metadata": {},
   "outputs": [
    {
     "name": "stderr",
     "output_type": "stream",
     "text": [
      "/n/home10/cyeh/anaconda3/envs/diffusion/lib/python3.9/site-packages/numpy/lib/npyio.py:501: VisibleDeprecationWarning: Creating an ndarray from ragged nested sequences (which is a list-or-tuple of lists-or-tuples-or ndarrays with different lengths or shapes) is deprecated. If you meant to do this, you must specify 'dtype=object' when creating the ndarray.\n",
      "  arr = np.asanyarray(arr)\n"
     ]
    }
   ],
   "source": [
    "# aggregate attention info for each head\n",
    "for layer in range(num_layers):\n",
    "    for head in range(num_heads):\n",
    "        gpt_attn_dict = [[[] for i in range(max_pos + 1)] for j in range(max_pos + 1)]\n",
    "        lh_attn = attention[layer][head]\n",
    "        for query in range(token_cutoff):\n",
    "            tok_attn = lh_attn[query]\n",
    "            q = positions[query]\n",
    "            for k in range(len(tok_attn)):\n",
    "                pair_attn = tok_attn[k]\n",
    "                gpt_attn_dict[q][k].append(pair_attn)\n",
    "        attn_folder = bert_folder\n",
    "        if \"gpt\" in model_type:\n",
    "            attn_folder = gpt_folder\n",
    "        np.save(attn_folder + \"layer{}_head{}.pkl\".format(layer, head), gpt_attn_dict)"
   ]
  },
  {
   "cell_type": "code",
   "execution_count": 42,
   "id": "c1de3b81-1c08-4ccd-88ed-8a00996e3b95",
   "metadata": {},
   "outputs": [],
   "source": [
    "# helper functions\n",
    "def avg_attns(test):\n",
    "    for i in range(len(test)):\n",
    "        for j in range(len(test[i])):\n",
    "            cell = test[i][j]\n",
    "            test[i][j] = sum(cell) / len(cell)\n",
    "    return test\n",
    "\n",
    "def normalize_attns(test):\n",
    "    for i in range(len(test)):\n",
    "        sum_row = sum(test[i])\n",
    "        for j in range(len(test[i])):\n",
    "            cell = test[i][j]\n",
    "            test[i][j] = cell / sum_row\n",
    "    return test\n",
    "\n",
    "def get_agg_attn(layer, head):\n",
    "    attn_folder = bert_folder\n",
    "    if \"gpt\" in model_type:\n",
    "        attn_folder = gpt_folder\n",
    "    attn = np.load(attn_folder + \"layer{}_head{}.pkl.npy\".format(layer, head), allow_pickle=True)\n",
    "    avg_attn = avg_attns(attn)\n",
    "    norm_attn = normalize_attns(avg_attn)\n",
    "    fin_attn = norm_attn.astype(\"float\")\n",
    "    new_folder = bert_folder_2\n",
    "    if \"gpt\" in model_type:\n",
    "        new_folder = gpt_folder_2\n",
    "    np.save(new_folder + \"layer{}_head{}.npy\".format(layer, head), fin_attn)\n",
    "    return fin_attn"
   ]
  },
  {
   "cell_type": "code",
   "execution_count": 43,
   "id": "aa2cb097-f8cb-4b81-8bc4-5cf4549fb2bf",
   "metadata": {},
   "outputs": [],
   "source": [
    "# finish aggregating attention (e.g., average + normalize)\n",
    "all_agg = []\n",
    "for layer in range(num_layers):\n",
    "    for head in range(num_heads):\n",
    "        agg = get_agg_attn(layer, head)\n",
    "        all_agg.append(agg.flatten())\n",
    "all_agg = np.asarray(all_agg)"
   ]
  },
  {
   "cell_type": "markdown",
   "id": "4b201ed1-3f50-4eec-8a03-9ee7200eec68",
   "metadata": {},
   "source": [
    "## Make JSON files"
   ]
  },
  {
   "cell_type": "code",
   "execution_count": null,
   "id": "fff6a101-1595-422d-ab0e-822feaf8b830",
   "metadata": {},
   "outputs": [],
   "source": [
    "# make json folders\n",
    "# gpt_folder = overall_folder + \"gpt_json/\"\n",
    "gpt_attn = overall_folder + \"gpt_attention_2/\"\n",
    "bert_attn = overall_folder + \"bert_attention_2/\"\n",
    "    \n",
    "# if not os.path.exists(gpt_folder):\n",
    "#     os.mkdir(gpt_folder)"
   ]
  },
  {
   "cell_type": "code",
   "execution_count": 45,
   "id": "c0d71c4a-3528-4f08-876f-bfb6d7153e37",
   "metadata": {},
   "outputs": [],
   "source": [
    "# create json file for all aggregate attention info\n",
    "json_data = {}\n",
    "for layer in range(num_layers):\n",
    "    for head in range(num_heads):\n",
    "        new_json = []\n",
    "        \n",
    "        load_folder = gpt_attn if \"gpt\" in model_type else bert_attn\n",
    "        attns = np.load(load_folder + \"layer{}_head{}.npy\".format(layer, head))\n",
    "        \n",
    "        if \"gpt\" in model_type:\n",
    "            val_norms = avg_val_norms[(layer, head)]\n",
    "        \n",
    "        for i in range(len(attns)): # new dict for each position\n",
    "            new_token = {}\n",
    "            attn = attns[i]\n",
    "            # format attention vals first\n",
    "            attn_format = [round(float(a), 3) for a in attn]\n",
    "            new_token[\"attention\"] = attn_format\n",
    "            \n",
    "            if \"gpt\" in model_type:\n",
    "                new_token[\"value_norm\"] = round(float(val_norms[i]), 3)\n",
    "\n",
    "            new_json.append(new_token)\n",
    "    \n",
    "        json_data[\"{}_{}\".format(layer, head)] = new_json\n",
    "        \n",
    "json_str = json.dumps(json_data)\n",
    "output_file = \"gpt\" if \"gpt\" in model_type else \"bert\"\n",
    "with open(overall_folder + output_file + \".json\", \"w\") as f:\n",
    "    f.write(json_str)"
   ]
  },
  {
   "cell_type": "markdown",
   "id": "85187134-3bd0-446d-8e2f-63b879752d2a",
   "metadata": {
    "jp-MarkdownHeadingCollapsed": true,
    "tags": []
   },
   "source": [
    "## Test heatmap plots"
   ]
  },
  {
   "cell_type": "code",
   "execution_count": 26,
   "id": "d33e9c1b-d226-44fc-8684-462d91f79b6f",
   "metadata": {},
   "outputs": [],
   "source": [
    "import seaborn as sns\n",
    "import matplotlib.pyplot as plt"
   ]
  },
  {
   "cell_type": "code",
   "execution_count": 69,
   "id": "5322494c-c3e7-45c0-b55d-268553c4820f",
   "metadata": {},
   "outputs": [
    {
     "data": {
      "text/plain": [
       "(81, 81)"
      ]
     },
     "execution_count": 69,
     "metadata": {},
     "output_type": "execute_result"
    }
   ],
   "source": [
    "test = np.reshape(all_agg[61], (max_pos + 1, max_pos + 1))\n",
    "test.shape"
   ]
  },
  {
   "cell_type": "code",
   "execution_count": 70,
   "id": "bb34348b-c6c6-445d-82a9-b1258ee17c60",
   "metadata": {},
   "outputs": [
    {
     "data": {
      "text/plain": [
       "Text(0.5, 1.05, 'Average Attention Weights in GPT (Layer 5 Head 1)')"
      ]
     },
     "execution_count": 70,
     "metadata": {},
     "output_type": "execute_result"
    },
    {
     "data": {
      "image/png": "[encoded data removed]",
      "text/plain": [
       "<Figure size 1440x1440 with 2 Axes>"
      ]
     },
     "metadata": {
      "needs_background": "light"
     },
     "output_type": "display_data"
    }
   ],
   "source": [
    "fig, axs = plt.subplots(ncols=1)\n",
    "fig.set_size_inches(20, 20)\n",
    "sns.heatmap(test, square=True, cmap=sns.color_palette(\"light:salmon\", as_cmap=True))\n",
    "axs.xaxis.tick_top()\n",
    "axs.set_xlabel('key', fontsize=14)\n",
    "axs.xaxis.set_label_position('top') \n",
    "plt.xticks(rotation = 90)\n",
    "axs.set_ylabel('query', fontsize=14)\n",
    "axs.set_title('Average Attention Weights in GPT (Layer 5 Head 1)', fontsize=16, y=1.05)"
   ]
  },
  {
   "cell_type": "markdown",
   "id": "a0170cb5-dbdd-444e-b3a3-1c8c7f0aee55",
   "metadata": {
    "jp-MarkdownHeadingCollapsed": true,
    "tags": []
   },
   "source": [
    "## Test Jesse Vig Plots"
   ]
  },
  {
   "cell_type": "code",
   "execution_count": 35,
   "id": "07fa0c47-f1e9-471c-9299-a4c9d15d13c1",
   "metadata": {},
   "outputs": [],
   "source": [
    "from bertviz import head_view\n",
    "import torch"
   ]
  },
  {
   "cell_type": "code",
   "execution_count": 71,
   "id": "a872278d-648f-43e1-ac9b-7b7256f3809d",
   "metadata": {},
   "outputs": [
    {
     "name": "stdout",
     "output_type": "stream",
     "text": [
      "12\n",
      "1\n",
      "torch.Size([1, 12, 81, 81])\n",
      "12\n"
     ]
    }
   ],
   "source": [
    "# format info for jesse vig plots\n",
    "test12 = [[] for j in range(12)]\n",
    "for i in range(len(test12)):\n",
    "    empty = [test for i in range(12)]\n",
    "    test12[i].append(empty)\n",
    "    np_array = np.asarray(test12[i])\n",
    "    test12[i] = torch.tensor(np_array)\n",
    "    \n",
    "print(len(test12))\n",
    "print(len(test12[0]))\n",
    "print(test12[0].shape)\n",
    "print(len(test12[0][0]))"
   ]
  },
  {
   "cell_type": "code",
   "execution_count": 72,
   "id": "d18fd6c7-b4d1-469a-b706-7d863eea3806",
   "metadata": {},
   "outputs": [],
   "source": [
    "# generate html\n",
    "html = head_view(test12, [str(i) for i in range(len(test))], layer=0, heads=[0], include_layers=[0], html_action='return')\n",
    "\n",
    "with open('att.html', \"w\") as file: # save html to file\n",
    "    file.write(html.data)"
   ]
  },
  {
   "cell_type": "code",
   "execution_count": null,
   "id": "3628c81b-7a4f-4c76-905a-06b2b1ad078e",
   "metadata": {},
   "outputs": [],
   "source": []
  }
 ],
 "metadata": {
  "kernelspec": {
   "display_name": "Python [conda env:anaconda3-diffusion]",
   "language": "python",
   "name": "conda-env-anaconda3-diffusion-py"
  },
  "language_info": {
   "codemirror_mode": {
    "name": "ipython",
    "version": 3
   },
   "file_extension": ".py",
   "mimetype": "text/x-python",
   "name": "python",
   "nbconvert_exporter": "python",
   "pygments_lexer": "ipython3",
   "version": "3.9.13"
  }
 },
 "nbformat": 4,
 "nbformat_minor": 5
}
