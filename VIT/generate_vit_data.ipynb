{
 "cells": [
  {
   "cell_type": "code",
   "execution_count": 1,
   "id": "130ed3d9-e881-4f50-8cb3-65be902b132b",
   "metadata": {},
   "outputs": [
    {
     "name": "stderr",
     "output_type": "stream",
     "text": [
      "/n/home10/cyeh/anaconda3/envs/diffusion/lib/python3.9/site-packages/tqdm/auto.py:22: TqdmWarning: IProgress not found. Please update jupyter and ipywidgets. See https://ipywidgets.readthedocs.io/en/stable/user_install.html\n",
      "  from .autonotebook import tqdm as notebook_tqdm\n"
     ]
    }
   ],
   "source": [
    "from transformers import AutoImageProcessor, ViTModel\n",
    "import torch\n",
    "from datasets import load_dataset\n",
    "\n",
    "import numpy as np\n",
    "\n",
    "import matplotlib.pyplot as plt\n",
    "import pandas as pd\n",
    "\n",
    "from sklearn.manifold import TSNE\n",
    "from sklearn.decomposition import PCA\n",
    "import umap\n",
    "\n",
    "from tqdm.auto import tqdm\n",
    "\n",
    "import base64\n",
    "import json"
   ]
  },
  {
   "cell_type": "markdown",
   "id": "96f36035-4e9b-4867-b206-4d0192d5149d",
   "metadata": {},
   "source": [
    "# Meta Settings"
   ]
  },
  {
   "cell_type": "code",
   "execution_count": 2,
   "id": "8453fa79-ebd8-4b7f-ac21-df717e5e5290",
   "metadata": {},
   "outputs": [],
   "source": [
    "# path to where the images are stored\n",
    "data_dir = \"repeat/\"\n",
    "\n",
    "# Patch size of the model\n",
    "# patch_size = 16\n",
    "patch_size = 32\n",
    "\n",
    "# which model to use, base is the pretrained VIT from google\n",
    "model_type = \"base\"\n",
    "# border_width = 2\n",
    "\n",
    "# Width of the color border\n",
    "border_width = int(patch_size / 8)\n",
    "\n",
    "# Adjust the bias term (Out of date, don't use)\n",
    "adjust_bias_term = False\n",
    "\n",
    "# Centering the vectors\n",
    "centering = True\n",
    "\n",
    "# Scale the Key & Query pairs\n",
    "scale = False\n",
    "\n",
    "# Number of images in the dataset\n",
    "num_images = 8"
   ]
  },
  {
   "cell_type": "markdown",
   "id": "e770e8fa-fae8-4c04-9aad-b60b1e62e615",
   "metadata": {},
   "source": [
    "## Read in the dataset and Initialize VIT Model"
   ]
  },
  {
   "cell_type": "code",
   "execution_count": 3,
   "id": "3a3ddf8c-3d3a-4b26-b672-054af48e5d03",
   "metadata": {},
   "outputs": [
    {
     "name": "stderr",
     "output_type": "stream",
     "text": [
      "Using custom data configuration default-2c4ab9019dd17e64\n"
     ]
    },
    {
     "name": "stdout",
     "output_type": "stream",
     "text": [
      "Downloading and preparing dataset imagefolder/default to /n/home10/cyeh/.cache/huggingface/datasets/imagefolder/default-2c4ab9019dd17e64/0.0.0/0fc50c79b681877cc46b23245a6ef5333d036f48db40d53765a68034bc48faff...\n"
     ]
    },
    {
     "name": "stderr",
     "output_type": "stream",
     "text": [
      "Downloading data files: 100%|██████████| 8/8 [00:00<00:00, 6843.65it/s]\n",
      "Downloading data files: 0it [00:00, ?it/s]\n",
      "Extracting data files: 0it [00:00, ?it/s]\n",
      "                                                        \r"
     ]
    },
    {
     "name": "stdout",
     "output_type": "stream",
     "text": [
      "Dataset imagefolder downloaded and prepared to /n/home10/cyeh/.cache/huggingface/datasets/imagefolder/default-2c4ab9019dd17e64/0.0.0/0fc50c79b681877cc46b23245a6ef5333d036f48db40d53765a68034bc48faff. Subsequent calls will reuse this data.\n"
     ]
    },
    {
     "name": "stderr",
     "output_type": "stream",
     "text": [
      "100%|██████████| 1/1 [00:00<00:00, 71.00it/s]\n"
     ]
    }
   ],
   "source": [
    "dataset = load_dataset(\"imagefolder\", data_dir=data_dir)\n",
    "\n",
    "image_processor = AutoImageProcessor.from_pretrained(f\"google/vit-{model_type}-patch{patch_size}-224-in21k\")\n",
    "model = ViTModel.from_pretrained(f\"google/vit-{model_type}-patch{patch_size}-224-in21k\")"
   ]
  },
  {
   "cell_type": "markdown",
   "id": "579ba504-6ada-46ae-870d-2f7f4650fb7d",
   "metadata": {},
   "source": [
    "## Prepare the color border for patches"
   ]
  },
  {
   "cell_type": "code",
   "execution_count": 4,
   "id": "6a87402c-310c-440d-ab8e-735b317c7e4a",
   "metadata": {},
   "outputs": [],
   "source": [
    "pink_border_h = np.ones(shape=(patch_size, border_width, 3)) * np.array([227 / 255, 55 / 255, 143 / 255]).reshape(-1, 3)\n",
    "\n",
    "pink_border_v = np.ones(shape=(border_width, patch_size + border_width * 2, 3)) * np.array([227 / 255, 55 / 255, 143 / 255]).reshape(-1, 3)\n",
    "\n",
    "green_border_h = np.ones(shape=(patch_size, border_width, 3)) * np.array([95 / 255, 185 / 255, 108 / 255]).reshape(-1, 3)\n",
    "\n",
    "green_border_v = np.ones(shape=(border_width, patch_size + border_width * 2, 3)) * np.array([95 / 255, 185 / 255, 108 / 255]).reshape(-1, 3)\n",
    "\n",
    "pink_border_h = np.repeat(np.expand_dims(pink_border_h, 0), (224 // patch_size) ** 2, axis=0)\n",
    "\n",
    "pink_border_v = np.repeat(np.expand_dims(pink_border_v, 0), (224 // patch_size) ** 2, axis=0)\n",
    "\n",
    "green_border_h = np.repeat(np.expand_dims(green_border_h, 0), (224 // patch_size) ** 2, axis=0)\n",
    "\n",
    "green_border_v = np.repeat(np.expand_dims(green_border_v, 0), (224 // patch_size) ** 2, axis=0)"
   ]
  },
  {
   "cell_type": "markdown",
   "id": "ed8769bc-007a-47fd-8be5-6201b97fa68e",
   "metadata": {},
   "source": [
    "## Extract the Key/Query from VIT model and Project them to the joint embedding space"
   ]
  },
  {
   "cell_type": "code",
   "execution_count": 5,
   "id": "8dbc5284-6822-4def-9857-ed75051abf10",
   "metadata": {
    "tags": []
   },
   "outputs": [
    {
     "name": "stderr",
     "output_type": "stream",
     "text": [
      "100%|██████████| 8/8 [00:20<00:00,  2.58s/it]\n",
      "  0%|          | 0/12 [00:00<?, ?it/s]\n",
      "  0%|          | 0/12 [00:00<?, ?it/s]\u001b[A\n",
      "  8%|▊         | 1/12 [00:31<05:42, 31.13s/it]\u001b[A\n",
      " 17%|█▋        | 2/12 [00:44<03:28, 20.86s/it]\u001b[A\n",
      " 25%|██▌       | 3/12 [00:57<02:33, 17.05s/it]\u001b[A\n",
      " 33%|███▎      | 4/12 [01:09<02:00, 15.09s/it]\u001b[A\n",
      " 42%|████▏     | 5/12 [01:22<01:41, 14.51s/it]\u001b[A\n",
      " 50%|█████     | 6/12 [01:35<01:24, 14.02s/it]\u001b[A\n",
      " 58%|█████▊    | 7/12 [01:49<01:09, 13.83s/it]\u001b[A\n",
      " 67%|██████▋   | 8/12 [02:01<00:53, 13.36s/it]\u001b[A\n",
      " 75%|███████▌  | 9/12 [02:13<00:39, 13.01s/it]\u001b[A\n",
      " 83%|████████▎ | 10/12 [02:26<00:25, 12.83s/it]\u001b[A\n",
      " 92%|█████████▏| 11/12 [02:39<00:12, 12.87s/it]\u001b[A\n",
      "100%|██████████| 12/12 [02:52<00:00, 14.37s/it]\u001b[A\n",
      "  8%|▊         | 1/12 [02:52<31:36, 172.41s/it]\n",
      "  0%|          | 0/12 [00:00<?, ?it/s]\u001b[A\n",
      "  8%|▊         | 1/12 [00:10<01:58, 10.80s/it]\u001b[A\n",
      " 17%|█▋        | 2/12 [00:22<01:55, 11.54s/it]\u001b[A\n",
      " 25%|██▌       | 3/12 [00:35<01:47, 11.91s/it]\u001b[A\n",
      " 33%|███▎      | 4/12 [00:47<01:36, 12.12s/it]\u001b[A\n",
      " 42%|████▏     | 5/12 [00:58<01:21, 11.61s/it]\u001b[A\n",
      " 50%|█████     | 6/12 [01:09<01:09, 11.54s/it]\u001b[A\n",
      " 58%|█████▊    | 7/12 [01:21<00:58, 11.72s/it]\u001b[A\n",
      " 67%|██████▋   | 8/12 [01:34<00:48, 12.08s/it]\u001b[A\n",
      " 75%|███████▌  | 9/12 [01:47<00:36, 12.26s/it]\u001b[A\n",
      " 83%|████████▎ | 10/12 [01:58<00:24, 12.05s/it]\u001b[A\n",
      " 92%|█████████▏| 11/12 [02:14<00:13, 13.04s/it]\u001b[A\n",
      "100%|██████████| 12/12 [02:26<00:00, 12.17s/it]\u001b[A\n",
      " 17%|█▋        | 2/12 [05:18<26:09, 156.91s/it]\n",
      "  0%|          | 0/12 [00:00<?, ?it/s]\u001b[A\n",
      "  8%|▊         | 1/12 [00:12<02:13, 12.12s/it]\u001b[A\n",
      " 17%|█▋        | 2/12 [00:24<02:03, 12.35s/it]\u001b[A\n",
      " 25%|██▌       | 3/12 [00:35<01:46, 11.84s/it]\u001b[A\n",
      " 33%|███▎      | 4/12 [00:46<01:30, 11.29s/it]\u001b[A\n",
      " 42%|████▏     | 5/12 [00:58<01:20, 11.49s/it]\u001b[A\n",
      " 50%|█████     | 6/12 [01:11<01:12, 12.13s/it]\u001b[A\n",
      " 58%|█████▊    | 7/12 [01:21<00:57, 11.47s/it]\u001b[A\n",
      " 67%|██████▋   | 8/12 [01:33<00:46, 11.63s/it]\u001b[A\n",
      " 75%|███████▌  | 9/12 [01:45<00:35, 11.78s/it]\u001b[A\n",
      " 83%|████████▎ | 10/12 [01:57<00:23, 11.84s/it]\u001b[A\n",
      " 92%|█████████▏| 11/12 [02:09<00:11, 11.89s/it]\u001b[A\n",
      "100%|██████████| 12/12 [02:22<00:00, 11.84s/it]\u001b[A\n",
      " 25%|██▌       | 3/12 [07:40<22:31, 150.14s/it]\n",
      "  0%|          | 0/12 [00:00<?, ?it/s]\u001b[A\n",
      "  8%|▊         | 1/12 [00:12<02:16, 12.43s/it]\u001b[A\n",
      " 17%|█▋        | 2/12 [00:24<01:59, 11.96s/it]\u001b[A\n",
      " 25%|██▌       | 3/12 [00:36<01:49, 12.17s/it]\u001b[A\n",
      " 33%|███▎      | 4/12 [00:48<01:36, 12.03s/it]\u001b[A\n",
      " 42%|████▏     | 5/12 [01:00<01:25, 12.19s/it]\u001b[A\n",
      " 50%|█████     | 6/12 [01:12<01:12, 12.07s/it]\u001b[A\n",
      " 58%|█████▊    | 7/12 [01:25<01:01, 12.27s/it]\u001b[A\n",
      " 67%|██████▋   | 8/12 [01:36<00:48, 12.09s/it]\u001b[A\n",
      " 75%|███████▌  | 9/12 [01:48<00:36, 12.03s/it]\u001b[A\n",
      " 83%|████████▎ | 10/12 [02:01<00:24, 12.20s/it]\u001b[A\n",
      " 92%|█████████▏| 11/12 [02:13<00:12, 12.21s/it]\u001b[A\n",
      "100%|██████████| 12/12 [02:25<00:00, 12.15s/it]\u001b[A\n",
      " 33%|███▎      | 4/12 [10:06<19:47, 148.44s/it]\n",
      "  0%|          | 0/12 [00:00<?, ?it/s]\u001b[A\n",
      "  8%|▊         | 1/12 [00:11<02:10, 11.91s/it]\u001b[A\n",
      " 17%|█▋        | 2/12 [00:23<01:56, 11.62s/it]\u001b[A\n",
      " 25%|██▌       | 3/12 [00:35<01:45, 11.71s/it]\u001b[A\n",
      " 33%|███▎      | 4/12 [00:47<01:35, 11.94s/it]\u001b[A\n",
      " 42%|████▏     | 5/12 [00:59<01:24, 12.04s/it]\u001b[A\n",
      " 50%|█████     | 6/12 [01:11<01:11, 11.95s/it]\u001b[A\n",
      " 58%|█████▊    | 7/12 [01:22<00:59, 11.82s/it]\u001b[A\n",
      " 67%|██████▋   | 8/12 [01:35<00:47, 11.90s/it]\u001b[A\n",
      " 75%|███████▌  | 9/12 [01:47<00:36, 12.12s/it]\u001b[A\n",
      " 83%|████████▎ | 10/12 [02:00<00:24, 12.23s/it]\u001b[A\n",
      " 92%|█████████▏| 11/12 [02:11<00:12, 12.07s/it]\u001b[A\n",
      "100%|██████████| 12/12 [02:24<00:00, 12.04s/it]\u001b[A\n",
      " 42%|████▏     | 5/12 [12:30<17:09, 147.03s/it]\n",
      "  0%|          | 0/12 [00:00<?, ?it/s]\u001b[A\n",
      "  8%|▊         | 1/12 [00:11<02:02, 11.14s/it]\u001b[A\n",
      " 17%|█▋        | 2/12 [00:24<02:05, 12.54s/it]\u001b[A\n",
      " 25%|██▌       | 3/12 [00:36<01:50, 12.27s/it]\u001b[A\n",
      " 33%|███▎      | 4/12 [00:48<01:36, 12.07s/it]\u001b[A\n",
      " 42%|████▏     | 5/12 [01:00<01:25, 12.16s/it]\u001b[A\n",
      " 50%|█████     | 6/12 [01:12<01:12, 12.07s/it]\u001b[A\n",
      " 58%|█████▊    | 7/12 [01:25<01:02, 12.47s/it]\u001b[A\n",
      " 67%|██████▋   | 8/12 [01:37<00:49, 12.34s/it]\u001b[A\n",
      " 75%|███████▌  | 9/12 [01:49<00:36, 12.11s/it]\u001b[A\n",
      " 83%|████████▎ | 10/12 [02:01<00:24, 12.19s/it]\u001b[A\n",
      " 92%|█████████▏| 11/12 [02:13<00:12, 12.01s/it]\u001b[A\n",
      "100%|██████████| 12/12 [02:26<00:00, 12.25s/it]\u001b[A\n",
      " 50%|█████     | 6/12 [14:57<14:42, 147.02s/it]\n",
      "  0%|          | 0/12 [00:00<?, ?it/s]\u001b[A\n",
      "  8%|▊         | 1/12 [00:12<02:15, 12.27s/it]\u001b[A\n",
      " 17%|█▋        | 2/12 [00:24<02:00, 12.04s/it]\u001b[A\n",
      " 25%|██▌       | 3/12 [00:36<01:49, 12.12s/it]\u001b[A\n",
      " 33%|███▎      | 4/12 [00:48<01:35, 11.93s/it]\u001b[A\n",
      " 42%|████▏     | 5/12 [01:00<01:25, 12.24s/it]\u001b[A\n",
      " 50%|█████     | 6/12 [01:12<01:12, 12.02s/it]\u001b[A\n",
      " 58%|█████▊    | 7/12 [01:23<00:59, 11.88s/it]\u001b[A\n",
      " 67%|██████▋   | 8/12 [01:35<00:47, 11.89s/it]\u001b[A\n",
      " 75%|███████▌  | 9/12 [01:48<00:36, 12.02s/it]\u001b[A\n",
      " 83%|████████▎ | 10/12 [01:59<00:23, 11.85s/it]\u001b[A\n",
      " 92%|█████████▏| 11/12 [02:11<00:11, 11.99s/it]\u001b[A\n",
      "100%|██████████| 12/12 [02:23<00:00, 11.96s/it]\u001b[A\n",
      " 58%|█████▊    | 7/12 [17:21<12:09, 145.88s/it]\n",
      "  0%|          | 0/12 [00:00<?, ?it/s]\u001b[A\n",
      "  8%|▊         | 1/12 [00:12<02:15, 12.35s/it]\u001b[A\n",
      " 17%|█▋        | 2/12 [00:23<01:55, 11.56s/it]\u001b[A\n",
      " 25%|██▌       | 3/12 [00:35<01:44, 11.64s/it]\u001b[A\n",
      " 33%|███▎      | 4/12 [00:46<01:31, 11.39s/it]\u001b[A\n",
      " 42%|████▏     | 5/12 [00:57<01:20, 11.50s/it]\u001b[A\n",
      " 50%|█████     | 6/12 [01:09<01:09, 11.51s/it]\u001b[A\n",
      " 58%|█████▊    | 7/12 [01:21<00:58, 11.69s/it]\u001b[A\n",
      " 67%|██████▋   | 8/12 [01:32<00:46, 11.57s/it]\u001b[A\n",
      " 75%|███████▌  | 9/12 [01:44<00:34, 11.62s/it]\u001b[A\n",
      " 83%|████████▎ | 10/12 [01:55<00:22, 11.49s/it]\u001b[A\n",
      " 92%|█████████▏| 11/12 [02:06<00:11, 11.40s/it]\u001b[A\n",
      "100%|██████████| 12/12 [02:17<00:00, 11.50s/it]\u001b[A\n",
      " 67%|██████▋   | 8/12 [19:39<09:33, 143.37s/it]\n",
      "  0%|          | 0/12 [00:00<?, ?it/s]\u001b[A\n",
      "  8%|▊         | 1/12 [00:12<02:11, 12.00s/it]\u001b[A\n",
      " 17%|█▋        | 2/12 [00:23<01:55, 11.51s/it]\u001b[A\n",
      " 25%|██▌       | 3/12 [00:34<01:43, 11.53s/it]\u001b[A\n",
      " 33%|███▎      | 4/12 [00:46<01:32, 11.54s/it]\u001b[A\n",
      " 42%|████▏     | 5/12 [00:57<01:20, 11.53s/it]\u001b[A\n",
      " 50%|█████     | 6/12 [01:08<01:08, 11.39s/it]\u001b[A\n",
      " 58%|█████▊    | 7/12 [01:20<00:57, 11.42s/it]\u001b[A\n",
      " 67%|██████▋   | 8/12 [01:31<00:45, 11.28s/it]\u001b[A\n",
      " 75%|███████▌  | 9/12 [01:42<00:33, 11.29s/it]\u001b[A\n",
      " 83%|████████▎ | 10/12 [01:54<00:22, 11.36s/it]\u001b[A\n",
      " 92%|█████████▏| 11/12 [02:05<00:11, 11.37s/it]\u001b[A\n",
      "100%|██████████| 12/12 [02:16<00:00, 11.37s/it]\u001b[A\n",
      " 75%|███████▌  | 9/12 [21:55<07:03, 141.19s/it]\n",
      "  0%|          | 0/12 [00:00<?, ?it/s]\u001b[A\n",
      "  8%|▊         | 1/12 [00:11<02:10, 11.85s/it]\u001b[A\n",
      " 17%|█▋        | 2/12 [00:22<01:53, 11.34s/it]\u001b[A\n",
      " 25%|██▌       | 3/12 [00:34<01:41, 11.26s/it]\u001b[A\n",
      " 33%|███▎      | 4/12 [00:44<01:28, 11.11s/it]\u001b[A\n",
      " 42%|████▏     | 5/12 [00:55<01:16, 10.94s/it]\u001b[A\n",
      " 50%|█████     | 6/12 [01:06<01:06, 11.10s/it]\u001b[A\n",
      " 58%|█████▊    | 7/12 [01:17<00:54, 10.96s/it]\u001b[A\n",
      " 67%|██████▋   | 8/12 [01:28<00:44, 11.06s/it]\u001b[A\n",
      " 75%|███████▌  | 9/12 [01:39<00:32, 11.00s/it]\u001b[A\n",
      " 83%|████████▎ | 10/12 [01:50<00:22, 11.02s/it]\u001b[A\n",
      " 92%|█████████▏| 11/12 [02:01<00:10, 10.97s/it]\u001b[A\n",
      "100%|██████████| 12/12 [02:12<00:00, 11.08s/it]\u001b[A\n",
      " 83%|████████▎ | 10/12 [24:08<04:37, 138.63s/it]\n",
      "  0%|          | 0/12 [00:00<?, ?it/s]\u001b[A\n",
      "  8%|▊         | 1/12 [00:10<01:58, 10.75s/it]\u001b[A\n",
      " 17%|█▋        | 2/12 [00:21<01:50, 11.04s/it]\u001b[A\n",
      " 25%|██▌       | 3/12 [00:33<01:42, 11.36s/it]\u001b[A\n",
      " 33%|███▎      | 4/12 [00:44<01:29, 11.16s/it]\u001b[A\n",
      " 42%|████▏     | 5/12 [00:56<01:19, 11.39s/it]\u001b[A\n",
      " 50%|█████     | 6/12 [01:07<01:07, 11.21s/it]\u001b[A\n",
      " 58%|█████▊    | 7/12 [01:18<00:56, 11.32s/it]\u001b[A\n",
      " 67%|██████▋   | 8/12 [01:29<00:44, 11.23s/it]\u001b[A\n",
      " 75%|███████▌  | 9/12 [01:40<00:33, 11.11s/it]\u001b[A\n",
      " 83%|████████▎ | 10/12 [01:52<00:22, 11.26s/it]\u001b[A\n",
      " 92%|█████████▏| 11/12 [02:03<00:11, 11.29s/it]\u001b[A\n",
      "100%|██████████| 12/12 [02:15<00:00, 11.26s/it]\u001b[A\n",
      " 92%|█████████▏| 11/12 [26:23<02:17, 137.56s/it]\n",
      "  0%|          | 0/12 [00:00<?, ?it/s]\u001b[A\n",
      "  8%|▊         | 1/12 [00:10<02:00, 10.91s/it]\u001b[A\n",
      " 17%|█▋        | 2/12 [00:21<01:49, 10.95s/it]\u001b[A\n",
      " 25%|██▌       | 3/12 [00:33<01:42, 11.38s/it]\u001b[A\n",
      " 33%|███▎      | 4/12 [00:44<01:30, 11.28s/it]\u001b[A\n",
      " 42%|████▏     | 5/12 [00:57<01:22, 11.81s/it]\u001b[A\n",
      " 50%|█████     | 6/12 [01:08<01:09, 11.54s/it]\u001b[A\n",
      " 58%|█████▊    | 7/12 [01:19<00:57, 11.44s/it]\u001b[A\n",
      " 67%|██████▋   | 8/12 [01:31<00:46, 11.53s/it]\u001b[A\n",
      " 75%|███████▌  | 9/12 [01:42<00:34, 11.37s/it]\u001b[A\n",
      " 83%|████████▎ | 10/12 [01:54<00:22, 11.39s/it]\u001b[A\n",
      " 92%|█████████▏| 11/12 [02:05<00:11, 11.38s/it]\u001b[A\n",
      "100%|██████████| 12/12 [02:16<00:00, 11.36s/it]\u001b[A\n",
      "100%|██████████| 12/12 [28:40<00:00, 143.35s/it]\n"
     ]
    }
   ],
   "source": [
    "from collections import OrderedDict\n",
    "class ModuleHook:\n",
    "    def __init__(self, module):\n",
    "        self.hook = module.register_forward_hook(self.hook_fn)\n",
    "        self.module = None\n",
    "        self.features = []\n",
    "\n",
    "    def hook_fn(self, module, input, output):\n",
    "        self.module = module\n",
    "        self.features.append(output.detach())\n",
    "\n",
    "    def close(self):\n",
    "        self.hook.remove()\n",
    "        \n",
    "        \n",
    "all_patches = None\n",
    "all_output = {}\n",
    "all_attentions = {}\n",
    "vit_embeddeds = {\"PCA\": {}, \"TSNE\": {}, \"UMAP\": {},\n",
    "                 \"PCA_3d\": {}, \"TSNE_3d\": {}, \"UMAP_3d\": {}}\n",
    "# for i in range(len(dataset[\"train\"][\"image\"])):\n",
    "for i in tqdm(range(num_images)):\n",
    "    # image = dataset[\"test\"][\"image\"][i]\n",
    "    image = dataset[\"train\"][\"image\"][i]\n",
    "    inputs = image_processor(image, return_tensors=\"pt\")\n",
    "    features = OrderedDict()\n",
    "\n",
    "    for name, module in model.named_modules():\n",
    "        if isinstance(module, torch.nn.Linear) and (\"key\" in name or \"query\" in name):\n",
    "            features[name] = ModuleHook(module)\n",
    "\n",
    "    with torch.no_grad():\n",
    "        outputs = model(**inputs, output_attentions=True)\n",
    "\n",
    "    for feature in features.values():\n",
    "        feature.close()\n",
    "        \n",
    "    all_attentions[i] = outputs.attentions\n",
    "        \n",
    "    np_image = inputs.pixel_values[0].permute([1, 2, 0]).clone().cpu().numpy()\n",
    "\n",
    "    np_image /= 2\n",
    "    np_image += 0.5\n",
    "\n",
    "    image_patches = np_image.reshape(224 // patch_size, patch_size, \n",
    "                                     224 // patch_size, patch_size, 3).swapaxes(1, 2).reshape((224 // patch_size) ** 2, \n",
    "                                                                                              patch_size,\n",
    "                                                                                              patch_size, 3)\n",
    "    if i == 0:\n",
    "        all_patches = image_patches\n",
    "    else:\n",
    "        all_patches = np.concatenate([all_patches, image_patches])\n",
    "    \n",
    "    for layer in range(12):\n",
    "        if i == 0:\n",
    "            all_output[layer] = {}\n",
    "        layer_query_name = f\"encoder.layer.{layer}.attention.attention.query\"\n",
    "        layer_key_name = f\"encoder.layer.{layer}.attention.attention.key\"\n",
    "        \n",
    "        if adjust_bias_term:\n",
    "            raw_query_feature = features[layer_query_name].features[0].cpu().detach().numpy()[0, :] - model.encoder.layer[layer].attention.attention.query.bias.clone().cpu().detach().numpy()\n",
    "            raw_key_feature = features[layer_key_name].features[0].cpu().detach().numpy()[0, :] - model.encoder.layer[layer].attention.attention.key.bias.clone().cpu().detach().numpy()\n",
    "        else:\n",
    "            raw_query_feature = features[layer_query_name].features[0].cpu().detach().numpy()[0, :]\n",
    "            raw_key_feature = features[layer_key_name].features[0].cpu().detach().numpy()[0, :] \n",
    "            \n",
    "        layer_query_feature = np.array(np.split(raw_query_feature,\n",
    "                                       12, axis=-1))\n",
    "        layer_key_feature = np.array(np.split(raw_key_feature,\n",
    "                                     12, axis=-1))\n",
    "        \n",
    "        \n",
    "        for head in range(12):\n",
    "            if i == 0:\n",
    "                all_output[layer][head] = np.concatenate([layer_query_feature[head], layer_key_feature[head]])\n",
    "            else:\n",
    "                all_output[layer][head] = np.concatenate([all_output[layer][head], \n",
    "                                                          np.concatenate([layer_query_feature[head], \n",
    "                                                                          layer_key_feature[head]])])\n",
    "            \n",
    "    key_image_patches = np.concatenate([pink_border_v, \n",
    "                                    np.concatenate([pink_border_h, image_patches, pink_border_h], axis=2),\n",
    "                                    pink_border_v], axis=1)\n",
    "\n",
    "    query_image_patches = np.concatenate([green_border_v, \n",
    "                                          np.concatenate([green_border_h, image_patches, green_border_h], axis=2),\n",
    "                                          green_border_v], axis=1)\n",
    "\n",
    "    filename_prefix = dataset['train']['image'][i].filename\n",
    "    filename_prefix = filename_prefix[filename_prefix.rfind(\"/\") + 1:filename_prefix.rfind(\".\")]\n",
    "    for nth_image in range(image_patches.shape[0]):\n",
    "        plt.imsave(f\"vit{patch_size}_image_patches/{filename_prefix}_patch_{nth_image}.png\", image_patches[nth_image])\n",
    "        plt.imsave(f\"vit{patch_size}_image_patches/key_{filename_prefix}_patch_{nth_image}.png\", key_image_patches[nth_image])\n",
    "        plt.imsave(f\"vit{patch_size}_image_patches/query_{filename_prefix}_patch_{nth_image}.png\", query_image_patches[nth_image])\n",
    "\n",
    "        \n",
    "for layer in range(12):\n",
    "    for head in range(12):\n",
    "        dataset_size = num_images * ((224 // patch_size) ** 2)\n",
    "        if centering:\n",
    "            queries = all_output[layer][head].reshape(-1, (224 // patch_size) ** 2 + 1, 64)[::2].copy().astype(\"float\")\n",
    "            keys = all_output[layer][head].reshape(-1, (224 // patch_size) ** 2 + 1, 64)[1::2].copy().astype(\"float\")\n",
    "            queries = queries.reshape(-1, 64)\n",
    "            keys = keys.reshape(-1, 64)\n",
    "            mean_shift = np.mean(queries, axis=0) - np.mean(keys, axis=0)\n",
    "            normalized_embeddings = all_output[layer][head].reshape(-1, (224 // patch_size) ** 2 + 1, 64).copy().astype(\"float\")\n",
    "            normalized_embeddings[1::2] += mean_shift\n",
    "            all_output[layer][head] = normalized_embeddings.reshape(-1, 64)\n",
    "        \n",
    "        if scale:\n",
    "            queries = all_output[layer][head].reshape(-1, (224 // patch_size) ** 2 + 1, 64)[::2].copy().astype(\"float\")\n",
    "            keys = all_output[layer][head].reshape(-1, (224 // patch_size) ** 2 + 1, 64)[1::2].copy().astype(\"float\")\n",
    "            queries = queries.reshape(-1, 64)\n",
    "            keys = keys.reshape(-1, 64)\n",
    "            q_n = np.linalg.norm(queries, axis=1).mean()\n",
    "            k_n = np.linalg.norm(keys, axis=1).mean()\n",
    "            \n",
    "            c = np.sqrt(q_n / k_n) \n",
    "\n",
    "            normalized_embeddings = all_output[layer][head].reshape(-1, (224 // patch_size) ** 2 + 1, 64).copy().astype(\"float\")\n",
    "            normalized_embeddings[1::2] *= c\n",
    "            normalized_embeddings[::2] *= (1 / c)\n",
    "            all_output[layer][head] = normalized_embeddingsized_embeddings\n",
    "        \n",
    "            \n",
    "for layer in tqdm(range(12)):\n",
    "    vit_embeddeds[\"TSNE\"][layer] = {}\n",
    "    vit_embeddeds[\"TSNE_3d\"][layer] = {}\n",
    "    vit_embeddeds[\"PCA\"][layer] = {}\n",
    "    vit_embeddeds[\"PCA_3d\"][layer] = {}\n",
    "    vit_embeddeds[\"UMAP\"][layer] = {}\n",
    "    vit_embeddeds[\"UMAP_3d\"][layer] = {}\n",
    "    for head in tqdm(range(12)):\n",
    "        vit_embeddeds[\"TSNE\"][layer][head] = TSNE(n_components=2, learning_rate='auto', n_jobs=-1, metric=\"cosine\",\n",
    "                                                  init='random', perplexity=20).fit_transform(all_output[layer][head])\n",
    "        vit_embeddeds[\"TSNE_3d\"][layer][head] = TSNE(n_components=3, learning_rate='auto', n_jobs=-1, metric=\"cosine\",\n",
    "                                                     init='random', perplexity=20).fit_transform(all_output[layer][head])\n",
    "        \n",
    "        vit_embeddeds[\"PCA\"][layer][head] = PCA(n_components=2,).fit_transform(all_output[layer][head])\n",
    "        vit_embeddeds[\"PCA_3d\"][layer][head] = PCA(n_components=3, ).fit_transform(all_output[layer][head])\n",
    "        \n",
    "        reducer = umap.UMAP(n_neighbors=10, n_components=2, min_dist=0.1, metric=\"cosine\",)\n",
    "        vit_embeddeds[\"UMAP\"][layer][head] = reducer.fit_transform(all_output[layer][head])\n",
    "        \n",
    "        reducer = umap.UMAP(n_neighbors=10, n_components=3, min_dist=0.1, metric=\"cosine\",)\n",
    "        vit_embeddeds[\"UMAP_3d\"][layer][head] = reducer.fit_transform(all_output[layer][head])"
   ]
  },
  {
   "cell_type": "markdown",
   "id": "332500e5-17af-4e03-b05f-9a75638f856e",
   "metadata": {},
   "source": [
    "## Store the image patches into token file"
   ]
  },
  {
   "cell_type": "code",
   "execution_count": 6,
   "id": "e4af4ead-16ea-4263-a7e2-6f2b3dcdfe31",
   "metadata": {},
   "outputs": [
    {
     "name": "stdout",
     "output_type": "stream",
     "text": [
      "torch.Size([1, 3, 224, 224])\n"
     ]
    },
    {
     "name": "stderr",
     "output_type": "stream",
     "text": [
      "Clipping input data to the valid range for imshow with RGB data ([0..1] for floats or [0..255] for integers).\n"
     ]
    },
    {
     "data": {
      "text/plain": [
       "<matplotlib.image.AxesImage at 0x2b8b6a0dadc0>"
      ]
     },
     "execution_count": 6,
     "metadata": {},
     "output_type": "execute_result"
    },
    {
     "data": {
      "image/png": "[encoded data removed]",
      "text/plain": [
       "<Figure size 432x288 with 1 Axes>"
      ]
     },
     "metadata": {
      "needs_background": "light"
     },
     "output_type": "display_data"
    }
   ],
   "source": [
    "for i in range(num_images):\n",
    "    image = dataset[\"train\"][\"image\"][i]\n",
    "    inputs = image_processor(image, return_tensors=\"pt\")\n",
    "    \n",
    "    np_image = inputs.pixel_values[0].permute([1, 2, 0]).clone().cpu().numpy()\n",
    "\n",
    "    np_image /= 2\n",
    "    np_image += 0.5\n",
    "    \n",
    "    filename_prefix = dataset['train']['image'][i].filename\n",
    "    filename_prefix = filename_prefix[filename_prefix.rfind(\"/\") + 1:filename_prefix.rfind(\".\")]\n",
    "    \n",
    "    plt.imsave(f\"original_images/original_image_{filename_prefix}.png\", np_image)\n",
    "\n",
    "print(inputs.pixel_values.shape)\n",
    "plt.imshow(inputs.pixel_values[0].permute([1, 2, 0]))"
   ]
  },
  {
   "cell_type": "markdown",
   "id": "89235c9c-13b2-4e0b-8cf6-274a2f1fa0bf",
   "metadata": {
    "tags": []
   },
   "source": [
    "## Annotate Image Patch (Using the Automated Segmentation Model)"
   ]
  },
  {
   "cell_type": "code",
   "execution_count": 7,
   "id": "7b1e6357-4972-46f4-9cc0-c6c2689249c2",
   "metadata": {},
   "outputs": [
    {
     "name": "stderr",
     "output_type": "stream",
     "text": [
      "<ipython-input-7-41b4f4676530>:28: FutureWarning: Unlike other reduction functions (e.g. `skew`, `kurtosis`), the default behavior of `mode` typically preserves the axis it acts along. In SciPy 1.11.0, this behavior will change: the default value of `keepdims` will become False, the `axis` over which the statistic is taken will be eliminated, and the value None will no longer be accepted. Set `keepdims` to True or False to avoid this warning.\n",
      "  label = sem_idx_to_class[mode(seg[i: i + patch_size, j: j + patch_size].ravel())[0][0]]\n"
     ]
    },
    {
     "data": {
      "image/png": "[encoded data removed]",
      "text/plain": [
       "<Figure size 432x288 with 1 Axes>"
      ]
     },
     "metadata": {
      "needs_background": "light"
     },
     "output_type": "display_data"
    },
    {
     "data": {
      "image/png": "[encoded data removed]",
      "text/plain": [
       "<Figure size 432x288 with 1 Axes>"
      ]
     },
     "metadata": {
      "needs_background": "light"
     },
     "output_type": "display_data"
    },
    {
     "data": {
      "image/png": "[encoded data removed]",
      "text/plain": [
       "<Figure size 432x288 with 1 Axes>"
      ]
     },
     "metadata": {
      "needs_background": "light"
     },
     "output_type": "display_data"
    },
    {
     "data": {
      "image/png": "[encoded data removed]",
      "text/plain": [
       "<Figure size 432x288 with 1 Axes>"
      ]
     },
     "metadata": {
      "needs_background": "light"
     },
     "output_type": "display_data"
    },
    {
     "data": {
      "image/png": "[encoded data removed]",
      "text/plain": [
       "<Figure size 432x288 with 1 Axes>"
      ]
     },
     "metadata": {
      "needs_background": "light"
     },
     "output_type": "display_data"
    },
    {
     "data": {
      "image/png": "[encoded data removed]",
      "text/plain": [
       "<Figure size 432x288 with 1 Axes>"
      ]
     },
     "metadata": {
      "needs_background": "light"
     },
     "output_type": "display_data"
    },
    {
     "data": {
      "image/png": "[encoded data removed]",
      "text/plain": [
       "<Figure size 432x288 with 1 Axes>"
      ]
     },
     "metadata": {
      "needs_background": "light"
     },
     "output_type": "display_data"
    },
    {
     "data": {
      "image/png": "[encoded data removed]",
      "text/plain": [
       "<Figure size 432x288 with 1 Axes>"
      ]
     },
     "metadata": {
      "needs_background": "light"
     },
     "output_type": "display_data"
    }
   ],
   "source": [
    "from torchvision.models.segmentation import deeplabv3_resnet50, DeepLabV3_ResNet50_Weights\n",
    "from scipy.stats import mode\n",
    "\n",
    "weights = DeepLabV3_ResNet50_Weights.DEFAULT\n",
    "transforms = weights.transforms(resize_size=[224, 224])\n",
    "\n",
    "model = deeplabv3_resnet50(weights=weights, progress=False)\n",
    "model = model.eval()\n",
    "\n",
    "batch = torch.stack([transforms(dataset[\"train\"][\"image\"][i]) for i in range(num_images)])\n",
    "output = model(batch)['out']\n",
    "\n",
    "sem_class_to_idx = {cls: idx for (idx, cls) in enumerate(weights.meta[\"categories\"])}\n",
    "\n",
    "sem_idx_to_class = {}\n",
    "for key in list(sem_class_to_idx.keys()):\n",
    "    sem_idx_to_class[sem_class_to_idx[key]] = key\n",
    "\n",
    "sem_idx_to_class[0] = \"bg\"\n",
    "\n",
    "semantic_labels = {}\n",
    "\n",
    "for nth_image in range(num_images):\n",
    "    semantic_labels[nth_image] = [\"CLS\"]\n",
    "    seg = torch.argmax(output[nth_image], dim=0).cpu().detach().numpy()\n",
    "    for i in range(0, 224, patch_size):\n",
    "        for j in range(0, 224, patch_size):\n",
    "            label = sem_idx_to_class[mode(seg[i: i + patch_size, j: j + patch_size].ravel())[0][0]]\n",
    "            semantic_labels[nth_image].append(label)\n",
    "            \n",
    "    plt.figure()\n",
    "    plt.title(f\"Image {nth_image:d}\")\n",
    "    plt.imshow(seg)"
   ]
  },
  {
   "cell_type": "markdown",
   "id": "8067b178-b588-4407-a549-47818ab95357",
   "metadata": {},
   "source": [
    "## Serialize Attention, Token, Embedding data into Pickle File"
   ]
  },
  {
   "cell_type": "code",
   "execution_count": 8,
   "id": "583f2777-7fe3-4d45-9a8c-9cd7a39bdf81",
   "metadata": {
    "tags": []
   },
   "outputs": [],
   "source": [
    "def convert_image_to_base64(image_path):\n",
    "    binary_fc = open(filepath, 'rb').read()  # fc aka file_content\n",
    "    base64_utf8_str = base64.b64encode(binary_fc).decode('utf-8')\n",
    "\n",
    "    ext     = filepath.split('.')[-1]\n",
    "    dataurl = f'data:image/{ext};base64,{base64_utf8_str}'\n",
    "    \n",
    "    return dataurl\n",
    "\n",
    "\n",
    "for layer_ind in range(12):\n",
    "    for head_ind in range(12):\n",
    "        embedding_json = {}\n",
    "        embedding_json[\"layer\"] = layer_ind\n",
    "        embedding_json[\"head\"] = head_ind\n",
    "        \n",
    "        embedding_json[\"tokens\"] = []\n",
    "        for i in range(len(vit_embeddeds[\"TSNE\"][layer_ind][head_ind])):\n",
    "            embedding_json[\"tokens\"].append({\"tsne_x\": float(vit_embeddeds[\"TSNE\"][layer_ind][head_ind][i, 0]),\n",
    "                                             \"tsne_y\": float(vit_embeddeds[\"TSNE\"][layer_ind][head_ind][i, 1]),\n",
    "                                             \"tsne_x_3d\": float(vit_embeddeds[\"TSNE_3d\"][layer_ind][head_ind][i, 0]),\n",
    "                                             \"tsne_y_3d\": float(vit_embeddeds[\"TSNE_3d\"][layer_ind][head_ind][i, 1]), \n",
    "                                             \"tsne_z_3d\": float(vit_embeddeds[\"TSNE_3d\"][layer_ind][head_ind][i, 2]),\n",
    "                                             \"pca_x\": float(vit_embeddeds[\"PCA\"][layer_ind][head_ind][i, 0]),\n",
    "                                             \"pca_y\": float(vit_embeddeds[\"PCA\"][layer_ind][head_ind][i, 1]),\n",
    "                                             \"pca_x_3d\": float(vit_embeddeds[\"PCA_3d\"][layer_ind][head_ind][i, 0]),\n",
    "                                             \"pca_y_3d\": float(vit_embeddeds[\"PCA_3d\"][layer_ind][head_ind][i, 1]),\n",
    "                                             \"pca_z_3d\": float(vit_embeddeds[\"PCA_3d\"][layer_ind][head_ind][i, 2]),\n",
    "                                             \"umap_x\": float(vit_embeddeds[\"UMAP\"][layer_ind][head_ind][i, 0]),\n",
    "                                             \"umap_y\": float(vit_embeddeds[\"UMAP\"][layer_ind][head_ind][i, 1]),\n",
    "                                             \"umap_x_3d\": float(vit_embeddeds[\"UMAP_3d\"][layer_ind][head_ind][i, 0]),\n",
    "                                             \"umap_y_3d\": float(vit_embeddeds[\"UMAP_3d\"][layer_ind][head_ind][i, 1]),\n",
    "                                             \"umap_z_3d\": float(vit_embeddeds[\"UMAP_3d\"][layer_ind][head_ind][i, 2]),})\n",
    "            \n",
    "        json_object = json.dumps(embedding_json)\n",
    "        \n",
    "        with open(f\"vit{patch_size}_layer/layer{layer_ind}_head{head_ind}.json\", \"w\") as outfile:\n",
    "            outfile.write(json_object)\n",
    "            \n",
    "        attention_json = {}\n",
    "        attention_json[\"layer\"] = layer_ind\n",
    "        attention_json[\"head\"] = head_ind\n",
    "        \n",
    "        attention_json[\"tokens\"] = []\n",
    "        for i in range(num_images):\n",
    "            sel_attention = all_attentions[i][layer_ind][0][head_ind].clone()\n",
    "            for j in range(len(sel_attention)):\n",
    "                attention_json[\"tokens\"].append({\"attention\": sel_attention[j].cpu().detach().tolist()})\n",
    "            for j in range(sel_attention.shape[1]):\n",
    "                attention_json[\"tokens\"].append({\"attention\": sel_attention[:, j].cpu().detach().tolist()})\n",
    "        \n",
    "        json_object = json.dumps(attention_json)\n",
    "        \n",
    "        with open(f\"vit{patch_size}_attention/layer{layer_ind}_head{head_ind}.json\", \"w\") as outfile:\n",
    "            outfile.write(json_object)\n",
    "            \n",
    "            \n",
    "token_json = {\"tokens\": []}\n",
    "for nth_data in range(num_images):\n",
    "    filename_prefix = dataset['train']['image'][nth_data].filename\n",
    "    filename_prefix = filename_prefix[filename_prefix.rfind(\"/\") + 1:filename_prefix.rfind(\".\")]\n",
    "    for i in range((224 // patch_size) ** 2 + 1):\n",
    "        if i == 0:\n",
    "            dataurl = \"https://raw.githubusercontent.com/catherinesyeh/attention-viz/VIT-vis/img/cls_query_image.png\"\n",
    "            original_patch_dataurl = \"https://raw.githubusercontent.com/catherinesyeh/attention-viz/VIT-vis/img/cls_query_image.png\"\n",
    "        \n",
    "            filepath = f\"original_images/original_image_{filename_prefix}.png\"\n",
    "\n",
    "            binary_fc = open(filepath, 'rb').read()  # fc aka file_content\n",
    "            base64_utf8_str = base64.b64encode(binary_fc).decode('utf-8')\n",
    "\n",
    "            ext     = filepath.split('.')[-1]\n",
    "            original_image_dataurl = f'data:image/{ext};base64,{base64_utf8_str}'\n",
    "        else:\n",
    "            filepath = f\"vit{patch_size}_image_patches/query_{filename_prefix}_patch_{i - 1}.png\"\n",
    "\n",
    "            binary_fc = open(filepath, 'rb').read()  # fc aka file_content\n",
    "            base64_utf8_str = base64.b64encode(binary_fc).decode('utf-8')\n",
    "\n",
    "            ext     = filepath.split('.')[-1]\n",
    "            dataurl = f'data:image/{ext};base64,{base64_utf8_str}'\n",
    "        \n",
    "            filepath = f\"vit{patch_size}_image_patches/{filename_prefix}_patch_{i - 1}.png\"\n",
    "\n",
    "            binary_fc = open(filepath, 'rb').read()  # fc aka file_content\n",
    "            base64_utf8_str = base64.b64encode(binary_fc).decode('utf-8')\n",
    "\n",
    "            ext     = filepath.split('.')[-1]\n",
    "            original_patch_dataurl = f'data:image/{ext};base64,{base64_utf8_str}'\n",
    "    \n",
    "            original_image_dataurl = \"null\"\n",
    "            \n",
    "        if i == 0:\n",
    "            row = 0\n",
    "            col = 0\n",
    "            ad_row = 0\n",
    "            ad_col = -1\n",
    "        else:\n",
    "            row = (i - 1) // (224 // patch_size)\n",
    "            col = (i - 1) % (224 // patch_size)\n",
    "            ad_row = row\n",
    "            ad_col = col\n",
    "        \n",
    "        token_json[\"tokens\"].append({\"originalImagePath\": original_image_dataurl,\n",
    "                                     \"originalPatchPath\": original_patch_dataurl,\n",
    "                                     \"imagePath\": dataurl,\n",
    "                                     \"position\": row,\n",
    "                                     \"pos_int\": col,\n",
    "                                     \"position_row\": ad_row,\n",
    "                                     \"position_col\": ad_col,\n",
    "                                     \"type\": \"query\",\n",
    "                                     \"value\": f\"{semantic_labels[nth_data][i % ((224 // patch_size) ** 2 + 1)]}\",})\n",
    "\n",
    "    for i in range((224 // patch_size) ** 2 + 1):\n",
    "        if i == 0:\n",
    "            dataurl = \"https://raw.githubusercontent.com/catherinesyeh/attention-viz/VIT-vis/img/cls_key_image.png\"\n",
    "            original_patch_dataurl = \"https://raw.githubusercontent.com/catherinesyeh/attention-viz/VIT-vis/img/cls_key_image.png\"\n",
    "            \n",
    "            filepath = f\"original_images/original_image_{filename_prefix}.png\"\n",
    "\n",
    "            binary_fc = open(filepath, 'rb').read()  # fc aka file_content\n",
    "            base64_utf8_str = base64.b64encode(binary_fc).decode('utf-8')\n",
    "\n",
    "            ext     = filepath.split('.')[-1]\n",
    "            original_image_dataurl = f'data:image/{ext};base64,{base64_utf8_str}'\n",
    "        else:\n",
    "            filepath = f\"vit{patch_size}_image_patches/key_{filename_prefix}_patch_{i - 1}.png\"\n",
    "\n",
    "            binary_fc = open(filepath, 'rb').read()  # fc aka file_content\n",
    "            base64_utf8_str = base64.b64encode(binary_fc).decode('utf-8')\n",
    "\n",
    "            ext     = filepath.split('.')[-1]\n",
    "            dataurl = f'data:image/{ext};base64,{base64_utf8_str}'\n",
    "        \n",
    "            filepath = f\"vit{patch_size}_image_patches/{filename_prefix}_patch_{i - 1}.png\"\n",
    "\n",
    "            binary_fc = open(filepath, 'rb').read()  # fc aka file_content\n",
    "            base64_utf8_str = base64.b64encode(binary_fc).decode('utf-8')\n",
    "\n",
    "            ext     = filepath.split('.')[-1]\n",
    "            original_patch_dataurl = f'data:image/{ext};base64,{base64_utf8_str}'\n",
    "\n",
    "            original_image_dataurl = \"null\"\n",
    "            \n",
    "        if i == 0:\n",
    "            row = 0\n",
    "            col = 0\n",
    "            ad_row = 0\n",
    "            ad_col = -1\n",
    "        else:\n",
    "            row = (i - 1) // (224 // patch_size)\n",
    "            col = (i - 1) % (224 // patch_size)\n",
    "            ad_row = row\n",
    "            ad_col = col\n",
    "        \n",
    "        token_json[\"tokens\"].append({\"originalImagePath\": original_image_dataurl,\n",
    "                                     \"originalPatchPath\": original_patch_dataurl,\n",
    "                                     \"imagePath\": dataurl,\n",
    "                                     \"position\": row, \n",
    "                                     \"pos_int\": col,\n",
    "                                     \"position_row\": ad_row,\n",
    "                                     \"position_col\": ad_col,\n",
    "                                     \"type\": \"key\",\n",
    "                                     \"value\": f\"{semantic_labels[nth_data][i % ((224 // patch_size) ** 2 + 1)]}\",})\n",
    "\n",
    "\n",
    "json_object = json.dumps(token_json)\n",
    "with open(f\"tokens_{patch_size}.json\", \"w\") as outfile:\n",
    "    outfile.write(json_object)"
   ]
  },
  {
   "cell_type": "code",
   "execution_count": null,
   "id": "a4766bb4-0f37-46d3-9037-ad2f154adbba",
   "metadata": {},
   "outputs": [],
   "source": []
  }
 ],
 "metadata": {
  "kernelspec": {
   "display_name": "Python [conda env:anaconda3-diffusion]",
   "language": "python",
   "name": "conda-env-anaconda3-diffusion-py"
  },
  "language_info": {
   "codemirror_mode": {
    "name": "ipython",
    "version": 3
   },
   "file_extension": ".py",
   "mimetype": "text/x-python",
   "name": "python",
   "nbconvert_exporter": "python",
   "pygments_lexer": "ipython3",
   "version": "3.9.13"
  }
 },
 "nbformat": 4,
 "nbformat_minor": 5
}
