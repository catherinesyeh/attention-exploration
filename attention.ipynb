{
 "cells": [
  {
   "cell_type": "markdown",
   "id": "f7503932-e249-44ff-bc02-3a4822f4e7fb",
   "metadata": {
    "jp-MarkdownHeadingCollapsed": true,
    "tags": []
   },
   "source": [
    "## Exploring the data"
   ]
  },
  {
   "cell_type": "markdown",
   "id": "864b01d3-1b36-4dd7-a400-9ec462d27c84",
   "metadata": {},
   "source": [
    "Download the Wikipedia dataset + randomly sample sentences as input"
   ]
  },
  {
   "cell_type": "code",
   "execution_count": 9,
   "id": "e9b9a0bb-649b-47b7-a51b-fa74bb8284c6",
   "metadata": {
    "tags": []
   },
   "outputs": [
    {
     "name": "stderr",
     "output_type": "stream",
     "text": [
      "No config specified, defaulting to: wiki_auto/auto\n",
      "Reusing dataset wiki_auto (/n/home10/cyeh/.cache/huggingface/datasets/wiki_auto/auto/1.0.0/eeac705719dc9aa2ff180571dfed6c6649588ccdfde8d45a47d2e47e5c5b93af)\n",
      "100%|██████████| 2/2 [00:00<00:00, 56.83it/s]\n"
     ]
    }
   ],
   "source": [
    "# load dataset\n",
    "from datasets import load_dataset\n",
    "\n",
    "dataset = load_dataset(\"wiki_auto\")"
   ]
  },
  {
   "cell_type": "code",
   "execution_count": 10,
   "id": "47d6023a-158b-4232-bace-2707246f6008",
   "metadata": {},
   "outputs": [],
   "source": [
    "# remove data points with no examples\n",
    "data = [dataset['part_1'][i]['normal']['normal_article_content']['normal_sentence'] for i in range(len(dataset['part_1'])) if len(dataset['part_1'][i]['normal']['normal_article_content']['normal_sentence']) != 0] "
   ]
  },
  {
   "cell_type": "code",
   "execution_count": 11,
   "id": "3a6f3387-55ea-435e-99d0-6f3c72dd17c5",
   "metadata": {},
   "outputs": [
    {
     "data": {
      "text/plain": [
       "124913"
      ]
     },
     "execution_count": 11,
     "metadata": {},
     "output_type": "execute_result"
    }
   ],
   "source": [
    "# now see how many data points there are\n",
    "data_len = len(data)\n",
    "data_len"
   ]
  },
  {
   "cell_type": "code",
   "execution_count": 12,
   "id": "98ac0340-ad5d-4cd6-a6a3-392c01227c8a",
   "metadata": {},
   "outputs": [
    {
     "data": {
      "text/plain": [
       "[74894, 4270, 56215, 63250, 75771, 1944, 27013, 60631, 106603, 64395]"
      ]
     },
     "execution_count": 12,
     "metadata": {},
     "output_type": "execute_result"
    }
   ],
   "source": [
    "# choose 1000 random data points to sample from\n",
    "import random\n",
    "num_examples = 1000\n",
    "random.seed(10) # set seed\n",
    "indices = random.sample(range(data_len), num_examples)\n",
    "indices[:10]"
   ]
  },
  {
   "cell_type": "code",
   "execution_count": 13,
   "id": "fb56274d-4d79-4bb6-a31e-f4579fb90e55",
   "metadata": {},
   "outputs": [
    {
     "data": {
      "text/plain": [
       "['Synthpop band Freezepop have used it on stage.',\n",
       " \"Plumb was awarded a knighthood in the Queen's Birthday Honours list in 1973.\",\n",
       " 'He read and memorized the entire Quran by the time he was nine years old.',\n",
       " \"Some other yearly festivals are Paris-Plages, a festive event that lasts from mid-July to mid-August when the Right Bank of the Seine is converted into a temporary beach with sand, deck chairs and palm trees; Journées du Patrimoine, Fête de la Musique, Techno Parade, Nuit Blanche, Cinéma au clair de lune, Printemps des rues, Festival d'automne, and Fête des jardins.\",\n",
       " 'Despite this decision, many Church of the East Old Calendarists rejected the move so in an attempt to avert further dissent, the Holy Synod maintained that Easter would continue to be celebrated according to the Julian Calendar.',\n",
       " \"On a difficult, slow pitch at Port Elizabeth, Australia struggled their way to 212 (7 wickets, 50 overs) against tight Sri Lankan bowling, thanks mainly to a great innings from Andrew Symonds (91* from 118 balls, 7 fours, 1 six), demonstrating again captain Ricky Ponting's faith in him.\",\n",
       " 'Alun Llwyd also co-manages, with Kevin Tame, the Cardiff-based indie label Turnstile, home of Perfume Genius, Christopher Owens, Gruff Rhys, Cate Le Bon and others.',\n",
       " 'Saint-Jean was first mentioned in 1250 as \"de Sancto Johanne\".',\n",
       " 'The JR East portion of the station has one island platform.',\n",
       " \"Peck's rare attempts at villainous roles were not acclaimed.\"]"
      ]
     },
     "execution_count": 13,
     "metadata": {},
     "output_type": "execute_result"
    }
   ],
   "source": [
    "# get one sentence for each selected data point\n",
    "sentences = []\n",
    "for i in indices:\n",
    "    # get all sentences associated with data point\n",
    "    sentence_list = data[i]\n",
    "    sentence = random.choice(sentence_list) # choose random sentence from list\n",
    "    sentences.append(sentence)\n",
    "\n",
    "sentences[:10]"
   ]
  },
  {
   "cell_type": "markdown",
   "id": "2f3bdcd1-c46c-45c7-ae41-29c83fb0c51d",
   "metadata": {
    "jp-MarkdownHeadingCollapsed": true,
    "tags": []
   },
   "source": [
    "### archive"
   ]
  },
  {
   "cell_type": "code",
   "execution_count": 2,
   "id": "93613450-3af2-4a8c-bfa1-65a077ed2ef7",
   "metadata": {},
   "outputs": [
    {
     "data": {
      "text/plain": [
       "[\"Lata Mondal ( ; born: 16 January 1993, Dhaka) is a Bangladeshi cricketer who plays for the Bangladesh national women's cricket team.\",\n",
       " 'She is a right handed batter.',\n",
       " 'Mondal was born on January 16, 1993 in Dhaka, Bangladesh.',\n",
       " \"Mondal made her ODI career against the Ireland women's cricket team on November 26, 2011.\",\n",
       " \"Mondal made her T20I career against the Ireland women's cricket team on August 28, 2012.\",\n",
       " \"In October 2018, she was named in Bangladesh's squad for the 2018 ICC Women's World Twenty20 tournament in the West Indies.\",\n",
       " \"Mondal was a member of the team that won a silver medal in cricket against the China national women's cricket team at the 2010 Asian Games in Guangzhou, China.\"]"
      ]
     },
     "execution_count": 2,
     "metadata": {},
     "output_type": "execute_result"
    }
   ],
   "source": [
    "# find where sentences are located\n",
    "dataset['part_1'][0]['normal']['normal_article_content']['normal_sentence']"
   ]
  },
  {
   "cell_type": "code",
   "execution_count": 4,
   "id": "b79f49af-680c-4f30-a950-e421f490c041",
   "metadata": {},
   "outputs": [
    {
     "data": {
      "text/plain": [
       "125059"
      ]
     },
     "execution_count": 4,
     "metadata": {},
     "output_type": "execute_result"
    }
   ],
   "source": [
    "# see how many data points there are\n",
    "data_len = len(dataset['part_1'])\n",
    "data_len"
   ]
  },
  {
   "cell_type": "markdown",
   "id": "f1f234bc-229b-4e8b-8c93-357a70cc6154",
   "metadata": {
    "jp-MarkdownHeadingCollapsed": true,
    "tags": []
   },
   "source": [
    "## Running BERT"
   ]
  },
  {
   "cell_type": "markdown",
   "id": "3cc13c14-1de3-4d21-9993-f144151659f9",
   "metadata": {},
   "source": [
    "Just seeing the basic output from BERT with 2 sentences"
   ]
  },
  {
   "cell_type": "code",
   "execution_count": 29,
   "id": "385f2529-ce25-4e20-99c2-17a93b886936",
   "metadata": {},
   "outputs": [],
   "source": [
    "# load model\n",
    "from transformers import BertTokenizer, BertModel"
   ]
  },
  {
   "cell_type": "code",
   "execution_count": 91,
   "id": "c333d365-1b59-4d97-93a9-baec4bdf49e7",
   "metadata": {},
   "outputs": [
    {
     "name": "stderr",
     "output_type": "stream",
     "text": [
      "Some weights of the model checkpoint at bert-base-uncased were not used when initializing BertModel: ['cls.seq_relationship.bias', 'cls.predictions.transform.dense.bias', 'cls.predictions.transform.dense.weight', 'cls.predictions.bias', 'cls.seq_relationship.weight', 'cls.predictions.transform.LayerNorm.weight', 'cls.predictions.decoder.weight', 'cls.predictions.transform.LayerNorm.bias']\n",
      "- This IS expected if you are initializing BertModel from the checkpoint of a model trained on another task or with another architecture (e.g. initializing a BertForSequenceClassification model from a BertForPreTraining model).\n",
      "- This IS NOT expected if you are initializing BertModel from the checkpoint of a model that you expect to be exactly identical (initializing a BertForSequenceClassification model from a BertForSequenceClassification model).\n"
     ]
    }
   ],
   "source": [
    "# adapted from bertviz: github.com/jessevig/bertviz\n",
    "model_version = 'bert-base-uncased'\n",
    "model = BertModel.from_pretrained(model_version, output_attentions=True)\n",
    "tokenizer = BertTokenizer.from_pretrained(model_version)\n",
    "sentence_a = \"This is a test\"\n",
    "sentence_b = \"Hi my name is Catherine\"\n",
    "inputs = tokenizer.encode_plus(sentence_a, return_tensors='pt')\n",
    "input_ids = inputs['input_ids']\n",
    "token_type_ids = inputs['token_type_ids']\n",
    "output = model(input_ids, token_type_ids=token_type_ids)\n",
    "attention = output[-1]\n",
    "# sentence_b_start = token_type_ids[0].tolist().index(1)\n",
    "input_id_list = input_ids[0].tolist() # Batch index 0\n",
    "tokens = tokenizer.convert_ids_to_tokens(input_id_list) "
   ]
  },
  {
   "cell_type": "code",
   "execution_count": 92,
   "id": "38aebd94-56cd-4264-b041-09849219cbe4",
   "metadata": {},
   "outputs": [
    {
     "name": "stdout",
     "output_type": "stream",
     "text": [
      "torch.Size([1, 6, 768])\n"
     ]
    }
   ],
   "source": [
    "word_embeddings = output[0]\n",
    "print(word_embeddings.shape)"
   ]
  },
  {
   "cell_type": "markdown",
   "id": "1a1296db-f07c-48c4-9718-65b134cde2ce",
   "metadata": {
    "jp-MarkdownHeadingCollapsed": true,
    "tags": []
   },
   "source": [
    "### archive"
   ]
  },
  {
   "cell_type": "code",
   "execution_count": 5,
   "id": "e118f9f8-0237-4cb0-baf3-d9db1210c057",
   "metadata": {},
   "outputs": [
    {
     "name": "stdout",
     "output_type": "stream",
     "text": [
      "embeddings.word_embeddings.weight torch.Size([30522, 768])\n",
      "embeddings.position_embeddings.weight torch.Size([512, 768])\n",
      "embeddings.token_type_embeddings.weight torch.Size([2, 768])\n",
      "embeddings.LayerNorm.weight torch.Size([768])\n",
      "embeddings.LayerNorm.bias torch.Size([768])\n",
      "encoder.layer.0.attention.self.query.weight torch.Size([768, 768])\n",
      "encoder.layer.0.attention.self.query.bias torch.Size([768])\n",
      "encoder.layer.0.attention.self.key.weight torch.Size([768, 768])\n",
      "encoder.layer.0.attention.self.key.bias torch.Size([768])\n",
      "encoder.layer.0.attention.self.value.weight torch.Size([768, 768])\n",
      "encoder.layer.0.attention.self.value.bias torch.Size([768])\n",
      "encoder.layer.0.attention.output.dense.weight torch.Size([768, 768])\n",
      "encoder.layer.0.attention.output.dense.bias torch.Size([768])\n",
      "encoder.layer.0.attention.output.LayerNorm.weight torch.Size([768])\n",
      "encoder.layer.0.attention.output.LayerNorm.bias torch.Size([768])\n",
      "encoder.layer.0.intermediate.dense.weight torch.Size([3072, 768])\n",
      "encoder.layer.0.intermediate.dense.bias torch.Size([3072])\n",
      "encoder.layer.0.output.dense.weight torch.Size([768, 3072])\n",
      "encoder.layer.0.output.dense.bias torch.Size([768])\n",
      "encoder.layer.0.output.LayerNorm.weight torch.Size([768])\n",
      "encoder.layer.0.output.LayerNorm.bias torch.Size([768])\n",
      "encoder.layer.1.attention.self.query.weight torch.Size([768, 768])\n",
      "encoder.layer.1.attention.self.query.bias torch.Size([768])\n",
      "encoder.layer.1.attention.self.key.weight torch.Size([768, 768])\n",
      "encoder.layer.1.attention.self.key.bias torch.Size([768])\n",
      "encoder.layer.1.attention.self.value.weight torch.Size([768, 768])\n",
      "encoder.layer.1.attention.self.value.bias torch.Size([768])\n",
      "encoder.layer.1.attention.output.dense.weight torch.Size([768, 768])\n",
      "encoder.layer.1.attention.output.dense.bias torch.Size([768])\n",
      "encoder.layer.1.attention.output.LayerNorm.weight torch.Size([768])\n",
      "encoder.layer.1.attention.output.LayerNorm.bias torch.Size([768])\n",
      "encoder.layer.1.intermediate.dense.weight torch.Size([3072, 768])\n",
      "encoder.layer.1.intermediate.dense.bias torch.Size([3072])\n",
      "encoder.layer.1.output.dense.weight torch.Size([768, 3072])\n",
      "encoder.layer.1.output.dense.bias torch.Size([768])\n",
      "encoder.layer.1.output.LayerNorm.weight torch.Size([768])\n",
      "encoder.layer.1.output.LayerNorm.bias torch.Size([768])\n",
      "encoder.layer.2.attention.self.query.weight torch.Size([768, 768])\n",
      "encoder.layer.2.attention.self.query.bias torch.Size([768])\n",
      "encoder.layer.2.attention.self.key.weight torch.Size([768, 768])\n",
      "encoder.layer.2.attention.self.key.bias torch.Size([768])\n",
      "encoder.layer.2.attention.self.value.weight torch.Size([768, 768])\n",
      "encoder.layer.2.attention.self.value.bias torch.Size([768])\n",
      "encoder.layer.2.attention.output.dense.weight torch.Size([768, 768])\n",
      "encoder.layer.2.attention.output.dense.bias torch.Size([768])\n",
      "encoder.layer.2.attention.output.LayerNorm.weight torch.Size([768])\n",
      "encoder.layer.2.attention.output.LayerNorm.bias torch.Size([768])\n",
      "encoder.layer.2.intermediate.dense.weight torch.Size([3072, 768])\n",
      "encoder.layer.2.intermediate.dense.bias torch.Size([3072])\n",
      "encoder.layer.2.output.dense.weight torch.Size([768, 3072])\n",
      "encoder.layer.2.output.dense.bias torch.Size([768])\n",
      "encoder.layer.2.output.LayerNorm.weight torch.Size([768])\n",
      "encoder.layer.2.output.LayerNorm.bias torch.Size([768])\n",
      "encoder.layer.3.attention.self.query.weight torch.Size([768, 768])\n",
      "encoder.layer.3.attention.self.query.bias torch.Size([768])\n",
      "encoder.layer.3.attention.self.key.weight torch.Size([768, 768])\n",
      "encoder.layer.3.attention.self.key.bias torch.Size([768])\n",
      "encoder.layer.3.attention.self.value.weight torch.Size([768, 768])\n",
      "encoder.layer.3.attention.self.value.bias torch.Size([768])\n",
      "encoder.layer.3.attention.output.dense.weight torch.Size([768, 768])\n",
      "encoder.layer.3.attention.output.dense.bias torch.Size([768])\n",
      "encoder.layer.3.attention.output.LayerNorm.weight torch.Size([768])\n",
      "encoder.layer.3.attention.output.LayerNorm.bias torch.Size([768])\n",
      "encoder.layer.3.intermediate.dense.weight torch.Size([3072, 768])\n",
      "encoder.layer.3.intermediate.dense.bias torch.Size([3072])\n",
      "encoder.layer.3.output.dense.weight torch.Size([768, 3072])\n",
      "encoder.layer.3.output.dense.bias torch.Size([768])\n",
      "encoder.layer.3.output.LayerNorm.weight torch.Size([768])\n",
      "encoder.layer.3.output.LayerNorm.bias torch.Size([768])\n",
      "encoder.layer.4.attention.self.query.weight torch.Size([768, 768])\n",
      "encoder.layer.4.attention.self.query.bias torch.Size([768])\n",
      "encoder.layer.4.attention.self.key.weight torch.Size([768, 768])\n",
      "encoder.layer.4.attention.self.key.bias torch.Size([768])\n",
      "encoder.layer.4.attention.self.value.weight torch.Size([768, 768])\n",
      "encoder.layer.4.attention.self.value.bias torch.Size([768])\n",
      "encoder.layer.4.attention.output.dense.weight torch.Size([768, 768])\n",
      "encoder.layer.4.attention.output.dense.bias torch.Size([768])\n",
      "encoder.layer.4.attention.output.LayerNorm.weight torch.Size([768])\n",
      "encoder.layer.4.attention.output.LayerNorm.bias torch.Size([768])\n",
      "encoder.layer.4.intermediate.dense.weight torch.Size([3072, 768])\n",
      "encoder.layer.4.intermediate.dense.bias torch.Size([3072])\n",
      "encoder.layer.4.output.dense.weight torch.Size([768, 3072])\n",
      "encoder.layer.4.output.dense.bias torch.Size([768])\n",
      "encoder.layer.4.output.LayerNorm.weight torch.Size([768])\n",
      "encoder.layer.4.output.LayerNorm.bias torch.Size([768])\n",
      "encoder.layer.5.attention.self.query.weight torch.Size([768, 768])\n",
      "encoder.layer.5.attention.self.query.bias torch.Size([768])\n",
      "encoder.layer.5.attention.self.key.weight torch.Size([768, 768])\n",
      "encoder.layer.5.attention.self.key.bias torch.Size([768])\n",
      "encoder.layer.5.attention.self.value.weight torch.Size([768, 768])\n",
      "encoder.layer.5.attention.self.value.bias torch.Size([768])\n",
      "encoder.layer.5.attention.output.dense.weight torch.Size([768, 768])\n",
      "encoder.layer.5.attention.output.dense.bias torch.Size([768])\n",
      "encoder.layer.5.attention.output.LayerNorm.weight torch.Size([768])\n",
      "encoder.layer.5.attention.output.LayerNorm.bias torch.Size([768])\n",
      "encoder.layer.5.intermediate.dense.weight torch.Size([3072, 768])\n",
      "encoder.layer.5.intermediate.dense.bias torch.Size([3072])\n",
      "encoder.layer.5.output.dense.weight torch.Size([768, 3072])\n",
      "encoder.layer.5.output.dense.bias torch.Size([768])\n",
      "encoder.layer.5.output.LayerNorm.weight torch.Size([768])\n",
      "encoder.layer.5.output.LayerNorm.bias torch.Size([768])\n",
      "encoder.layer.6.attention.self.query.weight torch.Size([768, 768])\n",
      "encoder.layer.6.attention.self.query.bias torch.Size([768])\n",
      "encoder.layer.6.attention.self.key.weight torch.Size([768, 768])\n",
      "encoder.layer.6.attention.self.key.bias torch.Size([768])\n",
      "encoder.layer.6.attention.self.value.weight torch.Size([768, 768])\n",
      "encoder.layer.6.attention.self.value.bias torch.Size([768])\n",
      "encoder.layer.6.attention.output.dense.weight torch.Size([768, 768])\n",
      "encoder.layer.6.attention.output.dense.bias torch.Size([768])\n",
      "encoder.layer.6.attention.output.LayerNorm.weight torch.Size([768])\n",
      "encoder.layer.6.attention.output.LayerNorm.bias torch.Size([768])\n",
      "encoder.layer.6.intermediate.dense.weight torch.Size([3072, 768])\n",
      "encoder.layer.6.intermediate.dense.bias torch.Size([3072])\n",
      "encoder.layer.6.output.dense.weight torch.Size([768, 3072])\n",
      "encoder.layer.6.output.dense.bias torch.Size([768])\n",
      "encoder.layer.6.output.LayerNorm.weight torch.Size([768])\n",
      "encoder.layer.6.output.LayerNorm.bias torch.Size([768])\n",
      "encoder.layer.7.attention.self.query.weight torch.Size([768, 768])\n",
      "encoder.layer.7.attention.self.query.bias torch.Size([768])\n",
      "encoder.layer.7.attention.self.key.weight torch.Size([768, 768])\n",
      "encoder.layer.7.attention.self.key.bias torch.Size([768])\n",
      "encoder.layer.7.attention.self.value.weight torch.Size([768, 768])\n",
      "encoder.layer.7.attention.self.value.bias torch.Size([768])\n",
      "encoder.layer.7.attention.output.dense.weight torch.Size([768, 768])\n",
      "encoder.layer.7.attention.output.dense.bias torch.Size([768])\n",
      "encoder.layer.7.attention.output.LayerNorm.weight torch.Size([768])\n",
      "encoder.layer.7.attention.output.LayerNorm.bias torch.Size([768])\n",
      "encoder.layer.7.intermediate.dense.weight torch.Size([3072, 768])\n",
      "encoder.layer.7.intermediate.dense.bias torch.Size([3072])\n",
      "encoder.layer.7.output.dense.weight torch.Size([768, 3072])\n",
      "encoder.layer.7.output.dense.bias torch.Size([768])\n",
      "encoder.layer.7.output.LayerNorm.weight torch.Size([768])\n",
      "encoder.layer.7.output.LayerNorm.bias torch.Size([768])\n",
      "encoder.layer.8.attention.self.query.weight torch.Size([768, 768])\n",
      "encoder.layer.8.attention.self.query.bias torch.Size([768])\n",
      "encoder.layer.8.attention.self.key.weight torch.Size([768, 768])\n",
      "encoder.layer.8.attention.self.key.bias torch.Size([768])\n",
      "encoder.layer.8.attention.self.value.weight torch.Size([768, 768])\n",
      "encoder.layer.8.attention.self.value.bias torch.Size([768])\n",
      "encoder.layer.8.attention.output.dense.weight torch.Size([768, 768])\n",
      "encoder.layer.8.attention.output.dense.bias torch.Size([768])\n",
      "encoder.layer.8.attention.output.LayerNorm.weight torch.Size([768])\n",
      "encoder.layer.8.attention.output.LayerNorm.bias torch.Size([768])\n",
      "encoder.layer.8.intermediate.dense.weight torch.Size([3072, 768])\n",
      "encoder.layer.8.intermediate.dense.bias torch.Size([3072])\n",
      "encoder.layer.8.output.dense.weight torch.Size([768, 3072])\n",
      "encoder.layer.8.output.dense.bias torch.Size([768])\n",
      "encoder.layer.8.output.LayerNorm.weight torch.Size([768])\n",
      "encoder.layer.8.output.LayerNorm.bias torch.Size([768])\n",
      "encoder.layer.9.attention.self.query.weight torch.Size([768, 768])\n",
      "encoder.layer.9.attention.self.query.bias torch.Size([768])\n",
      "encoder.layer.9.attention.self.key.weight torch.Size([768, 768])\n",
      "encoder.layer.9.attention.self.key.bias torch.Size([768])\n",
      "encoder.layer.9.attention.self.value.weight torch.Size([768, 768])\n",
      "encoder.layer.9.attention.self.value.bias torch.Size([768])\n",
      "encoder.layer.9.attention.output.dense.weight torch.Size([768, 768])\n",
      "encoder.layer.9.attention.output.dense.bias torch.Size([768])\n",
      "encoder.layer.9.attention.output.LayerNorm.weight torch.Size([768])\n",
      "encoder.layer.9.attention.output.LayerNorm.bias torch.Size([768])\n",
      "encoder.layer.9.intermediate.dense.weight torch.Size([3072, 768])\n",
      "encoder.layer.9.intermediate.dense.bias torch.Size([3072])\n",
      "encoder.layer.9.output.dense.weight torch.Size([768, 3072])\n",
      "encoder.layer.9.output.dense.bias torch.Size([768])\n",
      "encoder.layer.9.output.LayerNorm.weight torch.Size([768])\n",
      "encoder.layer.9.output.LayerNorm.bias torch.Size([768])\n",
      "encoder.layer.10.attention.self.query.weight torch.Size([768, 768])\n",
      "encoder.layer.10.attention.self.query.bias torch.Size([768])\n",
      "encoder.layer.10.attention.self.key.weight torch.Size([768, 768])\n",
      "encoder.layer.10.attention.self.key.bias torch.Size([768])\n",
      "encoder.layer.10.attention.self.value.weight torch.Size([768, 768])\n",
      "encoder.layer.10.attention.self.value.bias torch.Size([768])\n",
      "encoder.layer.10.attention.output.dense.weight torch.Size([768, 768])\n",
      "encoder.layer.10.attention.output.dense.bias torch.Size([768])\n",
      "encoder.layer.10.attention.output.LayerNorm.weight torch.Size([768])\n",
      "encoder.layer.10.attention.output.LayerNorm.bias torch.Size([768])\n",
      "encoder.layer.10.intermediate.dense.weight torch.Size([3072, 768])\n",
      "encoder.layer.10.intermediate.dense.bias torch.Size([3072])\n",
      "encoder.layer.10.output.dense.weight torch.Size([768, 3072])\n",
      "encoder.layer.10.output.dense.bias torch.Size([768])\n",
      "encoder.layer.10.output.LayerNorm.weight torch.Size([768])\n",
      "encoder.layer.10.output.LayerNorm.bias torch.Size([768])\n",
      "encoder.layer.11.attention.self.query.weight torch.Size([768, 768])\n",
      "encoder.layer.11.attention.self.query.bias torch.Size([768])\n",
      "encoder.layer.11.attention.self.key.weight torch.Size([768, 768])\n",
      "encoder.layer.11.attention.self.key.bias torch.Size([768])\n",
      "encoder.layer.11.attention.self.value.weight torch.Size([768, 768])\n",
      "encoder.layer.11.attention.self.value.bias torch.Size([768])\n",
      "encoder.layer.11.attention.output.dense.weight torch.Size([768, 768])\n",
      "encoder.layer.11.attention.output.dense.bias torch.Size([768])\n",
      "encoder.layer.11.attention.output.LayerNorm.weight torch.Size([768])\n",
      "encoder.layer.11.attention.output.LayerNorm.bias torch.Size([768])\n",
      "encoder.layer.11.intermediate.dense.weight torch.Size([3072, 768])\n",
      "encoder.layer.11.intermediate.dense.bias torch.Size([3072])\n",
      "encoder.layer.11.output.dense.weight torch.Size([768, 3072])\n",
      "encoder.layer.11.output.dense.bias torch.Size([768])\n",
      "encoder.layer.11.output.LayerNorm.weight torch.Size([768])\n",
      "encoder.layer.11.output.LayerNorm.bias torch.Size([768])\n",
      "pooler.dense.weight torch.Size([768, 768])\n",
      "pooler.dense.bias torch.Size([768])\n"
     ]
    }
   ],
   "source": [
    "# check out parameters\n",
    "for name, param in model.named_parameters():                \n",
    "    print(name, param.size())"
   ]
  },
  {
   "cell_type": "code",
   "execution_count": 42,
   "id": "750b8827-176b-451e-a6a2-332033013d4e",
   "metadata": {},
   "outputs": [
    {
     "name": "stdout",
     "output_type": "stream",
     "text": [
      "torch.Size([768, 768])\n"
     ]
    }
   ],
   "source": [
    "print(model.encoder.layer[0].attention.self.query)"
   ]
  },
  {
   "cell_type": "code",
   "execution_count": 6,
   "id": "ee0b4521-0554-414e-ac78-f1d883657a94",
   "metadata": {},
   "outputs": [
    {
     "name": "stdout",
     "output_type": "stream",
     "text": [
      "Parameter containing:\n",
      "tensor([ 5.0130e-02,  1.1887e-01,  2.1868e-01,  8.7210e-02, -2.0477e-01,\n",
      "         2.2648e-01, -3.4360e-01,  6.4057e-02, -4.1554e-01,  1.1557e-01,\n",
      "         2.8522e-01, -1.0724e-01,  2.1037e-01,  6.5960e-02, -8.9728e-02,\n",
      "        -6.1263e-02,  1.1344e-01, -1.9265e-01, -1.2109e-02, -2.4905e-01,\n",
      "         7.1558e-02, -2.0746e-01, -1.8167e-01, -1.9616e-02,  5.7593e-02,\n",
      "        -4.0425e-02,  3.1487e-01, -1.6641e-01,  3.6615e-01,  2.8458e-02,\n",
      "        -8.9834e-02, -4.3720e-02, -1.2218e-01,  1.1063e-01,  4.6565e-02,\n",
      "         5.6489e-02,  2.5875e-01,  1.0859e-01, -2.2724e-01, -1.5846e-01,\n",
      "        -2.0762e-01, -2.8562e-01, -1.6824e-01,  1.7382e-01,  2.8304e-02,\n",
      "        -8.5946e-02, -1.2882e-01, -3.9624e-05,  1.3995e-01, -1.4809e-01,\n",
      "        -1.4983e-01,  8.0181e-02, -2.4638e-01,  1.3984e-01, -4.8627e-01,\n",
      "        -3.8021e-02,  7.8774e-02, -5.4215e-01,  1.8015e-01, -2.4764e-01,\n",
      "        -8.2056e-02,  2.0403e-01, -1.2871e-01,  1.7048e-01,  3.3818e-01,\n",
      "        -5.3207e-01,  2.6975e-01,  1.5490e-01,  2.6109e-01, -6.6078e-02,\n",
      "        -1.0768e-01,  6.7982e-02,  5.1441e-03, -1.7760e-01, -8.6212e-03,\n",
      "        -1.2084e-01,  2.7072e-02,  9.5277e-02, -1.1946e-01, -1.7435e-01,\n",
      "         1.2826e-02, -1.4399e-01,  5.4034e-02, -7.1218e-02, -1.0277e-01,\n",
      "        -8.0027e-02,  1.2395e-01,  1.2472e-01,  2.8782e-01, -2.4318e-01,\n",
      "         6.9833e-02, -1.5565e-01,  5.3963e-02,  2.2090e-01, -6.5430e-02,\n",
      "        -2.9557e-01,  1.9449e-01, -2.0094e-02, -3.5260e-02, -1.2373e-01,\n",
      "         1.1984e-01,  1.1227e-01,  4.9598e-02,  2.9100e-01, -1.6697e-01,\n",
      "         9.0494e-02, -5.6501e-02,  1.8282e-01,  1.1605e-01, -1.1072e-01,\n",
      "        -1.3768e-01, -1.3056e-01,  5.1009e-03,  3.5995e-02, -2.2659e-01,\n",
      "        -1.7014e-01, -3.6584e-02,  1.4101e-01,  1.6270e-01, -1.3676e-01,\n",
      "         4.6082e-01, -1.5044e-02,  2.6074e-01,  2.4027e-01, -3.2432e-01,\n",
      "        -1.0082e-01, -6.3582e-03, -1.2997e-01,  1.7895e-01, -5.6416e-03,\n",
      "        -3.2919e-02,  9.1986e-03,  3.9944e-02, -4.8234e-03, -1.0553e-02,\n",
      "         4.5920e-02, -5.7454e-02, -5.0634e-03,  3.1936e-02,  2.5940e-02,\n",
      "         2.4509e-02,  5.9364e-03, -7.3236e-02,  4.9799e-02, -6.5353e-02,\n",
      "        -3.0103e-02, -5.1781e-02,  1.8562e-02, -1.2511e-02, -2.4903e-02,\n",
      "        -1.9358e-02, -2.2507e-02, -5.2231e-02,  8.5270e-02,  5.6999e-03,\n",
      "         5.2514e-02, -7.0874e-02,  3.2521e-02,  5.5978e-02,  3.1149e-02,\n",
      "        -3.7748e-02, -1.6950e-02, -1.9682e-02, -7.0004e-02,  6.0100e-02,\n",
      "        -3.0003e-02, -1.9542e-02, -2.6614e-02, -5.4306e-02, -3.2268e-02,\n",
      "        -2.3941e-02,  4.8159e-02, -6.7734e-02,  9.6824e-03,  6.2304e-02,\n",
      "         1.5483e-02,  4.7038e-02, -4.1295e-02, -2.6080e-02,  7.5054e-02,\n",
      "        -9.9345e-03,  6.7070e-02, -5.5948e-03, -4.9686e-02,  6.9155e-02,\n",
      "        -1.2513e-02, -9.6080e-03,  1.4420e-02,  8.9716e-02, -3.2649e-02,\n",
      "         1.3103e-02, -5.8897e-02, -2.8231e-01, -2.1987e-01,  7.4569e-02,\n",
      "        -1.9329e-01, -2.3904e-01, -2.0547e-01,  1.4832e-01, -2.0592e-01,\n",
      "        -1.0556e-01, -3.3246e-01,  2.9869e-01,  1.4742e-02, -3.4112e-02,\n",
      "        -5.1247e-02,  1.7858e-01, -1.5464e-01,  4.4350e-01, -3.4233e-01,\n",
      "         6.0810e-02, -4.8418e-01, -1.7234e-01,  5.5829e-01, -1.9054e-01,\n",
      "        -1.7085e-01, -6.5740e-02,  4.6172e-01,  1.1685e-01, -1.0867e-01,\n",
      "         2.5521e-02,  9.3015e-02, -3.3565e-01,  9.7723e-02,  1.1447e-01,\n",
      "         2.5188e-01,  2.4162e-01, -3.2859e-02,  1.1418e-01, -1.3454e-01,\n",
      "         1.1214e-01,  1.9344e-01,  2.8808e-01,  3.6662e-02, -9.1874e-02,\n",
      "        -1.8925e-02,  8.3655e-02, -2.9657e-01,  4.3850e-01, -3.1043e-01,\n",
      "         2.6670e-01, -2.4112e-01,  1.0252e-01, -1.7780e-04, -7.8823e-02,\n",
      "        -2.7052e-01, -8.6674e-03,  1.0519e-02,  2.3936e-01, -2.9538e-01,\n",
      "         8.4221e-02,  3.3672e-02,  1.9706e-01, -6.2164e-02, -2.4718e-02,\n",
      "         8.7717e-02, -2.5071e-01,  1.5706e-01,  2.3768e-01,  3.9946e-01,\n",
      "         1.1246e-01, -1.7711e-01, -3.4676e-01, -4.5355e-01,  7.5780e-02,\n",
      "        -7.4163e-02, -5.9656e-03,  1.8497e-01,  4.2538e-01,  2.2415e-02,\n",
      "        -1.9526e-01, -8.4955e-02, -2.0987e-01, -3.9819e-01, -1.6228e-01,\n",
      "        -1.0210e-01,  1.6659e-01,  1.4552e-01, -2.1444e-01, -1.1108e-01,\n",
      "         7.1328e-02, -1.7965e-01,  5.0596e-03, -1.4955e-01, -2.5073e-01,\n",
      "        -2.3035e-01,  1.9926e-01, -1.9052e-01, -5.7047e-02, -2.4461e-02,\n",
      "        -4.0321e-01,  1.3474e-01, -4.3975e-03, -2.7324e-01, -1.3796e-01,\n",
      "         6.3967e-02,  2.7403e-01,  1.9344e-01, -1.2892e-01, -1.6142e-02,\n",
      "         3.8657e-01,  1.5079e-01,  9.9633e-02,  6.6772e-01,  1.5956e-01,\n",
      "         1.2797e-01,  1.6047e-01,  1.4334e-01, -7.4570e-02, -3.9579e-01,\n",
      "         1.7510e-02, -3.4705e-02,  1.4462e-01,  1.2939e-01, -1.1103e-01,\n",
      "         4.3722e-02, -1.4519e-01,  6.8075e-02,  3.0203e-02, -4.9669e-02,\n",
      "         3.4470e-01,  1.4825e-02, -1.2054e-01, -3.6352e-01,  1.1949e-02,\n",
      "        -1.1544e-01,  5.5563e-01,  6.3900e-01, -9.1271e-02,  5.7076e-02,\n",
      "         1.8457e-02, -1.9434e-01,  5.8411e-01,  1.5039e-01, -2.1969e-01,\n",
      "         8.3831e-02,  3.5248e-01, -2.1035e-01,  1.2112e-01, -1.5372e-01,\n",
      "         7.9632e-02, -2.5212e-01, -4.9995e-02,  4.1693e-01,  1.3844e-01,\n",
      "         8.8435e-02,  7.5546e-01,  2.8799e-01,  7.1233e-03,  1.6018e-01,\n",
      "        -4.3708e-01,  4.0694e-02, -2.8835e-01, -1.8012e-01,  7.6160e-01,\n",
      "         6.1730e-02,  2.0175e-01,  2.5984e-01, -1.8264e-01, -1.3711e-01,\n",
      "         1.8038e-01,  9.9823e-02,  2.9867e-03,  3.7477e-01, -7.3096e-02,\n",
      "        -5.5421e-02,  7.9605e-01, -3.7314e-01,  4.5567e-01,  3.8785e-01,\n",
      "        -4.6460e-01, -3.1176e-01, -9.7430e-02,  1.1275e-01,  1.7523e-01,\n",
      "        -1.7209e-01,  2.6395e-01,  5.0246e-01, -2.1430e-01, -1.3977e-01,\n",
      "         1.2911e-01,  2.6221e-01,  1.2876e-01,  1.8243e-02,  1.9331e-02,\n",
      "         2.0036e-01, -3.7061e-03, -5.2489e-02, -3.8090e-02,  1.7509e-01,\n",
      "         1.4210e-01,  2.6394e-01, -2.4669e-01, -2.0842e-01,  7.3437e-02,\n",
      "         8.0304e-02, -8.8610e-02,  9.5805e-02, -2.8193e-03,  9.6245e-02,\n",
      "        -5.9579e-02,  1.8303e-02, -5.2196e-02,  2.4602e-03, -8.9981e-03,\n",
      "        -1.4188e-01,  1.6982e-01,  1.4684e-02,  8.0432e-02,  1.4415e-01,\n",
      "        -7.9289e-02, -4.3563e-02, -1.3048e-01,  9.0140e-02, -1.1332e-01,\n",
      "         6.5817e-02, -2.8919e-02, -5.0692e-02, -6.8233e-02,  1.2676e-01,\n",
      "        -7.7853e-03, -1.1944e-01, -7.1633e-02,  3.8406e-02,  5.1482e-02,\n",
      "        -2.3815e-01, -7.2538e-02,  5.0957e-01, -7.4238e-02, -1.2476e-01,\n",
      "        -7.3363e-02,  2.0673e-01, -3.3949e-02, -1.0945e-04, -1.1571e-02,\n",
      "        -2.1345e-01,  2.1062e-01,  4.1730e-02, -5.9223e-03,  3.1824e-01,\n",
      "        -1.7664e-01, -2.7752e-02, -1.7509e-02, -2.5941e-01, -5.6525e-02,\n",
      "         2.2949e-01,  5.6018e-02,  5.1439e-02,  4.4295e-01, -6.6992e-02,\n",
      "         1.8303e-02,  1.6685e-01,  1.9616e-01,  8.3671e-02,  5.5415e-01,\n",
      "        -1.4475e-01, -3.9549e-01, -1.6309e-02,  3.3830e-01,  1.1835e-01,\n",
      "        -3.6023e-01, -4.5967e-01, -1.0929e-01,  1.9510e-01, -8.4783e-02,\n",
      "         1.7358e-01, -1.9851e-01,  3.5490e-02,  9.7441e-02, -3.1306e-01,\n",
      "         2.6871e-01,  1.3092e-01, -7.5986e-02, -5.5100e-01, -1.9846e-01,\n",
      "        -1.8693e-01,  2.4242e-01, -3.1841e-01,  3.2628e-02, -2.6412e-01,\n",
      "         6.1704e-02,  1.4636e-01,  2.6656e-01,  2.6279e-01,  1.6979e-01,\n",
      "         3.0427e-01,  3.4861e-02,  1.0094e-01,  3.0639e-01, -1.0081e-01,\n",
      "         3.4950e-01,  7.8413e-01,  5.2060e-01,  2.1603e-03, -7.0045e-03,\n",
      "        -4.1164e-01, -4.8645e-01, -4.4651e-01,  3.3513e-01, -1.1313e-01,\n",
      "        -3.9717e-01,  3.8403e-01, -2.3518e-01, -6.8511e-02, -1.0130e-01,\n",
      "        -1.5456e-01, -3.1723e-01,  1.4869e-01, -4.2325e-02, -5.3928e-01,\n",
      "        -1.3634e-02,  4.4899e-01,  2.1111e-01,  8.5819e-02, -4.3049e-01,\n",
      "        -8.3070e-01, -2.2593e-01, -2.0729e-01,  2.3948e-01, -1.5970e-01,\n",
      "        -3.6727e-01,  8.4436e-02,  8.1711e-03, -5.3988e-02,  1.2152e-01,\n",
      "         5.3374e-01,  1.3877e-01, -1.0957e-01, -7.8825e-02, -2.0775e-01,\n",
      "        -1.7110e-01,  9.0019e-02, -5.4240e-02,  1.1426e-02,  5.0588e-01,\n",
      "         9.0979e-02,  2.6900e-01, -2.9941e-01, -4.1123e-01,  1.7487e-01,\n",
      "        -4.8576e-02,  2.7232e-01, -4.5879e-01,  1.1320e-01,  7.7917e-02,\n",
      "        -1.9511e-01,  9.0838e-02, -2.7221e-02,  3.0969e-01,  1.3033e-01,\n",
      "        -4.9067e-01,  1.0965e-01, -3.1539e-01, -2.0408e-02, -8.4141e-02,\n",
      "         4.9824e-01,  2.5152e-01,  1.5938e-01,  1.8462e-01,  3.6651e-01,\n",
      "        -9.1929e-02, -5.0355e-01, -5.0853e-01,  2.4071e-01, -1.8947e-01,\n",
      "        -1.9674e-01,  2.3726e-01,  2.3691e-01,  3.6136e-01, -1.4146e-01,\n",
      "        -2.5364e-01, -1.4089e-01,  5.2075e-01, -2.7502e-01,  5.7724e-02,\n",
      "         1.7701e-01, -2.4592e-02,  6.1815e-02, -1.7824e-02,  7.1862e-02,\n",
      "         1.9092e-01, -1.4360e-01,  6.1019e-02,  2.2350e-01, -7.7964e-02,\n",
      "        -4.3328e-02,  1.7803e-01,  7.6450e-02,  1.6623e-01, -6.7891e-02,\n",
      "        -2.3149e-01,  1.7047e-01, -2.0200e-02, -3.5068e-02,  8.5247e-03,\n",
      "        -9.5607e-02, -2.3400e-01, -1.5214e-01, -4.5329e-02,  2.6065e-01,\n",
      "         1.1526e-01,  1.8007e-01, -3.8886e-02, -1.6848e-01,  2.4758e-01,\n",
      "         5.4496e-02, -5.3286e-02, -8.9750e-02, -1.1491e-01, -1.1738e-01,\n",
      "        -1.7055e-01, -4.1841e-02,  1.2854e-01,  8.8451e-02,  1.2169e-01,\n",
      "        -1.9706e-01, -3.5176e-02,  4.0673e-02, -1.5466e-01,  3.3641e-01,\n",
      "         1.1405e-01,  2.8445e-02, -1.4156e-01, -1.5457e-01,  9.3087e-02,\n",
      "         3.6545e-02,  4.2470e-02, -8.3606e-02,  1.0506e-01,  8.1112e-02,\n",
      "        -1.2319e-01, -7.9738e-02,  3.0404e-02,  2.2610e-01, -2.3057e-01,\n",
      "         1.2007e-01,  6.6130e-02, -1.0911e-01,  2.1609e-01,  7.3638e-02,\n",
      "         1.5479e-01,  3.4500e-01, -2.7938e-01,  5.7017e-01, -1.1569e-01,\n",
      "         2.4812e-01, -6.9649e-02, -2.7978e-01, -1.2075e-01,  1.1278e-01,\n",
      "        -1.6568e-01, -4.5727e-02,  2.3313e-02,  3.2640e-01, -2.2461e-01,\n",
      "        -8.2861e-02, -5.8357e-01, -3.9771e-02,  2.9434e-01, -2.3609e-01,\n",
      "        -5.3624e-01,  1.0189e-01, -1.8835e-01,  2.4618e-01, -1.0786e-01,\n",
      "        -7.9863e-02, -7.3921e-02,  3.8703e-02, -2.5798e-01,  4.7645e-03,\n",
      "        -2.3076e-01,  9.6446e-02,  1.0595e-01,  2.1178e-01,  3.2419e-01,\n",
      "        -1.3776e-01, -1.5145e-01,  3.0578e-01,  4.3816e-02,  8.1696e-02,\n",
      "         3.4741e-03,  3.6626e-01,  1.7579e-01,  1.0635e-01,  1.5077e-01,\n",
      "        -3.0174e-01, -1.8396e-01, -1.2838e-01,  1.3289e-01, -1.0084e-02,\n",
      "         6.4295e-02, -3.6652e-03, -1.7156e-01,  2.1100e-01,  4.2541e-01,\n",
      "        -2.0022e-01,  9.4931e-02,  1.8836e-01, -2.3158e-01,  3.2177e-01,\n",
      "        -1.6557e-02, -1.4628e-02,  2.9085e-02, -1.9244e-01,  4.9188e-02,\n",
      "         1.0409e-01,  4.2626e-01,  2.3523e-01,  4.4313e-01, -3.6384e-02,\n",
      "         1.1373e-01, -9.6126e-03,  2.3600e-01, -1.0489e-01, -1.2586e-01,\n",
      "         3.0308e-01,  6.5636e-01,  1.8376e-01, -1.0827e-02, -1.0237e-01,\n",
      "        -2.8121e-01,  4.9903e-01, -9.4880e-02, -1.5334e-01, -5.1055e-02,\n",
      "         8.2555e-02, -4.1501e-01,  1.9477e-01,  5.8070e-02,  7.0947e-02,\n",
      "         1.0771e-02, -4.8819e-02,  3.6631e-01,  8.3896e-02,  4.0893e-01,\n",
      "         4.5631e-01,  3.2684e-01,  4.7213e-01,  2.4745e-01,  8.8205e-03,\n",
      "        -1.4258e-01, -8.1988e-01, -2.4345e-01, -7.6428e-02,  1.5556e-01,\n",
      "        -2.0622e-01, -5.8932e-01,  1.5509e-01,  5.9741e-02,  1.1991e-01,\n",
      "        -1.1299e-01, -1.5199e-01,  4.3523e-01, -1.5052e-01,  9.4984e-03,\n",
      "         4.5568e-01,  9.4621e-03,  1.6628e-01,  6.1444e-02,  5.3525e-02,\n",
      "        -8.2070e-02,  2.8694e-01,  9.8581e-02, -1.5380e-01, -1.9750e-01,\n",
      "         2.6130e-01,  1.8281e-01,  1.5343e-01], requires_grad=True)\n"
     ]
    }
   ],
   "source": [
    "print(model.encoder.layer[11].attention.self.query.bias)"
   ]
  },
  {
   "cell_type": "code",
   "execution_count": 35,
   "id": "86972fe2-3d79-4981-bf74-298e2f7f87c7",
   "metadata": {},
   "outputs": [
    {
     "name": "stdout",
     "output_type": "stream",
     "text": [
      "['[CLS]', 'plum', '##b', 'was', 'awarded', 'a', 'knight', '##hood', 'in', 'the', 'queen', \"'\", 's', 'birthday', 'honours', 'list', 'in', '1973', '.', '[SEP]']\n",
      "20\n",
      "12\n",
      "12\n",
      "20\n",
      "tensor([0.0380, 0.0188, 0.0278, 0.0264, 0.0301, 0.1063, 0.0305, 0.0245, 0.0633,\n",
      "        0.0966, 0.0320, 0.0324, 0.0258, 0.0352, 0.0172, 0.0413, 0.0653, 0.0295,\n",
      "        0.0721, 0.1866], grad_fn=<SelectBackward0>)\n"
     ]
    }
   ],
   "source": [
    "print(tokens)\n",
    "print(len(tokens))\n",
    "print(len(embeddings)) # num layers\n",
    "print(len(embeddings[0][0])) # num tokens\n",
    "print(len(embeddings[0][0][0])) # num tokens\n",
    "print(embeddings[0][0][0][0]) # num tokens"
   ]
  },
  {
   "cell_type": "code",
   "execution_count": 20,
   "id": "7dfe7fb2-4065-461e-91a2-b6828e5bb1cf",
   "metadata": {},
   "outputs": [
    {
     "name": "stdout",
     "output_type": "stream",
     "text": [
      "In the early 1970s, Edgar Winter often performed with keyboards slung around his neck, but they were not technically keytars because they had no \"neck\"; he actually used an ARP 2600 keyboard and a lightweight Univox electronic piano with shoulder straps added.\n",
      "As of July 2012, Plumb's entry in the register of interests listed his only remunerated employment/profession as 'farming', despite his involvement with the Brussels-based lobbying firm Alber and Geiger since 2007.\n",
      "['[CLS]', 'in', 'the', 'early', '1970s', ',', 'edgar', 'winter', 'often', 'performed', 'with', 'keyboards', 'slung', 'around', 'his', 'neck', ',', 'but', 'they', 'were', 'not', 'technically', 'key', '##tar', '##s', 'because', 'they', 'had', 'no', '\"', 'neck', '\"', ';', 'he', 'actually', 'used', 'an', 'ar', '##p', '260', '##0', 'keyboard', 'and', 'a', 'lightweight', 'un', '##ivo', '##x', 'electronic', 'piano', 'with', 'shoulder', 'straps', 'added', '.', '[SEP]', 'as', 'of', 'july', '2012', ',', 'plum', '##b', \"'\", 's', 'entry', 'in', 'the', 'register', 'of', 'interests', 'listed', 'his', 'only', 're', '##mun', '##erated', 'employment', '/', 'profession', 'as', \"'\", 'farming', \"'\", ',', 'despite', 'his', 'involvement', 'with', 'the', 'brussels', '-', 'based', 'lobbying', 'firm', 'al', '##ber', 'and', 'ge', '##iger', 'since', '2007', '.', '[SEP]']\n",
      "104\n"
     ]
    }
   ],
   "source": [
    "# check out output\n",
    "print(sentence_a)\n",
    "print(sentence_b)\n",
    "print(tokens)\n",
    "print(len(tokens))"
   ]
  },
  {
   "cell_type": "code",
   "execution_count": 43,
   "id": "168a993d-86ab-4111-bf0e-4d54461162be",
   "metadata": {},
   "outputs": [
    {
     "name": "stdout",
     "output_type": "stream",
     "text": [
      "12\n",
      "12\n",
      "torch.Size([104, 104])\n"
     ]
    }
   ],
   "source": [
    "print(len(attention)) # corresponds to 12 layers of model\n",
    "print(len(attention[0][0])) # 12 attention heads (e.g., different attention patterns/mechanisms)\n",
    "print(attention[0][0][0].shape) # size of attention matrix (at each head)"
   ]
  },
  {
   "cell_type": "code",
   "execution_count": 48,
   "id": "40bca428-a069-44e3-aa74-ebb01f056bb0",
   "metadata": {},
   "outputs": [
    {
     "name": "stdout",
     "output_type": "stream",
     "text": [
      "tensor(1., grad_fn=<AddBackward0>)\n"
     ]
    }
   ],
   "source": [
    "print(sum(attention[0][0][0][0])) # normalized, attention weights for each token must sum to 1"
   ]
  },
  {
   "cell_type": "markdown",
   "id": "7e66da66-3d85-4d34-9e37-df902ffdbf8a",
   "metadata": {
    "tags": []
   },
   "source": [
    "## Masking"
   ]
  },
  {
   "cell_type": "code",
   "execution_count": null,
   "id": "d42de573-6671-4e63-9e3f-e61648485219",
   "metadata": {},
   "outputs": [],
   "source": [
    "from transformers import pipeline\n",
    "import random\n",
    "model_version = 'bert-base-uncased'\n",
    "model = BertModel.from_pretrained(model_version, output_attentions=True)\n",
    "tokenizer = BertTokenizer.from_pretrained(model_version)\n",
    "unmasker = pipeline('fill-mask', model=model_version)\n",
    "\n",
    "random.seed(10) # set seed\n",
    "\n",
    "# encoded_input = tokenizer(text, return_tensors='pt')\n",
    "# output = model(**encoded_input)\n",
    "\n",
    "new_sentences = []\n",
    "replaced = []\n",
    "\n",
    "for sent in sentences:\n",
    "    encoded = tokenizer(sent, return_tensors='pt')\n",
    "    tokens = encoded['input_ids'][0]\n",
    "    num_tokens = len(tokens) - 3 # don't include cls/sep\n",
    "    mask_ind = random.randint(0, num_tokens) + 1\n",
    "    old_token = ''.join(tokenizer.decode(tokens[mask_ind]).split(\" \")) # save old token\n",
    "    \n",
    "    tokens[mask_ind] = 103 # replace randomly selected token with mask\n",
    "\n",
    "    tokens = tokens[1:-1] # remove extra cls and sep\n",
    "    new_sent = tokenizer.decode(tokens) # convert back to string\n",
    "#     results = unmasker(new_sent)\n",
    "#     final_res = results[0]['sequence'] # new sentence\n",
    "#     new_token = results[0]['token_str'] # new token\n",
    "    \n",
    "#     if old_token == new_token:\n",
    "#         final_res = results[1]['sequence'] # new sentence\n",
    "#         new_token = results[1]['token_str'] # new token\n",
    "#     replaced.append({\"index\": mask_ind, \"old\": old_token, \"new\": new_token}) # save to list\n",
    "    replaced.append({\"index\": mask_ind, \"old\": old_token})\n",
    "    \n",
    "    # new_sentences.append(final_res)\n",
    "    new_sentences.append(new_sent)\n",
    "    # break\n",
    "    \n",
    "print(new_sentences[:10])\n",
    "print(replaced[:10])"
   ]
  },
  {
   "cell_type": "code",
   "execution_count": null,
   "id": "32a732c7-bd16-4b1b-ba38-93a1d70f204a",
   "metadata": {},
   "outputs": [],
   "source": [
    "tokenizer = BertTokenizer.from_pretrained(model_version)\n",
    "\n",
    "for s1, s2 in zip(sentences, new_sentences):\n",
    "    encoded1 = tokenizer(s1, return_tensors='pt')\n",
    "    tokens1 = encoded1['input_ids'][0]\n",
    "    encoded2 = tokenizer(s2, return_tensors='pt')\n",
    "    tokens2 = encoded2['input_ids'][0]\n",
    "    if len(tokens1) != len(tokens2):\n",
    "        # print(tokens1)\n",
    "        # print(tokens2)\n",
    "        print(len(tokens1), s1)\n",
    "        print(len(tokens2), s2)\n",
    "        print(\"\\n\")"
   ]
  },
  {
   "cell_type": "code",
   "execution_count": 38,
   "id": "6f06fbc2-6321-417b-92c2-b809a7d3f6e0",
   "metadata": {},
   "outputs": [
    {
     "data": {
      "text/plain": [
       "PreTrainedTokenizer(name_or_path='bert-base-uncased', vocab_size=30522, model_max_len=512, is_fast=False, padding_side='right', truncation_side='right', special_tokens={'unk_token': '[UNK]', 'sep_token': '[SEP]', 'pad_token': '[PAD]', 'cls_token': '[CLS]', 'mask_token': '[MASK]'})"
      ]
     },
     "execution_count": 38,
     "metadata": {},
     "output_type": "execute_result"
    }
   ],
   "source": [
    "tokenizer"
   ]
  },
  {
   "cell_type": "markdown",
   "id": "1886f875-fcdc-4c27-88c2-ed008c9b1a4f",
   "metadata": {
    "tags": []
   },
   "source": [
    "## Getting Q, K vectors"
   ]
  },
  {
   "cell_type": "markdown",
   "id": "2c1680a5-bafb-46e0-961f-985c9d888d67",
   "metadata": {},
   "source": [
    "Follow Jesse Vig's method of extracting query + key info"
   ]
  },
  {
   "cell_type": "code",
   "execution_count": 14,
   "id": "3c7db816-3433-4066-a4e3-49ede93538eb",
   "metadata": {},
   "outputs": [],
   "source": [
    "# import methods from bertviz\n",
    "from bertviz import neuron_view\n",
    "import numpy as np"
   ]
  },
  {
   "cell_type": "code",
   "execution_count": 19,
   "id": "d9142dbe-1fe2-4a9e-a9ea-ba9899362552",
   "metadata": {},
   "outputs": [],
   "source": [
    "from bertviz.transformers_neuron_view import BertModel, BertTokenizer\n",
    "import random\n",
    "import string\n",
    "\n",
    "model_type = 'bert'\n",
    "model_version = 'bert-base-uncased'\n",
    "model = BertModel.from_pretrained(model_version, output_attentions=True)\n",
    "tokenizer = BertTokenizer.from_pretrained(model_version, do_lower_case=True)\n",
    "\n",
    "sentences_test = sentences[:10] # small sample to test out code with\n",
    "num_heads = 12\n",
    "num_layers = 12\n",
    "\n",
    "# master dictionary for all values\n",
    "attn_dict = {'left_text': [], \n",
    "             'right_text': [], \n",
    "             'positions': [],\n",
    "             'normalized_positions': [],\n",
    "             'sentences': [],\n",
    "             'tokenized_sentences': [],\n",
    "             'queries': [[[''.join(random.choices(string.ascii_letters, k=5))] for i in range(num_heads)] for j in range(num_layers)], \n",
    "             'keys': [[[''.join(random.choices(string.ascii_letters, k=5))] for i in range(num_heads)] for j in range(num_layers)],\n",
    "             'attn': [[[''.join(random.choices(string.ascii_letters, k=5))] for i in range(num_heads)] for j in range(num_layers)],\n",
    "             'dot_prod': [[[''.join(random.choices(string.ascii_letters, k=5))] for i in range(num_heads)] for j in range(num_layers)]}\n",
    "\n",
    "for s in new_sentences[:10]:\n",
    "    # call method from bertviz to get attention info\n",
    "    s_dict = neuron_view.get_attention(model, model_type, tokenizer, s, include_queries_and_keys=True)['all']\n",
    "    \n",
    "    # append to master dictionary\n",
    "    tokens = s_dict['left_text']\n",
    "    attn_dict['left_text'].extend(tokens)\n",
    "    attn_dict['right_text'].extend(s_dict['right_text'])\n",
    "    \n",
    "    for index in range(len(tokens)): # save position of token and tokenized sentences too\n",
    "        attn_dict['positions'].append(index)\n",
    "        attn_dict['normalized_positions'].append(index / (len(tokens) - 1))\n",
    "        attn_dict['sentences'].append(s)\n",
    "        attn_dict['tokenized_sentences'].append(' '.join(tokens))\n",
    "        \n",
    "    for i in range(num_heads): # updating cumulative q/k vectors + attn\n",
    "        for j in range(num_layers):\n",
    "            q = attn_dict['queries'][i][j]\n",
    "            k = attn_dict['keys'][i][j]\n",
    "            a = attn_dict['attn'][i][j]\n",
    "            d = attn_dict['dot_prod'][i][j]\n",
    "            \n",
    "            if len(q) == 1: # on first round, need to empty list (random string was placeholder)\n",
    "                q.clear()\n",
    "            query = s_dict['queries'][i][j]\n",
    "            q.extend(query)\n",
    "            np_query = np.array(query)\n",
    "            \n",
    "            if len(k) == 1:\n",
    "                k.clear()\n",
    "            key = s_dict['keys'][i][j]\n",
    "            k.extend(key)\n",
    "            np_key = np.array(key)\n",
    "            \n",
    "            if len(a) == 1:\n",
    "                a.clear()\n",
    "            a.extend(s_dict['attn'][i][j])\n",
    "            \n",
    "            if len(d) == 1:\n",
    "                d.clear()\n",
    "            dp = np.dot(np_query, np_key.transpose())\n",
    "            d.extend(dp)"
   ]
  },
  {
   "cell_type": "code",
   "execution_count": 23,
   "id": "93ef120b-fbe7-4641-9a1f-d786c1407524",
   "metadata": {},
   "outputs": [
    {
     "name": "stdout",
     "output_type": "stream",
     "text": [
      "30085\n",
      "[30, 31, 32, 33, 34, 35, 36, 37, 38, 39, 40, 41, 42, 43, 44, 45, 46, 47, 48, 49]\n"
     ]
    }
   ],
   "source": [
    "# different size for some reason??\n",
    "print(len(attn_dict['left_text']))\n",
    "print(attn_dict['positions'][-20:])"
   ]
  },
  {
   "cell_type": "code",
   "execution_count": 38,
   "id": "764dbad7-36d5-4624-a8b7-80c597602232",
   "metadata": {},
   "outputs": [],
   "source": [
    "import pickle\n",
    "# save dictionary to pickle file\n",
    "with open('attn_dict_new.p', 'wb') as file:\n",
    "    pickle.dump(attn_dict, file, protocol=pickle.HIGHEST_PROTOCOL)"
   ]
  },
  {
   "cell_type": "markdown",
   "id": "9967c633-969e-44e7-910e-dcac19d330a6",
   "metadata": {
    "jp-MarkdownHeadingCollapsed": true,
    "tags": []
   },
   "source": [
    "### Trying out attention plot generation"
   ]
  },
  {
   "cell_type": "code",
   "execution_count": 14,
   "id": "761dd299-7d57-41b4-835d-ea44617e46b5",
   "metadata": {},
   "outputs": [],
   "source": [
    "from bertviz.transformers_neuron_view import BertModel, BertTokenizer\n",
    "\n",
    "## NEURON VIEW\n",
    "model_type = 'bert'\n",
    "model_version = 'bert-base-uncased'\n",
    "model = BertModel.from_pretrained(model_version, output_attentions=True)\n",
    "tokenizer = BertTokenizer.from_pretrained(model_version, do_lower_case=True)\n",
    "\n",
    "sentence_a = \"This is a test\"\n",
    "\n",
    "# generate html for attention view\n",
    "html = neuron_view.show(model, model_type, tokenizer, sentence_a, sentence_b=None, display_mode='dark', layer=0, head=0, html_action='return')\n",
    "\n",
    "with open('att.html', \"w\") as file: # save html to file\n",
    "    file.write(html.data)"
   ]
  },
  {
   "cell_type": "code",
   "execution_count": 20,
   "id": "cbb3a0f3-814d-4a64-8fc6-3922d131b0b1",
   "metadata": {},
   "outputs": [
    {
     "name": "stderr",
     "output_type": "stream",
     "text": [
      "Some weights of the model checkpoint at bert-base-uncased were not used when initializing BertModel: ['cls.predictions.transform.LayerNorm.bias', 'cls.predictions.decoder.weight', 'cls.predictions.transform.dense.bias', 'cls.predictions.transform.dense.weight', 'cls.predictions.bias', 'cls.predictions.transform.LayerNorm.weight', 'cls.seq_relationship.bias', 'cls.seq_relationship.weight']\n",
      "- This IS expected if you are initializing BertModel from the checkpoint of a model trained on another task or with another architecture (e.g. initializing a BertForSequenceClassification model from a BertForPreTraining model).\n",
      "- This IS NOT expected if you are initializing BertModel from the checkpoint of a model that you expect to be exactly identical (initializing a BertForSequenceClassification model from a BertForSequenceClassification model).\n"
     ]
    }
   ],
   "source": [
    "## HEAD VIEW\n",
    "from transformers import BertTokenizer, BertModel\n",
    "from bertviz import head_view\n",
    "\n",
    "model_version = 'bert-base-uncased'\n",
    "model = BertModel.from_pretrained(model_version, output_attentions=True)\n",
    "tokenizer = BertTokenizer.from_pretrained(model_version)\n",
    "inputs = tokenizer.encode_plus(sentence_a, return_tensors='pt')\n",
    "input_ids = inputs['input_ids']\n",
    "token_type_ids = inputs['token_type_ids']\n",
    "attention = model(input_ids, token_type_ids=token_type_ids)[-1]\n",
    "# sentence_b_start = token_type_ids[0].tolist().index(1)\n",
    "input_id_list = input_ids[0].tolist() # Batch index 0\n",
    "tokens = tokenizer.convert_ids_to_tokens(input_id_list) \n",
    "\n",
    "html = head_view(attention, tokens, layer=0, heads=[0], include_layers=[0], html_action='return') # generate html\n",
    "\n",
    "with open('att2.html', \"w\") as file: # save html to file\n",
    "    file.write(html.data)"
   ]
  },
  {
   "cell_type": "markdown",
   "id": "a39a2fee-a204-43de-a252-04b9dc1e203a",
   "metadata": {
    "jp-MarkdownHeadingCollapsed": true,
    "tags": []
   },
   "source": [
    "### checking output"
   ]
  },
  {
   "cell_type": "code",
   "execution_count": 10,
   "id": "3c24200b-ccde-460a-b89d-53140d5d9d44",
   "metadata": {},
   "outputs": [
    {
     "name": "stdout",
     "output_type": "stream",
     "text": [
      "356\n",
      "['[CLS]', 'synth', '##pop', 'band', 'freeze', '##pop', 'have', 'used', 'it', 'on', 'stage', '.', '[SEP]', '[CLS]', 'plum', '##b', 'was', 'awarded', 'a', 'knight']\n",
      "356\n",
      "[0, 1, 2, 3, 4, 5, 6, 7, 8, 9, 10, 11, 12, 0, 1, 2, 3, 4, 5, 6, 7, 8, 9, 10, 11, 12, 13, 14, 15, 16, 17, 18, 19, 0, 1, 2, 3, 4, 5, 6, 7, 8, 9, 10, 11, 12, 13, 14, 15, 16, 17, 18, 0, 1, 2, 3, 4, 5, 6, 7, 8, 9, 10, 11, 12, 13, 14, 15, 16, 17, 18, 19, 20, 21, 22, 23, 24, 25, 26, 27, 28, 29, 30, 31, 32, 33, 34, 35, 36, 37, 38, 39, 40, 41, 42, 43, 44, 45, 46, 47, 48, 49, 50, 51, 52, 53, 54, 55, 56, 57, 58, 59, 60, 61, 62, 63, 64, 65, 66, 67, 68, 69, 70, 71, 72, 73, 74, 75, 76, 77, 78, 79, 80, 81, 82, 83, 84, 85, 86, 87, 88, 89, 90, 91, 92, 93, 94, 95, 96, 97, 98, 0, 1, 2, 3, 4, 5, 6, 7, 8, 9, 10, 11, 12, 13, 14, 15, 16, 17, 18, 19, 20, 21, 22, 23, 24, 25, 26, 27, 28, 29, 30, 31, 32, 33, 34, 35, 36, 37, 38, 39, 40, 41, 42, 43, 0, 1, 2, 3, 4, 5, 6, 7, 8, 9, 10, 11, 12, 13, 14, 15, 16, 17, 18, 19, 20, 21, 22, 23, 24, 25, 26, 27, 28, 29, 30, 31, 32, 33, 34, 35, 36, 37, 38, 39, 40, 41, 42, 43, 44, 45, 46, 47, 48, 49, 50, 51, 52, 53, 54, 55, 56, 57, 58, 59, 60, 61, 62, 63, 64, 65, 66, 67, 0, 1, 2, 3, 4, 5, 6, 7, 8, 9, 10, 11, 12, 13, 14, 15, 16, 17, 18, 19, 20, 21, 22, 23, 24, 25, 26, 27, 28, 29, 30, 31, 32, 33, 34, 35, 36, 37, 38, 39, 40, 41, 42, 0, 1, 2, 3, 4, 5, 6, 7, 8, 9, 10, 11, 12, 13, 14, 15, 16, 17, 18, 19, 20, 0, 1, 2, 3, 4, 5, 6, 7, 8]\n",
      "356\n",
      "['Synthpop band Freezepop have used it on stage.', 'Synthpop band Freezepop have used it on stage.', 'Synthpop band Freezepop have used it on stage.', 'Synthpop band Freezepop have used it on stage.', 'Synthpop band Freezepop have used it on stage.', 'Synthpop band Freezepop have used it on stage.', 'Synthpop band Freezepop have used it on stage.', 'Synthpop band Freezepop have used it on stage.', 'Synthpop band Freezepop have used it on stage.', 'Synthpop band Freezepop have used it on stage.', 'Synthpop band Freezepop have used it on stage.', 'Synthpop band Freezepop have used it on stage.', 'Synthpop band Freezepop have used it on stage.', \"Plumb was awarded a knighthood in the Queen's Birthday Honours list in 1973.\", \"Plumb was awarded a knighthood in the Queen's Birthday Honours list in 1973.\", \"Plumb was awarded a knighthood in the Queen's Birthday Honours list in 1973.\", \"Plumb was awarded a knighthood in the Queen's Birthday Honours list in 1973.\", \"Plumb was awarded a knighthood in the Queen's Birthday Honours list in 1973.\", \"Plumb was awarded a knighthood in the Queen's Birthday Honours list in 1973.\", \"Plumb was awarded a knighthood in the Queen's Birthday Honours list in 1973.\"]\n",
      "356\n",
      "['[CLS] synth ##pop band freeze ##pop have used it on stage . [SEP]', '[CLS] synth ##pop band freeze ##pop have used it on stage . [SEP]', '[CLS] synth ##pop band freeze ##pop have used it on stage . [SEP]', '[CLS] synth ##pop band freeze ##pop have used it on stage . [SEP]', '[CLS] synth ##pop band freeze ##pop have used it on stage . [SEP]', '[CLS] synth ##pop band freeze ##pop have used it on stage . [SEP]', '[CLS] synth ##pop band freeze ##pop have used it on stage . [SEP]', '[CLS] synth ##pop band freeze ##pop have used it on stage . [SEP]', '[CLS] synth ##pop band freeze ##pop have used it on stage . [SEP]', '[CLS] synth ##pop band freeze ##pop have used it on stage . [SEP]', '[CLS] synth ##pop band freeze ##pop have used it on stage . [SEP]', '[CLS] synth ##pop band freeze ##pop have used it on stage . [SEP]', '[CLS] synth ##pop band freeze ##pop have used it on stage . [SEP]', \"[CLS] plum ##b was awarded a knight ##hood in the queen ' s birthday honours list in 1973 . [SEP]\", \"[CLS] plum ##b was awarded a knight ##hood in the queen ' s birthday honours list in 1973 . [SEP]\", \"[CLS] plum ##b was awarded a knight ##hood in the queen ' s birthday honours list in 1973 . [SEP]\", \"[CLS] plum ##b was awarded a knight ##hood in the queen ' s birthday honours list in 1973 . [SEP]\", \"[CLS] plum ##b was awarded a knight ##hood in the queen ' s birthday honours list in 1973 . [SEP]\", \"[CLS] plum ##b was awarded a knight ##hood in the queen ' s birthday honours list in 1973 . [SEP]\", \"[CLS] plum ##b was awarded a knight ##hood in the queen ' s birthday honours list in 1973 . [SEP]\"]\n"
     ]
    }
   ],
   "source": [
    "print(len(attn_dict['left_text']))\n",
    "print(attn_dict['left_text'][:20])\n",
    "\n",
    "print(len(attn_dict['positions']))\n",
    "print(attn_dict['positions'][:-20])\n",
    "\n",
    "print(len(attn_dict['sentences']))\n",
    "print(attn_dict['sentences'][:20])\n",
    "\n",
    "print(len(attn_dict['tokenized_sentences']))\n",
    "print(attn_dict['tokenized_sentences'][:20])"
   ]
  },
  {
   "cell_type": "code",
   "execution_count": 37,
   "id": "54e24f1f-0e72-42c3-a48d-fcc7022bb5ea",
   "metadata": {},
   "outputs": [
    {
     "name": "stdout",
     "output_type": "stream",
     "text": [
      "[CLS] synth ##pop band freeze ##pop have used it on stage . [SEP]\n",
      "13\n",
      "\n",
      "12\n",
      "12\n",
      "356\n",
      "20\n"
     ]
    }
   ],
   "source": [
    "# checking\n",
    "print(attn_dict['tokenized_sentences'][0])\n",
    "print(len(attn_dict['tokenized_sentences'][0].split()))\n",
    "\n",
    "print(\"\\n\" + str(len(attn_dict['attn'])))\n",
    "print(len(attn_dict['attn'][0]))\n",
    "print(len(attn_dict['attn'][0][0]))\n",
    "print(len(attn_dict['attn'][0][0][14]))"
   ]
  },
  {
   "cell_type": "code",
   "execution_count": 12,
   "id": "db0b6aef-2982-44a1-aaf1-7088ee0309eb",
   "metadata": {},
   "outputs": [
    {
     "name": "stdout",
     "output_type": "stream",
     "text": [
      "['[CLS]', 'synth', '##pop', 'band', 'freeze', '##pop', 'have', 'used', 'it', 'on', 'stage', '.', '[SEP]', '[CLS]', 'plum', '##b', 'was', 'awarded', 'a', 'knight', '##hood', 'in', 'the', 'queen', \"'\", 's', 'birthday', 'honours', 'list', 'in', '1973', '.', '[SEP]', '[CLS]', 'he', 'read', 'and', 'memo', '##rized', 'the', 'entire', 'quran', 'by', 'the', 'time', 'he', 'was', 'nine', 'years', 'old', '.', '[SEP]', '[CLS]', 'some', 'other', 'yearly', 'festivals', 'are', 'paris', '-', 'pl', '##ages', ',', 'a', 'fest', '##ive', 'event', 'that', 'lasts', 'from', 'mid', '-', 'july', 'to', 'mid', '-', 'august', 'when', 'the', 'right', 'bank', 'of', 'the', 'seine', 'is', 'converted', 'into', 'a', 'temporary', 'beach', 'with', 'sand', ',', 'deck', 'chairs', 'and', 'palm', 'trees', ';', 'jo', '##urne', '##es', 'du', 'pat', '##rim', '##oin', '##e', ',', 'fe', '##te', 'de', 'la', 'musique', ',', 'techno', 'parade', ',', 'nu', '##it', 'blanche', ',', 'cinema', 'au', 'clair', 'de', 'lu', '##ne', ',', 'print', '##em', '##ps', 'des', 'rue', '##s', ',', 'festival', 'd', \"'\", 'auto', '##m', '##ne', ',', 'and', 'fe', '##te', 'des', 'jar', '##din', '##s', '.', '[SEP]', '[CLS]', 'despite', 'this', 'decision', ',', 'many', 'church', 'of', 'the', 'east', 'old', 'calendar', '##ists', 'rejected', 'the', 'move', 'so', 'in', 'an', 'attempt', 'to', 'ave', '##rt', 'further', 'dissent', ',', 'the', 'holy', 'synod', 'maintained', 'that', 'easter', 'would', 'continue', 'to', 'be', 'celebrated', 'according', 'to', 'the', 'julian', 'calendar', '.', '[SEP]']\n"
     ]
    }
   ],
   "source": [
    "print(attn_dict['left_text']) # see output for smaller sample"
   ]
  },
  {
   "cell_type": "code",
   "execution_count": 13,
   "id": "732f031e-f87c-4939-b7a4-e61969f4b83d",
   "metadata": {},
   "outputs": [
    {
     "name": "stdout",
     "output_type": "stream",
     "text": [
      "[0.7089897394180298, -0.15323276817798615, -0.032386213541030884, 0.6158232092857361, -0.5596219897270203, -0.011101782321929932, 0.49646368622779846, -0.2839057445526123, -0.280123233795166, 0.3392143249511719, -0.29341602325439453, -0.17901477217674255, 0.8661503195762634, 0.022664345800876617, 0.7185714244842529, 0.34335076808929443, 0.01236235722899437, 0.7172088027000427, 0.32118237018585205, -2.046285629272461, -0.45574820041656494, 0.1372668296098709, 0.7596356868743896, 0.7640693187713623, -0.485566645860672, -0.5769205093383789, 0.25511786341667175, 1.1232143640518188, 0.29362547397613525, 1.985978364944458, 0.7019451856613159, -0.509594202041626, 0.6935110688209534, 0.03461742401123047, 0.2705886960029602, -0.9227743148803711, 0.2610951066017151, -0.030122220516204834, 0.5660263895988464, -0.2227349430322647, -0.168127179145813, -0.7366577386856079, 0.3504031300544739, 0.6493116617202759, -1.475498080253601, -0.19565290212631226, 0.21594813466072083, -0.4464242160320282, -0.10945815593004227, 0.2501671016216278, -0.8502875566482544, 0.08961774408817291, 1.1079552173614502, 1.5621066093444824, 0.9393970370292664, -0.7901418209075928, 0.8783577084541321, 0.30233660340309143, -0.4174047112464905, -0.43442976474761963, 1.1537352800369263, -0.1860843300819397, -1.1897413730621338, -0.39165064692497253]\n"
     ]
    }
   ],
   "source": [
    "print(attn_dict['queries'][0][0][0])"
   ]
  },
  {
   "cell_type": "code",
   "execution_count": 14,
   "id": "669d3a61-5d06-41b5-987d-5f66be51ed42",
   "metadata": {},
   "outputs": [
    {
     "name": "stdout",
     "output_type": "stream",
     "text": [
      "195\n",
      "12\n",
      "12\n",
      "195\n",
      "64\n"
     ]
    }
   ],
   "source": [
    "# checking to make sure things look right\n",
    "print(len(attn_dict['left_text'])) # num tokens\n",
    "      \n",
    "print(len(attn_dict['queries'])) # 12 layers\n",
    "print(len(attn_dict['queries'][0])) # 12 heads\n",
    "print(len(attn_dict['queries'][0][0])) # source sequence length (number of tokens)\n",
    "print(len(attn_dict['queries'][0][0][0])) # vector size"
   ]
  },
  {
   "cell_type": "code",
   "execution_count": 15,
   "id": "a28ba6a6-7527-4b3e-b937-9d45e4ca2bfe",
   "metadata": {},
   "outputs": [
    {
     "name": "stdout",
     "output_type": "stream",
     "text": [
      "195\n",
      "12\n",
      "12\n",
      "195\n",
      "64\n"
     ]
    }
   ],
   "source": [
    "print(len(attn_dict['right_text'])) # num tokens\n",
    "      \n",
    "print(len(attn_dict['keys'])) # 12 layers\n",
    "print(len(attn_dict['keys'][0])) # 12 heads\n",
    "print(len(attn_dict['keys'][0][0])) # source sequence length (number of tokens)\n",
    "print(len(attn_dict['keys'][0][0][0])) # vector size"
   ]
  },
  {
   "cell_type": "markdown",
   "id": "2781fe07-966d-45d2-99dc-cda6f2cedb1b",
   "metadata": {
    "jp-MarkdownHeadingCollapsed": true,
    "tags": []
   },
   "source": [
    "### archive"
   ]
  },
  {
   "cell_type": "code",
   "execution_count": 11,
   "id": "8a332640-062a-42e4-a254-a82268755c96",
   "metadata": {},
   "outputs": [],
   "source": [
    "# this output does include query and key vectors\n",
    "output = model(input_ids, token_type_ids=token_type_ids)"
   ]
  },
  {
   "cell_type": "code",
   "execution_count": 103,
   "id": "4f79f98f-ac26-429a-acdd-c86bd542c8ca",
   "metadata": {},
   "outputs": [
    {
     "name": "stdout",
     "output_type": "stream",
     "text": [
      "4\n"
     ]
    }
   ],
   "source": [
    "\"\"\"\n",
    "from bertviz documentation:\n",
    "    get_attention method should return:\n",
    "      Dictionary of attn representations with the structure:\n",
    "      {\n",
    "        'all': All attention (source = AB, target = AB)\n",
    "        'aa': Sentence A self-attention (source = A, target = A) (if sentence_b is not None)\n",
    "        'bb': Sentence B self-attention (source = B, target = B) (if sentence_b is not None)\n",
    "        'ab': Sentence A -> Sentence B attention (source = A, target = B) (if sentence_b is not None)\n",
    "        'ba': Sentence B -> Sentence A attention (source = B, target = A) (if sentence_b is not None)\n",
    "      }\n",
    "      where each value is a dictionary:\n",
    "      {\n",
    "        'left_text': list of source tokens, to be displayed on the left of the vis\n",
    "        'right_text': list of target tokens, to be displayed on the right of the vis\n",
    "        'attn': list of attention matrices, one for each layer. Each has shape [num_heads, source_seq_len, target_seq_len]\n",
    "        'queries' (optional): list of query vector arrays, one for each layer. Each has shape (num_heads, source_seq_len, vector_size)\n",
    "        'keys' (optional): list of key vector arrays, one for each layer. Each has shape (num_heads, target_seq_len, vector_size)\n",
    "      }\n",
    "\"\"\"\n",
    "print(len(attn_dict))"
   ]
  },
  {
   "cell_type": "markdown",
   "id": "7de5a854-3da4-4634-8faa-54fd3585223e",
   "metadata": {
    "jp-MarkdownHeadingCollapsed": true,
    "tags": []
   },
   "source": [
    "## Context Embeddings"
   ]
  },
  {
   "cell_type": "code",
   "execution_count": 110,
   "id": "4bac110d-c205-45dc-b8b9-bdda127d4911",
   "metadata": {},
   "outputs": [
    {
     "name": "stderr",
     "output_type": "stream",
     "text": [
      "Some weights of the model checkpoint at bert-base-uncased were not used when initializing BertModel: ['cls.seq_relationship.bias', 'cls.predictions.transform.dense.bias', 'cls.predictions.transform.dense.weight', 'cls.predictions.bias', 'cls.seq_relationship.weight', 'cls.predictions.transform.LayerNorm.weight', 'cls.predictions.decoder.weight', 'cls.predictions.transform.LayerNorm.bias']\n",
      "- This IS expected if you are initializing BertModel from the checkpoint of a model trained on another task or with another architecture (e.g. initializing a BertForSequenceClassification model from a BertForPreTraining model).\n",
      "- This IS NOT expected if you are initializing BertModel from the checkpoint of a model that you expect to be exactly identical (initializing a BertForSequenceClassification model from a BertForSequenceClassification model).\n"
     ]
    },
    {
     "name": "stdout",
     "output_type": "stream",
     "text": [
      "30070\n"
     ]
    }
   ],
   "source": [
    "# adapted from bertviz: github.com/jessevig/bertviz\n",
    "model_version = 'bert-base-uncased'\n",
    "model = BertModel.from_pretrained(model_version, output_attentions=True)\n",
    "tokenizer = BertTokenizer.from_pretrained(model_version)\n",
    "\n",
    "all_embeddings = []\n",
    "\n",
    "for sent in sentences:\n",
    "    inputs = tokenizer.encode_plus(sent, return_tensors='pt')\n",
    "    input_ids = inputs['input_ids']\n",
    "    token_type_ids = inputs['token_type_ids']\n",
    "    output = model(input_ids, token_type_ids=token_type_ids)\n",
    "    embeddings = output[0]\n",
    "    for e in embeddings[0]:\n",
    "        all_embeddings.append(e)\n",
    "    \n",
    "    # break\n",
    "    \n",
    "print(len(all_embeddings))"
   ]
  },
  {
   "cell_type": "code",
   "execution_count": 111,
   "id": "eb0434ee-136b-458d-869c-a075dcd0d31c",
   "metadata": {},
   "outputs": [
    {
     "name": "stdout",
     "output_type": "stream",
     "text": [
      "5021\n"
     ]
    }
   ],
   "source": [
    "all_embeddings = all_embeddings[:5021] # only take first 5021 tokens\n",
    "print(len(all_embeddings))"
   ]
  },
  {
   "cell_type": "markdown",
   "id": "d3e83585-6e95-4824-8988-035bc1018de8",
   "metadata": {
    "jp-MarkdownHeadingCollapsed": true,
    "tags": []
   },
   "source": [
    "### archive"
   ]
  },
  {
   "cell_type": "code",
   "execution_count": null,
   "id": "abf4dd58-41cb-4d71-97ee-f64f51327805",
   "metadata": {},
   "outputs": [],
   "source": [
    "!pip install flair"
   ]
  },
  {
   "cell_type": "code",
   "execution_count": 85,
   "id": "96e36e39-7df9-4e6a-8f72-03a551030884",
   "metadata": {},
   "outputs": [
    {
     "name": "stderr",
     "output_type": "stream",
     "text": [
      "<ipython-input-85-8cf289f84c96>:3: DeprecationWarning:\n",
      "\n",
      "Call to deprecated method __init__. (Use 'TransformerWordEmbeddings' for all transformer-based word embeddings) -- Deprecated since version 0.4.5.\n",
      "\n",
      "Some weights of the model checkpoint at bert-base-uncased were not used when initializing BertModel: ['cls.seq_relationship.bias', 'cls.predictions.transform.dense.bias', 'cls.predictions.transform.dense.weight', 'cls.predictions.bias', 'cls.seq_relationship.weight', 'cls.predictions.transform.LayerNorm.weight', 'cls.predictions.decoder.weight', 'cls.predictions.transform.LayerNorm.bias']\n",
      "- This IS expected if you are initializing BertModel from the checkpoint of a model trained on another task or with another architecture (e.g. initializing a BertForSequenceClassification model from a BertForPreTraining model).\n",
      "- This IS NOT expected if you are initializing BertModel from the checkpoint of a model that you expect to be exactly identical (initializing a BertForSequenceClassification model from a BertForSequenceClassification model).\n"
     ]
    },
    {
     "name": "stdout",
     "output_type": "stream",
     "text": [
      "24592\n"
     ]
    }
   ],
   "source": [
    "from flair.data import Sentence\n",
    "from flair.embeddings import BertEmbeddings\n",
    "bert_embedding = BertEmbeddings()\n",
    "\n",
    "embeddings = []\n",
    "\n",
    "for sent in sentences:\n",
    "    s = Sentence(sent)\n",
    "    bert_embedding.embed(s)\n",
    "    for token in s:\n",
    "       embeddings.append(token.embedding)\n",
    "    # break\n",
    "    \n",
    "print(len(embeddings))"
   ]
  },
  {
   "cell_type": "markdown",
   "id": "eedac506-bf0f-42b4-a9bc-ddf7bc9e7b5d",
   "metadata": {
    "jp-MarkdownHeadingCollapsed": true,
    "tags": []
   },
   "source": [
    "## Residuals"
   ]
  },
  {
   "cell_type": "code",
   "execution_count": 69,
   "id": "6b2d7273-e4c3-4e95-add9-973d1b65d86d",
   "metadata": {},
   "outputs": [
    {
     "name": "stderr",
     "output_type": "stream",
     "text": [
      "Some weights of the model checkpoint at bert-base-uncased were not used when initializing BertModel: ['cls.predictions.bias', 'cls.predictions.transform.LayerNorm.bias', 'cls.predictions.transform.dense.weight', 'cls.seq_relationship.weight', 'cls.predictions.transform.dense.bias', 'cls.predictions.transform.LayerNorm.weight', 'cls.predictions.decoder.weight', 'cls.seq_relationship.bias']\n",
      "- This IS expected if you are initializing BertModel from the checkpoint of a model trained on another task or with another architecture (e.g. initializing a BertForSequenceClassification model from a BertForPreTraining model).\n",
      "- This IS NOT expected if you are initializing BertModel from the checkpoint of a model that you expect to be exactly identical (initializing a BertForSequenceClassification model from a BertForSequenceClassification model).\n"
     ]
    }
   ],
   "source": [
    "# adapted from bertviz: github.com/jessevig/bertviz\n",
    "model_version = 'bert-base-uncased'\n",
    "model = BertModel.from_pretrained(model_version, output_hidden_states=True)\n",
    "tokenizer = BertTokenizer.from_pretrained(model_version)\n",
    "\n",
    "all_embeddings = [[] for i in range(12)]\n",
    "\n",
    "for sent in sentences:\n",
    "    inputs = tokenizer.encode_plus(sent, return_tensors='pt')\n",
    "    input_ids = inputs['input_ids']\n",
    "    token_type_ids = inputs['token_type_ids']\n",
    "    output = model(input_ids, token_type_ids=token_type_ids)\n",
    "    \n",
    "    hidden_states = output[2][:-1]\n",
    "    num_tokens = len(hidden_states[0][0])\n",
    "    \n",
    "    for layer in range(12):\n",
    "        for token in range(num_tokens):\n",
    "            all_embeddings[layer].append(hidden_states[layer][0][token])\n",
    "    \n",
    "    # break"
   ]
  },
  {
   "cell_type": "code",
   "execution_count": 25,
   "id": "061a34dc-a9c2-4c7e-a046-1f36769f7071",
   "metadata": {},
   "outputs": [
    {
     "name": "stdout",
     "output_type": "stream",
     "text": [
      "10042\n",
      "64\n",
      "[ 0.02890567 -0.01263315 -0.15932636 -0.24908511  0.22070907  0.06625266\n",
      " -0.43257126  0.0610121  -0.02261009 -0.54560393 -0.0154405  -0.04088495\n",
      "  0.20839329 -0.01682843  0.00977501  0.52274716  0.4927404   0.320671\n",
      " -0.01000296 -0.67866284 -0.7381976  -0.34286946 -0.04614965 -0.2739702\n",
      " -0.15715654 -0.4365309  -0.37535504  0.01972864  0.06728175  0.1233665\n",
      " -0.16971265 -0.16971956  0.44407836  0.12573363 -0.42567647  0.20978758\n",
      " -0.46766838  0.2241131  -0.24076225  0.17552018  0.45995826 -0.32641143\n",
      "  0.02400913  0.27869725  0.15384641  0.19673325 -1.52834    -0.01364558\n",
      "  0.517073   -0.24669185  0.32432625  0.07717511 -0.23393658  0.8050629\n",
      "  0.18434903 -0.13673162 -0.09724032  0.13635018  0.4223233  -0.11003318\n",
      " -0.04993088 -0.03489149  0.22572874  0.2862543 ]\n"
     ]
    }
   ],
   "source": [
    "# get residual for specific layer & head\n",
    "def get_residual(layer, head, residuals):\n",
    "    r_layer = residuals[layer]\n",
    "    # each residual is 768 dimensions, so find the 64 that correspond to the selected attention head\n",
    "    start_ind = head * 64 \n",
    "    end_ind = start_ind + 64\n",
    "    \n",
    "    r_final = [i[start_ind:end_ind].detach().numpy() for i in r_layer]\n",
    "    r_final = r_final[:5021] * 2 # only get first X keys + queries\n",
    "    return r_final\n",
    "\n",
    "resids = get_residual(0, 0, all_embeddings)\n",
    "print(len(resids))\n",
    "print(len(resids[0]))\n",
    "print(resids[0])"
   ]
  },
  {
   "cell_type": "markdown",
   "id": "f9c50084-a2cf-47b9-91b0-ac4edefee1d6",
   "metadata": {
    "jp-MarkdownHeadingCollapsed": true,
    "tags": []
   },
   "source": [
    "## Positional Encodings"
   ]
  },
  {
   "cell_type": "code",
   "execution_count": 18,
   "id": "41dd7140-fe04-4bf9-9689-1de7198de613",
   "metadata": {},
   "outputs": [
    {
     "name": "stdout",
     "output_type": "stream",
     "text": [
      "[0. 1. 0. 1. 0. 1. 0. 1. 0. 1. 0. 1. 0. 1. 0. 1. 0. 1. 0. 1. 0. 1. 0. 1.\n",
      " 0. 1. 0. 1. 0. 1. 0. 1. 0. 1. 0. 1. 0. 1. 0. 1. 0. 1. 0. 1. 0. 1. 0. 1.\n",
      " 0. 1. 0. 1. 0. 1. 0. 1. 0. 1. 0. 1. 0. 1. 0. 1.]\n",
      "[8.41470985e-01 5.40302306e-01 6.81561350e-01 7.31760976e-01\n",
      " 5.33168440e-01 8.46009110e-01 4.09308924e-01 9.12395860e-01\n",
      " 3.10983593e-01 9.50415280e-01 2.34921076e-01 9.72014449e-01\n",
      " 1.76892186e-01 9.84230234e-01 1.32957266e-01 9.91121771e-01\n",
      " 9.98334166e-02 9.95004165e-01 7.49191579e-02 9.97189611e-01\n",
      " 5.62044992e-02 9.98419278e-01 4.21571532e-02 9.99110992e-01\n",
      " 3.16175064e-02 9.99500042e-01 2.37115146e-02 9.99718843e-01\n",
      " 1.77818569e-02 9.99841890e-01 1.33348191e-02 9.99911087e-01\n",
      " 9.99983333e-03 9.99950000e-01 7.49887181e-03 9.99971883e-01\n",
      " 5.62338361e-03 9.99984189e-01 4.21695254e-03 9.99991109e-01\n",
      " 3.16227239e-03 9.99995000e-01 2.37137148e-03 9.99997188e-01\n",
      " 1.77827847e-03 9.99998419e-01 1.33352104e-03 9.99999111e-01\n",
      " 9.99999833e-04 9.99999500e-01 7.49894139e-04 9.99999719e-01\n",
      " 5.62341296e-04 9.99999842e-01 4.21696491e-04 9.99999911e-01\n",
      " 3.16227761e-04 9.99999950e-01 2.37137368e-04 9.99999972e-01\n",
      " 1.77827940e-04 9.99999984e-01 1.33352143e-04 9.99999991e-01]\n",
      "[ 9.09297427e-01 -4.16146837e-01  9.97479998e-01  7.09482514e-02\n",
      "  9.02130715e-01  4.31462829e-01  7.46903535e-01  6.64932409e-01\n",
      "  5.91127117e-01  8.06578410e-01  4.56693360e-01  8.89624176e-01\n",
      "  3.48205276e-01  9.37418309e-01  2.63553681e-01  9.64644731e-01\n",
      "  1.98669331e-01  9.80066578e-01  1.49417212e-01  9.88774240e-01\n",
      "  1.12231311e-01  9.93682109e-01  8.42393503e-02  9.96445549e-01\n",
      "  6.32033979e-02  9.98000667e-01  4.74096958e-02  9.98875528e-01\n",
      "  3.55580908e-02  9.99367611e-01  2.66672669e-02  9.99644365e-01\n",
      "  1.99986667e-02  9.99800007e-01  1.49973219e-02  9.99887534e-01\n",
      "  1.12465894e-02  9.99936755e-01  8.43383008e-03  9.99964435e-01\n",
      "  6.32451316e-03  9.99980000e-01  4.74272963e-03  9.99988753e-01\n",
      "  3.55655132e-03  9.99993675e-01  2.66703970e-03  9.99996443e-01\n",
      "  1.99999867e-03  9.99998000e-01  1.49978786e-03  9.99998875e-01\n",
      "  1.12468241e-03  9.99999368e-01  8.43392907e-04  9.99999644e-01\n",
      "  6.32455490e-04  9.99999800e-01  4.74274723e-04  9.99999888e-01\n",
      "  3.55655875e-04  9.99999937e-01  2.66704283e-04  9.99999964e-01]\n",
      "[ 1.41120008e-01 -9.89992497e-01  7.78272522e-01 -6.27926652e-01\n",
      "  9.93253167e-01 -1.15966142e-01  9.53634462e-01  3.00967295e-01\n",
      "  8.12648897e-01  5.82753611e-01  6.52904012e-01  7.57440658e-01\n",
      "  5.08536134e-01  8.61040649e-01  3.89470317e-01  9.21039018e-01\n",
      "  2.95520207e-01  9.55336489e-01  2.23075425e-01  9.74801187e-01\n",
      "  1.67903310e-01  9.85803469e-01  1.26171769e-01  9.92008410e-01\n",
      "  9.47260913e-02  9.95503374e-01  7.10812179e-02  9.97470531e-01\n",
      "  5.33230805e-02  9.98577313e-01  3.99949726e-02  9.99199881e-01\n",
      "  2.99955002e-02  9.99550034e-01  2.24949287e-02  9.99746957e-01\n",
      "  1.68694395e-02  9.99857701e-01  1.26505577e-02  9.99919978e-01\n",
      "  9.48669068e-03  9.99955000e-01  7.11406111e-03  9.99974695e-01\n",
      "  5.33481292e-03  9.99985770e-01  4.00055363e-03  9.99991998e-01\n",
      "  2.99999550e-03  9.99995500e-01  2.24968073e-03  9.99997469e-01\n",
      "  1.68702318e-03  9.99998577e-01  1.26508917e-03  9.99999200e-01\n",
      "  9.48683156e-04  9.99999550e-01  7.11412052e-04  9.99999747e-01\n",
      "  5.33483798e-04  9.99999858e-01  4.00056419e-04  9.99999920e-01]\n"
     ]
    }
   ],
   "source": [
    "import numpy as np\n",
    "import matplotlib.pyplot as plt\n",
    "\n",
    "# compute position encoding for some token\n",
    "def getPositionEncoding(k, d=64, n=10000):\n",
    "    P = np.zeros(d)\n",
    "    for i in np.arange(int(d/2)):\n",
    "        denominator = np.power(n, 2*i/d)\n",
    "        # no noise\n",
    "        P[2*i] = np.sin(k/denominator)\n",
    "        P[2*i+1] = np.cos(k/denominator)\n",
    "        # # or, add some random noise too\n",
    "        # P[2*i] = np.sin(k/denominator) + np.random.normal(0,0.001)\n",
    "        # P[2*i+1] = np.cos(k/denominator) + np.random.normal(0,0.001)\n",
    "    return P\n",
    "\n",
    "for i in range(4):\n",
    "    P = getPositionEncoding(k=i)\n",
    "    print(P)"
   ]
  },
  {
   "cell_type": "code",
   "execution_count": 19,
   "id": "613c753c-eb1f-45b0-967a-211c8ce7e392",
   "metadata": {},
   "outputs": [],
   "source": [
    "pos_embeddings = []\n",
    "for ind in zip(attn_dict[\"positions\"][:5021]):\n",
    "    P = getPositionEncoding(k=ind)\n",
    "    pos_embeddings.append(P)"
   ]
  },
  {
   "cell_type": "code",
   "execution_count": 20,
   "id": "bc054591-5ff5-4b6b-a777-3e3bc1851e4e",
   "metadata": {},
   "outputs": [
    {
     "name": "stdout",
     "output_type": "stream",
     "text": [
      "10042\n"
     ]
    }
   ],
   "source": [
    "pos_embeddings += pos_embeddings\n",
    "print(len(pos_embeddings))"
   ]
  },
  {
   "cell_type": "code",
   "execution_count": 50,
   "id": "41ed2706-70dd-43ba-9009-ab4bf1ecbfc2",
   "metadata": {},
   "outputs": [
    {
     "name": "stderr",
     "output_type": "stream",
     "text": [
      "/n/home10/cyeh/anaconda3/envs/diffusion/lib/python3.9/site-packages/sklearn/manifold/_t_sne.py:795: FutureWarning:\n",
      "\n",
      "The default initialization in TSNE will change from 'random' to 'pca' in 1.2.\n",
      "\n",
      "/n/home10/cyeh/anaconda3/envs/diffusion/lib/python3.9/site-packages/sklearn/manifold/_t_sne.py:805: FutureWarning:\n",
      "\n",
      "The default learning rate in TSNE will change from 200.0 to 'auto' in 1.2.\n",
      "\n"
     ]
    },
    {
     "name": "stdout",
     "output_type": "stream",
     "text": [
      "t-SNE done! Time elapsed: 15.35981297492981 seconds\n"
     ]
    }
   ],
   "source": [
    "# run TSNE on position embeddings\n",
    "def run_pos_tsne(df):\n",
    "    # run TSNE\n",
    "    # from: https://towardsdatascience.com/visualising-high-dimensional-datasets-using-pca-and-t-sne-in-python-8ef87e7915b\n",
    "    time_start = time.time()\n",
    "    # tsne = TSNE(n_components=3, verbose=0, perplexity=100, n_iter=300) # 3D\n",
    "    tsne = TSNE(n_components=2, verbose=0, perplexity=100, n_iter=300) # 2D\n",
    "    tsne_results = tsne.fit_transform(df)\n",
    "    np.save(\"tsne/position_short.npy\", tsne_results) # save tsne results too\n",
    "    print('t-SNE done! Time elapsed: {} seconds'.format(time.time()-time_start))\n",
    "    \n",
    "    return tsne_results\n",
    "\n",
    "tsne_results = run_pos_tsne(pos_embeddings)"
   ]
  },
  {
   "cell_type": "code",
   "execution_count": 51,
   "id": "2d70418f-4263-4b5e-9a82-5919330b6a83",
   "metadata": {},
   "outputs": [
    {
     "name": "stdout",
     "output_type": "stream",
     "text": [
      "UMAP done! Time elapsed: 8.58793592453003 seconds\n"
     ]
    }
   ],
   "source": [
    "def run_pos_umap(df):\n",
    "    # run umap\n",
    "    time_start = time.time()\n",
    "    umap = UMAP(n_components=2, init='random', random_state=0)\n",
    "    umap_results = umap.fit_transform(df)\n",
    "    np.save(\"umap/position_short.npy\", umap_results) # save umap results too\n",
    "    print('UMAP done! Time elapsed: {} seconds'.format(time.time()-time_start))\n",
    "    \n",
    "    return umap_results\n",
    "\n",
    "umap_results = run_pos_umap(pos_embeddings)"
   ]
  },
  {
   "cell_type": "markdown",
   "id": "37147139-7f13-4cd8-8f15-990560a39925",
   "metadata": {
    "tags": []
   },
   "source": [
    "## Playing with TSNE / UMAP"
   ]
  },
  {
   "cell_type": "markdown",
   "id": "86acb693-8501-4178-840b-7cb51c76be04",
   "metadata": {},
   "source": [
    "Generating plots from query + key vectors"
   ]
  },
  {
   "cell_type": "markdown",
   "id": "4aba3c91-8bb8-4e82-9ced-4582cf1ac251",
   "metadata": {
    "jp-MarkdownHeadingCollapsed": true,
    "tags": []
   },
   "source": [
    "### installs"
   ]
  },
  {
   "cell_type": "code",
   "execution_count": 21,
   "id": "221343d8-5f39-436b-9bc3-cd2647214bd6",
   "metadata": {},
   "outputs": [
    {
     "name": "stdout",
     "output_type": "stream",
     "text": [
      "Collecting plotly\n",
      "  Downloading plotly-5.10.0-py2.py3-none-any.whl (15.2 MB)\n",
      "\u001b[2K     \u001b[90m━━━━━━━━━━━━━━━━━━━━━━━━━━━━━━━━━━━━━━━━\u001b[0m \u001b[32m15.2/15.2 MB\u001b[0m \u001b[31m33.7 MB/s\u001b[0m eta \u001b[36m0:00:00\u001b[0m00:01\u001b[0m00:01\u001b[0m\n",
      "\u001b[?25hCollecting tenacity>=6.2.0\n",
      "  Downloading tenacity-8.1.0-py3-none-any.whl (23 kB)\n",
      "Installing collected packages: tenacity, plotly\n",
      "Successfully installed plotly-5.10.0 tenacity-8.1.0\n"
     ]
    }
   ],
   "source": [
    "!pip install plotly"
   ]
  },
  {
   "cell_type": "code",
   "execution_count": 14,
   "id": "8ccc6640-de25-4b00-a711-90e5a73e1eeb",
   "metadata": {},
   "outputs": [
    {
     "name": "stdout",
     "output_type": "stream",
     "text": [
      "Collecting seaborn\n",
      "  Downloading seaborn-0.12.0-py3-none-any.whl (285 kB)\n",
      "\u001b[2K     \u001b[90m━━━━━━━━━━━━━━━━━━━━━━━━━━━━━━━━━━━━━━━\u001b[0m \u001b[32m285.1/285.1 kB\u001b[0m \u001b[31m3.0 MB/s\u001b[0m eta \u001b[36m0:00:00\u001b[0ma \u001b[36m0:00:01\u001b[0m\n",
      "\u001b[?25hRequirement already satisfied: numpy>=1.17 in /n/home10/cyeh/anaconda3/envs/diffusion/lib/python3.9/site-packages (from seaborn) (1.23.2)\n",
      "Requirement already satisfied: matplotlib>=3.1 in /n/home10/cyeh/anaconda3/envs/diffusion/lib/python3.9/site-packages (from seaborn) (3.5.2)\n",
      "Requirement already satisfied: pandas>=0.25 in /n/home10/cyeh/anaconda3/envs/diffusion/lib/python3.9/site-packages (from seaborn) (1.4.4)\n",
      "Requirement already satisfied: packaging>=20.0 in /n/home10/cyeh/anaconda3/envs/diffusion/lib/python3.9/site-packages (from matplotlib>=3.1->seaborn) (21.3)\n",
      "Requirement already satisfied: fonttools>=4.22.0 in /n/home10/cyeh/anaconda3/envs/diffusion/lib/python3.9/site-packages (from matplotlib>=3.1->seaborn) (4.25.0)\n",
      "Requirement already satisfied: kiwisolver>=1.0.1 in /n/home10/cyeh/anaconda3/envs/diffusion/lib/python3.9/site-packages (from matplotlib>=3.1->seaborn) (1.4.2)\n",
      "Requirement already satisfied: pyparsing>=2.2.1 in /n/home10/cyeh/anaconda3/envs/diffusion/lib/python3.9/site-packages (from matplotlib>=3.1->seaborn) (3.0.9)\n",
      "Requirement already satisfied: python-dateutil>=2.7 in /n/home10/cyeh/anaconda3/envs/diffusion/lib/python3.9/site-packages (from matplotlib>=3.1->seaborn) (2.8.2)\n",
      "Requirement already satisfied: cycler>=0.10 in /n/home10/cyeh/anaconda3/envs/diffusion/lib/python3.9/site-packages (from matplotlib>=3.1->seaborn) (0.11.0)\n",
      "Requirement already satisfied: pillow>=6.2.0 in /n/home10/cyeh/anaconda3/envs/diffusion/lib/python3.9/site-packages (from matplotlib>=3.1->seaborn) (9.2.0)\n",
      "Requirement already satisfied: pytz>=2020.1 in /n/home10/cyeh/anaconda3/envs/diffusion/lib/python3.9/site-packages (from pandas>=0.25->seaborn) (2022.2.1)\n",
      "Requirement already satisfied: six>=1.5 in /n/home10/cyeh/anaconda3/envs/diffusion/lib/python3.9/site-packages (from python-dateutil>=2.7->matplotlib>=3.1->seaborn) (1.16.0)\n",
      "Installing collected packages: seaborn\n",
      "Successfully installed seaborn-0.12.0\n"
     ]
    }
   ],
   "source": [
    "!pip install seaborn"
   ]
  },
  {
   "cell_type": "code",
   "execution_count": 38,
   "id": "a12f0bf2-0bef-485c-8d75-42db33505958",
   "metadata": {},
   "outputs": [
    {
     "name": "stdout",
     "output_type": "stream",
     "text": [
      "Collecting umap-learn\n",
      "  Downloading umap-learn-0.5.3.tar.gz (88 kB)\n",
      "\u001b[2K     \u001b[90m━━━━━━━━━━━━━━━━━━━━━━━━━━━━━━━━━━━━━━━━\u001b[0m \u001b[32m88.2/88.2 kB\u001b[0m \u001b[31m1.5 MB/s\u001b[0m eta \u001b[36m0:00:00\u001b[0ma \u001b[36m0:00:01\u001b[0m\n",
      "\u001b[?25h  Preparing metadata (setup.py) ... \u001b[?25ldone\n",
      "\u001b[?25hRequirement already satisfied: numpy>=1.17 in /n/home10/cyeh/anaconda3/envs/diffusion/lib/python3.9/site-packages (from umap-learn) (1.23.2)\n",
      "Requirement already satisfied: scikit-learn>=0.22 in /n/home10/cyeh/anaconda3/envs/diffusion/lib/python3.9/site-packages (from umap-learn) (1.1.1)\n",
      "Requirement already satisfied: scipy>=1.0 in /n/home10/cyeh/anaconda3/envs/diffusion/lib/python3.9/site-packages (from umap-learn) (1.9.1)\n",
      "Collecting numba>=0.49\n",
      "  Downloading numba-0.56.3-cp39-cp39-manylinux2014_x86_64.manylinux_2_17_x86_64.whl (3.5 MB)\n",
      "\u001b[2K     \u001b[90m━━━━━━━━━━━━━━━━━━━━━━━━━━━━━━━━━━━━━━━━\u001b[0m \u001b[32m3.5/3.5 MB\u001b[0m \u001b[31m23.5 MB/s\u001b[0m eta \u001b[36m0:00:00\u001b[0m00:01\u001b[0m00:01\u001b[0m\n",
      "\u001b[?25hCollecting pynndescent>=0.5\n",
      "  Downloading pynndescent-0.5.7.tar.gz (1.1 MB)\n",
      "\u001b[2K     \u001b[90m━━━━━━━━━━━━━━━━━━━━━━━━━━━━━━━━━━━━━━━━\u001b[0m \u001b[32m1.1/1.1 MB\u001b[0m \u001b[31m9.2 MB/s\u001b[0m eta \u001b[36m0:00:00\u001b[0m:00:01\u001b[0m00:01\u001b[0m\n",
      "\u001b[?25h  Preparing metadata (setup.py) ... \u001b[?25ldone\n",
      "\u001b[?25hRequirement already satisfied: tqdm in /n/home10/cyeh/anaconda3/envs/diffusion/lib/python3.9/site-packages (from umap-learn) (4.64.1)\n",
      "Collecting llvmlite<0.40,>=0.39.0dev0\n",
      "  Downloading llvmlite-0.39.1-cp39-cp39-manylinux_2_17_x86_64.manylinux2014_x86_64.whl (34.6 MB)\n",
      "\u001b[2K     \u001b[90m━━━━━━━━━━━━━━━━━━━━━━━━━━━━━━━━━━━━━━━━\u001b[0m \u001b[32m34.6/34.6 MB\u001b[0m \u001b[31m19.9 MB/s\u001b[0m eta \u001b[36m0:00:00\u001b[0m00:01\u001b[0m00:01\u001b[0m\n",
      "\u001b[?25hRequirement already satisfied: setuptools in /n/home10/cyeh/anaconda3/envs/diffusion/lib/python3.9/site-packages (from numba>=0.49->umap-learn) (63.4.1)\n",
      "Requirement already satisfied: joblib>=0.11 in /n/home10/cyeh/anaconda3/envs/diffusion/lib/python3.9/site-packages (from pynndescent>=0.5->umap-learn) (1.1.0)\n",
      "Requirement already satisfied: threadpoolctl>=2.0.0 in /n/home10/cyeh/anaconda3/envs/diffusion/lib/python3.9/site-packages (from scikit-learn>=0.22->umap-learn) (2.2.0)\n",
      "Building wheels for collected packages: umap-learn, pynndescent\n",
      "  Building wheel for umap-learn (setup.py) ... \u001b[?25ldone\n",
      "\u001b[?25h  Created wheel for umap-learn: filename=umap_learn-0.5.3-py3-none-any.whl size=82814 sha256=169373e8bb5cb82e3bcac1d00b104fe854393ce62f49910cdc9da76058d80e00\n",
      "  Stored in directory: /n/home10/cyeh/.cache/pip/wheels/f4/3e/1c/596d0a463d17475af648688443fa4846fef624d1390339e7e9\n",
      "  Building wheel for pynndescent (setup.py) ... \u001b[?25ldone\n",
      "\u001b[?25h  Created wheel for pynndescent: filename=pynndescent-0.5.7-py3-none-any.whl size=54269 sha256=dc67c746d8ca0eb892487da0989f8bcfea79b492207d2462f55a243a553196e6\n",
      "  Stored in directory: /n/home10/cyeh/.cache/pip/wheels/5b/f5/6e/aac11d69fe2115d9ac871d6c148b361f0d3f8a35ed7354fa03\n",
      "Successfully built umap-learn pynndescent\n",
      "Installing collected packages: llvmlite, numba, pynndescent, umap-learn\n",
      "Successfully installed llvmlite-0.39.1 numba-0.56.3 pynndescent-0.5.7 umap-learn-0.5.3\n"
     ]
    }
   ],
   "source": [
    "!pip install umap-learn"
   ]
  },
  {
   "cell_type": "markdown",
   "id": "c8520c4d-7dd9-4fdc-9b03-94d9174314b5",
   "metadata": {
    "tags": []
   },
   "source": [
    "### start code"
   ]
  },
  {
   "cell_type": "code",
   "execution_count": 1,
   "id": "7799895a-ef95-4730-89ca-e1805f748ccb",
   "metadata": {},
   "outputs": [
    {
     "name": "stderr",
     "output_type": "stream",
     "text": [
      "/n/home10/cyeh/anaconda3/envs/diffusion/lib/python3.9/site-packages/tqdm/auto.py:22: TqdmWarning: IProgress not found. Please update jupyter and ipywidgets. See https://ipywidgets.readthedocs.io/en/stable/user_install.html\n",
      "  from .autonotebook import tqdm as notebook_tqdm\n"
     ]
    }
   ],
   "source": [
    "# import\n",
    "from sklearn.manifold import TSNE\n",
    "from umap import UMAP\n",
    "import pandas as pd\n",
    "import time\n",
    "import seaborn as sns\n",
    "import matplotlib.pyplot as plt\n",
    "import numpy as np"
   ]
  },
  {
   "cell_type": "code",
   "execution_count": 2,
   "id": "7f1226dc-286b-487c-b6ec-5ea2dc14838f",
   "metadata": {},
   "outputs": [],
   "source": [
    "# ensure plots show up in jupyter\n",
    "import plotly.express as px\n",
    "import plotly.io as pio\n",
    "pio.renderers.default = \"iframe\""
   ]
  },
  {
   "cell_type": "code",
   "execution_count": 22,
   "id": "4ec11597-843c-442b-874d-e773909a500d",
   "metadata": {},
   "outputs": [],
   "source": [
    "import pickle\n",
    "# load attn_dict back\n",
    "attn_dict = pickle.load( open( \"attn_dict_new.p\", \"rb\" ) )"
   ]
  },
  {
   "cell_type": "code",
   "execution_count": 4,
   "id": "2f953287-e822-4825-89dd-7e12928aa92a",
   "metadata": {},
   "outputs": [],
   "source": [
    "# produce corresponding key matrix from query matrix (e.g., for attention)\n",
    "def k_matrix(q_matrix):\n",
    "    # assumes for specific layer + head (e.g., queries[0][0])\n",
    "    num_tokens = len(q_matrix)\n",
    "    k_matrix = []\n",
    "    i = 0\n",
    "    while i < num_tokens:\n",
    "        q = q_matrix[i]\n",
    "        sent_length = len(q)\n",
    "        for k_i in range(sent_length):\n",
    "            k = []\n",
    "            for q_i in range(sent_length):\n",
    "                k.append(q_matrix[q_i + i][k_i])\n",
    "            k_matrix.append(k)\n",
    "        i += sent_length\n",
    "    \n",
    "    return k_matrix\n",
    "    \n",
    "# res = k_matrix(attn_dict[\"attn\"][0][0][:13])\n",
    "# print(attn_dict[\"attn\"][0][0][:13])\n",
    "# print(res)\n",
    "# print(len(res))\n",
    "# print(len(res[0]))"
   ]
  },
  {
   "cell_type": "code",
   "execution_count": 42,
   "id": "36034c12-503c-4eef-80a9-1730035feb93",
   "metadata": {},
   "outputs": [
    {
     "data": {
      "text/html": [
       "<div>\n",
       "<style scoped>\n",
       "    .dataframe tbody tr th:only-of-type {\n",
       "        vertical-align: middle;\n",
       "    }\n",
       "\n",
       "    .dataframe tbody tr th {\n",
       "        vertical-align: top;\n",
       "    }\n",
       "\n",
       "    .dataframe thead th {\n",
       "        text-align: right;\n",
       "    }\n",
       "</style>\n",
       "<table border=\"1\" class=\"dataframe\">\n",
       "  <thead>\n",
       "    <tr style=\"text-align: right;\">\n",
       "      <th></th>\n",
       "      <th>token</th>\n",
       "      <th>type</th>\n",
       "      <th>pos_int</th>\n",
       "      <th>position</th>\n",
       "      <th>sentence</th>\n",
       "      <th>attn</th>\n",
       "      <th>dot_prod</th>\n",
       "      <th>norm</th>\n",
       "      <th>f0</th>\n",
       "      <th>f1</th>\n",
       "      <th>...</th>\n",
       "      <th>f54</th>\n",
       "      <th>f55</th>\n",
       "      <th>f56</th>\n",
       "      <th>f57</th>\n",
       "      <th>f58</th>\n",
       "      <th>f59</th>\n",
       "      <th>f60</th>\n",
       "      <th>f61</th>\n",
       "      <th>f62</th>\n",
       "      <th>f63</th>\n",
       "    </tr>\n",
       "  </thead>\n",
       "  <tbody>\n",
       "    <tr>\n",
       "      <th>35104</th>\n",
       "      <td>sub</td>\n",
       "      <td>key</td>\n",
       "      <td>26</td>\n",
       "      <td>0.866667</td>\n",
       "      <td>[CLS] kangaroo ##s , wall ##abi ##es and allie...</td>\n",
       "      <td>[0.03604630008339882, 0.029107827693223953, 0....</td>\n",
       "      <td>[4.107477451795525, 12.25144496853627, 12.7672...</td>\n",
       "      <td>5.638753</td>\n",
       "      <td>-0.448427</td>\n",
       "      <td>0.452016</td>\n",
       "      <td>...</td>\n",
       "      <td>0.025935</td>\n",
       "      <td>-0.252371</td>\n",
       "      <td>-0.307189</td>\n",
       "      <td>-0.553393</td>\n",
       "      <td>-0.400281</td>\n",
       "      <td>-0.044767</td>\n",
       "      <td>-0.931860</td>\n",
       "      <td>0.024397</td>\n",
       "      <td>0.395096</td>\n",
       "      <td>-0.427139</td>\n",
       "    </tr>\n",
       "    <tr>\n",
       "      <th>35105</th>\n",
       "      <td>##ord</td>\n",
       "      <td>key</td>\n",
       "      <td>27</td>\n",
       "      <td>0.900000</td>\n",
       "      <td>[CLS] kangaroo ##s , wall ##abi ##es and allie...</td>\n",
       "      <td>[0.014093615114688873, 0.0315287709236145, 0.0...</td>\n",
       "      <td>[-3.4051819606488785, 12.890595340358306, 16.5...</td>\n",
       "      <td>6.412007</td>\n",
       "      <td>0.534106</td>\n",
       "      <td>0.985069</td>\n",
       "      <td>...</td>\n",
       "      <td>0.437646</td>\n",
       "      <td>-0.070235</td>\n",
       "      <td>-0.187654</td>\n",
       "      <td>0.003272</td>\n",
       "      <td>-0.369582</td>\n",
       "      <td>-0.121824</td>\n",
       "      <td>-1.577264</td>\n",
       "      <td>-0.691520</td>\n",
       "      <td>0.792727</td>\n",
       "      <td>-0.869315</td>\n",
       "    </tr>\n",
       "    <tr>\n",
       "      <th>35106</th>\n",
       "      <td>##er</td>\n",
       "      <td>key</td>\n",
       "      <td>28</td>\n",
       "      <td>0.933333</td>\n",
       "      <td>[CLS] kangaroo ##s , wall ##abi ##es and allie...</td>\n",
       "      <td>[0.014776294119656086, 0.03740769624710083, 0....</td>\n",
       "      <td>[-3.026763794477147, 14.258397488768336, 13.91...</td>\n",
       "      <td>6.536303</td>\n",
       "      <td>-0.406283</td>\n",
       "      <td>1.448743</td>\n",
       "      <td>...</td>\n",
       "      <td>-0.780940</td>\n",
       "      <td>-0.496483</td>\n",
       "      <td>-0.708584</td>\n",
       "      <td>0.035365</td>\n",
       "      <td>-0.862425</td>\n",
       "      <td>-0.592727</td>\n",
       "      <td>-1.774222</td>\n",
       "      <td>-0.381993</td>\n",
       "      <td>1.461982</td>\n",
       "      <td>-0.028197</td>\n",
       "    </tr>\n",
       "    <tr>\n",
       "      <th>35107</th>\n",
       "      <td>.</td>\n",
       "      <td>key</td>\n",
       "      <td>29</td>\n",
       "      <td>0.966667</td>\n",
       "      <td>[CLS] kangaroo ##s , wall ##abi ##es and allie...</td>\n",
       "      <td>[0.03520860895514488, 0.017612779513001442, 0....</td>\n",
       "      <td>[3.9193679574741758, 8.232386084198192, 9.1355...</td>\n",
       "      <td>5.153133</td>\n",
       "      <td>-0.333451</td>\n",
       "      <td>0.357408</td>\n",
       "      <td>...</td>\n",
       "      <td>-0.096163</td>\n",
       "      <td>1.146897</td>\n",
       "      <td>-0.553073</td>\n",
       "      <td>0.408580</td>\n",
       "      <td>0.232851</td>\n",
       "      <td>0.218227</td>\n",
       "      <td>-0.417159</td>\n",
       "      <td>-0.883505</td>\n",
       "      <td>0.674916</td>\n",
       "      <td>-0.970439</td>\n",
       "    </tr>\n",
       "    <tr>\n",
       "      <th>35108</th>\n",
       "      <td>[sep]</td>\n",
       "      <td>key</td>\n",
       "      <td>30</td>\n",
       "      <td>1.000000</td>\n",
       "      <td>[CLS] kangaroo ##s , wall ##abi ##es and allie...</td>\n",
       "      <td>[0.08984620869159698, 0.02866578847169876, 0.0...</td>\n",
       "      <td>[11.413838643185436, 12.129023443192064, 16.45...</td>\n",
       "      <td>6.213254</td>\n",
       "      <td>-0.882669</td>\n",
       "      <td>1.418839</td>\n",
       "      <td>...</td>\n",
       "      <td>-0.142821</td>\n",
       "      <td>-1.192497</td>\n",
       "      <td>0.476258</td>\n",
       "      <td>-0.628260</td>\n",
       "      <td>0.349613</td>\n",
       "      <td>0.775241</td>\n",
       "      <td>-0.985531</td>\n",
       "      <td>-0.338950</td>\n",
       "      <td>0.189099</td>\n",
       "      <td>0.347325</td>\n",
       "    </tr>\n",
       "  </tbody>\n",
       "</table>\n",
       "<p>5 rows × 72 columns</p>\n",
       "</div>"
      ],
      "text/plain": [
       "       token type  pos_int  position  \\\n",
       "35104    sub  key       26  0.866667   \n",
       "35105  ##ord  key       27  0.900000   \n",
       "35106   ##er  key       28  0.933333   \n",
       "35107      .  key       29  0.966667   \n",
       "35108  [sep]  key       30  1.000000   \n",
       "\n",
       "                                                sentence  \\\n",
       "35104  [CLS] kangaroo ##s , wall ##abi ##es and allie...   \n",
       "35105  [CLS] kangaroo ##s , wall ##abi ##es and allie...   \n",
       "35106  [CLS] kangaroo ##s , wall ##abi ##es and allie...   \n",
       "35107  [CLS] kangaroo ##s , wall ##abi ##es and allie...   \n",
       "35108  [CLS] kangaroo ##s , wall ##abi ##es and allie...   \n",
       "\n",
       "                                                    attn  \\\n",
       "35104  [0.03604630008339882, 0.029107827693223953, 0....   \n",
       "35105  [0.014093615114688873, 0.0315287709236145, 0.0...   \n",
       "35106  [0.014776294119656086, 0.03740769624710083, 0....   \n",
       "35107  [0.03520860895514488, 0.017612779513001442, 0....   \n",
       "35108  [0.08984620869159698, 0.02866578847169876, 0.0...   \n",
       "\n",
       "                                                dot_prod      norm        f0  \\\n",
       "35104  [4.107477451795525, 12.25144496853627, 12.7672...  5.638753 -0.448427   \n",
       "35105  [-3.4051819606488785, 12.890595340358306, 16.5...  6.412007  0.534106   \n",
       "35106  [-3.026763794477147, 14.258397488768336, 13.91...  6.536303 -0.406283   \n",
       "35107  [3.9193679574741758, 8.232386084198192, 9.1355...  5.153133 -0.333451   \n",
       "35108  [11.413838643185436, 12.129023443192064, 16.45...  6.213254 -0.882669   \n",
       "\n",
       "             f1  ...       f54       f55       f56       f57       f58  \\\n",
       "35104  0.452016  ...  0.025935 -0.252371 -0.307189 -0.553393 -0.400281   \n",
       "35105  0.985069  ...  0.437646 -0.070235 -0.187654  0.003272 -0.369582   \n",
       "35106  1.448743  ... -0.780940 -0.496483 -0.708584  0.035365 -0.862425   \n",
       "35107  0.357408  ... -0.096163  1.146897 -0.553073  0.408580  0.232851   \n",
       "35108  1.418839  ... -0.142821 -1.192497  0.476258 -0.628260  0.349613   \n",
       "\n",
       "            f59       f60       f61       f62       f63  \n",
       "35104 -0.044767 -0.931860  0.024397  0.395096 -0.427139  \n",
       "35105 -0.121824 -1.577264 -0.691520  0.792727 -0.869315  \n",
       "35106 -0.592727 -1.774222 -0.381993  1.461982 -0.028197  \n",
       "35107  0.218227 -0.417159 -0.883505  0.674916 -0.970439  \n",
       "35108  0.775241 -0.985531 -0.338950  0.189099  0.347325  \n",
       "\n",
       "[5 rows x 72 columns]"
      ]
     },
     "execution_count": 42,
     "metadata": {},
     "output_type": "execute_result"
    }
   ],
   "source": [
    "#layer = 0\n",
    "#head = 0\n",
    "\n",
    "def fix_sentences(sentences, positions, types):\n",
    "    # format sentences to be displayed in html plot\n",
    "    new_sentences = []\n",
    "    for sent, pos, t in zip(sentences, positions, types):\n",
    "        s_arr = sent.split()\n",
    "        s = \"\"\n",
    "        for i in range(len(s_arr)):\n",
    "            if i % 10 == 0 and i not in [0, len(s_arr) - 1]:\n",
    "                s += \"<br>\" # add new line every 10 tokens\n",
    "                \n",
    "            if i == pos: # italicize  + color current token\n",
    "                color = \"#B6E1B9\"\n",
    "                if t == \"key\":\n",
    "                    color = \"#F6BA98\"\n",
    "                s += \"<b style='color:\" + color + \"'>\" + s_arr[i] + \"</b>\"\n",
    "            else:\n",
    "                s += s_arr[i]\n",
    "                \n",
    "            if s != len(s_arr) - 1:\n",
    "                s += \" \" # add space back between each token\n",
    "        new_sentences.append(s)\n",
    "    \n",
    "    return new_sentences\n",
    "\n",
    "def make_df(layer, head):\n",
    "# convert data into pandas dataframe\n",
    "    df = pd.DataFrame()\n",
    "    df['token'] = attn_dict['left_text'] + attn_dict['right_text'] # store tokens\n",
    "    df['token'] = df['token'].str.lower() # convert to lowercase\n",
    "    num_tokens = len(attn_dict['left_text'])\n",
    "    \n",
    "    df['type'] = ['query'] * num_tokens + ['key'] * num_tokens # store token type\n",
    "    df['pos_int'] = attn_dict['positions'] * 2 # positions\n",
    "    df['position'] = attn_dict['normalized_positions'] * 2\n",
    "    \n",
    "    # sentence itself\n",
    "    df['sentence'] = fix_sentences(attn_dict['tokenized_sentences'], attn_dict['positions'], df['type'][:num_tokens]) + fix_sentences(attn_dict['tokenized_sentences'], attn_dict['positions'], df['type'][num_tokens:])\n",
    "\n",
    "    # save attn info\n",
    "    attn = attn_dict['attn'][layer][head]\n",
    "    df['attn'] = attn + k_matrix(attn)\n",
    "    #df['max_ind'] = [a.index(max(a)) for a in df['attn']]\n",
    "    dp = attn_dict['dot_prod'][layer][head]\n",
    "    df['dot_prod'] = dp + k_matrix(dp)\n",
    "    \n",
    "    # extract q/k vectors\n",
    "    queries = attn_dict['queries']\n",
    "    keys = attn_dict['keys']\n",
    "    vec_size = len(queries[layer][head][0])\n",
    "    \n",
    "    # norms\n",
    "    norms_q = []\n",
    "    norms_k = []\n",
    "    for i in range(len(queries[layer][head])):\n",
    "        q = queries[layer][head][i]\n",
    "        k = queries[layer][head][i]\n",
    "        norms_q.append(np.linalg.norm(q))\n",
    "        norms_k.append(np.linalg.norm(k))\n",
    "    df[\"norm\"] = norms_q + norms_k\n",
    "\n",
    "    for i in range(vec_size): # store q/k vector values\n",
    "        qs = [queries[layer][head][j][i] for j in range(num_tokens)]\n",
    "        ks = [keys[layer][head][j][i] for j in range(num_tokens)]\n",
    "        df[\"f\" + str(i)] = qs + ks # add to dataframe\n",
    "        \n",
    "    # comment out line below if want all 60k data points\n",
    "    # df = pd.concat([df.iloc[:5021], df.iloc[30070:30070+5021]]) # only get first X keys + queries\n",
    "    df = pd.concat([df.iloc[:5024], df.iloc[30085:30085+5024]]) # only get first X keys + queries\n",
    "    # print(len(df))\n",
    "    # df_lab = df.iloc[:, :8].copy() # get label cols only\n",
    "    df.to_csv('test.tsv', sep=\"\\t\", index=False)\n",
    "    # df_lab.to_csv('layer' + str(layer) + '/labels' + str(head) + '.tsv', sep=\"\\t\", index=False) # save labels to file\n",
    "    \n",
    "    return df\n",
    "\n",
    "# testing\n",
    "df = make_df(0, 0)\n",
    "df.tail()"
   ]
  },
  {
   "cell_type": "markdown",
   "id": "46cf43da-970d-4ab2-bb49-a37a26375ae2",
   "metadata": {
    "tags": []
   },
   "source": [
    "### translating key vectors\n",
    "Translate keys to have same centroid as queries for easier(?) comparison"
   ]
  },
  {
   "cell_type": "code",
   "execution_count": 43,
   "id": "ede2e999-1d09-4cbb-ba12-03d01fb00e1f",
   "metadata": {},
   "outputs": [],
   "source": [
    "def find_q_means(df):\n",
    "    # find mean of each feature in query embeddings\n",
    "    df_queries = df.loc[df['type'] == 'query']\n",
    "    df_queries = df_queries.iloc[:, 8:].copy()\n",
    "    # df_queries.head()\n",
    "    query_means = df_queries.mean(axis=0)\n",
    "    return query_means\n",
    "\n",
    "# query_means = find_q_means(df)\n",
    "# query_means"
   ]
  },
  {
   "cell_type": "code",
   "execution_count": 44,
   "id": "7dbc5dac-73d6-4dfd-82cc-21e9cdfffd13",
   "metadata": {},
   "outputs": [],
   "source": [
    "def find_k_means(df):\n",
    "    # find mean of each feature in key embeddings\n",
    "    df_keys = df.loc[df['type'] == 'key']\n",
    "    df_keys = df_keys.iloc[:, 8:].copy()\n",
    "    # df_keys.head()\n",
    "    key_means = df_keys.mean(axis=0)\n",
    "    # key_means\n",
    "    return df_keys, key_means\n",
    "\n",
    "# df_keys, key_means = find_k_means(df)\n",
    "# key_means"
   ]
  },
  {
   "cell_type": "code",
   "execution_count": 45,
   "id": "b3d06abe-3a29-42f5-9b53-3baf1319f34e",
   "metadata": {},
   "outputs": [],
   "source": [
    "def translate_keys(df, df_keys, query_means, key_means):\n",
    "# translate key vectors accordingly\n",
    "    # new_keys = pd.DataFrame()\n",
    "    for i in range(64):\n",
    "        col = \"f\" + str(i)\n",
    "        new_key = df_keys[col] - key_means[col] + query_means[col]\n",
    "        df.loc[df['type'] == 'key', col] = new_key\n",
    "\n",
    "    # print(new_keys.head())\n",
    "    # new_means = df[df.type == 'key'].mean(axis=0)\n",
    "    # print(new_means)\n",
    "    # df.tail()\n",
    "    return df\n",
    "\n",
    "# df = translate_keys(df, df_keys, query_means, key_means)"
   ]
  },
  {
   "cell_type": "code",
   "execution_count": 46,
   "id": "c403f80e-0e94-43f9-a450-4c62d180c2e6",
   "metadata": {},
   "outputs": [],
   "source": [
    "# whole translation loop\n",
    "def translate_loop(df): \n",
    "    query_means = find_q_means(df)\n",
    "    df_keys, key_means = find_k_means(df)\n",
    "    df = translate_keys(df, df_keys, query_means, key_means)\n",
    "    return df\n",
    "\n",
    "# df = translate_loop(df)\n",
    "# df.tail()"
   ]
  },
  {
   "cell_type": "markdown",
   "id": "8d3c73f3-786f-4c34-9838-03f45b4a3cd5",
   "metadata": {
    "jp-MarkdownHeadingCollapsed": true,
    "tags": []
   },
   "source": [
    "### subtracting position"
   ]
  },
  {
   "cell_type": "code",
   "execution_count": 66,
   "id": "ee92ded9-498d-46f8-9a83-70632c7257df",
   "metadata": {},
   "outputs": [],
   "source": [
    "def subtract_pos(df, layer, head, all_embeddings):\n",
    "    resids = get_residual(layer, head, all_embeddings)\n",
    "    for p in range(len(pos_embeddings)):\n",
    "        for i in range(64):\n",
    "            # col = \"f\" + str(i)\n",
    "            df.iloc[p, 8 + i] -= resids[p][i] - pos_embeddings[p][i]\n",
    "    \n",
    "    return df\n",
    "   \n",
    "# df = subtract_pos(df, 3, 3, all_embeddings)\n",
    "# df.tail()"
   ]
  },
  {
   "cell_type": "markdown",
   "id": "a7f219da-6f2c-4859-a401-98395c641e9d",
   "metadata": {
    "tags": []
   },
   "source": [
    "### plot generation"
   ]
  },
  {
   "cell_type": "code",
   "execution_count": null,
   "id": "5711ab87-2497-459c-a5a8-c97cf55bae7d",
   "metadata": {},
   "outputs": [],
   "source": [
    "# load existing data\n",
    "tsne_results = np.load(\"tsne/translated_layer0_head0.npy\")\n",
    "# umap_results = np.load(\"umap/layer0_head0.npy\")"
   ]
  },
  {
   "cell_type": "code",
   "execution_count": 49,
   "id": "17e3cb64-aab2-48e5-bde6-8e777d5ba824",
   "metadata": {},
   "outputs": [
    {
     "name": "stderr",
     "output_type": "stream",
     "text": [
      "/n/home10/cyeh/anaconda3/envs/diffusion/lib/python3.9/site-packages/sklearn/manifold/_t_sne.py:795: FutureWarning:\n",
      "\n",
      "The default initialization in TSNE will change from 'random' to 'pca' in 1.2.\n",
      "\n",
      "/n/home10/cyeh/anaconda3/envs/diffusion/lib/python3.9/site-packages/sklearn/manifold/_t_sne.py:805: FutureWarning:\n",
      "\n",
      "The default learning rate in TSNE will change from 200.0 to 'auto' in 1.2.\n",
      "\n"
     ]
    },
    {
     "name": "stdout",
     "output_type": "stream",
     "text": [
      "t-SNE done! Time elapsed: 39.78875398635864 seconds\n"
     ]
    }
   ],
   "source": [
    "# run TSNE\n",
    "def run_tsne(df, layer, head):\n",
    "    # prepare data for feature plot\n",
    "    df_sub = df.iloc[:, 8:].copy()\n",
    "    df_subset = df_sub.values # only get feature cols\n",
    "    #df_sub.to_csv('layer' + str(layer) + '/features' + str(head) + '.tsv', sep=\"\\t\", index=False, header=False) # save feature data\n",
    "    \n",
    "    # run TSNE\n",
    "    # from: https://towardsdatascience.com/visualising-high-dimensional-datasets-using-pca-and-t-sne-in-python-8ef87e7915b\n",
    "    time_start = time.time()\n",
    "    # tsne = TSNE(n_components=3, verbose=0, perplexity=100, n_iter=300) # 3D\n",
    "    tsne = TSNE(n_components=2, verbose=0, perplexity=100, n_iter=300, metric=\"cosine\") # 2D\n",
    "    tsne_results = tsne.fit_transform(df_subset)\n",
    "    # np.save(\"tsne/nopos_layer\" + str(layer) + \"_head\" + str(head) + \".npy\", tsne_results) # save tsne results too\n",
    "    print('t-SNE done! Time elapsed: {} seconds'.format(time.time()-time_start))\n",
    "    \n",
    "    return tsne_results\n",
    "\n",
    "tsne_results = run_tsne(df, 3, 3)"
   ]
  },
  {
   "cell_type": "code",
   "execution_count": 48,
   "id": "af0ec94c-4f12-4e69-a43d-88ce285fdf5f",
   "metadata": {},
   "outputs": [],
   "source": [
    "def run_umap(df, layer, head):\n",
    "    # prepare data for feature plot\n",
    "    df_sub = df.iloc[:, 8:].copy()\n",
    "    df_subset = df_sub.values # only get feature cols\n",
    "    #df_sub.to_csv('layer' + str(layer) + '/features' + str(head) + '.tsv', sep=\"\\t\", index=False, header=False) # save feature data\n",
    "    \n",
    "    # run umap\n",
    "    time_start = time.time()\n",
    "    umap = UMAP(n_components=2, init='random', random_state=0, metric=\"cosine\")\n",
    "    umap_results = umap.fit_transform(df_subset)\n",
    "    # np.save(\"umap/nopos_layer\" + str(layer) + \"_head\" + str(head) + \".npy\", umap_results) # save umap results too\n",
    "    print('UMAP done! Time elapsed: {} seconds'.format(time.time()-time_start))\n",
    "    \n",
    "    return umap_results\n",
    "\n",
    "# umap_results = run_umap(df, 3, 3)"
   ]
  },
  {
   "cell_type": "code",
   "execution_count": 50,
   "id": "ec0f0f9b-43ca-45fd-83f6-665f9af61b0f",
   "metadata": {},
   "outputs": [
    {
     "name": "stdout",
     "output_type": "stream",
     "text": [
      "5024\n"
     ]
    }
   ],
   "source": [
    "# save variable for later computation\n",
    "half = int(len(tsne_results) / 2)\n",
    "print(half)"
   ]
  },
  {
   "cell_type": "code",
   "execution_count": 51,
   "id": "3df027b7-c4e6-4376-a622-91e95b45ada6",
   "metadata": {},
   "outputs": [],
   "source": [
    "# add additional columns to df\n",
    "def add_to_df(df):\n",
    "    # positions (not normalized)\n",
    "    df['pos_int'] = attn_dict['positions'][:half] * 2\n",
    "    # df['pos_int'] = attn_dict['positions'] * 2\n",
    "    df['pos_int'] = df['pos_int'] + 1\n",
    "    #print(df['pos_int'].head(20))\n",
    "    \n",
    "    # length of sentence\n",
    "    words = df['sentence'].str.split().str.len()\n",
    "    df['length'] = words\n",
    "    # print(df['length'].head(20))\n",
    "    # print(len(df['length']))\n",
    "    \n",
    "    # corresponding color for queries/keys\n",
    "    colors = []\n",
    "    for t in df['type']:\n",
    "        if t == \"query\":\n",
    "            colors.append(\"#B6E1B9\")\n",
    "        else:\n",
    "            colors.append(\"#F6BA98\")\n",
    "\n",
    "    # print(colors[:20])\n",
    "    df['color'] = colors\n",
    "    df['norm'] = round(df['norm'], 2)\n",
    "\n",
    "    return df"
   ]
  },
  {
   "cell_type": "code",
   "execution_count": 52,
   "id": "3e53e7bb-8539-47cb-8fd0-ccdeaed9d39b",
   "metadata": {},
   "outputs": [],
   "source": [
    "def make_fig(tsne_results, df, layer, head, plot_type):\n",
    "    # plot TSNE / UMAP results with plotly\n",
    "    # 3D version\n",
    "    # fig = px.scatter_3d(\n",
    "    #     tsne_results[half:], x=0, y=1, z=2,\n",
    "    #     color=df.norm[half:], labels={'color': 'normalized position'}, color_continuous_scale=px.colors.sequential.Burgyl,\n",
    "    #     title=plot_type + ' Plot for BERT (Layer ' + str(layer) + ', Head ' + str(head) + ')',\n",
    "    #     height=800,\n",
    "    #     opacity=0.5\n",
    "    # )\n",
    "    \n",
    "    # 2D version\n",
    "    fig = px.scatter(\n",
    "        tsne_results[half:], x=0, y=1,\n",
    "        color=df.position[half:], labels={'color': 'normalized position'}, color_continuous_scale=px.colors.sequential.Burgyl,\n",
    "        title=plot_type + ' Plot for BERT (Layer ' + str(layer) + ', Head ' + str(head) + ')',\n",
    "        height=800,\n",
    "        opacity=0.5\n",
    "    )\n",
    "    fig2 = px.scatter(\n",
    "        tsne_results[:half], x=0, y=1, \n",
    "        color=df.position[:half], labels={'color': ''}, color_continuous_scale=px.colors.sequential.Blugrn,\n",
    "        title=plot_type + ' Plot for BERT (Layer ' + str(layer) + ', Head ' + str(head) + ')',\n",
    "        height=800,\n",
    "        opacity=0.5\n",
    "    )\n",
    "    \n",
    "    # add second trace to include 2 color scales (1st is key, 2nd is query)\n",
    "    fig.layout.coloraxis2 = fig2.layout.coloraxis\n",
    "    fig.add_trace(fig2.data[0])\n",
    "    fig['data'][1]['marker'] = {    'color' : df['position'][:half],\n",
    "                                    'coloraxis' : 'coloraxis2',\n",
    "                                    'opacity' : 0.5\n",
    "                                }\n",
    "    # formatting things\n",
    "    fig.layout.coloraxis.colorbar.x = 1.05\n",
    "    fig.layout.coloraxis.colorbar.title.side = \"right\"\n",
    "    fig.layout.coloraxis2.colorbar.x = 1.01\n",
    "    fig.layout.coloraxis2.colorbar.ticklabelstep=70\n",
    "    fig.layout.coloraxis2.colorbar.ticklabelposition=\"inside\"\n",
    "    \n",
    "    # updating display\n",
    "    fig.update_traces( # queries\n",
    "        customdata=df[['token', 'sentence', 'pos_int', 'length', 'type', 'color', 'norm']][:half],\n",
    "        hovertemplate=\"<b style='font-size:larger'><span style='color:%{customdata[5]}'>%{customdata[0]}</span> (<i>%{customdata[4]}</i>, pos: %{customdata[2]} of %{customdata[3]}, norm: %{customdata[6]})</b><br><br>%{customdata[1]}\",\n",
    "        selector=dict(marker_coloraxis='coloraxis2'),\n",
    "        marker=dict(size=6)\n",
    "    )\n",
    "    fig.update_traces( # keys\n",
    "        customdata=df[['token', 'sentence', 'pos_int', 'length', 'type', 'color', 'norm']][half:],\n",
    "        hovertemplate=\"<b style='font-size:larger'><span style='color:%{customdata[5]}'>%{customdata[0]}</span> (<i>%{customdata[4]}</i>, pos: %{customdata[2]} of %{customdata[3]}, norm: %{customdata[6]})</b><br><br>%{customdata[1]}\",\n",
    "        selector=dict(marker_coloraxis='coloraxis'),\n",
    "        marker=dict(size=6)\n",
    "    )\n",
    "    fig.update_layout(\n",
    "        plot_bgcolor='#E8E8E8',\n",
    "        hoverlabel=dict(font_color = 'white', bordercolor = 'white'),\n",
    "    )\n",
    "    \n",
    "    # save plot as html file\n",
    "    fig.write_html(plot_type + \"_plots/layer\" + str(layer) + \"_head\" + str(head) + \".html\")\n",
    "    fig.show()\n",
    "    \n",
    "# make_fig(tsne_results, df, 0, 0, \"TSNE\")"
   ]
  },
  {
   "cell_type": "code",
   "execution_count": null,
   "id": "5dc252d9-18dd-4c40-aee4-197edd901f44",
   "metadata": {},
   "outputs": [],
   "source": [
    "# make 1 TSNE plot w/ pre-loaded data\n",
    "df = add_to_df(df)\n",
    "make_fig(tsne_results, df, 3, 3, \"TSNE\")"
   ]
  },
  {
   "cell_type": "code",
   "execution_count": null,
   "id": "3a7a91f6-0f15-48cf-aa5b-12135dc544d1",
   "metadata": {},
   "outputs": [],
   "source": [
    "# make 1 UMAP plot w/ pre-loaded data\n",
    "# df = add_to_df(df)\n",
    "make_fig(umap_results, df, 3, 3, \"UMAP\")"
   ]
  },
  {
   "cell_type": "code",
   "execution_count": 34,
   "id": "fb3349f4-25d8-466a-a073-fca78cb8c272",
   "metadata": {},
   "outputs": [],
   "source": [
    "# generate tsne plot for specific layer, head of BERT\n",
    "def generate_tsne(layer, head):\n",
    "    df = make_df(layer, head)\n",
    "    df = translate_loop(df)\n",
    "    tsne_results = run_tsne(df, layer, head)\n",
    "    df = add_to_df(df)\n",
    "    make_fig(tsne_results, df, layer, head, \"TSNE\")"
   ]
  },
  {
   "cell_type": "code",
   "execution_count": null,
   "id": "f05ce332-f90a-4661-97ac-05b32d6f51e8",
   "metadata": {},
   "outputs": [],
   "source": [
    "generate_tsne(3, 11)"
   ]
  },
  {
   "cell_type": "code",
   "execution_count": 35,
   "id": "380683e2-228f-41a0-b59b-58b7ed68ac27",
   "metadata": {},
   "outputs": [],
   "source": [
    "# generate umap plot for specific layer, head of BERT\n",
    "def generate_umap(layer, head):\n",
    "    df = make_df(layer, head)\n",
    "    df = translate_loop(df)\n",
    "    umap_results = run_umap(df, layer, head)\n",
    "    df = add_to_df(df)\n",
    "    make_fig(umap_results, df, layer, head, \"UMAP\")"
   ]
  },
  {
   "cell_type": "code",
   "execution_count": 65,
   "id": "7034a852-80bb-44e0-b925-a9bb75bfa2c2",
   "metadata": {},
   "outputs": [
    {
     "name": "stdout",
     "output_type": "stream",
     "text": [
      "UMAP done! Time elapsed: 102.68756198883057 seconds\n"
     ]
    },
    {
     "data": {
      "text/html": [
       "<iframe\n",
       "    scrolling=\"no\"\n",
       "    width=\"100%\"\n",
       "    height=\"820\"\n",
       "    src=\"iframe_figures/figure_65.html\"\n",
       "    frameborder=\"0\"\n",
       "    allowfullscreen\n",
       "></iframe>\n"
      ]
     },
     "metadata": {},
     "output_type": "display_data"
    }
   ],
   "source": [
    "generate_umap(0, 0)"
   ]
  },
  {
   "cell_type": "code",
   "execution_count": 53,
   "id": "16437bba-faee-46f5-b3c0-2d38ac0d07e4",
   "metadata": {},
   "outputs": [],
   "source": [
    "# generate tsne/umap simultaneously\n",
    "def generate_tsne_and_umap(layer, head):\n",
    "    df = make_df(layer, head)\n",
    "    df = translate_loop(df)\n",
    "    # df = subtract_pos(df, layer, head, all_embeddings)\n",
    "    tsne_results = run_tsne(df, layer, head)\n",
    "    umap_results = run_umap(df, layer, head)\n",
    "    df = add_to_df(df)\n",
    "    make_fig(tsne_results, df, layer, head, \"TSNE\")\n",
    "    make_fig(umap_results, df, layer, head, \"UMAP\")"
   ]
  },
  {
   "cell_type": "code",
   "execution_count": 57,
   "id": "d018e295-675f-462b-8866-cfc0689a685a",
   "metadata": {},
   "outputs": [
    {
     "name": "stderr",
     "output_type": "stream",
     "text": [
      "/n/home10/cyeh/anaconda3/envs/diffusion/lib/python3.9/site-packages/sklearn/manifold/_t_sne.py:795: FutureWarning:\n",
      "\n",
      "The default initialization in TSNE will change from 'random' to 'pca' in 1.2.\n",
      "\n",
      "/n/home10/cyeh/anaconda3/envs/diffusion/lib/python3.9/site-packages/sklearn/manifold/_t_sne.py:805: FutureWarning:\n",
      "\n",
      "The default learning rate in TSNE will change from 200.0 to 'auto' in 1.2.\n",
      "\n"
     ]
    },
    {
     "name": "stdout",
     "output_type": "stream",
     "text": [
      "t-SNE done! Time elapsed: 53.19543719291687 seconds\n",
      "UMAP done! Time elapsed: 9.808901309967041 seconds\n"
     ]
    },
    {
     "data": {
      "text/html": [
       "<iframe\n",
       "    scrolling=\"no\"\n",
       "    width=\"100%\"\n",
       "    height=\"820\"\n",
       "    src=\"iframe_figures/figure_57.html\"\n",
       "    frameborder=\"0\"\n",
       "    allowfullscreen\n",
       "></iframe>\n"
      ]
     },
     "metadata": {},
     "output_type": "display_data"
    },
    {
     "data": {
      "text/html": [
       "<iframe\n",
       "    scrolling=\"no\"\n",
       "    width=\"100%\"\n",
       "    height=\"820\"\n",
       "    src=\"iframe_figures/figure_57.html\"\n",
       "    frameborder=\"0\"\n",
       "    allowfullscreen\n",
       "></iframe>\n"
      ]
     },
     "metadata": {},
     "output_type": "display_data"
    }
   ],
   "source": [
    "generate_tsne_and_umap(11, 3)"
   ]
  },
  {
   "cell_type": "code",
   "execution_count": null,
   "id": "a016548a-1c5d-4570-94e9-522da6a051a1",
   "metadata": {},
   "outputs": [],
   "source": [
    "# loop for generating plots\n",
    "for i in range(6):\n",
    "    for j in range(12):\n",
    "        generate_tsne_and_umap(i, j)\n",
    "        print(\"Layer {} Head {} done\".format(i, j))"
   ]
  },
  {
   "cell_type": "markdown",
   "id": "95e7c2af-57d3-41cc-afb4-8a2e0274e66d",
   "metadata": {
    "jp-MarkdownHeadingCollapsed": true,
    "tags": []
   },
   "source": [
    "### saving coordinates"
   ]
  },
  {
   "cell_type": "code",
   "execution_count": 7,
   "id": "58bf05e7-6db9-47aa-baf1-f4df6edd2d04",
   "metadata": {},
   "outputs": [],
   "source": [
    "def convert_to_str(layer, head):\n",
    "    umap_str = \"\"\n",
    "    file = \"umap_coords/layer\" + str(layer) + \"_head\" + str(head) + \".txt\"\n",
    "    umap_results = np.load(\"umap/layer\" + str(layer) + \"_head\" + str(head) + \".npy\")\n",
    "    x = [i[0] for i in umap_results]\n",
    "    y = [i[1] for i in umap_results]\n",
    "    \n",
    "    half = int(len(x) / 2)\n",
    "\n",
    "    x1_str = '\"x\":' + str(x[:half])\n",
    "    y1_str = '\"y\":' + str(y[:half])\n",
    "    x2_str = '\"x\":' + str(x[half:])\n",
    "    y2_str = '\"y\":' + str(y[half:])\n",
    "    \n",
    "    umap_str = x1_str + \"\\n\" + y1_str + \"\\n\" + x2_str + \"\\n\" + y2_str\n",
    "    \n",
    "    with open(file, 'w') as o:\n",
    "        o.write(umap_str)\n",
    "    \n",
    "convert_to_str(0, 0)"
   ]
  },
  {
   "cell_type": "code",
   "execution_count": 8,
   "id": "fdfbc01f-7fad-4283-9699-c586f7507b91",
   "metadata": {},
   "outputs": [],
   "source": [
    "for i in range(12):\n",
    "    for j in range(12):\n",
    "        convert_to_str(i, j)"
   ]
  },
  {
   "cell_type": "markdown",
   "id": "5da08e4d-7f7c-411b-9d41-48027bde9369",
   "metadata": {
    "jp-MarkdownHeadingCollapsed": true,
    "tags": []
   },
   "source": [
    "### distance archive\n",
    "Here, I was trying to compute distances between tokens to color points in the plot, but it didn't end up being very informative :)."
   ]
  },
  {
   "cell_type": "code",
   "execution_count": 47,
   "id": "4f96857d-5add-4f9f-aca7-5fbd0b9abb9b",
   "metadata": {},
   "outputs": [],
   "source": [
    "q_distances = np.load(\"distances/q_dist.npy\")\n",
    "k_distances = np.load(\"distances/k_dist.npy\")"
   ]
  },
  {
   "cell_type": "code",
   "execution_count": 48,
   "id": "1c28a7dd-c007-43b8-b3a7-d1b549a47d10",
   "metadata": {},
   "outputs": [
    {
     "name": "stdout",
     "output_type": "stream",
     "text": [
      "[0.10000000000000009, 0.7964809766550964, 0.8340010718065826, 0.8521522066513654, 0.5921681533586152, 0.822153149740546, 0.7328068950021316, 0.9392737348801551, 0.6976148314431625, 0.6590652740617418, 0.8272453501019104, 0.6675960574652788, 0.5040552632433122, 0.4051076203744457, 0.7576204764039469, 0.8948855264973727, 0.7769217196500395, 0.7657748950806385, 0.7122411742619081, 0.9270220895690945]\n",
      "0.10000000000000009\n",
      "1\n"
     ]
    }
   ],
   "source": [
    "# normalizing distances\n",
    "def normalize(data):\n",
    "    min_val = min(data)\n",
    "    #print(min_val)\n",
    "    max_val = max(data)\n",
    "    #print(max_val)\n",
    "    range_val = max_val - min_val\n",
    "    \n",
    "    return [(i - min_val) / range_val for i in data]\n",
    "\n",
    "#print(q_distances[:20])\n",
    "q_dist_norm = normalize(q_distances)\n",
    "#print(k_distances[:20])\n",
    "k_dist_norm = normalize(k_distances)\n",
    "\n",
    "#print(q_dist_norm[:20])\n",
    "#print(k_dist_norm[:20])\n",
    "\n",
    "all_dist = q_dist_norm + k_dist_norm\n",
    "all_dist = [min(1.1 - i, 1) for i in all_dist]\n",
    "print(all_dist[:20])\n",
    "print(min(all_dist))\n",
    "print(max(all_dist))"
   ]
  },
  {
   "cell_type": "code",
   "execution_count": null,
   "id": "8fb01bbb-94d5-467f-abd1-784954b4afea",
   "metadata": {},
   "outputs": [],
   "source": [
    "from scipy.spatial import distance\n",
    "\n",
    "queries = attn_dict['queries'][0][0]\n",
    "keys = attn_dict['keys'][0][0]\n",
    "half = len(queries)\n",
    "\n",
    "# q_distances = [0] * half  # query to key\n",
    "# k_distances = [0] * half # key to query\n",
    "# q_distances = np.load(\"distances/q_dist16299.npy\")\n",
    "# k_distances = np.load(\"distances/k_dist16299.npy\")\n",
    "saved_pairs = {}\n",
    "\n",
    "# find min cosine distance for each point to other group\n",
    "for i in range(half):\n",
    "    # q_min = q_distances[i]\n",
    "    for j in range(half):\n",
    "        # k_min = k_distances[j]\n",
    "        # if (i,j) in saved_pairs: # check if already computed\n",
    "        #     d = saved_pairs[(i,j)]\n",
    "        # elif (j,i) in saved_pairs:\n",
    "        #     d = saved_pairs[(j,i)]\n",
    "        # else: # otherwise, compute and save\n",
    "        if (i,j) not in saved_pairs and (j,i) not in saved_pairs:\n",
    "            d = distance.cosine(queries[i], keys[j])\n",
    "            saved_pairs[(i,j)] = d\n",
    "        \n",
    "        # if q_min == 0 or d < q_min: # new min distance found for query\n",
    "        #     q_min = d\n",
    "        # if k_min == 0 or d < k_min:\n",
    "        #     k_distances[j] = d # update min distance for key\n",
    "            \n",
    "#     q_distances[i] = q_min # store min distance for each query\n",
    "    \n",
    "#     if (i+1) % 100 == 0: # save incrementally\n",
    "#         np.save(\"distances/q_dist\" + str(i) + \".npy\", q_distances)\n",
    "#         np.save(\"distances/k_dist\" + str(i) + \".npy\", k_distances)"
   ]
  },
  {
   "cell_type": "code",
   "execution_count": 6,
   "id": "f54a1c56-39d2-4d51-9bad-552723e45631",
   "metadata": {},
   "outputs": [],
   "source": [
    "np.save(\"distances/q_dist.npy\", q_distances)\n",
    "np.save(\"distances/k_dist.npy\", k_distances)"
   ]
  },
  {
   "cell_type": "code",
   "execution_count": null,
   "id": "ca49c1cc-9d5f-419c-9252-05bcfca31f7d",
   "metadata": {},
   "outputs": [],
   "source": [
    "num_pairs = len(saved_pairs)\n",
    "\n",
    "start = 0\n",
    "while start < num_pairs:\n",
    "    end = min(start + 10000000, num_pairs)\n",
    "    \n",
    "    with open('pair_dist' + str(end) + '.p', 'wb') as file:\n",
    "        pickle.dump(saved_pairs[start:end], file, protocol=pickle.HIGHEST_PROTOCOL)\n",
    "    \n",
    "    start = end"
   ]
  },
  {
   "cell_type": "code",
   "execution_count": 7,
   "id": "72fe89e4-c160-41ab-a30a-48d5690c7ca1",
   "metadata": {},
   "outputs": [],
   "source": [
    "# compute distances for each point\n",
    "def distance_to_op(types, coords):\n",
    "    saved_pairs = {} # keep track of already computed distances\n",
    "    distances = {} # store all distances\n",
    "    \n",
    "    \n",
    "    half = int(len(coords) / 2) # half of points are queries, other half are keys\n",
    "    for i in range(half):\n",
    "        c = coords[i] # current point\n",
    "        x0 = c[0]\n",
    "        y0 = c[1]\n",
    "        t = types[i] # type of current point\n",
    "        \n",
    "        # find how far point is from one of the other color\n",
    "        dists = []\n",
    "        start = 0 # search queries\n",
    "        if t == \"query\": # search keys\n",
    "            start = half\n",
    "        \n",
    "        distances[i] = [] # new list of distances for each point\n",
    "        for j in range(start, start + half):\n",
    "            x1 = coords[j,0]\n",
    "            y1 = coords[j,1]\n",
    "            if ((x0,y0),(x1,y1)) in saved_pairs: # check if already computed\n",
    "                d = saved_pairs[((x0,y0),(x1,y1))]\n",
    "            elif ((x1,y1),(x0,y0)) in saved_pairs:\n",
    "                d = saved_pairs[((x1,y1),(x0,y0))]\n",
    "            else: # otherwise, compute and save\n",
    "                d = (x1-x0)**2 + (y1-y0)**2\n",
    "                saved_pairs[((x0,y0),(x1,y1))] = d\n",
    "                \n",
    "            distances[i].append([d,j])\n",
    "        \n",
    "        # sort neighbors by distance\n",
    "        ds_sorted = sorted(distances[i], key=lambda item: item[0])\n",
    "        distances[i] = ds_sorted\n",
    "        \n",
    "        if i + 1 % 100 == 0:\n",
    "            with open('distances/distance' + str(i+1) + '.p', 'wb') as file:\n",
    "                pickle.dump(distances, file, protocol=pickle.HIGHEST_PROTOCOL)\n",
    "            distances = {}\n",
    "            print(\"{} points done\".format(i+1))\n",
    "        \n",
    "    return distances"
   ]
  },
  {
   "cell_type": "code",
   "execution_count": null,
   "id": "8e73366d-0fcb-4eb5-a9bd-2834a2a9d887",
   "metadata": {},
   "outputs": [],
   "source": [
    "distances1 = distance_to_op(df['type'], tsne_results)\n",
    "\n",
    "# save distances to pickle file\n",
    "with open('distances.p', 'wb') as file:\n",
    "    pickle.dump(distances, file, protocol=pickle.HIGHEST_PROTOCOL)"
   ]
  },
  {
   "cell_type": "code",
   "execution_count": null,
   "id": "4df6db74-73e1-44c5-bfff-afe887354aa4",
   "metadata": {},
   "outputs": [],
   "source": [
    "# compute distances for each point\n",
    "def distance_to_op2(types, coords):\n",
    "    saved_pairs = {} # keep track of already computed distances\n",
    "    distances = {} # store all distances\n",
    "    \n",
    "    \n",
    "    half = int(len(coords) / 2) # half of points are queries, other half are keys\n",
    "    for i in range(half, len(coords)):\n",
    "        c = coords[i] # current point\n",
    "        x0 = c[0]\n",
    "        y0 = c[1]\n",
    "        t = types[i] # type of current point\n",
    "        \n",
    "        # find how far point is from one of the other color\n",
    "        dists = []\n",
    "        start = 0 # search queries\n",
    "        if t == \"query\": # search keys\n",
    "            start = half\n",
    "        \n",
    "        distances[i] = [] # new list of distances for each point\n",
    "        for j in range(start, start + half):\n",
    "            x1 = coords[j,0]\n",
    "            y1 = coords[j,1]\n",
    "            if ((x0,y0),(x1,y1)) in saved_pairs: # check if already computed\n",
    "                d = saved_pairs[((x0,y0),(x1,y1))]\n",
    "            elif ((x1,y1),(x0,y0)) in saved_pairs:\n",
    "                d = saved_pairs[((x1,y1),(x0,y0))]\n",
    "            else: # otherwise, compute and save\n",
    "                d = (x1-x0)**2 + (y1-y0)**2\n",
    "                saved_pairs[((x0,y0),(x1,y1))] = d\n",
    "                \n",
    "            distances[i].append([d,j])\n",
    "        \n",
    "        # sort neighbors by distance\n",
    "        ds_sorted = sorted(distances[i], key=lambda item: item[0])\n",
    "        distances[i] = ds_sorted\n",
    "        \n",
    "    return distances"
   ]
  },
  {
   "cell_type": "code",
   "execution_count": null,
   "id": "8c11b92b-3da0-4a84-82d3-91ad677af18d",
   "metadata": {},
   "outputs": [],
   "source": [
    "distances2 = distance_to_op2(df['type'], tsne_results)"
   ]
  },
  {
   "cell_type": "code",
   "execution_count": 145,
   "id": "ce9ee8c7-ed5e-4473-b208-baa2ab0ef1a8",
   "metadata": {},
   "outputs": [
    {
     "name": "stdout",
     "output_type": "stream",
     "text": [
      "[0.0, 0.00010087566984879346, 0.005651248173563564, 0.004912073054966907, 0.836307155004952, 0.005302461048676023, 0.09656457194305487, 0.013587895642878938, 0.40035429452513677, 1.0]\n"
     ]
    }
   ],
   "source": [
    "# generate list of closest distance for each point\n",
    "closest = [distances[i][0][0] for i in distances]\n",
    "min_dist = min(closest)\n",
    "max_dist = max(closest)\n",
    "range_dist = max_dist - min_dist\n",
    "\n",
    "# normalize distances\n",
    "closest = [(i - min_dist) / range_dist for i in closest]\n",
    "\n",
    "print(closest)"
   ]
  },
  {
   "cell_type": "markdown",
   "id": "6ac671c7-61d8-451f-92e3-857570525e11",
   "metadata": {
    "jp-MarkdownHeadingCollapsed": true,
    "tags": []
   },
   "source": [
    "### archive"
   ]
  },
  {
   "cell_type": "code",
   "execution_count": 45,
   "id": "d5247d55-381c-46b1-b601-9e18f73734ad",
   "metadata": {},
   "outputs": [
    {
     "name": "stdout",
     "output_type": "stream",
     "text": [
      "mean: 38.402593947455934, max: 100, min: 8\n"
     ]
    }
   ],
   "source": [
    "# STATS\n",
    "words = df['sentence'].str.split().str.len()\n",
    "avg = words.mean() # average number of tokens per sentence\n",
    "mx = words.max() # max number of tokens per sentence\n",
    "mn = words.min() # min number of tokens per sentence\n",
    "\n",
    "print(\"mean: {}, max: {}, min: {}\".format(avg, mx, mn))"
   ]
  },
  {
   "cell_type": "code",
   "execution_count": null,
   "id": "98016488-a635-4b3d-b23e-2adb95524707",
   "metadata": {},
   "outputs": [],
   "source": [
    "import string\n",
    "def lighten_special_tokens(tokens):\n",
    "    # make special tokens/punctuation parks more transparent\n",
    "    opacity = []\n",
    "    for t in tokens:\n",
    "        if t in ['[CLS]', '[SEP]'] or t in string.punctuation:\n",
    "            opacity.append(0.5)\n",
    "        else:\n",
    "            opacity.append(1)\n",
    "    return opacity"
   ]
  },
  {
   "cell_type": "code",
   "execution_count": 95,
   "id": "8688f22f-2081-4c26-97da-b99d755d0e0d",
   "metadata": {},
   "outputs": [
    {
     "name": "stdout",
     "output_type": "stream",
     "text": [
      "[[ 6.8626175  -2.5363183 ]\n",
      " [-0.93323946 -0.8524197 ]\n",
      " [ 0.8479033  -0.38534203]\n",
      " ...\n",
      " [ 5.8986435   0.07962178]\n",
      " [-4.391037    4.51485   ]\n",
      " [-2.2338152   6.0144286 ]]\n",
      "-2.5363183\n"
     ]
    }
   ],
   "source": [
    "print(tsne_results)\n",
    "print(tsne_results[0, 1])\n",
    "#np.save(\"tsne/layer\" + str(0) + \"_head\" + str(0) + \".npy\", tsne_results)"
   ]
  },
  {
   "cell_type": "code",
   "execution_count": 42,
   "id": "9667d1ec-2684-4c09-939a-76fce81bc527",
   "metadata": {},
   "outputs": [
    {
     "name": "stdout",
     "output_type": "stream",
     "text": [
      "[[ 6.8626175  -2.5363183 ]\n",
      " [-0.93323946 -0.8524197 ]\n",
      " [ 0.8479033  -0.38534203]\n",
      " ...\n",
      " [ 5.8986435   0.07962178]\n",
      " [-4.391037    4.51485   ]\n",
      " [-2.2338152   6.0144286 ]]\n"
     ]
    }
   ],
   "source": [
    "res = np.load(\"tsne/layer\" + str(0) + \"_head\" + str(0) + \".npy\")\n",
    "print(res)"
   ]
  },
  {
   "cell_type": "code",
   "execution_count": 24,
   "id": "45f38cf7-015b-4d71-ab41-fa96fb18f77a",
   "metadata": {},
   "outputs": [],
   "source": [
    "# double check\n",
    "#queries[layer][head][0]\n",
    "#keys[layer][head][0]"
   ]
  },
  {
   "cell_type": "code",
   "execution_count": 17,
   "id": "3ede694b-b37d-41d9-b42d-cf52fa38a3ac",
   "metadata": {},
   "outputs": [
    {
     "data": {
      "text/plain": [
       "array([[ 0.70898962, -0.15323275, -0.03238618, ..., -0.18608412,\n",
       "        -1.18974149, -0.39165065],\n",
       "       [ 0.21045113,  0.10722202,  0.70467222, ...,  0.12194056,\n",
       "        -0.04383624, -0.2158055 ],\n",
       "       [ 1.11961699, -0.93376064,  0.32028458, ...,  0.57198089,\n",
       "        -1.03599632,  0.42533043],\n",
       "       ...,\n",
       "       [-0.61514747,  0.02714804,  0.16023751, ...,  0.53608024,\n",
       "         0.21529379, -0.6866461 ],\n",
       "       [-0.46312889,  0.49632475, -0.23232232, ..., -1.12989068,\n",
       "         0.45554301, -0.71385676],\n",
       "       [-1.13201749,  1.45063257, -0.11892767, ..., -0.61138368,\n",
       "         0.1281762 ,  0.50006604]])"
      ]
     },
     "execution_count": 17,
     "metadata": {},
     "output_type": "execute_result"
    }
   ],
   "source": [
    "# prepare data for feature plot\n",
    "df_sub = df.iloc[:, 2:].copy()\n",
    "df_subset = df_sub.values # only get feature cols\n",
    "df_subset"
   ]
  },
  {
   "cell_type": "code",
   "execution_count": 47,
   "id": "d275685f-a288-4025-baea-74f99df86e47",
   "metadata": {},
   "outputs": [
    {
     "data": {
      "text/html": [
       "<div>\n",
       "<style scoped>\n",
       "    .dataframe tbody tr th:only-of-type {\n",
       "        vertical-align: middle;\n",
       "    }\n",
       "\n",
       "    .dataframe tbody tr th {\n",
       "        vertical-align: top;\n",
       "    }\n",
       "\n",
       "    .dataframe thead th {\n",
       "        text-align: right;\n",
       "    }\n",
       "</style>\n",
       "<table border=\"1\" class=\"dataframe\">\n",
       "  <thead>\n",
       "    <tr style=\"text-align: right;\">\n",
       "      <th></th>\n",
       "      <th>token</th>\n",
       "      <th>type</th>\n",
       "    </tr>\n",
       "  </thead>\n",
       "  <tbody>\n",
       "    <tr>\n",
       "      <th>0</th>\n",
       "      <td>[CLS]</td>\n",
       "      <td>query</td>\n",
       "    </tr>\n",
       "    <tr>\n",
       "      <th>1</th>\n",
       "      <td>synth</td>\n",
       "      <td>query</td>\n",
       "    </tr>\n",
       "    <tr>\n",
       "      <th>2</th>\n",
       "      <td>##pop</td>\n",
       "      <td>query</td>\n",
       "    </tr>\n",
       "    <tr>\n",
       "      <th>3</th>\n",
       "      <td>band</td>\n",
       "      <td>query</td>\n",
       "    </tr>\n",
       "    <tr>\n",
       "      <th>4</th>\n",
       "      <td>freeze</td>\n",
       "      <td>query</td>\n",
       "    </tr>\n",
       "  </tbody>\n",
       "</table>\n",
       "</div>"
      ],
      "text/plain": [
       "    token   type\n",
       "0   [CLS]  query\n",
       "1   synth  query\n",
       "2   ##pop  query\n",
       "3    band  query\n",
       "4  freeze  query"
      ]
     },
     "execution_count": 47,
     "metadata": {},
     "output_type": "execute_result"
    }
   ],
   "source": [
    "df_lab = df.iloc[:, :2].copy() # get label cols only\n",
    "df_lab.head()"
   ]
  },
  {
   "cell_type": "code",
   "execution_count": 14,
   "id": "71c5c4cb-42b7-4400-8e08-0ad1bf531320",
   "metadata": {},
   "outputs": [],
   "source": [
    "df_sub.to_csv('features' + str(head) + '.tsv', sep=\"\\t\", index=False, header=False) # save feature data"
   ]
  },
  {
   "cell_type": "code",
   "execution_count": 44,
   "id": "6588cd95-6bce-4a56-9e3c-5c3c7cb49827",
   "metadata": {},
   "outputs": [],
   "source": [
    "df_lab.to_csv('labels.tsv', sep=\"\\t\", index=False) # save label data"
   ]
  },
  {
   "cell_type": "code",
   "execution_count": 48,
   "id": "c4d6a8bf-05ad-4e5a-8037-ac3755891b59",
   "metadata": {},
   "outputs": [
    {
     "name": "stderr",
     "output_type": "stream",
     "text": [
      "/n/home10/cyeh/anaconda3/envs/diffusion/lib/python3.9/site-packages/sklearn/manifold/_t_sne.py:795: FutureWarning:\n",
      "\n",
      "The default initialization in TSNE will change from 'random' to 'pca' in 1.2.\n",
      "\n",
      "/n/home10/cyeh/anaconda3/envs/diffusion/lib/python3.9/site-packages/sklearn/manifold/_t_sne.py:805: FutureWarning:\n",
      "\n",
      "The default learning rate in TSNE will change from 200.0 to 'auto' in 1.2.\n",
      "\n",
      "Exception ignored on calling ctypes callback function: <function _ThreadpoolInfo._find_modules_with_dl_iterate_phdr.<locals>.match_module_callback at 0x2aff932a2ee0>\n",
      "Traceback (most recent call last):\n",
      "  File \"/n/home10/cyeh/anaconda3/envs/diffusion/lib/python3.9/site-packages/threadpoolctl.py\", line 400, in match_module_callback\n",
      "    self._make_module_from_path(filepath)\n",
      "  File \"/n/home10/cyeh/anaconda3/envs/diffusion/lib/python3.9/site-packages/threadpoolctl.py\", line 515, in _make_module_from_path\n",
      "    module = module_class(filepath, prefix, user_api, internal_api)\n",
      "  File \"/n/home10/cyeh/anaconda3/envs/diffusion/lib/python3.9/site-packages/threadpoolctl.py\", line 606, in __init__\n",
      "    self.version = self.get_version()\n",
      "  File \"/n/home10/cyeh/anaconda3/envs/diffusion/lib/python3.9/site-packages/threadpoolctl.py\", line 646, in get_version\n",
      "    config = get_config().split()\n",
      "AttributeError: 'NoneType' object has no attribute 'split'\n"
     ]
    },
    {
     "name": "stdout",
     "output_type": "stream",
     "text": [
      "[t-SNE] Computing 301 nearest neighbors...\n",
      "[t-SNE] Indexed 60140 samples in 0.011s...\n",
      "[t-SNE] Computed neighbors for 60140 samples in 24.969s...\n",
      "[t-SNE] Computed conditional probabilities for sample 1000 / 60140\n",
      "[t-SNE] Computed conditional probabilities for sample 2000 / 60140\n",
      "[t-SNE] Computed conditional probabilities for sample 3000 / 60140\n",
      "[t-SNE] Computed conditional probabilities for sample 4000 / 60140\n",
      "[t-SNE] Computed conditional probabilities for sample 5000 / 60140\n",
      "[t-SNE] Computed conditional probabilities for sample 6000 / 60140\n",
      "[t-SNE] Computed conditional probabilities for sample 7000 / 60140\n",
      "[t-SNE] Computed conditional probabilities for sample 8000 / 60140\n",
      "[t-SNE] Computed conditional probabilities for sample 9000 / 60140\n",
      "[t-SNE] Computed conditional probabilities for sample 10000 / 60140\n",
      "[t-SNE] Computed conditional probabilities for sample 11000 / 60140\n",
      "[t-SNE] Computed conditional probabilities for sample 12000 / 60140\n",
      "[t-SNE] Computed conditional probabilities for sample 13000 / 60140\n",
      "[t-SNE] Computed conditional probabilities for sample 14000 / 60140\n",
      "[t-SNE] Computed conditional probabilities for sample 15000 / 60140\n",
      "[t-SNE] Computed conditional probabilities for sample 16000 / 60140\n",
      "[t-SNE] Computed conditional probabilities for sample 17000 / 60140\n",
      "[t-SNE] Computed conditional probabilities for sample 18000 / 60140\n",
      "[t-SNE] Computed conditional probabilities for sample 19000 / 60140\n",
      "[t-SNE] Computed conditional probabilities for sample 20000 / 60140\n",
      "[t-SNE] Computed conditional probabilities for sample 21000 / 60140\n",
      "[t-SNE] Computed conditional probabilities for sample 22000 / 60140\n",
      "[t-SNE] Computed conditional probabilities for sample 23000 / 60140\n",
      "[t-SNE] Computed conditional probabilities for sample 24000 / 60140\n",
      "[t-SNE] Computed conditional probabilities for sample 25000 / 60140\n",
      "[t-SNE] Computed conditional probabilities for sample 26000 / 60140\n",
      "[t-SNE] Computed conditional probabilities for sample 27000 / 60140\n",
      "[t-SNE] Computed conditional probabilities for sample 28000 / 60140\n",
      "[t-SNE] Computed conditional probabilities for sample 29000 / 60140\n",
      "[t-SNE] Computed conditional probabilities for sample 30000 / 60140\n",
      "[t-SNE] Computed conditional probabilities for sample 31000 / 60140\n",
      "[t-SNE] Computed conditional probabilities for sample 32000 / 60140\n",
      "[t-SNE] Computed conditional probabilities for sample 33000 / 60140\n",
      "[t-SNE] Computed conditional probabilities for sample 34000 / 60140\n",
      "[t-SNE] Computed conditional probabilities for sample 35000 / 60140\n",
      "[t-SNE] Computed conditional probabilities for sample 36000 / 60140\n",
      "[t-SNE] Computed conditional probabilities for sample 37000 / 60140\n",
      "[t-SNE] Computed conditional probabilities for sample 38000 / 60140\n",
      "[t-SNE] Computed conditional probabilities for sample 39000 / 60140\n",
      "[t-SNE] Computed conditional probabilities for sample 40000 / 60140\n",
      "[t-SNE] Computed conditional probabilities for sample 41000 / 60140\n",
      "[t-SNE] Computed conditional probabilities for sample 42000 / 60140\n",
      "[t-SNE] Computed conditional probabilities for sample 43000 / 60140\n",
      "[t-SNE] Computed conditional probabilities for sample 44000 / 60140\n",
      "[t-SNE] Computed conditional probabilities for sample 45000 / 60140\n",
      "[t-SNE] Computed conditional probabilities for sample 46000 / 60140\n",
      "[t-SNE] Computed conditional probabilities for sample 47000 / 60140\n",
      "[t-SNE] Computed conditional probabilities for sample 48000 / 60140\n",
      "[t-SNE] Computed conditional probabilities for sample 49000 / 60140\n",
      "[t-SNE] Computed conditional probabilities for sample 50000 / 60140\n",
      "[t-SNE] Computed conditional probabilities for sample 51000 / 60140\n",
      "[t-SNE] Computed conditional probabilities for sample 52000 / 60140\n",
      "[t-SNE] Computed conditional probabilities for sample 53000 / 60140\n",
      "[t-SNE] Computed conditional probabilities for sample 54000 / 60140\n",
      "[t-SNE] Computed conditional probabilities for sample 55000 / 60140\n",
      "[t-SNE] Computed conditional probabilities for sample 56000 / 60140\n",
      "[t-SNE] Computed conditional probabilities for sample 57000 / 60140\n",
      "[t-SNE] Computed conditional probabilities for sample 58000 / 60140\n",
      "[t-SNE] Computed conditional probabilities for sample 59000 / 60140\n",
      "[t-SNE] Computed conditional probabilities for sample 60000 / 60140\n",
      "[t-SNE] Computed conditional probabilities for sample 60140 / 60140\n",
      "[t-SNE] Mean sigma: 0.000000\n",
      "[t-SNE] KL divergence after 250 iterations with early exaggeration: 79.679390\n",
      "[t-SNE] KL divergence after 300 iterations: 3.809170\n",
      "t-SNE done! Time elapsed: 326.50693464279175 seconds\n"
     ]
    }
   ],
   "source": [
    "# run TSNE\n",
    "# from: https://towardsdatascience.com/visualising-high-dimensional-datasets-using-pca-and-t-sne-in-python-8ef87e7915b\n",
    "time_start = time.time()\n",
    "tsne = TSNE(n_components=2, verbose=1, perplexity=100, n_iter=300)\n",
    "tsne_results = tsne.fit_transform(df_subset)\n",
    "print('t-SNE done! Time elapsed: {} seconds'.format(time.time()-time_start))"
   ]
  },
  {
   "cell_type": "code",
   "execution_count": 45,
   "id": "377c58fb-05fd-4709-ad8c-82c23e1da4e1",
   "metadata": {},
   "outputs": [],
   "source": [
    "df['tsne-2d-one'] = tsne_results[:,0]\n",
    "df['tsne-2d-two'] = tsne_results[:,1]\n",
    "# plt.figure(figsize=(16,10))\n",
    "# sns.scatterplot(\n",
    "#     x=\"tsne-2d-one\", y=\"tsne-2d-two\",\n",
    "#     hue=\"type\",\n",
    "#     palette=sns.color_palette(\"hls\", 2),\n",
    "#     data=df,\n",
    "#     legend=\"full\",\n",
    "#     alpha=0.8\n",
    "# )\n",
    "# plt.title(\"TSNE Plot for Bert (Layer 0, Attention Head 0)\")\n",
    "# for i, label in enumerate(df['token']):\n",
    "#     plt.annotate(label, (df['tsne-2d-one'][i] - 3, df['tsne-2d-two'][i] + 2))"
   ]
  },
  {
   "cell_type": "code",
   "execution_count": 39,
   "id": "6f296dd2-c62d-47eb-937e-01cefc2a1f4d",
   "metadata": {},
   "outputs": [
    {
     "data": {
      "text/plain": [
       "Text(0.5, 1.0, 'TSNE Plot for Bert (Layer 0, Attention Head 0)')"
      ]
     },
     "execution_count": 39,
     "metadata": {},
     "output_type": "execute_result"
    },
    {
     "data": {
      "image/png": "[encoded data removed]",
      "text/plain": [
       "<Figure size 1152x720 with 1 Axes>"
      ]
     },
     "metadata": {
      "needs_background": "light"
     },
     "output_type": "display_data"
    }
   ],
   "source": [
    "plt.figure(figsize=(16,10))\n",
    "sns.scatterplot(\n",
    "    x=\"tsne-2d-one\", y=\"tsne-2d-two\",\n",
    "    hue=\"type\",\n",
    "    palette=sns.color_palette(\"hls\", 2),\n",
    "    data=df,\n",
    "    legend=\"full\",\n",
    "    alpha=0.8\n",
    ")\n",
    "plt.title(\"TSNE Plot for Bert (Layer 0, Attention Head \" + str(head) + \")\")"
   ]
  }
 ],
 "metadata": {
  "kernelspec": {
   "display_name": "Python [conda env:anaconda3-diffusion]",
   "language": "python",
   "name": "conda-env-anaconda3-diffusion-py"
  },
  "language_info": {
   "codemirror_mode": {
    "name": "ipython",
    "version": 3
   },
   "file_extension": ".py",
   "mimetype": "text/x-python",
   "name": "python",
   "nbconvert_exporter": "python",
   "pygments_lexer": "ipython3",
   "version": "3.9.13"
  }
 },
 "nbformat": 4,
 "nbformat_minor": 5
}
