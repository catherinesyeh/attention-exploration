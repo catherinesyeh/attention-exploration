{
 "cells": [
  {
   "cell_type": "markdown",
   "id": "f7503932-e249-44ff-bc02-3a4822f4e7fb",
   "metadata": {
    "tags": []
   },
   "source": [
    "## Exploring the data"
   ]
  },
  {
   "cell_type": "markdown",
   "id": "864b01d3-1b36-4dd7-a400-9ec462d27c84",
   "metadata": {},
   "source": [
    "Download the Wikipedia dataset + randomly sample sentences as input"
   ]
  },
  {
   "cell_type": "code",
   "execution_count": 1,
   "id": "e9b9a0bb-649b-47b7-a51b-fa74bb8284c6",
   "metadata": {
    "tags": []
   },
   "outputs": [
    {
     "name": "stderr",
     "output_type": "stream",
     "text": [
      "/n/home10/cyeh/anaconda3/envs/diffusion/lib/python3.9/site-packages/tqdm/auto.py:22: TqdmWarning: IProgress not found. Please update jupyter and ipywidgets. See https://ipywidgets.readthedocs.io/en/stable/user_install.html\n",
      "  from .autonotebook import tqdm as notebook_tqdm\n",
      "No config specified, defaulting to: wiki_auto/auto\n",
      "Reusing dataset wiki_auto (/n/home10/cyeh/.cache/huggingface/datasets/wiki_auto/auto/1.0.0/eeac705719dc9aa2ff180571dfed6c6649588ccdfde8d45a47d2e47e5c5b93af)\n",
      "100%|██████████| 2/2 [00:00<00:00, 65.96it/s]\n"
     ]
    }
   ],
   "source": [
    "# load dataset\n",
    "from datasets import load_dataset\n",
    "\n",
    "dataset = load_dataset(\"wiki_auto\")"
   ]
  },
  {
   "cell_type": "code",
   "execution_count": 2,
   "id": "47d6023a-158b-4232-bace-2707246f6008",
   "metadata": {},
   "outputs": [],
   "source": [
    "# remove data points with no examples\n",
    "data = [dataset['part_1'][i]['normal']['normal_article_content']['normal_sentence'] for i in range(len(dataset['part_1'])) if len(dataset['part_1'][i]['normal']['normal_article_content']['normal_sentence']) != 0] "
   ]
  },
  {
   "cell_type": "code",
   "execution_count": 3,
   "id": "3a6f3387-55ea-435e-99d0-6f3c72dd17c5",
   "metadata": {},
   "outputs": [
    {
     "data": {
      "text/plain": [
       "124913"
      ]
     },
     "execution_count": 3,
     "metadata": {},
     "output_type": "execute_result"
    }
   ],
   "source": [
    "# now see how many data points there are\n",
    "data_len = len(data)\n",
    "data_len"
   ]
  },
  {
   "cell_type": "code",
   "execution_count": 4,
   "id": "98ac0340-ad5d-4cd6-a6a3-392c01227c8a",
   "metadata": {},
   "outputs": [
    {
     "data": {
      "text/plain": [
       "[74894, 4270, 56215, 63250, 75771, 1944, 27013, 60631, 106603, 64395]"
      ]
     },
     "execution_count": 4,
     "metadata": {},
     "output_type": "execute_result"
    }
   ],
   "source": [
    "# choose 1000 random data points to sample from\n",
    "import random\n",
    "num_examples = 1000\n",
    "random.seed(10) # set seed\n",
    "indices = random.sample(range(data_len), num_examples)\n",
    "indices[:10]"
   ]
  },
  {
   "cell_type": "code",
   "execution_count": 5,
   "id": "fb56274d-4d79-4bb6-a31e-f4579fb90e55",
   "metadata": {},
   "outputs": [
    {
     "data": {
      "text/plain": [
       "['Synthpop band Freezepop have used it on stage.',\n",
       " \"Plumb was awarded a knighthood in the Queen's Birthday Honours list in 1973.\",\n",
       " 'He read and memorized the entire Quran by the time he was nine years old.',\n",
       " \"Some other yearly festivals are Paris-Plages, a festive event that lasts from mid-July to mid-August when the Right Bank of the Seine is converted into a temporary beach with sand, deck chairs and palm trees; Journées du Patrimoine, Fête de la Musique, Techno Parade, Nuit Blanche, Cinéma au clair de lune, Printemps des rues, Festival d'automne, and Fête des jardins.\",\n",
       " 'Despite this decision, many Church of the East Old Calendarists rejected the move so in an attempt to avert further dissent, the Holy Synod maintained that Easter would continue to be celebrated according to the Julian Calendar.',\n",
       " \"On a difficult, slow pitch at Port Elizabeth, Australia struggled their way to 212 (7 wickets, 50 overs) against tight Sri Lankan bowling, thanks mainly to a great innings from Andrew Symonds (91* from 118 balls, 7 fours, 1 six), demonstrating again captain Ricky Ponting's faith in him.\",\n",
       " 'Alun Llwyd also co-manages, with Kevin Tame, the Cardiff-based indie label Turnstile, home of Perfume Genius, Christopher Owens, Gruff Rhys, Cate Le Bon and others.',\n",
       " 'Saint-Jean was first mentioned in 1250 as \"de Sancto Johanne\".',\n",
       " 'The JR East portion of the station has one island platform.',\n",
       " \"Peck's rare attempts at villainous roles were not acclaimed.\"]"
      ]
     },
     "execution_count": 5,
     "metadata": {},
     "output_type": "execute_result"
    }
   ],
   "source": [
    "# get one sentence for each selected data point\n",
    "sentences = []\n",
    "for i in indices:\n",
    "    # get all sentences associated with data point\n",
    "    sentence_list = data[i]\n",
    "    sentence = random.choice(sentence_list) # choose random sentence from list\n",
    "    sentences.append(sentence)\n",
    "\n",
    "sentences[:10]"
   ]
  },
  {
   "cell_type": "markdown",
   "id": "2f3bdcd1-c46c-45c7-ae41-29c83fb0c51d",
   "metadata": {
    "jp-MarkdownHeadingCollapsed": true,
    "tags": []
   },
   "source": [
    "### archive"
   ]
  },
  {
   "cell_type": "code",
   "execution_count": null,
   "id": "93613450-3af2-4a8c-bfa1-65a077ed2ef7",
   "metadata": {},
   "outputs": [],
   "source": [
    "# find where sentences are located\n",
    "dataset['part_1'][0]['normal']['normal_article_content']['normal_sentence']"
   ]
  },
  {
   "cell_type": "code",
   "execution_count": null,
   "id": "b79f49af-680c-4f30-a950-e421f490c041",
   "metadata": {},
   "outputs": [],
   "source": [
    "# see how many data points there are\n",
    "data_len = len(dataset['part_1'])\n",
    "data_len"
   ]
  },
  {
   "cell_type": "markdown",
   "id": "f1f234bc-229b-4e8b-8c93-357a70cc6154",
   "metadata": {
    "tags": []
   },
   "source": [
    "## Running BERT"
   ]
  },
  {
   "cell_type": "markdown",
   "id": "3cc13c14-1de3-4d21-9993-f144151659f9",
   "metadata": {},
   "source": [
    "Just seeing the basic output from BERT with 2 sentences"
   ]
  },
  {
   "cell_type": "code",
   "execution_count": 1,
   "id": "385f2529-ce25-4e20-99c2-17a93b886936",
   "metadata": {},
   "outputs": [
    {
     "name": "stderr",
     "output_type": "stream",
     "text": [
      "/n/home10/cyeh/anaconda3/envs/diffusion/lib/python3.9/site-packages/tqdm/auto.py:22: TqdmWarning: IProgress not found. Please update jupyter and ipywidgets. See https://ipywidgets.readthedocs.io/en/stable/user_install.html\n",
      "  from .autonotebook import tqdm as notebook_tqdm\n"
     ]
    }
   ],
   "source": [
    "# load model\n",
    "from transformers import BertTokenizer, BertModel, GPT2Model, GPT2Tokenizer\n",
    "import torch\n",
    "import numpy as np\n",
    "from numpy.linalg import norm\n",
    "import seaborn as sns\n",
    "import matplotlib.pyplot as plt\n",
    "from scipy import stats\n",
    "# from sklearn.decomposition import PCA"
   ]
  },
  {
   "cell_type": "code",
   "execution_count": 3,
   "id": "66905bab-5f7e-4cad-a875-817baf5f090a",
   "metadata": {},
   "outputs": [
    {
     "name": "stderr",
     "output_type": "stream",
     "text": [
      "Some weights of the model checkpoint at bert-base-uncased were not used when initializing BertModel: ['cls.predictions.transform.dense.bias', 'cls.predictions.decoder.weight', 'cls.seq_relationship.bias', 'cls.predictions.transform.dense.weight', 'cls.seq_relationship.weight', 'cls.predictions.transform.LayerNorm.bias', 'cls.predictions.transform.LayerNorm.weight', 'cls.predictions.bias']\n",
      "- This IS expected if you are initializing BertModel from the checkpoint of a model trained on another task or with another architecture (e.g. initializing a BertForSequenceClassification model from a BertForPreTraining model).\n",
      "- This IS NOT expected if you are initializing BertModel from the checkpoint of a model that you expect to be exactly identical (initializing a BertForSequenceClassification model from a BertForSequenceClassification model).\n"
     ]
    },
    {
     "name": "stdout",
     "output_type": "stream",
     "text": [
      "embeddings.word_embeddings.weight torch.Size([30522, 768])\n",
      "embeddings.position_embeddings.weight torch.Size([512, 768])\n",
      "embeddings.token_type_embeddings.weight torch.Size([2, 768])\n",
      "embeddings.LayerNorm.weight torch.Size([768])\n",
      "embeddings.LayerNorm.bias torch.Size([768])\n",
      "encoder.layer.0.attention.self.query.weight torch.Size([768, 768])\n",
      "encoder.layer.0.attention.self.query.bias torch.Size([768])\n",
      "encoder.layer.0.attention.self.key.weight torch.Size([768, 768])\n",
      "encoder.layer.0.attention.self.key.bias torch.Size([768])\n",
      "encoder.layer.0.attention.self.value.weight torch.Size([768, 768])\n",
      "encoder.layer.0.attention.self.value.bias torch.Size([768])\n",
      "encoder.layer.0.attention.output.dense.weight torch.Size([768, 768])\n",
      "encoder.layer.0.attention.output.dense.bias torch.Size([768])\n",
      "encoder.layer.0.attention.output.LayerNorm.weight torch.Size([768])\n",
      "encoder.layer.0.attention.output.LayerNorm.bias torch.Size([768])\n",
      "encoder.layer.0.intermediate.dense.weight torch.Size([3072, 768])\n",
      "encoder.layer.0.intermediate.dense.bias torch.Size([3072])\n",
      "encoder.layer.0.output.dense.weight torch.Size([768, 3072])\n",
      "encoder.layer.0.output.dense.bias torch.Size([768])\n",
      "encoder.layer.0.output.LayerNorm.weight torch.Size([768])\n",
      "encoder.layer.0.output.LayerNorm.bias torch.Size([768])\n",
      "encoder.layer.1.attention.self.query.weight torch.Size([768, 768])\n",
      "encoder.layer.1.attention.self.query.bias torch.Size([768])\n",
      "encoder.layer.1.attention.self.key.weight torch.Size([768, 768])\n",
      "encoder.layer.1.attention.self.key.bias torch.Size([768])\n",
      "encoder.layer.1.attention.self.value.weight torch.Size([768, 768])\n",
      "encoder.layer.1.attention.self.value.bias torch.Size([768])\n",
      "encoder.layer.1.attention.output.dense.weight torch.Size([768, 768])\n",
      "encoder.layer.1.attention.output.dense.bias torch.Size([768])\n",
      "encoder.layer.1.attention.output.LayerNorm.weight torch.Size([768])\n",
      "encoder.layer.1.attention.output.LayerNorm.bias torch.Size([768])\n",
      "encoder.layer.1.intermediate.dense.weight torch.Size([3072, 768])\n",
      "encoder.layer.1.intermediate.dense.bias torch.Size([3072])\n",
      "encoder.layer.1.output.dense.weight torch.Size([768, 3072])\n",
      "encoder.layer.1.output.dense.bias torch.Size([768])\n",
      "encoder.layer.1.output.LayerNorm.weight torch.Size([768])\n",
      "encoder.layer.1.output.LayerNorm.bias torch.Size([768])\n",
      "encoder.layer.2.attention.self.query.weight torch.Size([768, 768])\n",
      "encoder.layer.2.attention.self.query.bias torch.Size([768])\n",
      "encoder.layer.2.attention.self.key.weight torch.Size([768, 768])\n",
      "encoder.layer.2.attention.self.key.bias torch.Size([768])\n",
      "encoder.layer.2.attention.self.value.weight torch.Size([768, 768])\n",
      "encoder.layer.2.attention.self.value.bias torch.Size([768])\n",
      "encoder.layer.2.attention.output.dense.weight torch.Size([768, 768])\n",
      "encoder.layer.2.attention.output.dense.bias torch.Size([768])\n",
      "encoder.layer.2.attention.output.LayerNorm.weight torch.Size([768])\n",
      "encoder.layer.2.attention.output.LayerNorm.bias torch.Size([768])\n",
      "encoder.layer.2.intermediate.dense.weight torch.Size([3072, 768])\n",
      "encoder.layer.2.intermediate.dense.bias torch.Size([3072])\n",
      "encoder.layer.2.output.dense.weight torch.Size([768, 3072])\n",
      "encoder.layer.2.output.dense.bias torch.Size([768])\n",
      "encoder.layer.2.output.LayerNorm.weight torch.Size([768])\n",
      "encoder.layer.2.output.LayerNorm.bias torch.Size([768])\n",
      "encoder.layer.3.attention.self.query.weight torch.Size([768, 768])\n",
      "encoder.layer.3.attention.self.query.bias torch.Size([768])\n",
      "encoder.layer.3.attention.self.key.weight torch.Size([768, 768])\n",
      "encoder.layer.3.attention.self.key.bias torch.Size([768])\n",
      "encoder.layer.3.attention.self.value.weight torch.Size([768, 768])\n",
      "encoder.layer.3.attention.self.value.bias torch.Size([768])\n",
      "encoder.layer.3.attention.output.dense.weight torch.Size([768, 768])\n",
      "encoder.layer.3.attention.output.dense.bias torch.Size([768])\n",
      "encoder.layer.3.attention.output.LayerNorm.weight torch.Size([768])\n",
      "encoder.layer.3.attention.output.LayerNorm.bias torch.Size([768])\n",
      "encoder.layer.3.intermediate.dense.weight torch.Size([3072, 768])\n",
      "encoder.layer.3.intermediate.dense.bias torch.Size([3072])\n",
      "encoder.layer.3.output.dense.weight torch.Size([768, 3072])\n",
      "encoder.layer.3.output.dense.bias torch.Size([768])\n",
      "encoder.layer.3.output.LayerNorm.weight torch.Size([768])\n",
      "encoder.layer.3.output.LayerNorm.bias torch.Size([768])\n",
      "encoder.layer.4.attention.self.query.weight torch.Size([768, 768])\n",
      "encoder.layer.4.attention.self.query.bias torch.Size([768])\n",
      "encoder.layer.4.attention.self.key.weight torch.Size([768, 768])\n",
      "encoder.layer.4.attention.self.key.bias torch.Size([768])\n",
      "encoder.layer.4.attention.self.value.weight torch.Size([768, 768])\n",
      "encoder.layer.4.attention.self.value.bias torch.Size([768])\n",
      "encoder.layer.4.attention.output.dense.weight torch.Size([768, 768])\n",
      "encoder.layer.4.attention.output.dense.bias torch.Size([768])\n",
      "encoder.layer.4.attention.output.LayerNorm.weight torch.Size([768])\n",
      "encoder.layer.4.attention.output.LayerNorm.bias torch.Size([768])\n",
      "encoder.layer.4.intermediate.dense.weight torch.Size([3072, 768])\n",
      "encoder.layer.4.intermediate.dense.bias torch.Size([3072])\n",
      "encoder.layer.4.output.dense.weight torch.Size([768, 3072])\n",
      "encoder.layer.4.output.dense.bias torch.Size([768])\n",
      "encoder.layer.4.output.LayerNorm.weight torch.Size([768])\n",
      "encoder.layer.4.output.LayerNorm.bias torch.Size([768])\n",
      "encoder.layer.5.attention.self.query.weight torch.Size([768, 768])\n",
      "encoder.layer.5.attention.self.query.bias torch.Size([768])\n",
      "encoder.layer.5.attention.self.key.weight torch.Size([768, 768])\n",
      "encoder.layer.5.attention.self.key.bias torch.Size([768])\n",
      "encoder.layer.5.attention.self.value.weight torch.Size([768, 768])\n",
      "encoder.layer.5.attention.self.value.bias torch.Size([768])\n",
      "encoder.layer.5.attention.output.dense.weight torch.Size([768, 768])\n",
      "encoder.layer.5.attention.output.dense.bias torch.Size([768])\n",
      "encoder.layer.5.attention.output.LayerNorm.weight torch.Size([768])\n",
      "encoder.layer.5.attention.output.LayerNorm.bias torch.Size([768])\n",
      "encoder.layer.5.intermediate.dense.weight torch.Size([3072, 768])\n",
      "encoder.layer.5.intermediate.dense.bias torch.Size([3072])\n",
      "encoder.layer.5.output.dense.weight torch.Size([768, 3072])\n",
      "encoder.layer.5.output.dense.bias torch.Size([768])\n",
      "encoder.layer.5.output.LayerNorm.weight torch.Size([768])\n",
      "encoder.layer.5.output.LayerNorm.bias torch.Size([768])\n",
      "encoder.layer.6.attention.self.query.weight torch.Size([768, 768])\n",
      "encoder.layer.6.attention.self.query.bias torch.Size([768])\n",
      "encoder.layer.6.attention.self.key.weight torch.Size([768, 768])\n",
      "encoder.layer.6.attention.self.key.bias torch.Size([768])\n",
      "encoder.layer.6.attention.self.value.weight torch.Size([768, 768])\n",
      "encoder.layer.6.attention.self.value.bias torch.Size([768])\n",
      "encoder.layer.6.attention.output.dense.weight torch.Size([768, 768])\n",
      "encoder.layer.6.attention.output.dense.bias torch.Size([768])\n",
      "encoder.layer.6.attention.output.LayerNorm.weight torch.Size([768])\n",
      "encoder.layer.6.attention.output.LayerNorm.bias torch.Size([768])\n",
      "encoder.layer.6.intermediate.dense.weight torch.Size([3072, 768])\n",
      "encoder.layer.6.intermediate.dense.bias torch.Size([3072])\n",
      "encoder.layer.6.output.dense.weight torch.Size([768, 3072])\n",
      "encoder.layer.6.output.dense.bias torch.Size([768])\n",
      "encoder.layer.6.output.LayerNorm.weight torch.Size([768])\n",
      "encoder.layer.6.output.LayerNorm.bias torch.Size([768])\n",
      "encoder.layer.7.attention.self.query.weight torch.Size([768, 768])\n",
      "encoder.layer.7.attention.self.query.bias torch.Size([768])\n",
      "encoder.layer.7.attention.self.key.weight torch.Size([768, 768])\n",
      "encoder.layer.7.attention.self.key.bias torch.Size([768])\n",
      "encoder.layer.7.attention.self.value.weight torch.Size([768, 768])\n",
      "encoder.layer.7.attention.self.value.bias torch.Size([768])\n",
      "encoder.layer.7.attention.output.dense.weight torch.Size([768, 768])\n",
      "encoder.layer.7.attention.output.dense.bias torch.Size([768])\n",
      "encoder.layer.7.attention.output.LayerNorm.weight torch.Size([768])\n",
      "encoder.layer.7.attention.output.LayerNorm.bias torch.Size([768])\n",
      "encoder.layer.7.intermediate.dense.weight torch.Size([3072, 768])\n",
      "encoder.layer.7.intermediate.dense.bias torch.Size([3072])\n",
      "encoder.layer.7.output.dense.weight torch.Size([768, 3072])\n",
      "encoder.layer.7.output.dense.bias torch.Size([768])\n",
      "encoder.layer.7.output.LayerNorm.weight torch.Size([768])\n",
      "encoder.layer.7.output.LayerNorm.bias torch.Size([768])\n",
      "encoder.layer.8.attention.self.query.weight torch.Size([768, 768])\n",
      "encoder.layer.8.attention.self.query.bias torch.Size([768])\n",
      "encoder.layer.8.attention.self.key.weight torch.Size([768, 768])\n",
      "encoder.layer.8.attention.self.key.bias torch.Size([768])\n",
      "encoder.layer.8.attention.self.value.weight torch.Size([768, 768])\n",
      "encoder.layer.8.attention.self.value.bias torch.Size([768])\n",
      "encoder.layer.8.attention.output.dense.weight torch.Size([768, 768])\n",
      "encoder.layer.8.attention.output.dense.bias torch.Size([768])\n",
      "encoder.layer.8.attention.output.LayerNorm.weight torch.Size([768])\n",
      "encoder.layer.8.attention.output.LayerNorm.bias torch.Size([768])\n",
      "encoder.layer.8.intermediate.dense.weight torch.Size([3072, 768])\n",
      "encoder.layer.8.intermediate.dense.bias torch.Size([3072])\n",
      "encoder.layer.8.output.dense.weight torch.Size([768, 3072])\n",
      "encoder.layer.8.output.dense.bias torch.Size([768])\n",
      "encoder.layer.8.output.LayerNorm.weight torch.Size([768])\n",
      "encoder.layer.8.output.LayerNorm.bias torch.Size([768])\n",
      "encoder.layer.9.attention.self.query.weight torch.Size([768, 768])\n",
      "encoder.layer.9.attention.self.query.bias torch.Size([768])\n",
      "encoder.layer.9.attention.self.key.weight torch.Size([768, 768])\n",
      "encoder.layer.9.attention.self.key.bias torch.Size([768])\n",
      "encoder.layer.9.attention.self.value.weight torch.Size([768, 768])\n",
      "encoder.layer.9.attention.self.value.bias torch.Size([768])\n",
      "encoder.layer.9.attention.output.dense.weight torch.Size([768, 768])\n",
      "encoder.layer.9.attention.output.dense.bias torch.Size([768])\n",
      "encoder.layer.9.attention.output.LayerNorm.weight torch.Size([768])\n",
      "encoder.layer.9.attention.output.LayerNorm.bias torch.Size([768])\n",
      "encoder.layer.9.intermediate.dense.weight torch.Size([3072, 768])\n",
      "encoder.layer.9.intermediate.dense.bias torch.Size([3072])\n",
      "encoder.layer.9.output.dense.weight torch.Size([768, 3072])\n",
      "encoder.layer.9.output.dense.bias torch.Size([768])\n",
      "encoder.layer.9.output.LayerNorm.weight torch.Size([768])\n",
      "encoder.layer.9.output.LayerNorm.bias torch.Size([768])\n",
      "encoder.layer.10.attention.self.query.weight torch.Size([768, 768])\n",
      "encoder.layer.10.attention.self.query.bias torch.Size([768])\n",
      "encoder.layer.10.attention.self.key.weight torch.Size([768, 768])\n",
      "encoder.layer.10.attention.self.key.bias torch.Size([768])\n",
      "encoder.layer.10.attention.self.value.weight torch.Size([768, 768])\n",
      "encoder.layer.10.attention.self.value.bias torch.Size([768])\n",
      "encoder.layer.10.attention.output.dense.weight torch.Size([768, 768])\n",
      "encoder.layer.10.attention.output.dense.bias torch.Size([768])\n",
      "encoder.layer.10.attention.output.LayerNorm.weight torch.Size([768])\n",
      "encoder.layer.10.attention.output.LayerNorm.bias torch.Size([768])\n",
      "encoder.layer.10.intermediate.dense.weight torch.Size([3072, 768])\n",
      "encoder.layer.10.intermediate.dense.bias torch.Size([3072])\n",
      "encoder.layer.10.output.dense.weight torch.Size([768, 3072])\n",
      "encoder.layer.10.output.dense.bias torch.Size([768])\n",
      "encoder.layer.10.output.LayerNorm.weight torch.Size([768])\n",
      "encoder.layer.10.output.LayerNorm.bias torch.Size([768])\n",
      "encoder.layer.11.attention.self.query.weight torch.Size([768, 768])\n",
      "encoder.layer.11.attention.self.query.bias torch.Size([768])\n",
      "encoder.layer.11.attention.self.key.weight torch.Size([768, 768])\n",
      "encoder.layer.11.attention.self.key.bias torch.Size([768])\n",
      "encoder.layer.11.attention.self.value.weight torch.Size([768, 768])\n",
      "encoder.layer.11.attention.self.value.bias torch.Size([768])\n",
      "encoder.layer.11.attention.output.dense.weight torch.Size([768, 768])\n",
      "encoder.layer.11.attention.output.dense.bias torch.Size([768])\n",
      "encoder.layer.11.attention.output.LayerNorm.weight torch.Size([768])\n",
      "encoder.layer.11.attention.output.LayerNorm.bias torch.Size([768])\n",
      "encoder.layer.11.intermediate.dense.weight torch.Size([3072, 768])\n",
      "encoder.layer.11.intermediate.dense.bias torch.Size([3072])\n",
      "encoder.layer.11.output.dense.weight torch.Size([768, 3072])\n",
      "encoder.layer.11.output.dense.bias torch.Size([768])\n",
      "encoder.layer.11.output.LayerNorm.weight torch.Size([768])\n",
      "encoder.layer.11.output.LayerNorm.bias torch.Size([768])\n",
      "pooler.dense.weight torch.Size([768, 768])\n",
      "pooler.dense.bias torch.Size([768])\n"
     ]
    }
   ],
   "source": [
    "# GPT check\n",
    "# model_version = 'gpt2'\n",
    "# model = GPT2Model.from_pretrained(model_version, output_attentions=True)\n",
    "# tokenizer = GPT2Tokenizer.from_pretrained(model_version)\n",
    "\n",
    "model_type = 'bert'\n",
    "model_version = 'bert-base-uncased'\n",
    "model = BertModel.from_pretrained(model_version, output_attentions=True)\n",
    "tokenizer = BertTokenizer.from_pretrained(model_version, do_lower_case=True)\n",
    "\n",
    "# print(model.h[0].attn.c_attn.bias)\n",
    "\n",
    "#check out parameters\n",
    "for name, param in model.named_parameters():                \n",
    "    print(name, param.size())"
   ]
  },
  {
   "cell_type": "code",
   "execution_count": null,
   "id": "c6aa3ac2-2b47-450c-b148-b5c9ed658f49",
   "metadata": {},
   "outputs": [],
   "source": []
  },
  {
   "cell_type": "markdown",
   "id": "6f608010-6e0d-4a2c-929b-45735d68e1a1",
   "metadata": {
    "tags": []
   },
   "source": [
    "### Position experiment"
   ]
  },
  {
   "cell_type": "code",
   "execution_count": null,
   "id": "3c64a207-fb06-4dc0-9592-63cbc60cfb38",
   "metadata": {},
   "outputs": [],
   "source": [
    "# GPT\n",
    "positions = model.wpe.weight \n",
    "unit_vecs = []\n",
    "for pos in positions:\n",
    "    pos = pos.detach().numpy()\n",
    "    unit = pos / norm(pos)\n",
    "    unit_vecs.append(unit)"
   ]
  },
  {
   "cell_type": "code",
   "execution_count": null,
   "id": "e3d1e81a-78d0-4d70-b50c-5816bd5c4e29",
   "metadata": {},
   "outputs": [],
   "source": [
    "new_norms_q = {}\n",
    "new_norms_k = {}\n",
    "\n",
    "max_norm = 0\n",
    "\n",
    "# initialize list of norms\n",
    "for layer in range(12):\n",
    "    for head in range(12):\n",
    "        new_norms_q[(layer, head)] = []\n",
    "        new_norms_k[(layer, head)] = []\n",
    "        \n",
    "    \n",
    "# compute new norms    \n",
    "for pos in range(20):\n",
    "    for layer in range(12):\n",
    "        for head in range(12):\n",
    "            q = get_weights(query_weights, layer, head)\n",
    "            k = get_weights(key_weights, layer, head)\n",
    "            \n",
    "            q_transformed = unit_vecs[pos] @ q\n",
    "            k_transformed = unit_vecs[pos] @ k\n",
    "\n",
    "            norm_q = norm(q_transformed)\n",
    "            norm_k = norm(k_transformed)\n",
    "            \n",
    "            if norm_q > max_norm:\n",
    "                max_norm = norm_q\n",
    "            if norm_k > max_norm:\n",
    "                max_norm = norm_k\n",
    "\n",
    "            new_norms_q[(layer, head)].append(norm_q)\n",
    "            new_norms_k[(layer, head)].append(norm_k)"
   ]
  },
  {
   "cell_type": "code",
   "execution_count": null,
   "id": "0c8f3c0c-ea7b-4034-8cac-8b820abc35f9",
   "metadata": {},
   "outputs": [],
   "source": [
    "print(max_norm)"
   ]
  },
  {
   "cell_type": "code",
   "execution_count": null,
   "id": "2cfbbd21-9e47-45d1-8acb-4174c8f12445",
   "metadata": {},
   "outputs": [],
   "source": [
    "fig, axs = plt.subplots(12, 12)\n",
    "for layer in range(12):\n",
    "    for head in range(12):\n",
    "        ax = axs[layer, head]\n",
    "        ax.plot(new_norms_q[(layer, head)], c='#2bcc91')\n",
    "        ax.plot(new_norms_k[(layer, head)], c='#fc47a5')\n",
    "        ax.set_title(\"L{} H{}\".format(layer, head), fontsize=14)\n",
    "        ax.set_ylim(0, 5)\n",
    "        ax.set_xlim(0, 20)\n",
    "        \n",
    "fig.suptitle('Positional Impact on Query/Key Norms in GPT', fontsize=16, y=1)\n",
    "fig.set_size_inches(20, 18)\n",
    "fig.tight_layout(pad=0.8)\n",
    "fig.text(0.5, -0.01, 'Position', ha='center', fontsize=16)\n",
    "fig.text(-0.01, 0.5, 'Norm', va='center', rotation='vertical', fontsize=16)\n",
    "plt.show()"
   ]
  },
  {
   "cell_type": "code",
   "execution_count": null,
   "id": "26fd39c1-a4ea-481e-8706-bf42abce2ca0",
   "metadata": {},
   "outputs": [],
   "source": [
    "# BERT\n",
    "positions = model.embeddings.position_embeddings.weight\n",
    "unit_vecs = []\n",
    "for pos in positions:\n",
    "    pos = pos.detach().numpy()\n",
    "    unit = pos / norm(pos)\n",
    "    unit_vecs.append(unit)"
   ]
  },
  {
   "cell_type": "code",
   "execution_count": null,
   "id": "dff43f2d-614f-4a0c-97b2-84e3aab92ffd",
   "metadata": {},
   "outputs": [],
   "source": [
    "new_norms_q = {}\n",
    "new_norms_k = {}\n",
    "max_norm = 0\n",
    "\n",
    "# initialize list of norms\n",
    "for layer in range(12):\n",
    "    for head in range(12):\n",
    "        new_norms_q[(layer, head)] = []\n",
    "        new_norms_k[(layer, head)] = []\n",
    "    \n",
    "# compute new norms    \n",
    "for pos in range(20):\n",
    "    for layer in range(12):\n",
    "        for head in range(12):\n",
    "            q = get_weights(query_weights, layer, head)\n",
    "            k = get_weights(key_weights, layer, head)\n",
    "            \n",
    "            q_transformed = unit_vecs[pos] @ q\n",
    "            k_transformed = unit_vecs[pos] @ k\n",
    "\n",
    "            norm_q = norm(q_transformed)\n",
    "            norm_k = norm(k_transformed)\n",
    "            \n",
    "            if norm_q > max_norm:\n",
    "                max_norm = norm_q\n",
    "            if norm_k > max_norm:\n",
    "                max_norm = norm_k\n",
    "\n",
    "            new_norms_q[(layer, head)].append(norm_q)\n",
    "            new_norms_k[(layer, head)].append(norm_k)"
   ]
  },
  {
   "cell_type": "code",
   "execution_count": null,
   "id": "5ca351be-e9c5-43dd-93f6-f96b74ccc2a1",
   "metadata": {},
   "outputs": [],
   "source": [
    "print(max_norm)"
   ]
  },
  {
   "cell_type": "code",
   "execution_count": null,
   "id": "0279382e-f656-436b-9890-543402bb4cfa",
   "metadata": {},
   "outputs": [],
   "source": [
    "fig, axs = plt.subplots(12, 12)\n",
    "for layer in range(12):\n",
    "    for head in range(12):\n",
    "        ax = axs[layer, head]\n",
    "        ax.plot(new_norms_q[(layer, head)], c='#2bcc91')\n",
    "        ax.plot(new_norms_k[(layer, head)], c='#fc47a5')\n",
    "        ax.set_title(\"L{} H{}\".format(layer, head), fontsize=14)\n",
    "        ax.set_ylim(0, 20)\n",
    "        ax.set_xlim(0, 20)\n",
    "        \n",
    "fig.suptitle('Positional Impact on Query/Key Norms in BERT', fontsize=16, y=1)\n",
    "fig.set_size_inches(20, 18)\n",
    "fig.tight_layout(pad=0.8)\n",
    "fig.text(0.5, -0.01, 'Position', ha='center', fontsize=16)\n",
    "fig.text(-0.01, 0.5, 'Norm', va='center', rotation='vertical', fontsize=16)\n",
    "plt.show()"
   ]
  },
  {
   "cell_type": "markdown",
   "id": "11619c7d-d84b-402c-b182-b4b173c35803",
   "metadata": {
    "tags": []
   },
   "source": [
    "### Frob Norm distance experiment"
   ]
  },
  {
   "cell_type": "markdown",
   "id": "3f2c572b-2b8c-4bb1-9c79-5822715a7b28",
   "metadata": {
    "jp-MarkdownHeadingCollapsed": true,
    "tags": []
   },
   "source": [
    "#### GPT"
   ]
  },
  {
   "cell_type": "code",
   "execution_count": 10,
   "id": "681998e3-f578-41c6-b85b-5abfa34e3c51",
   "metadata": {},
   "outputs": [],
   "source": [
    "### get dot products of weights\n",
    "gpt_dp = []\n",
    "for layer in range(12):\n",
    "    for head in range(12):\n",
    "        qw = get_weights(query_weights, layer, head)\n",
    "        kw = get_weights(key_weights, layer, head)\n",
    "        \n",
    "        qw = np.asarray(qw)\n",
    "        kw = np.asarray(kw)\n",
    "        \n",
    "        dp = np.dot(qw, kw.transpose())\n",
    "        \n",
    "        gpt_dp.append(dp)"
   ]
  },
  {
   "cell_type": "code",
   "execution_count": 11,
   "id": "c6ba568e-71d2-4fbd-82e0-193bc0445681",
   "metadata": {},
   "outputs": [],
   "source": [
    "gpt_dp = [weights.flatten() for weights in gpt_dp]    "
   ]
  },
  {
   "cell_type": "code",
   "execution_count": 12,
   "id": "64e6be3a-5e85-4c8a-8b61-b58c4e06b4d8",
   "metadata": {},
   "outputs": [
    {
     "name": "stdout",
     "output_type": "stream",
     "text": [
      "[-1.1234171   1.3737348  -0.28326795 ...  0.8513974  -0.2996441\n",
      " -1.2570856 ]\n"
     ]
    }
   ],
   "source": [
    "print(gpt_dp[0])"
   ]
  },
  {
   "cell_type": "markdown",
   "id": "fdeb6b34-6f40-43b2-9a23-acf9ceb0d75e",
   "metadata": {
    "jp-MarkdownHeadingCollapsed": true,
    "tags": []
   },
   "source": [
    "#### BERT"
   ]
  },
  {
   "cell_type": "code",
   "execution_count": 15,
   "id": "6da119e5-7492-43d4-9276-4fb9c6d3cf50",
   "metadata": {},
   "outputs": [],
   "source": [
    "### get dot products of weights\n",
    "bert_dp = []\n",
    "for layer in range(12):\n",
    "    for head in range(12):\n",
    "        qw = get_weights(query_weights, layer, head)\n",
    "        kw = get_weights(key_weights, layer, head)\n",
    "        \n",
    "        qw = np.asarray(qw)\n",
    "        kw = np.asarray(kw)\n",
    "        \n",
    "        dp = np.dot(qw, kw.transpose())\n",
    "        \n",
    "        bert_dp.append(dp)"
   ]
  },
  {
   "cell_type": "code",
   "execution_count": 16,
   "id": "3abb5a23-68af-41e7-a74e-98f9c5f6290a",
   "metadata": {},
   "outputs": [],
   "source": [
    "bert_dp = [weights.flatten() for weights in bert_dp]    "
   ]
  },
  {
   "cell_type": "code",
   "execution_count": 17,
   "id": "67cd2786-f25f-4c19-8c04-55a8df805d10",
   "metadata": {},
   "outputs": [
    {
     "name": "stdout",
     "output_type": "stream",
     "text": [
      "[-0.01367338 -0.00099497  0.0013437  ... -0.0113104  -0.00692263\n",
      "  0.02542576]\n"
     ]
    }
   ],
   "source": [
    "print(bert_dp[0])"
   ]
  },
  {
   "cell_type": "markdown",
   "id": "59d4d3df-945a-4f73-b36a-1129c189055f",
   "metadata": {
    "jp-MarkdownHeadingCollapsed": true,
    "tags": []
   },
   "source": [
    "#### Shared"
   ]
  },
  {
   "cell_type": "code",
   "execution_count": 18,
   "id": "c8e1daa9-2238-41ce-a0c3-fe0e02811087",
   "metadata": {},
   "outputs": [],
   "source": [
    "def dp_distance(m1, m2):\n",
    "    m1 = np.reshape(m1, (768, 768))\n",
    "    m2 = np.reshape(m2, (768, 768))\n",
    "    difference = m1 - m2\n",
    "    return norm(difference, ord=\"fro\")"
   ]
  },
  {
   "cell_type": "code",
   "execution_count": 19,
   "id": "7b4a255b-8807-436c-8764-4f4c37237c76",
   "metadata": {},
   "outputs": [],
   "source": [
    "def head_distance_matrix(layer, head, dp_list):\n",
    "    head_dp = dp_list[12 * layer + head]\n",
    "    distances = []\n",
    "    for other_head in dp_list:\n",
    "        norm = dp_distance(head_dp, other_head)\n",
    "        distances.append(norm)\n",
    "    return distances"
   ]
  },
  {
   "cell_type": "code",
   "execution_count": 28,
   "id": "44b17396-dfcb-4b81-8f5d-2f048ee2d204",
   "metadata": {},
   "outputs": [],
   "source": [
    "head_res = head_distance_matrix(9, 9, gpt_dp)"
   ]
  },
  {
   "cell_type": "code",
   "execution_count": 29,
   "id": "a8c47ecd-746e-46ed-b1de-72c2849b373a",
   "metadata": {},
   "outputs": [
    {
     "data": {
      "text/plain": [
       "Text(0.5, 1.05, 'Frobenius Norm Heatmap for Layer 9 Head 9')"
      ]
     },
     "execution_count": 29,
     "metadata": {},
     "output_type": "execute_result"
    },
    {
     "data": {
      "image/png": "[encoded data removed]",
      "text/plain": [
       "<Figure size 864x864 with 2 Axes>"
      ]
     },
     "metadata": {
      "needs_background": "light"
     },
     "output_type": "display_data"
    }
   ],
   "source": [
    "dist_reshape = np.reshape(head_res, (12, 12))\n",
    "fig, axs = plt.subplots(ncols=1)\n",
    "fig.set_size_inches(12, 12)\n",
    "sns.heatmap(dist_reshape, annot=True, square=True, cmap = sns.color_palette(\"YlOrBr_r\", as_cmap=True), fmt='.2f')\n",
    "axs.set_xlabel('head', fontsize=14)\n",
    "axs.set_ylabel('layer', fontsize=14)\n",
    "axs.set_title('Frobenius Norm Heatmap for Layer 9 Head 9', fontsize=16, y=1.05)"
   ]
  },
  {
   "cell_type": "markdown",
   "id": "6fc3b148-ae49-49e9-bc1a-061767732ab5",
   "metadata": {
    "tags": []
   },
   "source": [
    "### GPT query/key weights"
   ]
  },
  {
   "cell_type": "code",
   "execution_count": 39,
   "id": "2f9a7eb6-e981-4e53-9d63-12408894a7ad",
   "metadata": {},
   "outputs": [],
   "source": [
    "query_weights = []\n",
    "key_weights = []\n",
    "\n",
    "for i in range(12):\n",
    "    weights = model.h[i].attn.c_attn.weight\n",
    "    query, key, value = torch.split(weights, 768, dim=1)\n",
    "    query_weights.append(query)\n",
    "    key_weights.append(key)"
   ]
  },
  {
   "cell_type": "code",
   "execution_count": 40,
   "id": "c7d6272c-6fea-44b0-9a55-582e9fd6f193",
   "metadata": {},
   "outputs": [],
   "source": [
    "# get key/query weights for a particular layer and head of GPT\n",
    "def get_weights(weights, layer, head): \n",
    "    layer_weights = weights[layer]\n",
    "\n",
    "    start = head * 64\n",
    "    end = start + 64\n",
    "    \n",
    "#     h_start = head * 64\n",
    "#     h_end = h_start + 64\n",
    "    \n",
    "    head_weights = [i[start:end].detach().numpy() for i in layer_weights] # only use corresponding 64 columns of matrix\n",
    "    return head_weights\n",
    "\n",
    "# qw = get_weights(query_weights, 0, 0)\n",
    "# kw = get_weights(key_weights, 0, 0)\n",
    "# print(len(qw))\n",
    "# print(len(qw[0]))"
   ]
  },
  {
   "cell_type": "code",
   "execution_count": null,
   "id": "75d34bab-46c5-4566-8874-5bae905a9898",
   "metadata": {},
   "outputs": [],
   "source": [
    "qw_norms = []\n",
    "kw_norms = []\n",
    "cosine_sim = []\n",
    "\n",
    "\n",
    "for layer in range(12):\n",
    "    for head in range(12):\n",
    "        qw = get_weights(query_weights, layer, head)\n",
    "        kw = get_weights(key_weights, layer, head)\n",
    "        \n",
    "        qw_flat = np.asarray(qw).flatten()\n",
    "        kw_flat = np.asarray(kw).flatten()\n",
    "        \n",
    "        # print(norm(qw_flat), norm(kw_flat))\n",
    "        \n",
    "        norm_q = norm(qw)\n",
    "        norm_k = norm(kw)\n",
    "        cosine = np.dot(qw_flat, kw_flat) / (norm_q * norm_k)\n",
    "        \n",
    "        qw_norms.append(norm_q)\n",
    "        kw_norms.append(norm_k)\n",
    "        cosine_sim.append(cosine)\n",
    "        \n",
    "        # print(\"Layer {}, Head {}: query norm = {:.4f}, key norm = {:.4f}, cosine sim = {:.4f}\".format(layer, head, norm_q, norm_k, cosine))"
   ]
  },
  {
   "cell_type": "code",
   "execution_count": null,
   "id": "adb752af-56bf-40ee-8074-ab50b0152c04",
   "metadata": {},
   "outputs": [],
   "source": [
    "avg_cos = sum(cosine_sim) / len(cosine_sim)\n",
    "min_cos = min(cosine_sim)\n",
    "max_cos = max(cosine_sim)\n",
    "print(\"Average cosine sim = {:.4f}\".format(avg_cos))\n",
    "print(\"Min cosine sim = {:.4f}\".format(min_cos))\n",
    "print(\"Max cosine sim = {:.4f}\".format(max_cos))"
   ]
  },
  {
   "cell_type": "code",
   "execution_count": null,
   "id": "593dcc42-fe49-4fcf-a4fb-5dc7c798209f",
   "metadata": {},
   "outputs": [],
   "source": [
    "cosine_sim_reshape = np.reshape(cosine_sim, (12, 12))\n",
    "fig, axs = plt.subplots(ncols=1)\n",
    "fig.set_size_inches(12, 12)\n",
    "sns.heatmap(cosine_sim_reshape, annot=True, square=True, cmap = sns.diverging_palette(220, 20, as_cmap=True), vmin=-0.7, vmax=0.9)\n",
    "axs.set_xlabel('head', fontsize=14)\n",
    "axs.set_ylabel('layer', fontsize=14)\n",
    "axs.set_title('Cosine Similarity Between Query + Key Weights in GPT', fontsize=16, y=1.05)"
   ]
  },
  {
   "cell_type": "code",
   "execution_count": null,
   "id": "eda39360-c00e-46da-a3e1-e0cbb656a840",
   "metadata": {},
   "outputs": [],
   "source": [
    "# get norm differences\n",
    "norm_differences = [abs(qw_norms[i] - kw_norms[i]) for i in range(len(qw_norms))]"
   ]
  },
  {
   "cell_type": "code",
   "execution_count": null,
   "id": "12cea991-7df4-43c0-a1c6-f3e2f1825818",
   "metadata": {},
   "outputs": [],
   "source": [
    "stats.spearmanr(cosine_sim, norm_differences)[0]"
   ]
  },
  {
   "cell_type": "code",
   "execution_count": null,
   "id": "4bda1c32-91b6-4e8e-91bb-a51e98668a15",
   "metadata": {},
   "outputs": [],
   "source": [
    "avg_diff = sum(norm_differences) / len(norm_differences)\n",
    "min_diff = min(norm_differences)\n",
    "max_diff = max(norm_differences)\n",
    "print(\"Average norm difference = {:.4f}\".format(avg_diff))\n",
    "print(\"Min norm difference = {:.4f}\".format(min_diff))\n",
    "print(\"Max norm difference = {:.4f}\".format(max_diff))"
   ]
  },
  {
   "cell_type": "code",
   "execution_count": null,
   "id": "acd4b73d-a7a3-4cc8-a2b3-bc0ca18b5ae6",
   "metadata": {},
   "outputs": [],
   "source": [
    "norms_reshape = np.reshape(norm_differences, (12, 12))\n",
    "fig, axs = plt.subplots(ncols=1)\n",
    "fig.set_size_inches(12, 12)\n",
    "sns.heatmap(norms_reshape, annot=True, square=True, cmap = sns.diverging_palette(20, 220, as_cmap=True), vmin=0, vmax=22)\n",
    "axs.set_xlabel('head', fontsize=14)\n",
    "axs.set_ylabel('layer', fontsize=14)\n",
    "axs.set_title('Norm Difference Between Query + Key Weights in GPT', fontsize=16, y=1.05)"
   ]
  },
  {
   "cell_type": "markdown",
   "id": "f86e63f4-85b9-4198-ac50-2f68c947c7bc",
   "metadata": {
    "tags": []
   },
   "source": [
    "### BERT query/key weights"
   ]
  },
  {
   "cell_type": "code",
   "execution_count": 13,
   "id": "bc25e11a-4a23-4a5e-bd45-69d9e661599e",
   "metadata": {},
   "outputs": [
    {
     "name": "stderr",
     "output_type": "stream",
     "text": [
      "Some weights of the model checkpoint at bert-base-uncased were not used when initializing BertModel: ['cls.predictions.transform.dense.weight', 'cls.predictions.bias', 'cls.predictions.transform.LayerNorm.bias', 'cls.seq_relationship.weight', 'cls.predictions.decoder.weight', 'cls.seq_relationship.bias', 'cls.predictions.transform.dense.bias', 'cls.predictions.transform.LayerNorm.weight']\n",
      "- This IS expected if you are initializing BertModel from the checkpoint of a model trained on another task or with another architecture (e.g. initializing a BertForSequenceClassification model from a BertForPreTraining model).\n",
      "- This IS NOT expected if you are initializing BertModel from the checkpoint of a model that you expect to be exactly identical (initializing a BertForSequenceClassification model from a BertForSequenceClassification model).\n"
     ]
    }
   ],
   "source": [
    "model_version = 'bert-base-uncased'\n",
    "model = BertModel.from_pretrained(model_version, output_attentions=True)\n",
    "tokenizer = BertTokenizer.from_pretrained(model_version)\n",
    "\n",
    "# check out parameters\n",
    "# for name, param in model.named_parameters():                \n",
    "#     print(name, param.size())"
   ]
  },
  {
   "cell_type": "code",
   "execution_count": 14,
   "id": "3060e21a-9b16-4f96-9545-77f8cc2e53dc",
   "metadata": {},
   "outputs": [],
   "source": [
    "# get key + query weights\n",
    "query_weights = []\n",
    "key_weights = []\n",
    "\n",
    "for i in range(12):\n",
    "    query_weights.append(model.encoder.layer[i].attention.self.query.weight)\n",
    "    key_weights.append(model.encoder.layer[i].attention.self.key.weight)\n",
    "    \n",
    "# print(len(query_weights))\n",
    "# print(len(query_weights[0]))\n",
    "# print(len(query_weights[0][:64]))\n",
    "# print(query_weights[0][:64][:64])"
   ]
  },
  {
   "cell_type": "code",
   "execution_count": null,
   "id": "fff2055f-076a-49a8-8a71-423b2f14b69f",
   "metadata": {},
   "outputs": [],
   "source": [
    "# get key/query weights for a particular layer and head of BERT\n",
    "# def get_weights(weights, layer, head): \n",
    "#     layer_weights = weights[layer]\n",
    "#     start = layer * 64\n",
    "#     end = start + 64\n",
    "#     head_weights = [i[:64].detach().numpy() for i in layer_weights[start:end]] # only use first 64 columns of matrix\n",
    "#     return head_weights\n",
    "\n",
    "qw = get_weights(query_weights, 0, 0)\n",
    "kw = get_weights(key_weights, 0, 0)\n",
    "print(len(qw))\n",
    "print(len(qw[0]))\n",
    "# print(qw)\n",
    "# print(kw)"
   ]
  },
  {
   "cell_type": "code",
   "execution_count": null,
   "id": "1612b2f9-fb68-4fe7-af02-532fd688fdb9",
   "metadata": {},
   "outputs": [],
   "source": [
    "bert_qw_norms = []\n",
    "bert_kw_norms = []\n",
    "bert_cosine_sim = []\n",
    "\n",
    "for layer in range(12):\n",
    "    for head in range(12):\n",
    "        qw = get_weights(query_weights, layer, head)\n",
    "        kw = get_weights(key_weights, layer, head)\n",
    "        \n",
    "        qw_flat = np.asarray(qw).flatten()\n",
    "        kw_flat = np.asarray(kw).flatten()\n",
    "        \n",
    "        # print(norm(qw_flat), norm(kw_flat))\n",
    "        \n",
    "        norm_q = norm(qw)\n",
    "        norm_k = norm(kw)\n",
    "        cosine = np.dot(qw_flat, kw_flat) / (norm_q * norm_k)\n",
    "        \n",
    "        bert_qw_norms.append(norm_q)\n",
    "        bert_kw_norms.append(norm_k)\n",
    "        bert_cosine_sim.append(cosine)\n",
    "        \n",
    "        # print(\"Layer {}, Head {}: query norm = {:.4f}, key norm = {:.4f}, cosine sim = {:.4f}\".format(layer, head, norm_q, norm_k, cosine))"
   ]
  },
  {
   "cell_type": "code",
   "execution_count": null,
   "id": "afa6114c-e2fe-4ed0-8ebb-a26d60e6062b",
   "metadata": {},
   "outputs": [],
   "source": [
    "avg_cos = sum(bert_cosine_sim) / len(bert_cosine_sim)\n",
    "min_cos = min(bert_cosine_sim)\n",
    "max_cos = max(bert_cosine_sim)\n",
    "print(\"Average cosine sim = {:.4f}\".format(avg_cos))\n",
    "print(\"Min cosine sim = {:.4f}\".format(min_cos))\n",
    "print(\"Max cosine sim = {:.4f}\".format(max_cos))"
   ]
  },
  {
   "cell_type": "code",
   "execution_count": null,
   "id": "8905e059-ab86-4c44-8f2a-af935f08c0d1",
   "metadata": {},
   "outputs": [],
   "source": [
    "cosine_sim_reshape = np.reshape(bert_cosine_sim, (12, 12))\n",
    "fig, axs = plt.subplots(ncols=1)\n",
    "fig.set_size_inches(12, 12)\n",
    "sns.heatmap(cosine_sim_reshape, annot=True, square=True, cmap = sns.diverging_palette(220, 20, as_cmap=True), vmin=-0.7, vmax=0.9)\n",
    "axs.set_xlabel('head', fontsize=14)\n",
    "axs.set_ylabel('layer', fontsize=14)\n",
    "axs.set_title('Cosine Similarity Between Query + Key Weights in BERT', fontsize=16, y=1.05)"
   ]
  },
  {
   "cell_type": "code",
   "execution_count": null,
   "id": "de94c8e8-ad30-4022-8135-cc4c161bd729",
   "metadata": {},
   "outputs": [],
   "source": [
    "# get norm differences\n",
    "bert_norm_differences = [abs(bert_qw_norms[i] - bert_kw_norms[i]) for i in range(len(bert_qw_norms))]"
   ]
  },
  {
   "cell_type": "code",
   "execution_count": null,
   "id": "1894e897-6bfd-4640-8543-832e8bb78f41",
   "metadata": {},
   "outputs": [],
   "source": [
    "stats.spearmanr(bert_cosine_sim, bert_norm_differences)[0]"
   ]
  },
  {
   "cell_type": "code",
   "execution_count": null,
   "id": "e18f56fa-0183-4dac-9e3d-8692fada32bf",
   "metadata": {},
   "outputs": [],
   "source": [
    "avg_diff = sum(bert_norm_differences) / len(norm_differences)\n",
    "min_diff = min(bert_norm_differences)\n",
    "max_diff = max(bert_norm_differences)\n",
    "print(\"Average norm difference = {:.4f}\".format(avg_diff))\n",
    "print(\"Min norm difference = {:.4f}\".format(min_diff))\n",
    "print(\"Max norm difference = {:.4f}\".format(max_diff))"
   ]
  },
  {
   "cell_type": "code",
   "execution_count": null,
   "id": "497d9c71-dc73-4ce0-a583-27287f14245d",
   "metadata": {},
   "outputs": [],
   "source": [
    "norms_reshape = np.reshape(bert_norm_differences, (12, 12))\n",
    "fig, axs = plt.subplots(ncols=1)\n",
    "fig.set_size_inches(12, 12)\n",
    "sns.heatmap(norms_reshape, annot=True, square=True, cmap = sns.diverging_palette(20, 220, as_cmap=True), vmin=0, vmax=22)\n",
    "axs.set_xlabel('head', fontsize=14)\n",
    "axs.set_ylabel('layer', fontsize=14)\n",
    "axs.set_title('Norm Difference Between Query + Key Weights in BERT', fontsize=16, y=1.05)"
   ]
  },
  {
   "cell_type": "markdown",
   "id": "7e6981e2-c800-43ab-86be-6f9890975f37",
   "metadata": {
    "jp-MarkdownHeadingCollapsed": true,
    "tags": []
   },
   "source": [
    "#### translation"
   ]
  },
  {
   "cell_type": "code",
   "execution_count": null,
   "id": "d8fefc54-29a0-41f3-8d81-8b0f29cfd5e8",
   "metadata": {},
   "outputs": [],
   "source": [
    "# translate queries/keys\n",
    "\n",
    "new_queries = []\n",
    "new_keys = []\n",
    "for layer in range(12):\n",
    "    qw = get_weights(query_weights, layer)\n",
    "    kw = get_weights(key_weights, layer)\n",
    "    \n",
    "    layer_q = []\n",
    "    layer_k = []\n",
    "    for head in range(12):\n",
    "        residuals = get_residual(layer, head, all_embeddings)\n",
    "        head_q = []\n",
    "        head_k = []\n",
    "        \n",
    "        for i in range(5021):\n",
    "            resid = residuals[i]\n",
    "            pos = pos_embeddings[i]\n",
    "            \n",
    "            new_q = (resid - pos) @ qw\n",
    "            new_k = (resid - pos) @ kw\n",
    "            \n",
    "            head_q.append(new_q)\n",
    "            head_k.append(new_k)\n",
    "        \n",
    "        layer_q.append(head_q)\n",
    "        layer_k.append(head_k)\n",
    "    new_queries.append(layer_q)\n",
    "    new_keys.append(layer_k)\n",
    "        "
   ]
  },
  {
   "cell_type": "code",
   "execution_count": null,
   "id": "5c0b9452-04c3-4bdd-84b6-4678fd051714",
   "metadata": {},
   "outputs": [],
   "source": [
    "# testing output\n",
    "print(len(new_queries))\n",
    "print(len(new_queries[0]))\n",
    "print(len(new_queries[0][0]))\n",
    "print(len(new_queries[0][0][0]))\n",
    "print(new_queries[0][0][0])"
   ]
  },
  {
   "cell_type": "code",
   "execution_count": null,
   "id": "d3e3a9d9-9062-41f2-8784-4f9a60b75e5e",
   "metadata": {},
   "outputs": [],
   "source": [
    "print(sent_offset[:166])"
   ]
  },
  {
   "cell_type": "code",
   "execution_count": null,
   "id": "0aa941d6-357e-4cae-98b1-7ed4ea47c873",
   "metadata": {},
   "outputs": [],
   "source": [
    "import numpy as np\n",
    "from scipy.special import softmax"
   ]
  },
  {
   "cell_type": "code",
   "execution_count": null,
   "id": "8a2f568d-47d4-4052-b147-b2c35ecaf5dd",
   "metadata": {},
   "outputs": [],
   "source": [
    "# new attention too\n",
    "new_attention = []\n",
    "sent_offset_short = sent_offset[:166]\n",
    "\n",
    "for layer in range(12):\n",
    "    layer_a = []\n",
    "    for head in range(12):\n",
    "        queries = new_queries[layer][head]\n",
    "        keys = new_keys[layer][head]\n",
    "        head_a = []\n",
    "        for i in range(len(sent_offset_short)):\n",
    "            offset = sent_offset_short[i]\n",
    "            sent_end = sent_offset_short[i + 1] if (i < len(sent_offset_short) - 1) else 5021\n",
    "            sent_length = sent_end - offset\n",
    "\n",
    "            for q in range(sent_length):\n",
    "                qt = queries[q + offset] \n",
    "                sent_a = []\n",
    "                for k in range(sent_length): \n",
    "                    kt = keys[k + offset]\n",
    "                    dp = np.dot(qt, kt) / 8\n",
    "                    sent_a.append(dp)\n",
    "                sent_a = softmax(sent_a)\n",
    "                head_a.append(sent_a)\n",
    "        layer_a.append(head_a)\n",
    "    new_attention.append(layer_a)"
   ]
  },
  {
   "cell_type": "code",
   "execution_count": null,
   "id": "8f1f746f-2aae-4357-80a2-884211e510b9",
   "metadata": {},
   "outputs": [],
   "source": [
    "# checking output\n",
    "print(len(new_attention))\n",
    "print(len(new_attention[0]))\n",
    "print(len(new_attention[0][0]))\n",
    "print(len(new_attention[0][0][0]))\n",
    "print(new_attention[3][3][100])"
   ]
  },
  {
   "cell_type": "markdown",
   "id": "1a1296db-f07c-48c4-9718-65b134cde2ce",
   "metadata": {
    "tags": []
   },
   "source": [
    "### archive"
   ]
  },
  {
   "cell_type": "code",
   "execution_count": null,
   "id": "c333d365-1b59-4d97-93a9-baec4bdf49e7",
   "metadata": {},
   "outputs": [],
   "source": [
    "# adapted from bertviz: github.com/jessevig/bertviz\n",
    "model_version = 'bert-base-uncased'\n",
    "model = BertModel.from_pretrained(model_version, output_attentions=True)\n",
    "tokenizer = BertTokenizer.from_pretrained(model_version)\n",
    "sentence_a = \"This is a test\"\n",
    "sentence_b = \"Hi my name is Catherine\"\n",
    "inputs = tokenizer.encode_plus(sentence_a, return_tensors='pt')\n",
    "input_ids = inputs['input_ids']\n",
    "token_type_ids = inputs['token_type_ids']\n",
    "output = model(input_ids, token_type_ids=token_type_ids)\n",
    "attention = output[-1]\n",
    "# sentence_b_start = token_type_ids[0].tolist().index(1)\n",
    "input_id_list = input_ids[0].tolist() # Batch index 0\n",
    "tokens = tokenizer.convert_ids_to_tokens(input_id_list) "
   ]
  },
  {
   "cell_type": "code",
   "execution_count": null,
   "id": "38aebd94-56cd-4264-b041-09849219cbe4",
   "metadata": {},
   "outputs": [],
   "source": [
    "word_embeddings = output[0]\n",
    "print(word_embeddings.shape)"
   ]
  },
  {
   "cell_type": "code",
   "execution_count": null,
   "id": "e118f9f8-0237-4cb0-baf3-d9db1210c057",
   "metadata": {},
   "outputs": [],
   "source": [
    "# check out parameters\n",
    "for name, param in model.named_parameters():                \n",
    "    print(name, param.size())"
   ]
  },
  {
   "cell_type": "code",
   "execution_count": null,
   "id": "750b8827-176b-451e-a6a2-332033013d4e",
   "metadata": {},
   "outputs": [],
   "source": [
    "print(model.encoder.layer[0].attention.self.query)"
   ]
  },
  {
   "cell_type": "code",
   "execution_count": null,
   "id": "ee0b4521-0554-414e-ac78-f1d883657a94",
   "metadata": {},
   "outputs": [],
   "source": [
    "print(model.encoder.layer[11].attention.self.query.bias)"
   ]
  },
  {
   "cell_type": "code",
   "execution_count": null,
   "id": "86972fe2-3d79-4981-bf74-298e2f7f87c7",
   "metadata": {},
   "outputs": [],
   "source": [
    "print(tokens)\n",
    "print(len(tokens))\n",
    "print(len(embeddings)) # num layers\n",
    "print(len(embeddings[0][0])) # num tokens\n",
    "print(len(embeddings[0][0][0])) # num tokens\n",
    "print(embeddings[0][0][0][0]) # num tokens"
   ]
  },
  {
   "cell_type": "code",
   "execution_count": null,
   "id": "7dfe7fb2-4065-461e-91a2-b6828e5bb1cf",
   "metadata": {},
   "outputs": [],
   "source": [
    "# check out output\n",
    "print(sentence_a)\n",
    "print(sentence_b)\n",
    "print(tokens)\n",
    "print(len(tokens))"
   ]
  },
  {
   "cell_type": "code",
   "execution_count": null,
   "id": "168a993d-86ab-4111-bf0e-4d54461162be",
   "metadata": {},
   "outputs": [],
   "source": [
    "print(len(attention)) # corresponds to 12 layers of model\n",
    "print(len(attention[0][0])) # 12 attention heads (e.g., different attention patterns/mechanisms)\n",
    "print(attention[0][0][0].shape) # size of attention matrix (at each head)"
   ]
  },
  {
   "cell_type": "code",
   "execution_count": null,
   "id": "40bca428-a069-44e3-aa74-ebb01f056bb0",
   "metadata": {},
   "outputs": [],
   "source": [
    "print(sum(attention[0][0][0][0])) # normalized, attention weights for each token must sum to 1"
   ]
  },
  {
   "cell_type": "markdown",
   "id": "7e66da66-3d85-4d34-9e37-df902ffdbf8a",
   "metadata": {
    "tags": []
   },
   "source": [
    "## Masking"
   ]
  },
  {
   "cell_type": "code",
   "execution_count": null,
   "id": "d42de573-6671-4e63-9e3f-e61648485219",
   "metadata": {},
   "outputs": [],
   "source": [
    "from transformers import pipeline\n",
    "import random\n",
    "model_version = 'bert-base-uncased'\n",
    "model = BertModel.from_pretrained(model_version, output_attentions=True)\n",
    "tokenizer = BertTokenizer.from_pretrained(model_version)\n",
    "unmasker = pipeline('fill-mask', model=model_version)\n",
    "\n",
    "random.seed(10) # set seed\n",
    "\n",
    "# encoded_input = tokenizer(text, return_tensors='pt')\n",
    "# output = model(**encoded_input)\n",
    "\n",
    "new_sentences = []\n",
    "replaced = []\n",
    "\n",
    "for sent in sentences:\n",
    "    encoded = tokenizer(sent, return_tensors='pt')\n",
    "    tokens = encoded['input_ids'][0]\n",
    "    num_tokens = len(tokens) - 3 # don't include cls/sep\n",
    "    mask_ind = random.randint(0, num_tokens) + 1\n",
    "    old_token = ''.join(tokenizer.decode(tokens[mask_ind]).split(\" \")) # save old token\n",
    "    \n",
    "    tokens[mask_ind] = 103 # replace randomly selected token with mask\n",
    "\n",
    "    tokens = tokens[1:-1] # remove extra cls and sep\n",
    "    new_sent = tokenizer.decode(tokens) # convert back to string\n",
    "#     results = unmasker(new_sent)\n",
    "#     final_res = results[0]['sequence'] # new sentence\n",
    "#     new_token = results[0]['token_str'] # new token\n",
    "    \n",
    "#     if old_token == new_token:\n",
    "#         final_res = results[1]['sequence'] # new sentence\n",
    "#         new_token = results[1]['token_str'] # new token\n",
    "#     replaced.append({\"index\": mask_ind, \"old\": old_token, \"new\": new_token}) # save to list\n",
    "    replaced.append({\"index\": mask_ind, \"old\": old_token})\n",
    "    \n",
    "    # new_sentences.append(final_res)\n",
    "    new_sentences.append(new_sent)\n",
    "    # break\n",
    "    \n",
    "print(new_sentences[:10])\n",
    "print(replaced[:10])"
   ]
  },
  {
   "cell_type": "code",
   "execution_count": null,
   "id": "32a732c7-bd16-4b1b-ba38-93a1d70f204a",
   "metadata": {},
   "outputs": [],
   "source": [
    "tokenizer = BertTokenizer.from_pretrained(model_version)\n",
    "\n",
    "for s1, s2 in zip(sentences, new_sentences):\n",
    "    encoded1 = tokenizer(s1, return_tensors='pt')\n",
    "    tokens1 = encoded1['input_ids'][0]\n",
    "    encoded2 = tokenizer(s2, return_tensors='pt')\n",
    "    tokens2 = encoded2['input_ids'][0]\n",
    "    if len(tokens1) != len(tokens2):\n",
    "        # print(tokens1)\n",
    "        # print(tokens2)\n",
    "        print(len(tokens1), s1)\n",
    "        print(len(tokens2), s2)\n",
    "        print(\"\\n\")"
   ]
  },
  {
   "cell_type": "code",
   "execution_count": null,
   "id": "6f06fbc2-6321-417b-92c2-b809a7d3f6e0",
   "metadata": {},
   "outputs": [],
   "source": [
    "tokenizer"
   ]
  },
  {
   "cell_type": "markdown",
   "id": "1886f875-fcdc-4c27-88c2-ed008c9b1a4f",
   "metadata": {
    "tags": []
   },
   "source": [
    "## Getting Q, K vectors"
   ]
  },
  {
   "cell_type": "markdown",
   "id": "2c1680a5-bafb-46e0-961f-985c9d888d67",
   "metadata": {},
   "source": [
    "Follow Jesse Vig's method of extracting query + key info"
   ]
  },
  {
   "cell_type": "code",
   "execution_count": 1,
   "id": "3c7db816-3433-4066-a4e3-49ede93538eb",
   "metadata": {},
   "outputs": [
    {
     "name": "stderr",
     "output_type": "stream",
     "text": [
      "/n/home10/cyeh/anaconda3/envs/diffusion/lib/python3.9/site-packages/tqdm/auto.py:22: TqdmWarning: IProgress not found. Please update jupyter and ipywidgets. See https://ipywidgets.readthedocs.io/en/stable/user_install.html\n",
      "  from .autonotebook import tqdm as notebook_tqdm\n"
     ]
    }
   ],
   "source": [
    "# import methods from bertviz\n",
    "from bertviz import neuron_view\n",
    "import numpy as np\n",
    "\n",
    "# load sentences\n",
    "sentences = np.load(\"sentences.npy\")"
   ]
  },
  {
   "cell_type": "code",
   "execution_count": 12,
   "id": "d9142dbe-1fe2-4a9e-a9ea-ba9899362552",
   "metadata": {},
   "outputs": [],
   "source": [
    "from bertviz.transformers_neuron_view import BertModel, BertTokenizer, GPT2Model, GPT2Tokenizer\n",
    "import random\n",
    "import string\n",
    "\n",
    "# BERT\n",
    "# model_type = 'bert'\n",
    "# model_version = 'bert-base-uncased'\n",
    "# model = BertModel.from_pretrained(model_version, output_attentions=True)\n",
    "# tokenizer = BertTokenizer.from_pretrained(model_version, do_lower_case=True)\n",
    "\n",
    "# GPT\n",
    "model_type = 'gpt2'\n",
    "model_version = 'gpt2'\n",
    "model = GPT2Model.from_pretrained(model_version, output_attentions=True)\n",
    "tokenizer = GPT2Tokenizer.from_pretrained(model_version, do_lower_case=True)\n",
    "\n",
    "sentences_test = sentences[:10] # small sample to test out code with\n",
    "num_heads = 12\n",
    "num_layers = 12\n",
    "\n",
    "# master dictionary for all values\n",
    "attn_dict = {'left_text': [], \n",
    "             'right_text': [], \n",
    "             'positions': [],\n",
    "             'normalized_positions': [],\n",
    "             'sentences': [],\n",
    "             'tokenized_sentences': [],\n",
    "             'queries': [[[''.join(random.choices(string.ascii_letters, k=5))] for i in range(num_heads)] for j in range(num_layers)], \n",
    "             'keys': [[[''.join(random.choices(string.ascii_letters, k=5))] for i in range(num_heads)] for j in range(num_layers)],\n",
    "             'attn': [[[''.join(random.choices(string.ascii_letters, k=5))] for i in range(num_heads)] for j in range(num_layers)],\n",
    "             'dot_prod': [[[''.join(random.choices(string.ascii_letters, k=5))] for i in range(num_heads)] for j in range(num_layers)]}\n",
    "\n",
    "for s in sentences:\n",
    "    # call method from bertviz to get attention info\n",
    "    s_dict = neuron_view.get_attention(model, model_type, tokenizer, s, include_queries_and_keys=True)['all']\n",
    "    \n",
    "    # append to master dictionary\n",
    "    tokens = s_dict['left_text']\n",
    "    attn_dict['left_text'].extend(tokens)\n",
    "    attn_dict['right_text'].extend(s_dict['right_text'])\n",
    "    \n",
    "    for index in range(len(tokens)): # save position of token and tokenized sentences too\n",
    "        attn_dict['positions'].append(index)\n",
    "        attn_dict['normalized_positions'].append(index / (len(tokens) - 1))\n",
    "        attn_dict['sentences'].append(s)\n",
    "        attn_dict['tokenized_sentences'].append(' '.join(tokens))\n",
    "        \n",
    "    for i in range(num_heads): # updating cumulative q/k vectors + attn\n",
    "        for j in range(num_layers):\n",
    "            q = attn_dict['queries'][i][j]\n",
    "            k = attn_dict['keys'][i][j]\n",
    "            a = attn_dict['attn'][i][j]\n",
    "            d = attn_dict['dot_prod'][i][j]\n",
    "            \n",
    "            if len(q) == 1: # on first round, need to empty list (random string was placeholder)\n",
    "                q.clear()\n",
    "            query = s_dict['queries'][i][j]\n",
    "            q.extend(query)\n",
    "            np_query = np.array(query)\n",
    "            \n",
    "            if len(k) == 1:\n",
    "                k.clear()\n",
    "            key = s_dict['keys'][i][j]\n",
    "            k.extend(key)\n",
    "            np_key = np.array(key)\n",
    "            \n",
    "            if len(a) == 1:\n",
    "                a.clear()\n",
    "            a.extend(s_dict['attn'][i][j])\n",
    "            \n",
    "            if len(d) == 1:\n",
    "                d.clear()\n",
    "            dp = np.dot(np_query, np_key.transpose())\n",
    "            \n",
    "            d.extend(dp)"
   ]
  },
  {
   "cell_type": "code",
   "execution_count": 13,
   "id": "c73e5dbb-bf6d-4ba8-bd5b-c9fc5363579d",
   "metadata": {},
   "outputs": [],
   "source": [
    "# BERT\n",
    "model_type = 'bert'\n",
    "model_version = 'bert-base-uncased'\n",
    "model = BertModel.from_pretrained(model_version, output_attentions=True)\n",
    "tokenizer = BertTokenizer.from_pretrained(model_version, do_lower_case=True)\n",
    "\n",
    "# GPT\n",
    "# model_type = 'gpt2'\n",
    "# model_version = 'gpt2'\n",
    "# model = GPT2Model.from_pretrained(model_version, output_attentions=True)\n",
    "# tokenizer = GPT2Tokenizer.from_pretrained(model_version, do_lower_case=True)\n",
    "\n",
    "# master dictionary for all values\n",
    "bert_attn_dict = {'left_text': [], \n",
    "             'right_text': [], \n",
    "             'positions': [],\n",
    "             'normalized_positions': [],\n",
    "             'sentences': [],\n",
    "             'tokenized_sentences': [],\n",
    "             'queries': [[[''.join(random.choices(string.ascii_letters, k=5))] for i in range(num_heads)] for j in range(num_layers)], \n",
    "             'keys': [[[''.join(random.choices(string.ascii_letters, k=5))] for i in range(num_heads)] for j in range(num_layers)],\n",
    "             'attn': [[[''.join(random.choices(string.ascii_letters, k=5))] for i in range(num_heads)] for j in range(num_layers)],\n",
    "             'dot_prod': [[[''.join(random.choices(string.ascii_letters, k=5))] for i in range(num_heads)] for j in range(num_layers)]}\n",
    "\n",
    "for s in sentences:\n",
    "    # call method from bertviz to get attention info\n",
    "    s_dict = neuron_view.get_attention(model, model_type, tokenizer, s, include_queries_and_keys=True)['all']\n",
    "    \n",
    "    # append to master dictionary\n",
    "    tokens = s_dict['left_text']\n",
    "    bert_attn_dict['left_text'].extend(tokens)\n",
    "    bert_attn_dict['right_text'].extend(s_dict['right_text'])\n",
    "    \n",
    "    for index in range(len(tokens)): # save position of token and tokenized sentences too\n",
    "        bert_attn_dict['positions'].append(index)\n",
    "        bert_attn_dict['normalized_positions'].append(index / (len(tokens) - 1))\n",
    "        bert_attn_dict['sentences'].append(s)\n",
    "        bert_attn_dict['tokenized_sentences'].append(' '.join(tokens))\n",
    "        \n",
    "    for i in range(num_heads): # updating cumulative q/k vectors + attn\n",
    "        for j in range(num_layers):\n",
    "            q = bert_attn_dict['queries'][i][j]\n",
    "            k = bert_attn_dict['keys'][i][j]\n",
    "            a = bert_attn_dict['attn'][i][j]\n",
    "            d = bert_attn_dict['dot_prod'][i][j]\n",
    "            \n",
    "            if len(q) == 1: # on first round, need to empty list (random string was placeholder)\n",
    "                q.clear()\n",
    "            query = s_dict['queries'][i][j]\n",
    "            q.extend(query)\n",
    "            np_query = np.array(query)\n",
    "            \n",
    "            if len(k) == 1:\n",
    "                k.clear()\n",
    "            key = s_dict['keys'][i][j]\n",
    "            k.extend(key)\n",
    "            np_key = np.array(key)\n",
    "            \n",
    "            if len(a) == 1:\n",
    "                a.clear()\n",
    "            a.extend(s_dict['attn'][i][j])\n",
    "            \n",
    "            if len(d) == 1:\n",
    "                d.clear()\n",
    "            dp = np.dot(np_query, np_key.transpose())\n",
    "            \n",
    "            d.extend(dp)"
   ]
  },
  {
   "cell_type": "code",
   "execution_count": 13,
   "id": "9f92ba83-271f-45ed-be9a-f749531e3222",
   "metadata": {},
   "outputs": [],
   "source": [
    "attention = attn_dict[\"attn\"]\n",
    "positions = attn_dict[\"positions\"]\n",
    "sentences = attn_dict['tokenized_sentences']\n",
    "tokens = attn_dict['left_text']"
   ]
  },
  {
   "cell_type": "markdown",
   "id": "0fe458ec-0499-4455-9591-423405f64603",
   "metadata": {
    "jp-MarkdownHeadingCollapsed": true,
    "tags": []
   },
   "source": [
    "#### find interesting sentences"
   ]
  },
  {
   "cell_type": "code",
   "execution_count": 39,
   "id": "9ec2c6ea-7ddd-4286-a5a9-3a6c9e8c9eed",
   "metadata": {},
   "outputs": [],
   "source": [
    "### checking sentences\n",
    "def find_sentences(layer, head):\n",
    "    sentence_list = []\n",
    "    attn = attention[layer][head]\n",
    "    \n",
    "    for i in range(num_sent):\n",
    "        offset = sent_offset[i]\n",
    "        if i == num_sent - 1:\n",
    "            sent_end = len(attn)\n",
    "        else:\n",
    "            sent_end = sent_offset[i + 1]\n",
    "            \n",
    "        sent_attn = attn[offset:sent_end]\n",
    "        all_first = [a[0] for a in sent_attn]\n",
    "        avg_first = sum(all_first) / len(all_first)\n",
    "        \n",
    "        sent = sentences[offset]\n",
    "        if avg_first < 0.7:\n",
    "            sentence_list.append(sent)\n",
    "            \n",
    "    # for i in range(len(attn)):\n",
    "    #     a = attn[i]\n",
    "    #     if a[0] < 0.5: # keep sentence if not that much attn to first token\n",
    "    #         sent = sentences[i]\n",
    "    #         if sent not in sentence_list:\n",
    "    #             sentence_list.append(sent)\n",
    "                \n",
    "    return sentence_list\n"
   ]
  },
  {
   "cell_type": "code",
   "execution_count": 42,
   "id": "35d0c79d-b3b7-4a59-b749-6d5066fdb355",
   "metadata": {},
   "outputs": [
    {
     "name": "stdout",
     "output_type": "stream",
     "text": [
      "5\n",
      "211 The  notation  formula _ 8  indicates  the  set  of  all  infinite  sequences  over  the  alphabet  formula _ 1 ,  and  formula _ 10  indicates  the  set  formula _ 11  of  all  finite  or  infinite  sequences .\n",
      "96 The  Mull s jo Ì Ī  Folk  High  School  is  a  folk  high  school  in  Mull s jo Ì Ī ,  Sweden .\n",
      "406 The  province  is  mostly  mountainous  with  the  Mont i  de lla  Duchess a  and  the  Mont i  del  C icol ano  ranges  in  the  south  with  Monte  N uria  and  Monte  G iano ,  the  Mont i  Re at ini  range  with  Monte  Termin illo  ( 22 17  m )  in  the  north  in  part  of  the  Ab ru zz ese  Ap enn ines ,  and  Mont i  de lla  L aga  ( 24 58  m )  to  the  east  on  the  border  with  Ab ru zzo .\n",
      "296 For  example ,  since  the  conson ant  phon eme  / n /  can  be  written  ,  ,  or  ( depending  on  the  spelling  of  the  particular  word ),  these  letters  are  not  simply  called  \" no Ì Ĥ \";  instead ,  they  are  called  \" d ental  no Ì Ĥ \",  \" ce re bral  no Ì Ĥ \"  and  \" n io Ì Ĥ \".\n",
      "370 A  significant  international  community  of  researchers  follow  Wil le 's  work  on  Form al  concept  analysis ,  the  main  forums  being  the  International  Conf erences  on  Form al  Concept  Analysis  ( IC FC A ),  Concept ual  Struct ures  ( see  also  Concept ual  graphs )  ( IC CS )  and  Concept  L att ices  and  their  Application  ( CLA )  conferences .\n"
     ]
    }
   ],
   "source": [
    "sentence_list = find_sentences(3, 0)\n",
    "print(len(sentence_list))\n",
    "for s in sentence_list:\n",
    "    print(len(s), s)"
   ]
  },
  {
   "cell_type": "code",
   "execution_count": null,
   "id": "97ec48e0-c91b-4582-b446-18bf156e8a09",
   "metadata": {},
   "outputs": [],
   "source": [
    "attention = attn_dict[\"attn\"]\n",
    "positions = attn_dict[\"positions\"]\n",
    "sentences = tok_sentences['tokenized_sentences']"
   ]
  },
  {
   "cell_type": "code",
   "execution_count": 38,
   "id": "12430464-9ac7-4e78-bd55-5662938ec650",
   "metadata": {},
   "outputs": [
    {
     "name": "stdout",
     "output_type": "stream",
     "text": [
      "The notation formula_8 indicates the set of all infinite sequences over the alphabet formula_1, and formula_10 indicates the set formula_11 of all finite or infinite sequences.\n",
      "The notation formula_8 indicates the set of all infinite sequences over the alphabet formula_1, and formula_10 indicates the set formula_11 of all finite or infinite sequences.\n",
      "The notation formula_8 indicates the set of all infinite sequences over the alphabet formula_1, and formula_10 indicates the set formula_11 of all finite or infinite sequences.\n",
      "The notation formula_8 indicates the set of all infinite sequences over the alphabet formula_1, and formula_10 indicates the set formula_11 of all finite or infinite sequences.\n",
      "The notation formula_8 indicates the set of all infinite sequences over the alphabet formula_1, and formula_10 indicates the set formula_11 of all finite or infinite sequences.\n",
      "The notation formula_8 indicates the set of all infinite sequences over the alphabet formula_1, and formula_10 indicates the set formula_11 of all finite or infinite sequences.\n",
      "The notation formula_8 indicates the set of all infinite sequences over the alphabet formula_1, and formula_10 indicates the set formula_11 of all finite or infinite sequences.\n",
      "The notation formula_8 indicates the set of all infinite sequences over the alphabet formula_1, and formula_10 indicates the set formula_11 of all finite or infinite sequences.\n",
      "The notation formula_8 indicates the set of all infinite sequences over the alphabet formula_1, and formula_10 indicates the set formula_11 of all finite or infinite sequences.\n",
      "The notation formula_8 indicates the set of all infinite sequences over the alphabet formula_1, and formula_10 indicates the set formula_11 of all finite or infinite sequences.\n",
      "The notation formula_8 indicates the set of all infinite sequences over the alphabet formula_1, and formula_10 indicates the set formula_11 of all finite or infinite sequences.\n",
      "The notation formula_8 indicates the set of all infinite sequences over the alphabet formula_1, and formula_10 indicates the set formula_11 of all finite or infinite sequences.\n",
      "The notation formula_8 indicates the set of all infinite sequences over the alphabet formula_1, and formula_10 indicates the set formula_11 of all finite or infinite sequences.\n",
      "The notation formula_8 indicates the set of all infinite sequences over the alphabet formula_1, and formula_10 indicates the set formula_11 of all finite or infinite sequences.\n",
      "The notation formula_8 indicates the set of all infinite sequences over the alphabet formula_1, and formula_10 indicates the set formula_11 of all finite or infinite sequences.\n",
      "The notation formula_8 indicates the set of all infinite sequences over the alphabet formula_1, and formula_10 indicates the set formula_11 of all finite or infinite sequences.\n",
      "The notation formula_8 indicates the set of all infinite sequences over the alphabet formula_1, and formula_10 indicates the set formula_11 of all finite or infinite sequences.\n",
      "The notation formula_8 indicates the set of all infinite sequences over the alphabet formula_1, and formula_10 indicates the set formula_11 of all finite or infinite sequences.\n",
      "The notation formula_8 indicates the set of all infinite sequences over the alphabet formula_1, and formula_10 indicates the set formula_11 of all finite or infinite sequences.\n",
      "The notation formula_8 indicates the set of all infinite sequences over the alphabet formula_1, and formula_10 indicates the set formula_11 of all finite or infinite sequences.\n",
      "The notation formula_8 indicates the set of all infinite sequences over the alphabet formula_1, and formula_10 indicates the set formula_11 of all finite or infinite sequences.\n",
      "The notation formula_8 indicates the set of all infinite sequences over the alphabet formula_1, and formula_10 indicates the set formula_11 of all finite or infinite sequences.\n",
      "The notation formula_8 indicates the set of all infinite sequences over the alphabet formula_1, and formula_10 indicates the set formula_11 of all finite or infinite sequences.\n",
      "The notation formula_8 indicates the set of all infinite sequences over the alphabet formula_1, and formula_10 indicates the set formula_11 of all finite or infinite sequences.\n",
      "The notation formula_8 indicates the set of all infinite sequences over the alphabet formula_1, and formula_10 indicates the set formula_11 of all finite or infinite sequences.\n",
      "The notation formula_8 indicates the set of all infinite sequences over the alphabet formula_1, and formula_10 indicates the set formula_11 of all finite or infinite sequences.\n",
      "The notation formula_8 indicates the set of all infinite sequences over the alphabet formula_1, and formula_10 indicates the set formula_11 of all finite or infinite sequences.\n",
      "The notation formula_8 indicates the set of all infinite sequences over the alphabet formula_1, and formula_10 indicates the set formula_11 of all finite or infinite sequences.\n",
      "The notation formula_8 indicates the set of all infinite sequences over the alphabet formula_1, and formula_10 indicates the set formula_11 of all finite or infinite sequences.\n",
      "The notation formula_8 indicates the set of all infinite sequences over the alphabet formula_1, and formula_10 indicates the set formula_11 of all finite or infinite sequences.\n",
      "The notation formula_8 indicates the set of all infinite sequences over the alphabet formula_1, and formula_10 indicates the set formula_11 of all finite or infinite sequences.\n",
      "The notation formula_8 indicates the set of all infinite sequences over the alphabet formula_1, and formula_10 indicates the set formula_11 of all finite or infinite sequences.\n",
      "The notation formula_8 indicates the set of all infinite sequences over the alphabet formula_1, and formula_10 indicates the set formula_11 of all finite or infinite sequences.\n",
      "The notation formula_8 indicates the set of all infinite sequences over the alphabet formula_1, and formula_10 indicates the set formula_11 of all finite or infinite sequences.\n",
      "The notation formula_8 indicates the set of all infinite sequences over the alphabet formula_1, and formula_10 indicates the set formula_11 of all finite or infinite sequences.\n",
      "The notation formula_8 indicates the set of all infinite sequences over the alphabet formula_1, and formula_10 indicates the set formula_11 of all finite or infinite sequences.\n"
     ]
    }
   ],
   "source": [
    "for s in attn_dict['sentences']:\n",
    "    if \"infinite\" in s:\n",
    "        print(s)"
   ]
  },
  {
   "cell_type": "markdown",
   "id": "c57f81fc-5d78-42df-b948-6f76355f71d2",
   "metadata": {
    "tags": []
   },
   "source": [
    "### Aggregate attention matrices"
   ]
  },
  {
   "cell_type": "code",
   "execution_count": 27,
   "id": "e628d54c-e1f8-45cf-a56e-1c23bad80deb",
   "metadata": {},
   "outputs": [
    {
     "name": "stdout",
     "output_type": "stream",
     "text": [
      "98\n"
     ]
    }
   ],
   "source": [
    "max_pos = max(positions)\n",
    "print(max_pos)"
   ]
  },
  {
   "cell_type": "code",
   "execution_count": 34,
   "id": "e10a34ee-3d34-4f88-b4fb-e38de6c88bed",
   "metadata": {},
   "outputs": [],
   "source": [
    "for layer in range(12):\n",
    "    for head in range(12):\n",
    "        gpt_attn_dict = [[[] for i in range(max_pos + 1)] for j in range(max_pos + 1)]\n",
    "        lh_attn = attention[layer][head]\n",
    "        for query in range(len(lh_attn)):\n",
    "            tok_attn = lh_attn[query]\n",
    "            q = positions[query]\n",
    "            for k in range(len(tok_attn)):\n",
    "                pair_attn = tok_attn[k]\n",
    "                gpt_attn_dict[q][k].append(pair_attn)\n",
    "        np.save(\"attention/layer{}_head{}.pkl\".format(layer, head), gpt_attn_dict)"
   ]
  },
  {
   "cell_type": "code",
   "execution_count": 16,
   "id": "e9bef533-42eb-4639-a398-55cbda8885a8",
   "metadata": {},
   "outputs": [],
   "source": [
    "def avg_attns(test):\n",
    "    for i in range(len(test)):\n",
    "        for j in range(len(test[i])):\n",
    "            cell = test[i][j]\n",
    "            test[i][j] = sum(cell) / len(cell)\n",
    "    return test"
   ]
  },
  {
   "cell_type": "code",
   "execution_count": 17,
   "id": "4313ab61-8025-43dd-b952-5c4316e6265a",
   "metadata": {},
   "outputs": [],
   "source": [
    "def normalize_attns(test):\n",
    "    for i in range(len(test)):\n",
    "        sum_row = sum(test[i])\n",
    "        for j in range(len(test[i])):\n",
    "            cell = test[i][j]\n",
    "            test[i][j] = cell / sum_row\n",
    "    return test"
   ]
  },
  {
   "cell_type": "code",
   "execution_count": 30,
   "id": "703c7493-32bd-4031-b91f-fcb958ffcf64",
   "metadata": {},
   "outputs": [],
   "source": [
    "def get_agg_attn(layer, head):\n",
    "    attn = np.load(\"attention/layer{}_head{}.pkl.npy\".format(layer, head), allow_pickle=True)\n",
    "    avg_attn = avg_attns(attn)\n",
    "    norm_attn = normalize_attns(avg_attn)\n",
    "    fin_attn = norm_attn.astype(\"float\")\n",
    "    np.save(\"attention_new/layer{}_head{}.npy\".format(layer, head), fin_attn)\n",
    "    return fin_attn"
   ]
  },
  {
   "cell_type": "code",
   "execution_count": 32,
   "id": "0ceb15d9-9bfd-45ea-a23e-1c7cede9f7e2",
   "metadata": {},
   "outputs": [],
   "source": [
    "all_agg = []\n",
    "for layer in range(12):\n",
    "    for head in range(12):\n",
    "        agg = np.load(\"gpt_attention/layer{}_head{}.npy\".format(layer, head))\n",
    "        all_agg.append(agg.flatten())"
   ]
  },
  {
   "cell_type": "code",
   "execution_count": 33,
   "id": "864f4f14-1a48-48a9-91a9-8a60b088064e",
   "metadata": {},
   "outputs": [],
   "source": [
    "all_agg = np.asarray(all_agg)"
   ]
  },
  {
   "cell_type": "code",
   "execution_count": 36,
   "id": "66826987-70c4-441a-998c-95755b1e1980",
   "metadata": {},
   "outputs": [],
   "source": [
    "test = get_agg_attn(3, 5)"
   ]
  },
  {
   "cell_type": "code",
   "execution_count": 37,
   "id": "b126a6dc-5d3b-476f-9029-5146229589fb",
   "metadata": {},
   "outputs": [
    {
     "data": {
      "text/plain": [
       "Text(0.5, 1.05, 'Average Attention Weights in GPT (Layer 5 Head 1)')"
      ]
     },
     "execution_count": 37,
     "metadata": {},
     "output_type": "execute_result"
    },
    {
     "data": {
      "image/png": "[encoded data removed]",
      "text/plain": [
       "<Figure size 1440x1440 with 2 Axes>"
      ]
     },
     "metadata": {
      "needs_background": "light"
     },
     "output_type": "display_data"
    }
   ],
   "source": [
    "fig, axs = plt.subplots(ncols=1)\n",
    "fig.set_size_inches(20, 20)\n",
    "sns.heatmap(test, square=True, cmap=sns.color_palette(\"light:salmon\", as_cmap=True))\n",
    "axs.xaxis.tick_top()\n",
    "axs.set_xlabel('key', fontsize=14)\n",
    "axs.xaxis.set_label_position('top') \n",
    "plt.xticks(rotation = 90)\n",
    "axs.set_ylabel('query', fontsize=14)\n",
    "axs.set_title('Average Attention Weights in GPT (Layer 5 Head 1)', fontsize=16, y=1.05)"
   ]
  },
  {
   "cell_type": "code",
   "execution_count": 70,
   "id": "1c9a7fc6-895f-43a9-bf82-9611333bc8d2",
   "metadata": {},
   "outputs": [
    {
     "name": "stdout",
     "output_type": "stream",
     "text": [
      "12\n",
      "1\n",
      "torch.Size([1, 12, 111, 111])\n",
      "12\n"
     ]
    }
   ],
   "source": [
    "test12 = [[] for j in range(12)]\n",
    "for i in range(len(test12)):\n",
    "    empty = [test for i in range(12)]\n",
    "    test12[i].append(empty)\n",
    "    np_array = np.asarray(test12[i])\n",
    "    test12[i] = torch.tensor(np_array)\n",
    "    \n",
    "# test12 = np.asarray(test12)\n",
    "print(len(test12))\n",
    "print(len(test12[0]))\n",
    "print(test12[0].shape)\n",
    "print(len(test12[0][0]))"
   ]
  },
  {
   "cell_type": "code",
   "execution_count": 71,
   "id": "fb6f9ce9-d924-41c2-a3a1-042a865eb424",
   "metadata": {},
   "outputs": [],
   "source": [
    "html = head_view(test12, [str(i) for i in range(len(test))], layer=0, heads=[0], include_layers=[0], html_action='return') # generate html\n",
    "\n",
    "with open('att.html', \"w\") as file: # save html to file\n",
    "    file.write(html.data)"
   ]
  },
  {
   "cell_type": "markdown",
   "id": "9967c633-969e-44e7-910e-dcac19d330a6",
   "metadata": {
    "tags": []
   },
   "source": [
    "### Trying out attention plot generation"
   ]
  },
  {
   "cell_type": "code",
   "execution_count": 1,
   "id": "761dd299-7d57-41b4-835d-ea44617e46b5",
   "metadata": {},
   "outputs": [
    {
     "name": "stderr",
     "output_type": "stream",
     "text": [
      "/n/home10/cyeh/anaconda3/envs/diffusion/lib/python3.9/site-packages/tqdm/auto.py:22: TqdmWarning: IProgress not found. Please update jupyter and ipywidgets. See https://ipywidgets.readthedocs.io/en/stable/user_install.html\n",
      "  from .autonotebook import tqdm as notebook_tqdm\n"
     ]
    }
   ],
   "source": [
    "from bertviz.transformers_neuron_view import BertModel, BertTokenizer\n",
    "\n",
    "## NEURON VIEW\n",
    "# model_type = 'bert'\n",
    "# model_version = 'bert-base-uncased'\n",
    "# model = BertModel.from_pretrained(model_version, output_attentions=True)\n",
    "# tokenizer = BertTokenizer.from_pretrained(model_version, do_lower_case=True)\n",
    "\n",
    "# sentence_a = \"5000 yuan is a lot of money. 5.000 yuanes es mucho dinero.\"\n",
    "sentence_a = \"which famous jewellers makes the super bowl trophy? tiffany & co.\"\n",
    "\n",
    "# generate html for attention view\n",
    "# html = neuron_view.show(model, model_type, tokenizer, sentence_a, sentence_b=None, display_mode='dark', layer=0, head=0, html_action='return')\n",
    "\n",
    "# with open('att.html', \"w\") as file: # save html to file\n",
    "#     file.write(html.data)"
   ]
  },
  {
   "cell_type": "code",
   "execution_count": 2,
   "id": "cbb3a0f3-814d-4a64-8fc6-3922d131b0b1",
   "metadata": {},
   "outputs": [],
   "source": [
    "## HEAD VIEW\n",
    "from transformers import BertTokenizer, BertModel, GPT2Model, GPT2Tokenizer\n",
    "from bertviz import head_view\n",
    "\n",
    "model_type = 'gpt2'\n",
    "model_version = 'gpt2'\n",
    "model = GPT2Model.from_pretrained(model_version, output_attentions=True)\n",
    "tokenizer = GPT2Tokenizer.from_pretrained(model_version, do_lower_case=True)\n",
    "\n",
    "inputs = tokenizer(sentence_a, return_tensors=\"pt\")\n",
    "outputs = model(**inputs)\n",
    "attention = outputs.attentions\n",
    "\n",
    "# model_version = 'bert-base-uncased'\n",
    "# model = BertModel.from_pretrained(model_version, output_attentions=True)\n",
    "# tokenizer = BertTokenizer.from_pretrained(model_version)\n",
    "\n",
    "# inputs = tokenizer.encode_plus(sentence_a, return_tensors='pt')\n",
    "input_ids = inputs['input_ids']\n",
    "# token_type_ids = inputs['token_type_ids']\n",
    "# attention = model(input_ids, token_type_ids=token_type_ids)[-1]\n",
    "# sentence_b_start = token_type_ids[0].tolist().index(1)\n",
    "input_id_list = input_ids[0].tolist() # Batch index 0\n",
    "tokens = tokenizer.convert_ids_to_tokens(input_id_list) \n",
    "\n",
    "html = head_view(attention, tokens, html_action='return') # generate html\n",
    "\n",
    "with open('att2.html', \"w\") as file: # save html to file\n",
    "    file.write(html.data)"
   ]
  },
  {
   "cell_type": "code",
   "execution_count": 42,
   "id": "abeb27d0-9226-4c88-96f4-5e69eed441c2",
   "metadata": {},
   "outputs": [],
   "source": [
    "print(len(attention))\n",
    "print(len(attention[0]))\n",
    "print(attention[0].shape)\n",
    "print(len(attention[0][0]))\n",
    "print(len(attention[0][0][0]))\n",
    "print(len(attention[0][0][0][0]))"
   ]
  },
  {
   "cell_type": "markdown",
   "id": "a39a2fee-a204-43de-a252-04b9dc1e203a",
   "metadata": {
    "jp-MarkdownHeadingCollapsed": true,
    "tags": []
   },
   "source": [
    "### checking output"
   ]
  },
  {
   "cell_type": "code",
   "execution_count": null,
   "id": "3c24200b-ccde-460a-b89d-53140d5d9d44",
   "metadata": {},
   "outputs": [],
   "source": [
    "print(len(attn_dict['left_text']))\n",
    "print(attn_dict['left_text'][:20])\n",
    "\n",
    "print(len(attn_dict['positions']))\n",
    "print(attn_dict['positions'][:20])\n",
    "\n",
    "print(len(attn_dict['sentences']))\n",
    "print(attn_dict['sentences'][:20])\n",
    "\n",
    "print(len(attn_dict['tokenized_sentences']))\n",
    "print(attn_dict['tokenized_sentences'][:20])"
   ]
  },
  {
   "cell_type": "code",
   "execution_count": null,
   "id": "54e24f1f-0e72-42c3-a48d-fcc7022bb5ea",
   "metadata": {},
   "outputs": [],
   "source": [
    "# checking\n",
    "print(attn_dict['tokenized_sentences'][0])\n",
    "print(len(attn_dict['tokenized_sentences'][0].split()))\n",
    "\n",
    "print(\"\\n\" + str(len(attn_dict['attn'])))\n",
    "print(len(attn_dict['attn'][0]))\n",
    "print(len(attn_dict['attn'][0][0]))\n",
    "print(len(attn_dict['attn'][0][0][14]))"
   ]
  },
  {
   "cell_type": "code",
   "execution_count": null,
   "id": "db0b6aef-2982-44a1-aaf1-7088ee0309eb",
   "metadata": {},
   "outputs": [],
   "source": [
    "print(attn_dict['left_text']) # see output for smaller sample"
   ]
  },
  {
   "cell_type": "code",
   "execution_count": null,
   "id": "732f031e-f87c-4939-b7a4-e61969f4b83d",
   "metadata": {},
   "outputs": [],
   "source": [
    "print(attn_dict['queries'][0][0][0])"
   ]
  },
  {
   "cell_type": "code",
   "execution_count": null,
   "id": "669d3a61-5d06-41b5-987d-5f66be51ed42",
   "metadata": {},
   "outputs": [],
   "source": [
    "# checking to make sure things look right\n",
    "print(len(attn_dict['left_text'])) # num tokens\n",
    "      \n",
    "print(len(attn_dict['queries'])) # 12 layers\n",
    "print(len(attn_dict['queries'][0])) # 12 heads\n",
    "print(len(attn_dict['queries'][0][0])) # source sequence length (number of tokens)\n",
    "print(len(attn_dict['queries'][0][0][0])) # vector size"
   ]
  },
  {
   "cell_type": "code",
   "execution_count": null,
   "id": "a28ba6a6-7527-4b3e-b937-9d45e4ca2bfe",
   "metadata": {},
   "outputs": [],
   "source": [
    "print(len(attn_dict['right_text'])) # num tokens\n",
    "      \n",
    "print(len(attn_dict['keys'])) # 12 layers\n",
    "print(len(attn_dict['keys'][0])) # 12 heads\n",
    "print(len(attn_dict['keys'][0][0])) # source sequence length (number of tokens)\n",
    "print(len(attn_dict['keys'][0][0][0])) # vector size"
   ]
  },
  {
   "cell_type": "markdown",
   "id": "2781fe07-966d-45d2-99dc-cda6f2cedb1b",
   "metadata": {
    "jp-MarkdownHeadingCollapsed": true,
    "tags": []
   },
   "source": [
    "### archive"
   ]
  },
  {
   "cell_type": "code",
   "execution_count": null,
   "id": "8a332640-062a-42e4-a254-a82268755c96",
   "metadata": {},
   "outputs": [],
   "source": [
    "# this output does include query and key vectors\n",
    "output = model(input_ids, token_type_ids=token_type_ids)"
   ]
  },
  {
   "cell_type": "code",
   "execution_count": null,
   "id": "4f79f98f-ac26-429a-acdd-c86bd542c8ca",
   "metadata": {},
   "outputs": [],
   "source": [
    "\"\"\"\n",
    "from bertviz documentation:\n",
    "    get_attention method should return:\n",
    "      Dictionary of attn representations with the structure:\n",
    "      {\n",
    "        'all': All attention (source = AB, target = AB)\n",
    "        'aa': Sentence A self-attention (source = A, target = A) (if sentence_b is not None)\n",
    "        'bb': Sentence B self-attention (source = B, target = B) (if sentence_b is not None)\n",
    "        'ab': Sentence A -> Sentence B attention (source = A, target = B) (if sentence_b is not None)\n",
    "        'ba': Sentence B -> Sentence A attention (source = B, target = A) (if sentence_b is not None)\n",
    "      }\n",
    "      where each value is a dictionary:\n",
    "      {\n",
    "        'left_text': list of source tokens, to be displayed on the left of the vis\n",
    "        'right_text': list of target tokens, to be displayed on the right of the vis\n",
    "        'attn': list of attention matrices, one for each layer. Each has shape [num_heads, source_seq_len, target_seq_len]\n",
    "        'queries' (optional): list of query vector arrays, one for each layer. Each has shape (num_heads, source_seq_len, vector_size)\n",
    "        'keys' (optional): list of key vector arrays, one for each layer. Each has shape (num_heads, target_seq_len, vector_size)\n",
    "      }\n",
    "\"\"\"\n",
    "print(len(attn_dict))"
   ]
  },
  {
   "cell_type": "markdown",
   "id": "fa283ed1-065b-4b5a-a711-f515a5be5512",
   "metadata": {
    "tags": []
   },
   "source": [
    "## Attention Pattern Analysis"
   ]
  },
  {
   "cell_type": "markdown",
   "id": "58d18a44-d17f-4232-bfc6-3c7bad5d753e",
   "metadata": {
    "jp-MarkdownHeadingCollapsed": true,
    "tags": []
   },
   "source": [
    "### installs"
   ]
  },
  {
   "cell_type": "code",
   "execution_count": null,
   "id": "f1cb3ac6-5b12-4834-933c-340e991a6400",
   "metadata": {},
   "outputs": [],
   "source": [
    "!pip install nltk"
   ]
  },
  {
   "cell_type": "code",
   "execution_count": null,
   "id": "854dea40-9e7c-4998-a6d6-d5fc625268ec",
   "metadata": {},
   "outputs": [],
   "source": [
    "!pip install spacy"
   ]
  },
  {
   "cell_type": "code",
   "execution_count": null,
   "id": "9f4c9255-b5e8-4a9d-85ba-e3cdc4504b0f",
   "metadata": {},
   "outputs": [],
   "source": [
    "!python -m spacy download en_core_web_sm"
   ]
  },
  {
   "cell_type": "code",
   "execution_count": 22,
   "id": "db63f9d0-5233-4c57-ace0-1e9491f947d2",
   "metadata": {},
   "outputs": [
    {
     "name": "stderr",
     "output_type": "stream",
     "text": [
      "[nltk_data] Downloading package stopwords to\n",
      "[nltk_data]     /n/home10/cyeh/nltk_data...\n",
      "[nltk_data]   Unzipping corpora/stopwords.zip.\n"
     ]
    },
    {
     "data": {
      "text/plain": [
       "True"
      ]
     },
     "execution_count": 22,
     "metadata": {},
     "output_type": "execute_result"
    }
   ],
   "source": [
    "# downloads\n",
    "nltk.download('punkt')\n",
    "nltk.download('averaged_perceptron_tagger')\n",
    "nltk.download('stopwords')"
   ]
  },
  {
   "cell_type": "markdown",
   "id": "b84ec7b9-27de-4efe-9160-4d6307d329e2",
   "metadata": {
    "jp-MarkdownHeadingCollapsed": true,
    "tags": []
   },
   "source": [
    "### get info from attn_dict"
   ]
  },
  {
   "cell_type": "code",
   "execution_count": 18,
   "id": "547857a8-4e3e-43d1-8b95-b51b32ab8edd",
   "metadata": {},
   "outputs": [
    {
     "name": "stdout",
     "output_type": "stream",
     "text": [
      "28679\n",
      "14\n",
      "28679\n",
      "28679\n"
     ]
    }
   ],
   "source": [
    "## gpt\n",
    "attention = attn_dict[\"attn\"]\n",
    "print(len(attention[0][0]))\n",
    "print(len(attention[0][0][0]))\n",
    "positions = attn_dict[\"positions\"]\n",
    "print(len(positions))\n",
    "tokens = attn_dict[\"left_text\"]\n",
    "print(len(tokens))\n",
    "tok_sentences = attn_dict[\"tokenized_sentences\"]"
   ]
  },
  {
   "cell_type": "code",
   "execution_count": 30,
   "id": "dd44cb05-7fb9-43f3-af40-6e2cce3d8a31",
   "metadata": {},
   "outputs": [
    {
     "name": "stdout",
     "output_type": "stream",
     "text": [
      "30070\n",
      "13\n",
      "30070\n",
      "30070\n"
     ]
    }
   ],
   "source": [
    "## bert\n",
    "attention = bert_attn_dict[\"attn\"]\n",
    "print(len(attention[0][0]))\n",
    "print(len(attention[0][0][0]))\n",
    "positions = bert_attn_dict[\"positions\"]\n",
    "print(len(positions))\n",
    "tokens = bert_attn_dict[\"left_text\"]\n",
    "print(len(tokens))\n",
    "tok_sentences = bert_attn_dict[\"tokenized_sentences\"]"
   ]
  },
  {
   "cell_type": "code",
   "execution_count": 32,
   "id": "957de93d-6b6d-4558-820a-bb2d9697dcf0",
   "metadata": {},
   "outputs": [
    {
     "name": "stdout",
     "output_type": "stream",
     "text": [
      "1000\n",
      "30020\n"
     ]
    }
   ],
   "source": [
    "# compute offset for each sentence in dataset\n",
    "num_tokens = len(tok_sentences)\n",
    "\n",
    "offset = 0\n",
    "sent_offset = []\n",
    "while offset < num_tokens:\n",
    "    sent_offset.append(offset)\n",
    "    cur_sent = tok_sentences[offset]\n",
    "    sent_length = len(cur_sent.strip().split())\n",
    "    if \"   \" in cur_sent:\n",
    "        sent_length += 1\n",
    "    offset += sent_length\n",
    "    \n",
    "num_sent = len(sent_offset)\n",
    "\n",
    "print(len(sent_offset))\n",
    "print(sent_offset[-1])"
   ]
  },
  {
   "cell_type": "code",
   "execution_count": 41,
   "id": "33a64ab4-2613-4100-a4be-528aa0c7ef12",
   "metadata": {},
   "outputs": [
    {
     "name": "stdout",
     "output_type": "stream",
     "text": [
      "[-1.5451565980911255, 1.9003686904907227, 0.45480257272720337, 0.2326134741306305, 0.5864970684051514, -0.1344853937625885, 0.5561538934707642, -0.19096575677394867, -1.4968875646591187, 0.0022542253136634827, -0.29308047890663147, 0.13175147771835327, 0.18392860889434814, -0.6756492257118225, -1.295971393585205, -0.5092719197273254, 0.49030566215515137, 0.28427398204803467, 2.163174629211426, -0.08766543865203857, -2.689213752746582, -0.9645175337791443, -0.4910575747489929, -0.8320187330245972, -0.06370820105075836, -0.727623462677002, -0.6636711955070496, -0.8632463812828064, -0.16455106437206268, -0.009535737335681915, 1.8188281059265137, -0.7318212985992432, -1.2319684028625488, 0.8476460576057434, 0.045709848403930664, 0.2907794713973999, 0.409832626581192, -0.408302366733551, 0.28515201807022095, 1.4030232429504395, -0.03132401406764984, 0.1713440716266632, -0.4670998752117157, 0.7288041114807129, -0.004904791712760925, -0.7504196763038635, -0.17379453778266907, -1.0903122425079346, -0.7260745763778687, 0.27289146184921265, 0.5265483260154724, -0.9236880540847778, 0.29653456807136536, 0.6097808480262756, -0.5865347385406494, 0.4028652012348175, -0.13823150098323822, -0.12443289160728455, 0.32263776659965515, 0.10502343624830246, -1.1124579906463623, -1.5133622884750366, 0.1869789958000183, 1.36967134475708]\n"
     ]
    }
   ],
   "source": [
    "print(attn_dict[\"keys\"][0][0][0])"
   ]
  },
  {
   "cell_type": "code",
   "execution_count": 40,
   "id": "8b756e4a-d528-4cba-9f35-168a2abadd5a",
   "metadata": {},
   "outputs": [
    {
     "name": "stdout",
     "output_type": "stream",
     "text": [
      "[1.279693603515625, 0.2204383760690689, 0.2408130168914795, -0.46212664246559143, -1.036665678024292, 0.6746782064437866, -0.1161804050207138, 0.5488025546073914, 0.2562941610813141, 0.8390980362892151, -0.13371682167053223, 0.7509193420410156, 0.5364178419113159, -0.3127976357936859, 0.7962762713432312, -0.7847825884819031, 0.2626582086086273, 0.04091387242078781, -2.0518627166748047, -0.5635623931884766, 0.41491079330444336, 0.016844715923070908, -0.35375869274139404, 0.4227973520755768, -0.7551289796829224, 0.5730921626091003, -0.21525034308433533, 1.773992896080017, 0.009853711351752281, 0.3883567452430725, -0.35956311225891113, -0.0848778784275055, -1.4009679555892944, -0.3241662383079529, -1.3165465593338013, 0.7856672406196594, -0.0036176973953843117, -0.8228550553321838, -0.5783448815345764, 0.32055559754371643, -1.0275752544403076, -0.36345401406288147, -0.4772486686706543, -1.0003379583358765, 0.5123111605644226, -1.1849173307418823, -0.5426142811775208, -0.3667975664138794, -0.10450221598148346, 1.1731300354003906, 1.1210718154907227, -0.08877875655889511, 0.4256334900856018, -1.439295768737793, 0.4820910096168518, 0.4963477849960327, -0.09530331939458847, -0.36742621660232544, -0.1540946662425995, -0.38562387228012085, 0.9811119437217712, 0.5842502117156982, -0.4190767705440521, 0.9193621277809143]\n"
     ]
    }
   ],
   "source": [
    "print(bert_attn_dict[\"keys\"][0][0][0])"
   ]
  },
  {
   "cell_type": "code",
   "execution_count": 37,
   "id": "5ef326f2-0320-4d5c-9977-565dc13f97e2",
   "metadata": {},
   "outputs": [
    {
     "name": "stdout",
     "output_type": "stream",
     "text": [
      "5021\n"
     ]
    }
   ],
   "source": [
    "print(sent_offset[166])\n"
   ]
  },
  {
   "cell_type": "markdown",
   "id": "50e2dc8f-557b-408c-9bc0-8684b175465e",
   "metadata": {
    "jp-MarkdownHeadingCollapsed": true,
    "tags": []
   },
   "source": [
    "### semantics"
   ]
  },
  {
   "cell_type": "code",
   "execution_count": 378,
   "id": "08f2ba7b-5295-4619-b448-4a43a45cc987",
   "metadata": {},
   "outputs": [],
   "source": [
    "import spacy\n",
    "from spacy.tokens import Doc"
   ]
  },
  {
   "cell_type": "code",
   "execution_count": 379,
   "id": "35684696-0c98-4adb-ab76-778caa6be4d4",
   "metadata": {},
   "outputs": [],
   "source": [
    "nlp = spacy.load(\"en_core_web_sm\")"
   ]
  },
  {
   "cell_type": "code",
   "execution_count": 157,
   "id": "62997891-3559-4f5f-ba4d-18435ba0cfab",
   "metadata": {},
   "outputs": [],
   "source": [
    "import nltk\n",
    "from nltk.corpus import stopwords\n",
    "from nltk.tokenize import word_tokenize, sent_tokenize"
   ]
  },
  {
   "cell_type": "code",
   "execution_count": 158,
   "id": "47a12a44-f7e7-496a-bb47-e51f04db4847",
   "metadata": {},
   "outputs": [],
   "source": [
    "stop_words = set(stopwords.words('english'))"
   ]
  },
  {
   "cell_type": "code",
   "execution_count": 421,
   "id": "797a5558-296c-4722-b0be-01818a5e22a0",
   "metadata": {},
   "outputs": [],
   "source": [
    "# tag all tokens by part of speech\n",
    "# tagged = nltk.pos_tag(tokens)\n",
    "\n",
    "doc = Doc(nlp.vocab, tokens)\n",
    "tagged = []\n",
    "for token in nlp(doc):\n",
    "    tagged.append(token.pos_)\n",
    "        "
   ]
  },
  {
   "cell_type": "code",
   "execution_count": 422,
   "id": "f2ab0a7e-ff62-4c1b-9aad-e1364d7bfadc",
   "metadata": {},
   "outputs": [
    {
     "name": "stdout",
     "output_type": "stream",
     "text": [
      "84. ADJ     : 1064\n",
      "85. ADP     : 945\n",
      "86. ADV     : 630\n",
      "87. AUX     : 141\n",
      "89. CCONJ   : 88\n",
      "90. DET     : 1253\n",
      "91. INTJ    : 293\n",
      "92. NOUN    : 7802\n",
      "93. NUM     : 3583\n",
      "94. PART    : 160\n",
      "95. PRON    : 902\n",
      "96. PROPN   : 5319\n",
      "97. PUNCT   : 3317\n",
      "98. SCONJ   : 82\n",
      "99. SYM     : 70\n",
      "100. VERB    : 2295\n",
      "101. X       : 734\n",
      "103. SPACE   : 1\n"
     ]
    }
   ],
   "source": [
    "num_pos = doc.count_by(spacy.attrs.POS)\n",
    "for k,v in sorted(num_pos.items()):\n",
    "    print(f'{k}. {nlp.vocab[k].text:{8}}: {v}')"
   ]
  },
  {
   "cell_type": "code",
   "execution_count": 427,
   "id": "a2571165-31be-4a08-b31c-2065669ae636",
   "metadata": {},
   "outputs": [
    {
     "name": "stdout",
     "output_type": "stream",
     "text": [
      "1253\n"
     ]
    }
   ],
   "source": [
    "# get all indices corresponding to POS tag type\n",
    "def get_indices(tag):\n",
    "    tag_indices = []\n",
    "    for i in range(num_sent):\n",
    "        offset = sent_offset[i]\n",
    "        if i == num_sent - 1:\n",
    "            sent_end = len(attn)\n",
    "        else:\n",
    "            sent_end = sent_offset[i + 1]\n",
    "\n",
    "        sent_tag = []\n",
    "        sent_tokens = tokens[offset:sent_end]\n",
    "\n",
    "        # keep track of tokens with numbers/punct\n",
    "        for t in range(len(sent_tokens)):\n",
    "            tok = tokens[offset+t]\n",
    "            tok_tag = tagged[offset+t]\n",
    "            if tok not in ['[CLS]', '[SEP]'] and tok_tag == tag:\n",
    "                sent_tag.append(t)\n",
    "                # print(tok)\n",
    "\n",
    "        tag_indices.append(sent_tag)\n",
    "    return tag_indices\n",
    "       \n",
    "tag = \"DET\"\n",
    "tag_indices = get_indices(tag)\n",
    "num_tag = 0\n",
    "for sent in tag_indices:\n",
    "    num_tag += len(sent)\n",
    "print(num_tag)"
   ]
  },
  {
   "cell_type": "code",
   "execution_count": 428,
   "id": "939c1a8d-b37b-459a-a1c2-ba63ddfeacd0",
   "metadata": {},
   "outputs": [],
   "source": [
    "### define some variables\n",
    "tag_attn = [] \n",
    "\n",
    "for layer in range(12):\n",
    "    for head in range(12):\n",
    "        attn = attention[layer][head]\n",
    "        \n",
    "        # organize by head\n",
    "        head_tag = []\n",
    "        \n",
    "        for i in range(num_sent):\n",
    "            offset = sent_offset[i]\n",
    "            if i == num_sent - 1:\n",
    "                sent_end = len(attn)\n",
    "            else:\n",
    "                sent_end = sent_offset[i + 1]\n",
    "            \n",
    "            sent_attn = attn[offset:sent_end]\n",
    "            sent_tag = tag_indices[i]\n",
    "                    \n",
    "            if len(sent_tag) == 0:\n",
    "                # skip if no relevant tokens in sentence\n",
    "                continue\n",
    "            \n",
    "            # now add attentions\n",
    "            for a in sent_attn:\n",
    "                for t in sent_tag:\n",
    "                    head_tag.append(a[t])\n",
    "        tag_attn.append(head_tag)\n"
   ]
  },
  {
   "cell_type": "code",
   "execution_count": 429,
   "id": "6f4b1f9e-e61c-4b1c-a827-9baa9360d54f",
   "metadata": {},
   "outputs": [],
   "source": [
    "tag_avgs = []\n",
    "\n",
    "for i in range(len(tag_attn)):\n",
    "    head_tag = tag_attn[i]\n",
    "    \n",
    "    # find means\n",
    "    tag_mean = sum(head_tag) / len(head_tag)\n",
    "    \n",
    "    tag_avgs.append(tag_mean)"
   ]
  },
  {
   "cell_type": "code",
   "execution_count": 417,
   "id": "1212cf0f-4a42-48a3-b634-1f75f27008d4",
   "metadata": {},
   "outputs": [],
   "source": [
    "bert_tag_avgs = []\n",
    "\n",
    "for i in range(len(tag_attn)):\n",
    "    head_tag = tag_attn[i]\n",
    "    \n",
    "    # find means\n",
    "    tag_mean = sum(head_tag) / len(head_tag)\n",
    "    \n",
    "    bert_tag_avgs.append(tag_mean)"
   ]
  },
  {
   "cell_type": "markdown",
   "id": "04689c48-c093-4778-a501-b24afe1bbfe9",
   "metadata": {
    "jp-MarkdownHeadingCollapsed": true,
    "tags": []
   },
   "source": [
    "#### numbers/punct"
   ]
  },
  {
   "cell_type": "code",
   "execution_count": 98,
   "id": "0372d87a-a0c0-412f-a433-a7092f587b06",
   "metadata": {},
   "outputs": [],
   "source": [
    "### helper functions\n",
    "def has_numbers(inputString):\n",
    "    return any(char.isdigit() for char in inputString)\n",
    "\n",
    "def has_punctuation(inputString):\n",
    "    return any(char in string.punctuation and char != '#' for char in inputString)"
   ]
  },
  {
   "cell_type": "code",
   "execution_count": 152,
   "id": "d05c7040-d6e9-47d6-9595-1389c18cb7a0",
   "metadata": {},
   "outputs": [
    {
     "name": "stdout",
     "output_type": "stream",
     "text": [
      "1016\n",
      "1122\n"
     ]
    }
   ],
   "source": [
    "# find indices of tokens with punctuation and numbers\n",
    "num_indices = []\n",
    "punct_indices = []\n",
    "\n",
    "num_sent = len(sent_offset)\n",
    "\n",
    "for i in range(num_sent):\n",
    "    offset = sent_offset[i]\n",
    "    if i == num_sent - 1:\n",
    "        sent_end = len(attn)\n",
    "    else:\n",
    "        sent_end = sent_offset[i + 1]\n",
    "\n",
    "    sent_num = []\n",
    "    sent_punc = []\n",
    "\n",
    "    sent_tokens = tokens[offset:sent_end]\n",
    "\n",
    "    # keep track of tokens with numbers/punct\n",
    "    for t in range(len(sent_tokens)):\n",
    "        char = sent_tokens[t]\n",
    "        if has_numbers(char):\n",
    "            sent_num.append(t)\n",
    "        # if has_punctuation(char):\n",
    "        if '.' in char:\n",
    "            sent_punc.append(t)\n",
    "    \n",
    "    num_indices.append(sent_num)\n",
    "    punct_indices.append(sent_punc)\n",
    "       \n",
    "num_num = 0\n",
    "for sent in num_indices:\n",
    "    num_num += len(sent)\n",
    "num_punc = 0\n",
    "for sent in punct_indices:\n",
    "    num_punc += len(sent)\n",
    "print(num_num)\n",
    "print(num_punc)"
   ]
  },
  {
   "cell_type": "code",
   "execution_count": 153,
   "id": "2c2d462a-a36f-48fc-a09f-1250df1e47da",
   "metadata": {},
   "outputs": [],
   "source": [
    "### define some variables\n",
    "number_attn = [] # use has_numbers\n",
    "punct_attn = [] # use has_punctuation\n",
    "\n",
    "for layer in range(12):\n",
    "    for head in range(12):\n",
    "        attn = attention[layer][head]\n",
    "        \n",
    "        # organize by head\n",
    "        head_num = []\n",
    "        head_punct = []\n",
    "        \n",
    "        for i in range(num_sent):\n",
    "            offset = sent_offset[i]\n",
    "            if i == num_sent - 1:\n",
    "                sent_end = len(attn)\n",
    "            else:\n",
    "                sent_end = sent_offset[i + 1]\n",
    "            \n",
    "            sent_attn = attn[offset:sent_end]\n",
    "            sent_num = num_indices[i]\n",
    "            sent_punc = punct_indices[i]\n",
    "                    \n",
    "            if len(sent_num) == 0 and len(sent_punc) == 0:\n",
    "                # skip if no relevant tokens in sentence\n",
    "                continue\n",
    "            \n",
    "            # now add attentions\n",
    "            for a in sent_attn:\n",
    "                for n in sent_num:\n",
    "                    head_num.append(a[n])\n",
    "                for p in sent_punc:\n",
    "                    head_punct.append(a[p])\n",
    "        number_attn.append(head_num)\n",
    "        punct_attn.append(head_punct)\n"
   ]
  },
  {
   "cell_type": "code",
   "execution_count": 154,
   "id": "577ea214-7f1c-4907-8d56-de1677578d09",
   "metadata": {},
   "outputs": [],
   "source": [
    "num_avgs = []\n",
    "punct_avgs = []\n",
    "\n",
    "for i in range(len(number_attn)):\n",
    "    head_num = number_attn[i]\n",
    "    head_punct = punct_attn[i]\n",
    "    \n",
    "    # find means\n",
    "    num_mean = sum(head_num) / len(head_num)\n",
    "    punct_mean = sum(head_punct) / len(head_punct)\n",
    "    \n",
    "    num_avgs.append(num_mean)\n",
    "    punct_avgs.append(punct_mean)"
   ]
  },
  {
   "cell_type": "markdown",
   "id": "7c2e21f7-b6b3-4d17-801b-5aa4e2cae33f",
   "metadata": {
    "jp-MarkdownHeadingCollapsed": true,
    "tags": []
   },
   "source": [
    "### positional patterns"
   ]
  },
  {
   "cell_type": "code",
   "execution_count": 92,
   "id": "60d30463-2820-4344-bf39-28629ff80ec4",
   "metadata": {},
   "outputs": [],
   "source": [
    "next_attn = []\n",
    "prev_attn = []\n",
    "self_attn = []\n",
    "first_attn = []\n",
    "last_attn = []\n",
    "\n",
    "# keep track of different attention patterns\n",
    "\n",
    "for layer in range(12):\n",
    "    for head in range(12):\n",
    "        attn = attention[layer][head]\n",
    "        \n",
    "        # organize by head\n",
    "        # head_next = []\n",
    "        # head_prev = []\n",
    "        # head_self = []\n",
    "        # head_first = []\n",
    "        head_last = []\n",
    "        for i in range(len(attn)):\n",
    "            # pos = positions[i]\n",
    "            token_att = attn[i]\n",
    "            \n",
    "            # first token\n",
    "            # head_first.append(token_att[0])\n",
    "            \n",
    "            # last token\n",
    "            head_last.append(token_att[-1])\n",
    "            \n",
    "            # self attention\n",
    "            # head_self.append(token_att[pos])\n",
    "            \n",
    "            # attend to prev token\n",
    "            # if pos > 0:\n",
    "            #     head_prev.append(token_att[pos - 1])\n",
    "                \n",
    "            # attend to next token\n",
    "            # if pos < len(token_att) - 1:\n",
    "            #     head_next.append(token_att[pos + 1])\n",
    "        \n",
    "        # next_attn.append(head_next)\n",
    "        # prev_attn.append(head_prev)\n",
    "        # self_attn.append(head_self)\n",
    "        # first_attn.append(head_first)\n",
    "        last_attn.append(head_last)\n",
    "        "
   ]
  },
  {
   "cell_type": "code",
   "execution_count": 93,
   "id": "e4eb1437-3035-4bc2-addf-023eaae8c236",
   "metadata": {},
   "outputs": [],
   "source": [
    "next_avgs = []\n",
    "prev_avgs = []\n",
    "self_avgs = []\n",
    "first_avgs = []\n",
    "last_avgs = []\n",
    "\n",
    "for i in range(len(last_attn)):\n",
    "    # head_next = next_attn[i]\n",
    "    # head_prev = prev_attn[i]\n",
    "    # head_self = self_attn[i]\n",
    "    # head_first = first_attn[i]\n",
    "    head_last = last_attn[i]\n",
    "    \n",
    "    # find means\n",
    "    # next_mean = sum(head_next) / len(head_next)\n",
    "    # prev_mean = sum(head_prev) / len(head_prev)\n",
    "    # self_mean = sum(head_self) / len(head_self)\n",
    "    # first_mean = sum(head_first) / len(head_first)\n",
    "    last_mean = sum(head_last) / len(head_last)\n",
    "    \n",
    "    # next_avgs.append(next_mean)\n",
    "    # prev_avgs.append(prev_mean)\n",
    "    # self_avgs.append(self_mean)\n",
    "    # first_avgs.append(first_mean)\n",
    "    last_avgs.append(last_mean)"
   ]
  },
  {
   "cell_type": "markdown",
   "id": "f5053022-8a12-4dcf-bafc-0966bb2ec3d0",
   "metadata": {
    "jp-MarkdownHeadingCollapsed": true,
    "tags": []
   },
   "source": [
    "### stats"
   ]
  },
  {
   "cell_type": "code",
   "execution_count": 21,
   "id": "1c99bc0d-2cb0-4f05-9d31-f7420cedbe5f",
   "metadata": {},
   "outputs": [],
   "source": [
    "def print_stats(means, pattern):\n",
    "    avg_mean = sum(means) / len(means)\n",
    "    min_mean = min(means)\n",
    "    max_mean = max(means)\n",
    "    print(\"Average attention to {} = {:.4f}\".format(pattern, avg_mean))\n",
    "    print(\"Min attention to {} = {:.4f}\".format(pattern, min_mean))\n",
    "    print(\"Max attention to {} = {:.4f}\".format(pattern, max_mean))\n",
    "    print(\"\\n\")"
   ]
  },
  {
   "cell_type": "code",
   "execution_count": 430,
   "id": "87fc02eb-618a-43dd-9c94-cae1acbde7cf",
   "metadata": {},
   "outputs": [
    {
     "name": "stdout",
     "output_type": "stream",
     "text": [
      "Average attention to DET = 0.0966\n",
      "Min attention to DET = 0.0246\n",
      "Max attention to DET = 0.1479\n",
      "\n",
      "\n"
     ]
    }
   ],
   "source": [
    "# print_stats(self_avgs, \"self\")\n",
    "# print_stats(prev_avgs, \"prev\")\n",
    "# print_stats(next_avgs, \"next\")\n",
    "# print_stats(first_avgs, \"first\")\n",
    "# print_stats(last_avgs, \"last\")\n",
    "\n",
    "# print_stats(num_avgs, \"numbers\")\n",
    "# print_stats(punct_avgs, \"punctuation\")\n",
    "\n",
    "print_stats(tag_avgs, tag)"
   ]
  },
  {
   "cell_type": "code",
   "execution_count": 418,
   "id": "254a3b1d-f096-4715-b304-37263cdb7583",
   "metadata": {},
   "outputs": [
    {
     "name": "stdout",
     "output_type": "stream",
     "text": [
      "Average attention to NOUN = 0.0155\n",
      "Min attention to NOUN = 0.0018\n",
      "Max attention to NOUN = 0.0375\n",
      "\n",
      "\n"
     ]
    }
   ],
   "source": [
    "print_stats(bert_tag_avgs, tag)"
   ]
  },
  {
   "cell_type": "markdown",
   "id": "230ed4ac-c4fa-4012-8d01-d257ae1a252e",
   "metadata": {
    "tags": []
   },
   "source": [
    "### plots"
   ]
  },
  {
   "cell_type": "code",
   "execution_count": 332,
   "id": "c8478b41-dda6-4051-a047-bd165c3bab1e",
   "metadata": {},
   "outputs": [
    {
     "data": {
      "text/plain": [
       "Text(0.5, 1.05, 'Mean attention to verbs in GPT')"
      ]
     },
     "execution_count": 332,
     "metadata": {},
     "output_type": "execute_result"
    },
    {
     "data": {
      "image/png": "[encoded data removed]",
      "text/plain": [
       "<Figure size 864x864 with 2 Axes>"
      ]
     },
     "metadata": {
      "needs_background": "light"
     },
     "output_type": "display_data"
    }
   ],
   "source": [
    "# plot heatmap for self attention\n",
    "norms_reshape = np.reshape(tag_avgs, (12, 12))\n",
    "fig, axs = plt.subplots(ncols=1)\n",
    "fig.set_size_inches(12, 12)\n",
    "sns.heatmap(norms_reshape, annot=True, square=True, cmap = sns.cm.rocket_r, vmin=0, vmax=1)\n",
    "axs.set_xlabel('head', fontsize=14)\n",
    "axs.set_ylabel('layer', fontsize=14)\n",
    "axs.set_title('Mean attention to verbs in GPT', fontsize=16, y=1.05)"
   ]
  },
  {
   "cell_type": "code",
   "execution_count": 366,
   "id": "8ecf11c4-8955-40d0-8980-61bee5524778",
   "metadata": {},
   "outputs": [
    {
     "data": {
      "text/plain": [
       "Text(0.5, 1.05, 'Mean attention to adjectives in BERT')"
      ]
     },
     "execution_count": 366,
     "metadata": {},
     "output_type": "execute_result"
    },
    {
     "data": {
      "image/png": "[encoded data removed]",
      "text/plain": [
       "<Figure size 864x864 with 2 Axes>"
      ]
     },
     "metadata": {
      "needs_background": "light"
     },
     "output_type": "display_data"
    }
   ],
   "source": [
    "# plot heatmap for previous attention\n",
    "norms_reshape = np.reshape(bert_tag_avgs, (12, 12))\n",
    "fig, axs = plt.subplots(ncols=1)\n",
    "fig.set_size_inches(12, 12)\n",
    "sns.heatmap(norms_reshape, annot=True, square=True, cmap = sns.cm.rocket_r, vmin=0, vmax=1)\n",
    "axs.set_xlabel('head', fontsize=14)\n",
    "axs.set_ylabel('layer', fontsize=14)\n",
    "axs.set_title('Mean attention to adjectives in BERT', fontsize=16, y=1.05)"
   ]
  },
  {
   "cell_type": "markdown",
   "id": "7de5a854-3da4-4634-8faa-54fd3585223e",
   "metadata": {
    "jp-MarkdownHeadingCollapsed": true,
    "tags": []
   },
   "source": [
    "## Context Embeddings"
   ]
  },
  {
   "cell_type": "code",
   "execution_count": null,
   "id": "4bac110d-c205-45dc-b8b9-bdda127d4911",
   "metadata": {},
   "outputs": [],
   "source": [
    "# adapted from bertviz: github.com/jessevig/bertviz\n",
    "model_version = 'bert-base-uncased'\n",
    "model = BertModel.from_pretrained(model_version, output_attentions=True)\n",
    "tokenizer = BertTokenizer.from_pretrained(model_version)\n",
    "\n",
    "all_embeddings = []\n",
    "\n",
    "for sent in sentences:\n",
    "    inputs = tokenizer.encode_plus(sent, return_tensors='pt')\n",
    "    input_ids = inputs['input_ids']\n",
    "    token_type_ids = inputs['token_type_ids']\n",
    "    output = model(input_ids, token_type_ids=token_type_ids)\n",
    "    embeddings = output[0]\n",
    "    for e in embeddings[0]:\n",
    "        all_embeddings.append(e)\n",
    "    \n",
    "    # break\n",
    "    \n",
    "print(len(all_embeddings))"
   ]
  },
  {
   "cell_type": "code",
   "execution_count": null,
   "id": "eb0434ee-136b-458d-869c-a075dcd0d31c",
   "metadata": {},
   "outputs": [],
   "source": [
    "all_embeddings = all_embeddings[:5021] # only take first 5021 tokens\n",
    "print(len(all_embeddings))"
   ]
  },
  {
   "cell_type": "markdown",
   "id": "d3e83585-6e95-4824-8988-035bc1018de8",
   "metadata": {
    "jp-MarkdownHeadingCollapsed": true,
    "tags": []
   },
   "source": [
    "### archive"
   ]
  },
  {
   "cell_type": "code",
   "execution_count": null,
   "id": "abf4dd58-41cb-4d71-97ee-f64f51327805",
   "metadata": {},
   "outputs": [],
   "source": [
    "!pip install flair"
   ]
  },
  {
   "cell_type": "code",
   "execution_count": null,
   "id": "96e36e39-7df9-4e6a-8f72-03a551030884",
   "metadata": {},
   "outputs": [],
   "source": [
    "from flair.data import Sentence\n",
    "from flair.embeddings import BertEmbeddings\n",
    "bert_embedding = BertEmbeddings()\n",
    "\n",
    "embeddings = []\n",
    "\n",
    "for sent in sentences:\n",
    "    s = Sentence(sent)\n",
    "    bert_embedding.embed(s)\n",
    "    for token in s:\n",
    "       embeddings.append(token.embedding)\n",
    "    # break\n",
    "    \n",
    "print(len(embeddings))"
   ]
  },
  {
   "cell_type": "markdown",
   "id": "eedac506-bf0f-42b4-a9bc-ddf7bc9e7b5d",
   "metadata": {
    "jp-MarkdownHeadingCollapsed": true,
    "tags": []
   },
   "source": [
    "## Residuals"
   ]
  },
  {
   "cell_type": "code",
   "execution_count": null,
   "id": "6b2d7273-e4c3-4e95-add9-973d1b65d86d",
   "metadata": {},
   "outputs": [],
   "source": [
    "# adapted from bertviz: github.com/jessevig/bertviz\n",
    "# model_version = 'bert-base-uncased'\n",
    "# model = BertModel.from_pretrained(model_version, output_hidden_states=True)\n",
    "# tokenizer = BertTokenizer.from_pretrained(model_version)\n",
    "\n",
    "model_version = 'gpt2'\n",
    "model = GPT2Model.from_pretrained(model_version, output_attentions=True)\n",
    "tokenizer = GPT2Tokenizer.from_pretrained(model_version)\n",
    "\n",
    "all_embeddings = [[] for i in range(12)]\n",
    "\n",
    "for sent in sentences:\n",
    "    inputs = tokenizer.encode_plus(sent, return_tensors='pt')\n",
    "    input_ids = inputs['input_ids']\n",
    "    token_type_ids = inputs['token_type_ids']\n",
    "    output = model(input_ids, token_type_ids=token_type_ids)\n",
    "    \n",
    "    hidden_states = output[2][:-1]\n",
    "    num_tokens = len(hidden_states[0][0])\n",
    "    \n",
    "    for layer in range(12):\n",
    "        for token in range(num_tokens):\n",
    "            all_embeddings[layer].append(hidden_states[layer][0][token])\n",
    "    \n",
    "    # break"
   ]
  },
  {
   "cell_type": "code",
   "execution_count": 43,
   "id": "061a34dc-a9c2-4c7e-a046-1f36769f7071",
   "metadata": {},
   "outputs": [
    {
     "name": "stdout",
     "output_type": "stream",
     "text": [
      "10042\n",
      "64\n",
      "4.495472\n"
     ]
    }
   ],
   "source": [
    "# get residual for specific layer & head\n",
    "def get_residual(layer, head, residuals):\n",
    "    r_layer = residuals[layer]\n",
    "    # each residual is 768 dimensions, so find the 64 that correspond to the selected attention head\n",
    "    start_ind = head * 64 \n",
    "    end_ind = start_ind + 64\n",
    "    \n",
    "    r_final = [i[start_ind:end_ind].detach().numpy() for i in r_layer]\n",
    "    r_final = r_final[:5021] * 2 # only get first X keys + queries\n",
    "    return r_final\n",
    "\n",
    "resids = get_residual(0, 0, all_embeddings)\n",
    "print(len(resids))\n",
    "print(len(resids[0]))\n",
    "print(norm(resids[0]))"
   ]
  },
  {
   "cell_type": "markdown",
   "id": "f9c50084-a2cf-47b9-91b0-ac4edefee1d6",
   "metadata": {
    "jp-MarkdownHeadingCollapsed": true,
    "tags": []
   },
   "source": [
    "## Positional Encodings"
   ]
  },
  {
   "cell_type": "code",
   "execution_count": null,
   "id": "41dd7140-fe04-4bf9-9689-1de7198de613",
   "metadata": {},
   "outputs": [],
   "source": [
    "import numpy as np\n",
    "import matplotlib.pyplot as plt\n",
    "\n",
    "# compute position encoding for some token\n",
    "def getPositionEncoding(k, d=64, n=10000):\n",
    "    P = np.zeros(d)\n",
    "    for i in np.arange(int(d/2)):\n",
    "        denominator = np.power(n, 2*i/d)\n",
    "        # no noise\n",
    "        P[2*i] = np.sin(k/denominator)\n",
    "        P[2*i+1] = np.cos(k/denominator)\n",
    "        # # or, add some random noise too\n",
    "        # P[2*i] = np.sin(k/denominator) + np.random.normal(0,0.001)\n",
    "        # P[2*i+1] = np.cos(k/denominator) + np.random.normal(0,0.001)\n",
    "    return P\n",
    "\n",
    "for i in range(4):\n",
    "    P = getPositionEncoding(k=i)\n",
    "    print(P)"
   ]
  },
  {
   "cell_type": "code",
   "execution_count": null,
   "id": "613c753c-eb1f-45b0-967a-211c8ce7e392",
   "metadata": {},
   "outputs": [],
   "source": [
    "pos_embeddings = []\n",
    "for ind in zip(attn_dict[\"positions\"][:5021]):\n",
    "    P = getPositionEncoding(k=ind)\n",
    "    pos_embeddings.append(P)"
   ]
  },
  {
   "cell_type": "code",
   "execution_count": null,
   "id": "bc054591-5ff5-4b6b-a777-3e3bc1851e4e",
   "metadata": {},
   "outputs": [],
   "source": [
    "pos_embeddings += pos_embeddings\n",
    "print(len(pos_embeddings))"
   ]
  },
  {
   "cell_type": "code",
   "execution_count": null,
   "id": "41ed2706-70dd-43ba-9009-ab4bf1ecbfc2",
   "metadata": {},
   "outputs": [],
   "source": [
    "# run TSNE on position embeddings\n",
    "def run_pos_tsne(df):\n",
    "    # run TSNE\n",
    "    # from: https://towardsdatascience.com/visualising-high-dimensional-datasets-using-pca-and-t-sne-in-python-8ef87e7915b\n",
    "    time_start = time.time()\n",
    "    # tsne = TSNE(n_components=3, verbose=0, perplexity=100, n_iter=300) # 3D\n",
    "    tsne = TSNE(n_components=2, verbose=0, perplexity=100, n_iter=300) # 2D\n",
    "    tsne_results = tsne.fit_transform(df)\n",
    "    np.save(\"tsne/position_short.npy\", tsne_results) # save tsne results too\n",
    "    print('t-SNE done! Time elapsed: {} seconds'.format(time.time()-time_start))\n",
    "    \n",
    "    return tsne_results\n",
    "\n",
    "tsne_results = run_pos_tsne(pos_embeddings)"
   ]
  },
  {
   "cell_type": "code",
   "execution_count": null,
   "id": "2d70418f-4263-4b5e-9a82-5919330b6a83",
   "metadata": {},
   "outputs": [],
   "source": [
    "def run_pos_umap(df):\n",
    "    # run umap\n",
    "    time_start = time.time()\n",
    "    umap = UMAP(n_components=2, init='random', random_state=0)\n",
    "    umap_results = umap.fit_transform(df)\n",
    "    np.save(\"umap/position_short.npy\", umap_results) # save umap results too\n",
    "    print('UMAP done! Time elapsed: {} seconds'.format(time.time()-time_start))\n",
    "    \n",
    "    return umap_results\n",
    "\n",
    "umap_results = run_pos_umap(pos_embeddings)"
   ]
  },
  {
   "cell_type": "markdown",
   "id": "ff638950-8ba4-4129-8f6c-4c1c5fefa64e",
   "metadata": {
    "tags": []
   },
   "source": [
    "## Distances"
   ]
  },
  {
   "cell_type": "markdown",
   "id": "a379c4c7-dbc8-429e-9efc-a43198194636",
   "metadata": {
    "tags": []
   },
   "source": [
    "### translate keys"
   ]
  },
  {
   "cell_type": "code",
   "execution_count": null,
   "id": "a7af46f2-8763-4537-881c-e81c5cf56f6f",
   "metadata": {},
   "outputs": [],
   "source": [
    "queries = attn_dict[\"queries\"]\n",
    "keys = attn_dict[\"keys\"]\n",
    "\n",
    "print(len(queries))\n",
    "print(len(queries[0]))\n",
    "print(len(queries[0][0]))\n",
    "print(len(queries[0][0][0]))"
   ]
  },
  {
   "cell_type": "code",
   "execution_count": null,
   "id": "8d1bf0cf-5a35-4b91-8a1d-f94d5ddcddef",
   "metadata": {},
   "outputs": [],
   "source": [
    "# get means\n",
    "mean_queries = []\n",
    "mean_keys = []\n",
    "for layer in range(12):\n",
    "    for head in range(12):\n",
    "        q = queries[layer][head]\n",
    "        k = keys[layer][head]\n",
    "        num_tokens = len(q)\n",
    "        mean_q = [0] * 64\n",
    "        mean_k = [0] * 64\n",
    "        for i in range(num_tokens):\n",
    "            for j in range(64):\n",
    "                q_token = q[i]\n",
    "                k_token = k[i]\n",
    "                mean_q[j] += q_token[j]\n",
    "                mean_k[j] += k_token[j]\n",
    "        \n",
    "        mean_q = [i / num_tokens for i in mean_q]\n",
    "        mean_k = [i / num_tokens for i in mean_k]\n",
    "        mean_queries.append(mean_q)\n",
    "        mean_keys.append(mean_k)\n",
    "    #     break\n",
    "    # break"
   ]
  },
  {
   "cell_type": "code",
   "execution_count": null,
   "id": "ad8a43de-4cd2-4647-b693-a04fd4432ec1",
   "metadata": {},
   "outputs": [],
   "source": [
    "print(mean_queries[0])\n",
    "print(mean_keys[0])"
   ]
  },
  {
   "cell_type": "code",
   "execution_count": null,
   "id": "7133b26b-a136-470e-8d23-a656fef4e38b",
   "metadata": {},
   "outputs": [],
   "source": [
    "# fix key means\n",
    "new_mean_keys = []\n",
    "for layer in range(12):\n",
    "    for head in range(12):\n",
    "        mean_k = [0] * 64\n",
    "        k = keys[layer][head]\n",
    "        m_k = mean_keys[12 * layer + head]\n",
    "        q_k = mean_queries[12 * layer + head]\n",
    "        num_tokens = len(k)\n",
    "        for i in range(num_tokens):\n",
    "            k_token = k[i]\n",
    "            for j in range(64):\n",
    "                orig_k = k_token[j]\n",
    "                k_token[j] = orig_k - m_k[j] + q_k[j]  \n",
    "                mean_k[j] += k_token[j]\n",
    "        \n",
    "        mean_k = [i / num_tokens for i in mean_k]\n",
    "        new_mean_keys.append(mean_k)"
   ]
  },
  {
   "cell_type": "code",
   "execution_count": null,
   "id": "60730e7c-2c33-4421-a323-c11bf99b0b35",
   "metadata": {},
   "outputs": [],
   "source": [
    "print(new_mean_keys[0])"
   ]
  },
  {
   "cell_type": "markdown",
   "id": "cc39a7ef-23c5-4939-ba9d-a90735f7fda7",
   "metadata": {
    "jp-MarkdownHeadingCollapsed": true,
    "tags": []
   },
   "source": [
    "#### Comparing embeddings"
   ]
  },
  {
   "cell_type": "code",
   "execution_count": null,
   "id": "094b7d0c-a36e-4e46-8083-37c8cbcf8e3c",
   "metadata": {},
   "outputs": [],
   "source": [
    "## compute cosine similarity instead...\n",
    "import numpy as np\n",
    "from numpy.linalg import norm\n",
    "\n",
    "similarities = []\n",
    "for layer in range(12):\n",
    "    for head in range(12):\n",
    "        sim = []\n",
    "        qs = queries[layer][head]\n",
    "        ks = keys[layer][head]\n",
    "        num_tokens = len(qs)\n",
    "        for i in range(num_tokens):\n",
    "            q = qs[i]\n",
    "            k = ks[i]\n",
    "            cosine = np.dot(q, k) / (norm(q) * norm(k))\n",
    "            sim.append(cosine)\n",
    "        similarities.append(sim)"
   ]
  },
  {
   "cell_type": "code",
   "execution_count": null,
   "id": "9b1b72a4-1922-4f70-9bc8-b364397fb985",
   "metadata": {},
   "outputs": [],
   "source": [
    "## mean similiarties\n",
    "mean_similarities = []\n",
    "for layer in range(12):\n",
    "    for head in range(12):\n",
    "        sim = similarities[layer * 12 + head]\n",
    "        lh_mean = sum(sim) / len(sim)\n",
    "        mean_similarities.append(lh_mean)"
   ]
  },
  {
   "cell_type": "code",
   "execution_count": null,
   "id": "a72dc3a4-f2a1-464c-ab9d-a10956944811",
   "metadata": {},
   "outputs": [],
   "source": [
    "import math\n",
    "min_diff = min(mean_similarities)\n",
    "min_i = mean_similarities.index(min_diff)\n",
    "min_head = math.floor(min_i / 12)\n",
    "min_layer = min_i % 12\n",
    "max_diff = max(mean_similarities)\n",
    "max_i = mean_similarities.index(max_diff)\n",
    "max_head = math.floor(max_i / 12)\n",
    "max_layer = max_i % 12\n",
    "\n",
    "mean_sim = sum(mean_similarities) / len(mean_similarities)\n",
    "print(\"mean: {}\".format(mean_sim))\n",
    "print(\"min: {} (head {}, layer {})\".format(min_diff, min_head, min_layer))\n",
    "print(\"max: {} (head {}, layer {})\".format(max_diff, max_head, max_layer))\n",
    "\n",
    "abs_means = [abs(i) for i in mean_similarities]\n",
    "\n",
    "min_diff = min(abs_means)\n",
    "min_i = abs_means.index(min_diff)\n",
    "min_head = math.floor(min_i / 12)\n",
    "min_layer = min_i % 12\n",
    "max_diff = max(abs_means)\n",
    "max_i = abs_means.index(max_diff)\n",
    "max_head = math.floor(max_i / 12)\n",
    "max_layer = max_i % 12\n",
    "\n",
    "mean_sim = sum(mean_similarities) / len(mean_similarities)\n",
    "print(\"mean: {}\".format(mean_sim))\n",
    "print(\"min: {} (head {}, layer {})\".format(min_diff, min_head, min_layer))\n",
    "print(\"max: {} (head {}, layer {})\".format(max_diff, max_head, max_layer))"
   ]
  },
  {
   "cell_type": "markdown",
   "id": "f41ee576-528d-4874-98dd-71e207ccc738",
   "metadata": {
    "jp-MarkdownHeadingCollapsed": true,
    "tags": []
   },
   "source": [
    "##### archive"
   ]
  },
  {
   "cell_type": "code",
   "execution_count": null,
   "id": "4f21e17a-a2ef-4210-9427-45e49be2e210",
   "metadata": {},
   "outputs": [],
   "source": [
    "mean_differences = []\n",
    "for layer in range(12):\n",
    "    for head in range(12):\n",
    "        q = queries[layer][head]\n",
    "        k = keys[layer][head]\n",
    "        num_tokens = len(k)\n",
    "        diff = [0] * 64\n",
    "        for i in range(num_tokens):\n",
    "            k_token = k[i]\n",
    "            q_token = q[i]\n",
    "            for j in range(64):\n",
    "                d = abs(k_token[j] - q_token[j])\n",
    "                diff[j] += d\n",
    "        diff = [i / num_tokens for i in diff]\n",
    "        mean_differences.append(diff)"
   ]
  },
  {
   "cell_type": "code",
   "execution_count": null,
   "id": "fa724a25-6ece-48d5-bc23-7469fa59f68c",
   "metadata": {},
   "outputs": [],
   "source": [
    "print(mean_differences[0])"
   ]
  },
  {
   "cell_type": "code",
   "execution_count": null,
   "id": "7e84e9de-5cd4-49a6-9f91-003348ad5c7e",
   "metadata": {},
   "outputs": [],
   "source": [
    "# find mean diff for each layer/head combo\n",
    "mean_overall = []\n",
    "for m in mean_differences:\n",
    "    mean_overall.append(sum(m) / len(m))\n",
    "    \n",
    "print(mean_overall)"
   ]
  },
  {
   "cell_type": "code",
   "execution_count": null,
   "id": "38d195dd-32b4-4c32-bcb5-55175d3cca69",
   "metadata": {},
   "outputs": [],
   "source": [
    "import math"
   ]
  },
  {
   "cell_type": "code",
   "execution_count": null,
   "id": "dd121123-90d5-486d-82ef-7f4c571ccbe1",
   "metadata": {},
   "outputs": [],
   "source": [
    "min_diff = min(mean_overall)\n",
    "min_i = mean_overall.index(min_diff)\n",
    "print(min_i)\n",
    "min_head = math.floor(min_i / 12)\n",
    "min_layer = min_i % 12\n",
    "max_diff = max(mean_overall)\n",
    "max_i = mean_overall.index(max_diff)\n",
    "print(max_i)\n",
    "max_head = math.floor(max_i / 12)\n",
    "max_layer = max_i % 12\n",
    "print(\"min: {} (head {}, layer {})\".format(min_norm, min_head, min_layer))\n",
    "print(\"max: {} (head {}, layer {})\".format(max_norm, max_head, max_layer))"
   ]
  },
  {
   "cell_type": "markdown",
   "id": "8ed38e4d-f80c-4ed6-9f62-1800ba17da3c",
   "metadata": {
    "jp-MarkdownHeadingCollapsed": true,
    "tags": []
   },
   "source": [
    "##### norms"
   ]
  },
  {
   "cell_type": "code",
   "execution_count": null,
   "id": "1be50092-b5b8-46af-be3d-8a304a3c2587",
   "metadata": {},
   "outputs": [],
   "source": [
    "from numpy import linalg as LA"
   ]
  },
  {
   "cell_type": "code",
   "execution_count": null,
   "id": "25d217f2-9d32-46f7-b97c-44ea2747c87b",
   "metadata": {},
   "outputs": [],
   "source": [
    "## norms\n",
    "norms = []\n",
    "for m in mean_differences:\n",
    "    n = LA.norm(m)\n",
    "    norms.append(n)\n",
    "    \n",
    "print(norms)"
   ]
  },
  {
   "cell_type": "code",
   "execution_count": null,
   "id": "9784732d-e7aa-46cb-ba6b-ef4b4bfb07e4",
   "metadata": {},
   "outputs": [],
   "source": [
    "min_norm = min(norms)\n",
    "min_i = norms.index(min_norm)\n",
    "min_head = int(min_i / 12)\n",
    "min_layer = min_i % 12\n",
    "max_norm = max(norms)\n",
    "max_i = norms.index(max_norm)\n",
    "max_head = int(max_i / 12)\n",
    "max_layer = max_i % 12\n",
    "print(\"min: {} (head {}, layer {})\".format(min_norm, min_head, min_layer))\n",
    "print(\"max: {} (head {}, layer {})\".format(max_norm, max_head, max_layer))"
   ]
  },
  {
   "cell_type": "code",
   "execution_count": null,
   "id": "edbe7aca-e239-409f-ba13-ba89c12b9e71",
   "metadata": {},
   "outputs": [],
   "source": [
    "mean_overall = [0] * 64\n",
    "num_heads = len(mean_differences)\n",
    "for layer in range(12):\n",
    "    for head in range(12):\n",
    "        m = mean_differences[12 * layer + head]\n",
    "        for i in range(64):\n",
    "            mean_overall[i] += m[i]\n",
    "\n",
    "mean_overall = [i / num_heads for i in mean_overall]"
   ]
  },
  {
   "cell_type": "code",
   "execution_count": null,
   "id": "ede29015-4d39-4875-ac12-b67de9a93850",
   "metadata": {},
   "outputs": [],
   "source": [
    "print(mean_overall)"
   ]
  },
  {
   "cell_type": "markdown",
   "id": "a9b4a084-ecc3-44d7-991c-6f1696881401",
   "metadata": {
    "tags": []
   },
   "source": [
    "### getting distances"
   ]
  },
  {
   "cell_type": "markdown",
   "id": "1a10ae3a-99f6-49ef-97ff-eb8c513e4a0a",
   "metadata": {
    "tags": []
   },
   "source": [
    "#### archive"
   ]
  },
  {
   "cell_type": "code",
   "execution_count": null,
   "id": "69d518d8-7585-4c92-ac05-806562623e57",
   "metadata": {},
   "outputs": [],
   "source": [
    "# all distances\n",
    "def get_distances(layer, head):\n",
    "    distances = []\n",
    "\n",
    "    for i in range(threshold):\n",
    "        q = queries[layer][head][i]\n",
    "        for j in range(i + 1, threshold): \n",
    "            k = keys[layer][head][j]\n",
    "            d = distance.cosine(q, k)\n",
    "            distances.append(d)\n",
    "    return distances"
   ]
  },
  {
   "cell_type": "code",
   "execution_count": null,
   "id": "05715038-f912-4b24-a547-6e01fc5c2eb9",
   "metadata": {},
   "outputs": [],
   "source": [
    "for layer in range(12):\n",
    "    for head in range(12):\n",
    "        distances = get_distances(layer, head)\n",
    "        np.save(\"distances/layer{}_head{}.npy\".format(layer, head), distances)\n",
    "        print(\"layer {}, head {} done!\".format(layer, head))"
   ]
  },
  {
   "cell_type": "markdown",
   "id": "9ef3a151-d2bf-4e49-be68-241bfe927a7c",
   "metadata": {
    "tags": []
   },
   "source": [
    "#### rest of code"
   ]
  },
  {
   "cell_type": "code",
   "execution_count": null,
   "id": "ebe64a5a-ed14-42ff-8dbb-666255e9635e",
   "metadata": {},
   "outputs": [],
   "source": [
    "from scipy.spatial import distance\n",
    "import pickle"
   ]
  },
  {
   "cell_type": "code",
   "execution_count": null,
   "id": "0af62bba-9d97-416d-8775-91a555359453",
   "metadata": {},
   "outputs": [],
   "source": [
    "sentences = attn_dict[\"tokenized_sentences\"]\n",
    "num_tokens = len(sentences)\n",
    "print(num_tokens)\n",
    "print(sentences[0])\n",
    "\n",
    "print(attn_dict[\"left_text\"][5000:5021])\n",
    "threshold = 5021"
   ]
  },
  {
   "cell_type": "code",
   "execution_count": null,
   "id": "93518a34-37d3-4025-9310-b7fb1f53a2e7",
   "metadata": {},
   "outputs": [],
   "source": [
    "# compute distance b/t key and query\n",
    "# queries = attn_dict[\"queries\"]\n",
    "# keys = attn_dict[\"keys\"]\n",
    "def get_distances(layer, head):\n",
    "    distances = []\n",
    "\n",
    "    offset = 0\n",
    "    while offset < threshold:\n",
    "        s = sentences[offset] # get new sentence\n",
    "        split = s.strip().split()\n",
    "        l = len(split) # length of sentence\n",
    "        if \"   \" in s:\n",
    "            l += 1\n",
    "        # if (split[0] != attn_dict['left_text'][offset]):\n",
    "        #     print(offset)\n",
    "        #     print(s)\n",
    "        #     print(l)\n",
    "        #     print(attn_dict['left_text'][offset:offset + l])\n",
    "        for i in range(l): \n",
    "            dists = []\n",
    "            q = queries[layer][head][offset + i] # iterate through all queries in sentence\n",
    "            # for j in range(i + 1): # and keys \n",
    "            for j in range(l): # this is for bert\n",
    "                k = keys[layer][head][offset + j]\n",
    "                d = distance.cosine(q, k)\n",
    "                dists.append(d)\n",
    "            distances.append(dists)\n",
    "        offset += l\n",
    "    return distances\n",
    "\n",
    "# distances = get_distances(0, 0)\n",
    "# print(len(distances))"
   ]
  },
  {
   "cell_type": "code",
   "execution_count": null,
   "id": "fa3019ef-3b26-4a5d-94c8-54819e1e29a5",
   "metadata": {},
   "outputs": [],
   "source": [
    "all_dists = []\n",
    "for layer in range(12):\n",
    "    layer_dists = []\n",
    "    for head in range(12):\n",
    "        head_dists = get_distances(layer, head)\n",
    "        layer_dists.append(head_dists)\n",
    "        print(\"layer {}, head {} done\".format(layer, head))\n",
    "    all_dists.append(layer_dists)        "
   ]
  },
  {
   "cell_type": "code",
   "execution_count": null,
   "id": "59977634-74a1-4630-97d2-d2f7aacad148",
   "metadata": {},
   "outputs": [],
   "source": [
    "with open('dists.p', 'wb') as file:\n",
    "    pickle.dump(all_dists, file)"
   ]
  },
  {
   "cell_type": "code",
   "execution_count": null,
   "id": "21bf712c-939f-4830-a1b2-8c4cda26be1d",
   "metadata": {},
   "outputs": [],
   "source": [
    "print(len(all_dists))\n",
    "print(len(all_dists[0]))\n",
    "print(len(all_dists[0][0]))\n",
    "print(len(all_dists[0][1]))"
   ]
  },
  {
   "cell_type": "markdown",
   "id": "e14e4e65-c67c-4cc4-af56-460a06ddd8bb",
   "metadata": {
    "tags": []
   },
   "source": [
    "### correlation b/t distance and attention"
   ]
  },
  {
   "cell_type": "code",
   "execution_count": null,
   "id": "6678ca13-020f-4c7f-9780-3d9bac64ea60",
   "metadata": {},
   "outputs": [],
   "source": [
    "import pickle\n",
    "# load distances back\n",
    "distances = pickle.load( open( \"dists.p\", \"rb\" ) )"
   ]
  },
  {
   "cell_type": "code",
   "execution_count": null,
   "id": "cd4be0c9-9f5e-478b-9c02-21279d58f7de",
   "metadata": {},
   "outputs": [],
   "source": [
    "# checking output\n",
    "print(len(distances)) # layers\n",
    "print(len(distances[11])) # heads\n",
    "print(len(distances[11][0])) # all distances for layer 0, head 0\n",
    "print(len(distances[11][0][0]))\n",
    "print(distances[11][0][0])\n"
   ]
  },
  {
   "cell_type": "code",
   "execution_count": null,
   "id": "b86ca3ca-8353-4b9f-8fb0-2a5cfcc3e873",
   "metadata": {},
   "outputs": [],
   "source": [
    "attention = attn_dict[\"dot_prod\"] # switch to dot product\n",
    "print(len(attention))\n",
    "print(len(attention[0]))\n",
    "print(len(attention[0][0]))\n",
    "print(len(attention[0][0][0]))\n",
    "print(attention[0][0][:13])"
   ]
  },
  {
   "cell_type": "code",
   "execution_count": null,
   "id": "96e46f6e-02a5-4908-9b9d-e87e3529a2c1",
   "metadata": {},
   "outputs": [],
   "source": [
    "from scipy import stats\n",
    "import time"
   ]
  },
  {
   "cell_type": "code",
   "execution_count": null,
   "id": "4c9430ad-12fe-4833-a6a5-fdde35098141",
   "metadata": {},
   "outputs": [],
   "source": [
    "correlation = []\n",
    "for layer in range(12):\n",
    "    for head in range(12):\n",
    "        a = attention[layer][head][:5007]\n",
    "        d = distances[layer][head][:5007]\n",
    "        num_tokens = len(a)\n",
    "        lh_cor = []\n",
    "        offset = 0\n",
    "        # start = time.time()\n",
    "        while offset < num_tokens:\n",
    "            sent_length = len(a[offset])\n",
    "            if \"   \" in sentences[offset]:\n",
    "                sent_length += 1\n",
    "            s_cor = []\n",
    "            for i in range(sent_length):\n",
    "                a_matrix = a[offset + i]\n",
    "                d_matrix = d[offset + i]\n",
    "                c = stats.spearmanr(a_matrix, d_matrix)[0]\n",
    "                s_cor.append(c)\n",
    "            lh_cor.append(s_cor)\n",
    "            offset += sent_length\n",
    "        # print(\"time: {}\".format(time.time() - start))\n",
    "        correlation.append(lh_cor) \n",
    "        # print(\"layer {}, head {} done\".format(layer, head))\n",
    "        # break\n",
    "    # break"
   ]
  },
  {
   "cell_type": "code",
   "execution_count": null,
   "id": "56bf9d6f-1fb2-424a-9616-0b4e9b417948",
   "metadata": {},
   "outputs": [],
   "source": [
    "print(len(correlation))\n",
    "print(len(correlation[0]))\n",
    "print(correlation[0][0])"
   ]
  },
  {
   "cell_type": "code",
   "execution_count": null,
   "id": "f7b94175-a90d-4768-8d71-34df6bcde625",
   "metadata": {},
   "outputs": [],
   "source": [
    "## get mean per sentence\n",
    "mean_cor = []\n",
    "for layer in range(12):\n",
    "    for head in range(12):\n",
    "        lh_mean = []\n",
    "        cor = correlation[layer * 12 + head]\n",
    "        for sent in cor:\n",
    "            sent_mean = sum(sent) / len(sent)\n",
    "            lh_mean.append(sent_mean)\n",
    "        mean_cor.append(lh_mean)"
   ]
  },
  {
   "cell_type": "code",
   "execution_count": null,
   "id": "85104b66-1991-4915-9c0d-ea5ec5445be4",
   "metadata": {},
   "outputs": [],
   "source": [
    "print(len(mean_cor))\n",
    "print(len(mean_cor[0]))\n",
    "print(mean_cor[0])"
   ]
  },
  {
   "cell_type": "code",
   "execution_count": null,
   "id": "944850ec-87ec-406f-b84b-63374a3bf5da",
   "metadata": {},
   "outputs": [],
   "source": [
    "## get mean per head\n",
    "mean_by_head = []\n",
    "for layer in range(12):\n",
    "    for head in range(12):\n",
    "        lh_mean = mean_cor[layer * 12 + head]\n",
    "        head_mean = sum(lh_mean) / len(lh_mean)\n",
    "        mean_by_head.append(head_mean)"
   ]
  },
  {
   "cell_type": "code",
   "execution_count": null,
   "id": "74d0f4f3-d4fe-4bcc-b2a2-acbd759ba769",
   "metadata": {},
   "outputs": [],
   "source": [
    "## overall mean\n",
    "total_sum = 0\n",
    "min_mean = 10\n",
    "min_layer = [0, 0]\n",
    "max_mean = -10\n",
    "max_layer = [0, 0]\n",
    "for layer in range(12):\n",
    "    for head in range(12):\n",
    "        head_mean = mean_by_head[layer * 12 + head]\n",
    "        print(\"layer {}, head {} mean: {}\".format(layer, head, head_mean))\n",
    "        total_sum += head_mean\n",
    "        \n",
    "        if head_mean < min_mean:\n",
    "            min_mean = head_mean\n",
    "            min_layer = [layer, head]\n",
    "        if head_mean > max_mean:\n",
    "            max_mean = head_mean\n",
    "            max_layer = [layer, head]\n",
    "        \n",
    "total_mean = total_sum / 144\n",
    "print(\"overall mean: {}\".format(total_mean))\n",
    "print(\"min mean: {} (layer {}, head {})\".format(min_mean, min_layer[0], min_layer[1]))\n",
    "print(\"min mean: {} (layer {}, head {})\".format(max_mean, max_layer[0], max_layer[1]))"
   ]
  },
  {
   "cell_type": "markdown",
   "id": "f55d9fef-b700-48cb-8afc-362485eef815",
   "metadata": {
    "jp-MarkdownHeadingCollapsed": true,
    "tags": []
   },
   "source": [
    "### distance vs. attention scatterplot"
   ]
  },
  {
   "cell_type": "code",
   "execution_count": null,
   "id": "99818909-daed-4e9b-a40c-ba76c77a3de1",
   "metadata": {},
   "outputs": [],
   "source": [
    "import random"
   ]
  },
  {
   "cell_type": "code",
   "execution_count": null,
   "id": "ea132ca0-8a2e-44be-9fa6-c07367ba7f72",
   "metadata": {},
   "outputs": [],
   "source": [
    "# find mean distance and attention per att head\n",
    "mean_distances = []\n",
    "mean_attn = []\n",
    "random_token = []\n",
    "\n",
    "random.seed(10)\n",
    "\n",
    "for layer in range(12):\n",
    "    for head in range(12):\n",
    "        a = attention[layer][head][:5007]\n",
    "        d = distances[layer][head][:5007]\n",
    "        num_tokens = len(a)\n",
    "        lh_d = []\n",
    "        lh_a = []\n",
    "        offset = 0\n",
    "        s = 0\n",
    "        while offset < num_tokens:\n",
    "            sent_length = len(a[offset])\n",
    "            # if \"  \" in sentences[offset]:\n",
    "            #     sent_length += 1\n",
    "            # if len(random_token) < 166:\n",
    "            #     t = random.randint(offset, offset + sent_length - 1)\n",
    "            #     random_token.append(t)\n",
    "            # else:\n",
    "            #     t = random_token[s]\n",
    "            # a_matrix = a[t]\n",
    "            # d_matrix = d[t]\n",
    "            # lh_d.append(sum(a_matrix) / len(a_matrix))\n",
    "            # lh_a.append(sum(d_matrix) / len(d_matrix))\n",
    "            s_d = []\n",
    "            s_a = []\n",
    "            for i in range(sent_length):\n",
    "                a_matrix = a[offset + i]\n",
    "                d_matrix = d[offset + i]\n",
    "                s_a.append(sum(a_matrix) / len(a_matrix))\n",
    "                s_d.append(sum(d_matrix) / len(d_matrix))\n",
    "            lh_d.append(s_d)\n",
    "            lh_a.append(s_a)\n",
    "            offset += sent_length\n",
    "            s += 1\n",
    "        mean_distances.append(lh_d) \n",
    "        mean_attn.append(lh_a) "
   ]
  },
  {
   "cell_type": "code",
   "execution_count": null,
   "id": "4f419172-e489-4138-a417-e726ceeda3ea",
   "metadata": {},
   "outputs": [],
   "source": [
    "print(len(mean_distances))\n",
    "print(len(mean_distances[0]))\n",
    "print(len(mean_attn))\n",
    "print(len(mean_attn[0]))"
   ]
  },
  {
   "cell_type": "code",
   "execution_count": null,
   "id": "cf96ab23-0c92-424c-a476-abc619478a4a",
   "metadata": {},
   "outputs": [],
   "source": [
    "sentence_mean_dists = []\n",
    "sentence_mean_attn = []\n",
    "for layer in range(12):\n",
    "    for head in range(12):\n",
    "        a = mean_attn[layer * 12 + head]\n",
    "        d = mean_distances[layer * 12 + head]\n",
    "        num_sents = len(a)\n",
    "        lh_d = []\n",
    "        lh_a = []\n",
    "        for i in range(num_sents):\n",
    "            s_a = sum(a[i]) / len(a[i])\n",
    "            s_d = sum(d[i]) / len(d[i])\n",
    "            lh_d.append(s_d)\n",
    "            lh_a.append(s_a)\n",
    "        sentence_mean_dists.append(lh_d) \n",
    "        sentence_mean_attn.append(lh_a) "
   ]
  },
  {
   "cell_type": "code",
   "execution_count": null,
   "id": "f5018501-b77c-4a38-a3d0-9d00dafca100",
   "metadata": {},
   "outputs": [],
   "source": [
    "print(len(sentence_mean_dists))\n",
    "print(len(sentence_mean_dists[0]))\n",
    "print(sentence_mean_dists[0])\n",
    "print(len(sentence_mean_attn))\n",
    "print(len(sentence_mean_attn[0]))\n",
    "print(sentence_mean_attn[0])"
   ]
  },
  {
   "cell_type": "code",
   "execution_count": null,
   "id": "0abd2ee0-b8c9-42da-86e2-cb290e6495a4",
   "metadata": {},
   "outputs": [],
   "source": [
    "cor2 = []\n",
    "for i in range(144):\n",
    "    a = mean_attn[i]\n",
    "    print(len(a))\n",
    "    d = mean_distances[i]\n",
    "    print(len(d))\n",
    "    for i in a:\n",
    "        if len(set(i)) == 1:\n",
    "            print(a)\n",
    "    cor2.append(stats.spearmanr(a, d)[0])\n",
    "    \n",
    "print(cor2)\n",
    "print(sum(cor2) / len(cor2))"
   ]
  },
  {
   "cell_type": "code",
   "execution_count": null,
   "id": "e466c80c-328a-4e8f-a616-f53b16a6adc5",
   "metadata": {},
   "outputs": [],
   "source": [
    "overall_mean_d = [sum(i) / len(i) for i in sentence_mean_dists]\n",
    "overall_mean_a = [sum(i) / len(i) for i in sentence_mean_attn]\n",
    "\n",
    "print(overall_mean_d)\n",
    "print(overall_mean_a)"
   ]
  },
  {
   "cell_type": "code",
   "execution_count": null,
   "id": "e29ab16c-4137-4ad4-a70a-c49cb0f7bd5b",
   "metadata": {},
   "outputs": [],
   "source": [
    "import numpy as np\n",
    "import matplotlib.pyplot as plt\n",
    "\n",
    "# plt.scatter(overall_mean_d, overall_mean_a)\n",
    "# plt.show()\n",
    "\n",
    "fig, axs = plt.subplots(12, 12)\n",
    "\n",
    "for layer in range(12):\n",
    "    for head in range(12):\n",
    "        ax = axs[layer, head]\n",
    "        ax.scatter(distances[layer * 12 + head], sentence_mean_attn[layer * 12 + head], s=2, c='#6EAA8A')\n",
    "        # ax.scatter(sentence_mean_dists[layer * 12 + head], sentence_mean_attn[layer * 12 + head], s=2, c='#6EAA8A')\n",
    "        ax.set_title(\"L{} H{}\".format(layer, head), fontsize=14)\n",
    "        ax.set_yticklabels([])\n",
    "        ax.set_xticklabels([])\n",
    "        ax.set_xticks([])\n",
    "        ax.set_yticks([])\n",
    "        \n",
    "fig.suptitle('Distance vs. Dot Product by Layer & Head', fontsize=16, y=1)\n",
    "fig.set_size_inches(20, 18)\n",
    "fig.tight_layout(pad=0.8)\n",
    "fig.text(0.5, -0.01, 'Distance', ha='center', fontsize=16)\n",
    "fig.text(-0.01, 0.5, 'Dot Product', va='center', rotation='vertical', fontsize=16)\n",
    "plt.show()\n"
   ]
  },
  {
   "cell_type": "markdown",
   "id": "530cd68e-2111-4b25-9e55-5a242babb527",
   "metadata": {
    "jp-MarkdownHeadingCollapsed": true,
    "tags": []
   },
   "source": [
    "### heatmaps"
   ]
  },
  {
   "cell_type": "code",
   "execution_count": null,
   "id": "769dd60a-8ca3-4e2f-8bcc-8e9ec8d11c2b",
   "metadata": {},
   "outputs": [],
   "source": [
    "# library\n",
    "import seaborn as sns\n",
    "import pandas as pd\n",
    "import numpy as np\n",
    "import matplotlib.pyplot as plt\n",
    "import random"
   ]
  },
  {
   "cell_type": "code",
   "execution_count": null,
   "id": "2e3d7f63-a370-4e58-8660-72c2e4305449",
   "metadata": {},
   "outputs": [],
   "source": [
    "# compute offset for each sentence in dataset\n",
    "tok_sentences = attn_dict[\"tokenized_sentences\"]\n",
    "num_sent = len(tok_sentences)\n",
    "\n",
    "offset = 0\n",
    "sent_offset = []\n",
    "while offset < num_sent:\n",
    "    sent_offset.append(offset)\n",
    "    cur_sent = tok_sentences[offset]\n",
    "    sent_length = len(cur_sent.strip().split())\n",
    "    if \"   \" in cur_sent:\n",
    "        sent_length += 1\n",
    "    offset += sent_length\n",
    "    \n",
    "print(len(sent_offset))\n",
    "print(sent_offset[-1])"
   ]
  },
  {
   "cell_type": "code",
   "execution_count": null,
   "id": "ff18bb04-f19b-4921-bdac-f4b43a2242cf",
   "metadata": {},
   "outputs": [],
   "source": [
    "# find sentences w/ highest and lowest correlations\n",
    "def find_high_and_low(layer, head, mean_cor, tok_sentences, sent_offset):\n",
    "    means = mean_cor[layer * 12 + head]\n",
    "    \n",
    "    means_and_ind = [[means[i], i] for i in range(len(means))]\n",
    "    means_and_ind = sorted(means_and_ind)\n",
    "    \n",
    "    k = 2\n",
    "    lowest = means_and_ind[-2:]\n",
    "    highest = means_and_ind[:2]\n",
    "    \n",
    "#     for l in lowest:\n",
    "#         offset = sent_offset[l[1]]\n",
    "#         sent = tok_sentences[offset]\n",
    "#         print(sent)\n",
    "        \n",
    "#     for h in highest:\n",
    "#         offset = sent_offset[h[1]]\n",
    "#         sent = tok_sentences[offset]\n",
    "#         print(sent)\n",
    "    return lowest + highest\n",
    "    \n",
    "print(find_high_and_low(0, 1, mean_cor, tok_sentences, sent_offset))"
   ]
  },
  {
   "cell_type": "code",
   "execution_count": null,
   "id": "78912479-908f-4642-ba58-dd05d7f46831",
   "metadata": {},
   "outputs": [],
   "source": [
    "print(find_high_and_low(2, 7, mean_cor, tok_sentences, sent_offset))"
   ]
  },
  {
   "cell_type": "code",
   "execution_count": null,
   "id": "06571488-8e95-4075-9203-bf53b9b82c65",
   "metadata": {},
   "outputs": [],
   "source": [
    "def make_heatmap(layer, head, distances, attention, mean_cor, sentences, sent_offset):\n",
    "    d = distances[layer][head]\n",
    "    a = attention[layer][head]\n",
    "    \n",
    "    res = find_high_and_low(layer, head, mean_cor, sentences, sent_offset)\n",
    "    \n",
    "    for r in res:\n",
    "        i = r[1]\n",
    "        c = r[0]\n",
    "        offset = sent_offset[i]\n",
    "        t = sentences[offset]\n",
    "        \n",
    "        sent_length = len(d[offset])\n",
    "        dt = d[offset:offset+sent_length]\n",
    "        at = a[offset:offset+sent_length]\n",
    "\n",
    "        fig, axs = plt.subplots(ncols=2)\n",
    "        fig.set_size_inches(16, 6.5)\n",
    "        fig.suptitle('sentence {} (cor = {cor:.3f})'.format(i, cor=c), fontsize=16, y=1.1)\n",
    "\n",
    "        sns.heatmap(dt, ax=axs[0])\n",
    "        sns.heatmap(at, ax=axs[1], cmap = sns.cm.rocket_r)\n",
    "\n",
    "        axs[0].set_xlabel('distance', fontsize=14)\n",
    "        axs[0].set_xticks(range(sent_length), t.split(), rotation=90)\n",
    "        axs[0].set_yticks(range(sent_length), t.split(), rotation=0)\n",
    "        axs[0].xaxis.tick_top()\n",
    "\n",
    "        axs[1].set_xlabel('dot product', fontsize=14)\n",
    "        axs[1].set_xticks(range(sent_length), t.split(), rotation=90)\n",
    "        axs[1].set_yticks(range(sent_length), t.split(), rotation=0)\n",
    "        axs[1].xaxis.tick_top()\n",
    "\n",
    "make_heatmap(0, 1, distances, attention, mean_cor, tok_sentences, sent_offset)"
   ]
  },
  {
   "cell_type": "code",
   "execution_count": null,
   "id": "d46e0907-3832-462c-a6fa-1c09672afe22",
   "metadata": {},
   "outputs": [],
   "source": [
    "make_heatmap(2, 7, distances, attention, mean_cor, tok_sentences, sent_offset)\n"
   ]
  },
  {
   "cell_type": "code",
   "execution_count": null,
   "id": "3c205a6b-cb26-4dae-9c8a-d36fd35d073a",
   "metadata": {},
   "outputs": [],
   "source": [
    "def print_norms(layer, head, distances, attention, mean_cor, sentences, sent_offset):\n",
    "    # d = distances[layer][head]\n",
    "    # a = attention[layer][head]\n",
    "    q = query_norms[layer * 12 + head]\n",
    "    k = key_norms[layer * 12 + head]\n",
    "    \n",
    "    res = find_high_and_low(layer, head, mean_cor, sentences, sent_offset)\n",
    "    \n",
    "    all_diffs = []\n",
    "    for r in res:\n",
    "        i = r[1]\n",
    "        c = r[0]\n",
    "        offset = sent_offset[i]\n",
    "        t = sentences[offset]\n",
    "        \n",
    "        sent_length = len(d[offset])\n",
    "        qt = q[offset:offset+sent_length]\n",
    "        kt = k[offset:offset+sent_length]\n",
    "        \n",
    "        differences = []\n",
    "        for a in range(len(qt)):\n",
    "            q_diff = []\n",
    "            for b in range(len(kt)):\n",
    "                q_diff.append(qt[a] - kt[b])\n",
    "            differences.append(q_diff)\n",
    "        all_diffs.append(differences)\n",
    "    return all_diffs"
   ]
  },
  {
   "cell_type": "code",
   "execution_count": null,
   "id": "8318fb18-f9db-47fd-b1c8-da847379c18f",
   "metadata": {},
   "outputs": [],
   "source": [
    "differences = print_norms(2,7, distances, attention, mean_cor, sentences, sent_offset)\n",
    "print(differences[0])"
   ]
  },
  {
   "cell_type": "markdown",
   "id": "42b2379f-fca8-4a16-b157-04fbbfe9171d",
   "metadata": {
    "jp-MarkdownHeadingCollapsed": true,
    "tags": []
   },
   "source": [
    "## norms check"
   ]
  },
  {
   "cell_type": "code",
   "execution_count": null,
   "id": "6a190bc8-7e5b-40ee-bc8c-d389a0734e06",
   "metadata": {},
   "outputs": [],
   "source": [
    "query_norms = []\n",
    "key_norms = []\n",
    "\n",
    "# queries = attn_dict['queries']\n",
    "# keys = attn_dict['keys']\n",
    "for layer in range(12):\n",
    "    for head in range(12):\n",
    "        norms_q = []\n",
    "        norms_k = []\n",
    "        for i in range(len(queries[layer][head])):\n",
    "            q = queries[layer][head][i]\n",
    "            k = keys[layer][head][i]\n",
    "            norms_q.append(np.linalg.norm(q))\n",
    "            norms_k.append(np.linalg.norm(k))\n",
    "        query_norms.append(norms_q)\n",
    "        key_norms.append(norms_k)\n",
    "    \n",
    "    "
   ]
  },
  {
   "cell_type": "markdown",
   "id": "d6bc81ef-59ac-4893-b86e-527169cea9bd",
   "metadata": {
    "jp-MarkdownHeadingCollapsed": true,
    "tags": []
   },
   "source": [
    "### medians"
   ]
  },
  {
   "cell_type": "code",
   "execution_count": null,
   "id": "d97aadec-38f1-495e-8b66-31315a1bf54a",
   "metadata": {},
   "outputs": [],
   "source": [
    "import statistics"
   ]
  },
  {
   "cell_type": "code",
   "execution_count": null,
   "id": "88de2dcc-2c1e-4a2d-a9fb-34d69be20eee",
   "metadata": {},
   "outputs": [],
   "source": [
    "qmedians = []\n",
    "kmedians = []\n",
    "for i in range(len(query_norms)):\n",
    "    # per head\n",
    "    q_i = query_norms[i]\n",
    "    k_i = key_norms[i]\n",
    "    \n",
    "    q_median = statistics.median(q_i)\n",
    "    k_median = statistics.median(k_i)\n",
    "    qmedians.append(q_median)\n",
    "    kmedians.append(k_median)"
   ]
  },
  {
   "cell_type": "code",
   "execution_count": null,
   "id": "8e31288b-c637-4dec-b914-9d2f842d1b7f",
   "metadata": {},
   "outputs": [],
   "source": [
    "print(qmedians)\n",
    "print(kmedians)\n",
    "overall_meanq = sum(qmedians) / len(qmedians)\n",
    "overall_meank = sum(kmedians) / len(kmedians)\n",
    "print(\"\\nIn GPT, median query norm = {:2f}\".format(overall_meanq))\n",
    "print(\"\\nIn GPT, median key norm = {:2f}\".format(overall_meank))"
   ]
  },
  {
   "cell_type": "markdown",
   "id": "6af04f4b-decc-43b4-a6ea-07643549f1e5",
   "metadata": {
    "jp-MarkdownHeadingCollapsed": true,
    "tags": []
   },
   "source": [
    "### histograms"
   ]
  },
  {
   "cell_type": "code",
   "execution_count": null,
   "id": "061bdb40-3e1c-4426-a521-749405cfafea",
   "metadata": {},
   "outputs": [],
   "source": [
    "qnorms_formatted = [item for sublist in query_norms for item in sublist]\n",
    "knorms_formatted = [item for sublist in key_norms for item in sublist]"
   ]
  },
  {
   "cell_type": "code",
   "execution_count": null,
   "id": "bbd8cbcf-2367-4853-8431-38cd11cbfed0",
   "metadata": {},
   "outputs": [],
   "source": [
    "import matplotlib.pyplot as plt\n",
    "import numpy as np"
   ]
  },
  {
   "cell_type": "code",
   "execution_count": null,
   "id": "4057183e-b9ba-4386-802d-08d3525f6344",
   "metadata": {},
   "outputs": [],
   "source": [
    "w = 2 # width\n",
    "min_norm = min(qnorms_formatted)\n",
    "max_norm = max(qnorms_formatted)\n",
    "range_norm = max_norm - min_norm\n",
    "mean_norm = sum(qnorms_formatted) / len(qnorms_formatted)\n",
    "fig, ax = plt.subplots(figsize=(10, 6))\n",
    "ax.set(xlim=(0, 80), ylim=(0, 1.75e6))\n",
    "plt.suptitle(\"query norms\", fontsize=15)\n",
    "plt.title(\"(mean: {:.2f}, min: {:.2f}, max: {:.2f}, range: {:.2f})\".format(mean_norm, min_norm, max_norm, range_norm), fontsize=10)\n",
    "plt.hist(qnorms_formatted, color=\"#5FB96C\", bins=np.arange(min_norm, max_norm + w, w))\n",
    "plt.show() "
   ]
  },
  {
   "cell_type": "code",
   "execution_count": null,
   "id": "b33d9a74-b56f-418e-885f-a0a67114fe37",
   "metadata": {},
   "outputs": [],
   "source": [
    "w = 2 # width\n",
    "min_norm = min(knorms_formatted)\n",
    "max_norm = max(knorms_formatted)\n",
    "range_norm = max_norm - min_norm\n",
    "mean_norm = sum(knorms_formatted) / len(knorms_formatted)\n",
    "fig, ax = plt.subplots(figsize=(10, 6))\n",
    "ax.set(xlim=(0, 80), ylim=(0, 1.75e6))\n",
    "plt.suptitle(\"key norms\", fontsize=15)\n",
    "plt.title(\"(mean: {:.2f}, min: {:.2f}, max: {:.2f}, range: {:.2f})\".format(mean_norm, min_norm, max_norm, range_norm), fontsize=10)\n",
    "plt.hist(knorms_formatted, color=\"#E3378F\", bins=np.arange(min_norm, max_norm + w, w))\n",
    "plt.show() "
   ]
  },
  {
   "cell_type": "markdown",
   "id": "f87158bb-dc05-4de7-8849-b5b7cc2aa8d7",
   "metadata": {
    "jp-MarkdownHeadingCollapsed": true,
    "tags": []
   },
   "source": [
    "### means overall"
   ]
  },
  {
   "cell_type": "code",
   "execution_count": null,
   "id": "6ec18dc0-2b5c-4444-be22-259d00a4aa0e",
   "metadata": {},
   "outputs": [],
   "source": [
    "qmeans = []\n",
    "kmeans = []\n",
    "for i in range(len(query_norms)):\n",
    "    # per head\n",
    "    q_i = query_norms[i]\n",
    "    k_i = key_norms[i]\n",
    "    \n",
    "    q_mean = sum(q_i) / len(q_i)\n",
    "    k_mean = sum(k_i) / len(k_i)\n",
    "    qmeans.append(q_mean)\n",
    "    kmeans.append(k_mean)"
   ]
  },
  {
   "cell_type": "code",
   "execution_count": null,
   "id": "fecbeb7b-ba0e-4761-b159-1266a6d0a7d7",
   "metadata": {},
   "outputs": [],
   "source": [
    "print(qmeans)\n",
    "print(kmeans)\n",
    "overall_meanq = sum(qmeans) / len(qmeans)\n",
    "overall_meank = sum(kmeans) / len(kmeans)\n",
    "print(\"\\nIn BERT, mean query norm = {:2f}\".format(overall_meanq))\n",
    "print(\"\\nIn BERT, mean key norm = {:2f}\".format(overall_meank))"
   ]
  },
  {
   "cell_type": "code",
   "execution_count": null,
   "id": "44f7b6ec-e955-44e6-ad65-35906163db8d",
   "metadata": {},
   "outputs": [],
   "source": [
    "print(qmeans)\n",
    "print(kmeans)\n",
    "overall_meanq = sum(qmeans) / len(qmeans)\n",
    "overall_meank = sum(kmeans) / len(kmeans)\n",
    "print(\"\\nIn GPT, mean query norm = {:2f}\".format(overall_meanq))\n",
    "print(\"\\nIn GPT, mean key norm = {:2f}\".format(overall_meank))"
   ]
  },
  {
   "cell_type": "markdown",
   "id": "00fb8ad2-1e64-4ba4-bf86-1d5072a48f90",
   "metadata": {
    "jp-MarkdownHeadingCollapsed": true,
    "tags": []
   },
   "source": [
    "### first token - others"
   ]
  },
  {
   "cell_type": "code",
   "execution_count": null,
   "id": "513a13b4-2ebe-4387-8380-0182916d8c69",
   "metadata": {},
   "outputs": [],
   "source": [
    "# difference between first token and rest of words in sentence\n",
    "query_diffs = []\n",
    "key_diffs = []\n",
    "\n",
    "for i in range(len(query_norms)):\n",
    "    # per head\n",
    "    q_i = query_norms[i]\n",
    "    k_i = key_norms[i]\n",
    "    \n",
    "    qhead_diff = []\n",
    "    khead_diff = []\n",
    "    \n",
    "    for s in range(len(sent_offset) - 1):\n",
    "        offset = sent_offset[s]\n",
    "        end_offset = sent_offset[s+1]\n",
    "        q_sent = q_i[offset:end_offset]\n",
    "        k_sent = k_i[offset:end_offset]\n",
    "        \n",
    "        for j in range(1, len(q_sent)):\n",
    "            qdiff = q_sent[0] - q_sent[j]\n",
    "            qhead_diff.append(qdiff)\n",
    "            kdiff = k_sent[0] - k_sent[j]\n",
    "            khead_diff.append(kdiff)\n",
    "    query_diffs.append(qhead_diff)\n",
    "    key_diffs.append(khead_diff)"
   ]
  },
  {
   "cell_type": "code",
   "execution_count": null,
   "id": "bc35b874-0fb6-478f-8903-b3b5517dca56",
   "metadata": {},
   "outputs": [],
   "source": [
    "# mean differences\n",
    "qmeans = []\n",
    "kmeans = []\n",
    "for d in range(len(query_diffs)):\n",
    "    qhead = query_diffs[d]\n",
    "    khead = key_diffs[d]\n",
    "    qmean = sum(qhead) / len(qhead)\n",
    "    kmean = sum(khead) / len(khead)\n",
    "    qmeans.append(qmean)\n",
    "    kmeans.append(kmean)"
   ]
  },
  {
   "cell_type": "code",
   "execution_count": null,
   "id": "45d5bb7d-f17f-4e4a-89bb-3fb98e94de04",
   "metadata": {},
   "outputs": [],
   "source": [
    "print(qmeans)\n",
    "print(kmeans)\n",
    "overall_meanq = sum(qmeans) / len(qmeans)\n",
    "overall_meank = sum(kmeans) / len(kmeans)\n",
    "print(\"\\nOn average in GPT, query 1st token norm - other token norm = {:2f}\".format(overall_meanq))\n",
    "print(\"\\nOn average in GPT, key 1st token norm - other token norm = {:2f}\".format(overall_meank))"
   ]
  },
  {
   "cell_type": "code",
   "execution_count": null,
   "id": "6c6d6ad8-1a19-4924-9a05-3cb8f9fa6925",
   "metadata": {},
   "outputs": [],
   "source": [
    "print(qmeans)\n",
    "print(kmeans)\n",
    "overall_meanq = sum(qmeans) / len(qmeans)\n",
    "overall_meank = sum(kmeans) / len(kmeans)\n",
    "print(\"\\nOn average in BERT, query 1st token norm - other token norm = {:2f}\".format(overall_meanq))\n",
    "print(\"\\nOn average in BERT, key 1st token norm - other token norm = {:2f}\".format(overall_meank))"
   ]
  },
  {
   "cell_type": "markdown",
   "id": "8ddd24ba-f0bc-46ed-b4a4-fdda97393f3e",
   "metadata": {
    "jp-MarkdownHeadingCollapsed": true,
    "tags": []
   },
   "source": [
    "### differences"
   ]
  },
  {
   "cell_type": "code",
   "execution_count": null,
   "id": "a9a9611c-e6f6-4308-b3f9-123e1ef04585",
   "metadata": {},
   "outputs": [],
   "source": [
    "# get differences in norms\n",
    "differences = []\n",
    "for i in range(len(query_norms)):\n",
    "    q_i = query_norms[i]\n",
    "    k_i = key_norms[i]\n",
    "    \n",
    "    head_diff = []\n",
    "    for j in range(len(q_i)):\n",
    "        diff = q_i[j] - k_i[j]\n",
    "        head_diff.append(diff)\n",
    "    differences.append(head_diff)\n",
    "    "
   ]
  },
  {
   "cell_type": "code",
   "execution_count": null,
   "id": "40eeafac-d3ce-450f-a047-c7d9851d75d9",
   "metadata": {},
   "outputs": [],
   "source": [
    "# # mean differences\n",
    "# means = []\n",
    "# for d in differences:\n",
    "#     mean = sum(d) / len(d)\n",
    "#     means.append(mean)\n",
    "    "
   ]
  },
  {
   "cell_type": "code",
   "execution_count": null,
   "id": "cfe2ebe6-3966-4d15-977f-3eac956bdfca",
   "metadata": {},
   "outputs": [],
   "source": [
    "print(means)\n",
    "overall_mean = sum(means) / len(means)\n",
    "print(\"\\nOn average in GPT, query norm - key norm = {:2f}\".format(overall_mean))"
   ]
  },
  {
   "cell_type": "code",
   "execution_count": null,
   "id": "e5d87efe-f373-45df-b51c-04fdd83fe8b5",
   "metadata": {},
   "outputs": [],
   "source": [
    "# mean differences\n",
    "means2 = []\n",
    "for d in differences:\n",
    "    mean = sum(d) / len(d)\n",
    "    means2.append(mean)"
   ]
  },
  {
   "cell_type": "code",
   "execution_count": null,
   "id": "81a1e924-d736-4d08-935d-e6a54c28e9a1",
   "metadata": {},
   "outputs": [],
   "source": [
    "print(means2)\n",
    "overall_mean2 = sum(means2) / len(means2)\n",
    "print(\"\\nOn average in BERT, query norm - key norm = {:2f}\".format(overall_mean2))"
   ]
  },
  {
   "cell_type": "markdown",
   "id": "37147139-7f13-4cd8-8f15-990560a39925",
   "metadata": {
    "tags": []
   },
   "source": [
    "## Playing with TSNE / UMAP"
   ]
  },
  {
   "cell_type": "markdown",
   "id": "86acb693-8501-4178-840b-7cb51c76be04",
   "metadata": {},
   "source": [
    "Generating plots from query + key vectors"
   ]
  },
  {
   "cell_type": "markdown",
   "id": "4aba3c91-8bb8-4e82-9ced-4582cf1ac251",
   "metadata": {
    "jp-MarkdownHeadingCollapsed": true,
    "tags": []
   },
   "source": [
    "### installs"
   ]
  },
  {
   "cell_type": "code",
   "execution_count": null,
   "id": "afb581b8-68bf-4ca9-95f3-e7dc3e9de96a",
   "metadata": {},
   "outputs": [],
   "source": [
    "!pip install -U scikit-learn"
   ]
  },
  {
   "cell_type": "code",
   "execution_count": null,
   "id": "221343d8-5f39-436b-9bc3-cd2647214bd6",
   "metadata": {},
   "outputs": [],
   "source": [
    "!pip install plotly"
   ]
  },
  {
   "cell_type": "code",
   "execution_count": null,
   "id": "8ccc6640-de25-4b00-a711-90e5a73e1eeb",
   "metadata": {},
   "outputs": [],
   "source": [
    "!pip install seaborn"
   ]
  },
  {
   "cell_type": "code",
   "execution_count": null,
   "id": "a12f0bf2-0bef-485c-8d75-42db33505958",
   "metadata": {},
   "outputs": [],
   "source": [
    "!pip install umap-learn"
   ]
  },
  {
   "cell_type": "markdown",
   "id": "c8520c4d-7dd9-4fdc-9b03-94d9174314b5",
   "metadata": {
    "tags": []
   },
   "source": [
    "### start code"
   ]
  },
  {
   "cell_type": "code",
   "execution_count": 16,
   "id": "7799895a-ef95-4730-89ca-e1805f748ccb",
   "metadata": {},
   "outputs": [],
   "source": [
    "# import\n",
    "from sklearn.manifold import TSNE\n",
    "from umap import UMAP\n",
    "import pandas as pd\n",
    "import time\n",
    "import seaborn as sns\n",
    "import matplotlib.pyplot as plt\n",
    "import numpy as np"
   ]
  },
  {
   "cell_type": "code",
   "execution_count": 17,
   "id": "7f1226dc-286b-487c-b6ec-5ea2dc14838f",
   "metadata": {},
   "outputs": [],
   "source": [
    "# ensure plots show up in jupyter\n",
    "import plotly.express as px\n",
    "import plotly.io as pio\n",
    "pio.renderers.default = \"iframe\""
   ]
  },
  {
   "cell_type": "code",
   "execution_count": null,
   "id": "4ec11597-843c-442b-874d-e773909a500d",
   "metadata": {},
   "outputs": [],
   "source": [
    "import pickle\n",
    "# load attn_dict back\n",
    "attn_dict = pickle.load( open( \"attn_dict.p\", \"rb\" ) )"
   ]
  },
  {
   "cell_type": "code",
   "execution_count": 18,
   "id": "2f953287-e822-4825-89dd-7e12928aa92a",
   "metadata": {},
   "outputs": [],
   "source": [
    "# produce corresponding key matrix from query matrix (e.g., for attention)\n",
    "def k_matrix(q_matrix):\n",
    "    # assumes for specific layer + head (e.g., queries[0][0])\n",
    "    num_tokens = len(q_matrix)\n",
    "    k_matrix = []\n",
    "    i = 0\n",
    "    while i < num_tokens:\n",
    "        q = q_matrix[i]\n",
    "        sent_length = len(q)\n",
    "        for k_i in range(sent_length):\n",
    "            k = []\n",
    "            for q_i in range(sent_length):\n",
    "                k.append(q_matrix[q_i + i][k_i])\n",
    "            k_matrix.append(k)\n",
    "        i += sent_length\n",
    "    \n",
    "    return k_matrix\n",
    "    \n",
    "# res = k_matrix(attn_dict[\"attn\"][0][0][:13])\n",
    "# print(attn_dict[\"attn\"][0][0][:13])\n",
    "# print(res)\n",
    "# print(len(res))\n",
    "# print(len(res[0]))"
   ]
  },
  {
   "cell_type": "code",
   "execution_count": 32,
   "id": "36034c12-503c-4eef-80a9-1730035feb93",
   "metadata": {},
   "outputs": [
    {
     "data": {
      "text/html": [
       "<div>\n",
       "<style scoped>\n",
       "    .dataframe tbody tr th:only-of-type {\n",
       "        vertical-align: middle;\n",
       "    }\n",
       "\n",
       "    .dataframe tbody tr th {\n",
       "        vertical-align: top;\n",
       "    }\n",
       "\n",
       "    .dataframe thead th {\n",
       "        text-align: right;\n",
       "    }\n",
       "</style>\n",
       "<table border=\"1\" class=\"dataframe\">\n",
       "  <thead>\n",
       "    <tr style=\"text-align: right;\">\n",
       "      <th></th>\n",
       "      <th>token</th>\n",
       "      <th>type</th>\n",
       "      <th>pos_int</th>\n",
       "      <th>position</th>\n",
       "      <th>sentence</th>\n",
       "      <th>attn</th>\n",
       "      <th>dot_prod</th>\n",
       "      <th>norm</th>\n",
       "      <th>f0</th>\n",
       "      <th>f1</th>\n",
       "      <th>...</th>\n",
       "      <th>f54</th>\n",
       "      <th>f55</th>\n",
       "      <th>f56</th>\n",
       "      <th>f57</th>\n",
       "      <th>f58</th>\n",
       "      <th>f59</th>\n",
       "      <th>f60</th>\n",
       "      <th>f61</th>\n",
       "      <th>f62</th>\n",
       "      <th>f63</th>\n",
       "    </tr>\n",
       "  </thead>\n",
       "  <tbody>\n",
       "    <tr>\n",
       "      <th>33676</th>\n",
       "      <td>degree</td>\n",
       "      <td>key</td>\n",
       "      <td>6</td>\n",
       "      <td>0.400000</td>\n",
       "      <td>he  earned  a  bachelor  of  laws  degree  fro...</td>\n",
       "      <td>[0.0, 0.0, 0.0, 0.0, 0.0, 0.0, 0.1243270859122...</td>\n",
       "      <td>[-13.046032464386531, -18.92044913470422, -15....</td>\n",
       "      <td>4.251553</td>\n",
       "      <td>-0.165490</td>\n",
       "      <td>-0.455163</td>\n",
       "      <td>...</td>\n",
       "      <td>0.028001</td>\n",
       "      <td>-0.104282</td>\n",
       "      <td>0.945354</td>\n",
       "      <td>1.356283</td>\n",
       "      <td>-0.630933</td>\n",
       "      <td>0.066298</td>\n",
       "      <td>-0.049647</td>\n",
       "      <td>-0.961263</td>\n",
       "      <td>0.051021</td>\n",
       "      <td>0.192271</td>\n",
       "    </tr>\n",
       "    <tr>\n",
       "      <th>33677</th>\n",
       "      <td>from</td>\n",
       "      <td>key</td>\n",
       "      <td>7</td>\n",
       "      <td>0.466667</td>\n",
       "      <td>he  earned  a  bachelor  of  laws  degree  fro...</td>\n",
       "      <td>[0.0, 0.0, 0.0, 0.0, 0.0, 0.0, 0.0, 0.21140174...</td>\n",
       "      <td>[-9.542935143126776, -11.027076613057744, -9.2...</td>\n",
       "      <td>4.351697</td>\n",
       "      <td>-0.070377</td>\n",
       "      <td>-0.186032</td>\n",
       "      <td>...</td>\n",
       "      <td>-0.170136</td>\n",
       "      <td>-0.173247</td>\n",
       "      <td>0.799077</td>\n",
       "      <td>1.296030</td>\n",
       "      <td>-0.558702</td>\n",
       "      <td>0.111981</td>\n",
       "      <td>-0.055555</td>\n",
       "      <td>-0.957584</td>\n",
       "      <td>0.231267</td>\n",
       "      <td>0.217181</td>\n",
       "    </tr>\n",
       "    <tr>\n",
       "      <th>33678</th>\n",
       "      <td>the</td>\n",
       "      <td>key</td>\n",
       "      <td>8</td>\n",
       "      <td>0.533333</td>\n",
       "      <td>he  earned  a  bachelor  of  laws  degree  fro...</td>\n",
       "      <td>[0.0, 0.0, 0.0, 0.0, 0.0, 0.0, 0.0, 0.0, 0.184...</td>\n",
       "      <td>[-8.333902244105557, -10.565040761095037, -8.5...</td>\n",
       "      <td>4.386984</td>\n",
       "      <td>-0.070236</td>\n",
       "      <td>-0.077174</td>\n",
       "      <td>...</td>\n",
       "      <td>-0.204657</td>\n",
       "      <td>-0.889120</td>\n",
       "      <td>1.125555</td>\n",
       "      <td>1.468779</td>\n",
       "      <td>-0.615570</td>\n",
       "      <td>0.444403</td>\n",
       "      <td>-0.198410</td>\n",
       "      <td>-0.688448</td>\n",
       "      <td>0.377872</td>\n",
       "      <td>0.207750</td>\n",
       "    </tr>\n",
       "    <tr>\n",
       "      <th>33679</th>\n",
       "      <td>university</td>\n",
       "      <td>key</td>\n",
       "      <td>9</td>\n",
       "      <td>0.600000</td>\n",
       "      <td>he  earned  a  bachelor  of  laws  degree  fro...</td>\n",
       "      <td>[0.0, 0.0, 0.0, 0.0, 0.0, 0.0, 0.0, 0.0, 0.0, ...</td>\n",
       "      <td>[-11.55961318626591, -17.469658300678933, -14....</td>\n",
       "      <td>4.025716</td>\n",
       "      <td>0.277272</td>\n",
       "      <td>-0.527442</td>\n",
       "      <td>...</td>\n",
       "      <td>-0.376452</td>\n",
       "      <td>0.061742</td>\n",
       "      <td>0.701747</td>\n",
       "      <td>1.613002</td>\n",
       "      <td>-0.626181</td>\n",
       "      <td>0.169012</td>\n",
       "      <td>-0.079601</td>\n",
       "      <td>-0.951412</td>\n",
       "      <td>-0.002236</td>\n",
       "      <td>0.427343</td>\n",
       "    </tr>\n",
       "    <tr>\n",
       "      <th>33680</th>\n",
       "      <td>of</td>\n",
       "      <td>key</td>\n",
       "      <td>10</td>\n",
       "      <td>0.666667</td>\n",
       "      <td>he  earned  a  bachelor  of  laws  degree  fro...</td>\n",
       "      <td>[0.0, 0.0, 0.0, 0.0, 0.0, 0.0, 0.0, 0.0, 0.0, ...</td>\n",
       "      <td>[-7.360348619543907, -8.452249927709813, -7.01...</td>\n",
       "      <td>4.330401</td>\n",
       "      <td>-0.123005</td>\n",
       "      <td>-0.131495</td>\n",
       "      <td>...</td>\n",
       "      <td>0.009633</td>\n",
       "      <td>-0.267608</td>\n",
       "      <td>0.925500</td>\n",
       "      <td>1.464080</td>\n",
       "      <td>-0.753767</td>\n",
       "      <td>0.230120</td>\n",
       "      <td>-0.294182</td>\n",
       "      <td>-0.773124</td>\n",
       "      <td>0.115910</td>\n",
       "      <td>0.165729</td>\n",
       "    </tr>\n",
       "    <tr>\n",
       "      <th>33681</th>\n",
       "      <td>western</td>\n",
       "      <td>key</td>\n",
       "      <td>11</td>\n",
       "      <td>0.733333</td>\n",
       "      <td>he  earned  a  bachelor  of  laws  degree  fro...</td>\n",
       "      <td>[0.0, 0.0, 0.0, 0.0, 0.0, 0.0, 0.0, 0.0, 0.0, ...</td>\n",
       "      <td>[-11.464520825201133, -17.9277108617094, -15.2...</td>\n",
       "      <td>4.001034</td>\n",
       "      <td>0.165821</td>\n",
       "      <td>-0.384317</td>\n",
       "      <td>...</td>\n",
       "      <td>-0.382434</td>\n",
       "      <td>-0.054419</td>\n",
       "      <td>0.783440</td>\n",
       "      <td>1.707273</td>\n",
       "      <td>-0.544521</td>\n",
       "      <td>-0.166136</td>\n",
       "      <td>-0.162974</td>\n",
       "      <td>-0.666544</td>\n",
       "      <td>-0.319569</td>\n",
       "      <td>0.215440</td>\n",
       "    </tr>\n",
       "    <tr>\n",
       "      <th>33682</th>\n",
       "      <td>australia</td>\n",
       "      <td>key</td>\n",
       "      <td>12</td>\n",
       "      <td>0.800000</td>\n",
       "      <td>he  earned  a  bachelor  of  laws  degree  fro...</td>\n",
       "      <td>[0.0, 0.0, 0.0, 0.0, 0.0, 0.0, 0.0, 0.0, 0.0, ...</td>\n",
       "      <td>[-8.3018655622655, -11.14412708360897, -9.2368...</td>\n",
       "      <td>3.814458</td>\n",
       "      <td>-0.466861</td>\n",
       "      <td>-0.324063</td>\n",
       "      <td>...</td>\n",
       "      <td>-0.251508</td>\n",
       "      <td>-0.372671</td>\n",
       "      <td>0.765145</td>\n",
       "      <td>1.444870</td>\n",
       "      <td>-0.139269</td>\n",
       "      <td>-0.091538</td>\n",
       "      <td>-0.055186</td>\n",
       "      <td>-0.848108</td>\n",
       "      <td>0.338557</td>\n",
       "      <td>0.503233</td>\n",
       "    </tr>\n",
       "    <tr>\n",
       "      <th>33683</th>\n",
       "      <td>in</td>\n",
       "      <td>key</td>\n",
       "      <td>13</td>\n",
       "      <td>0.866667</td>\n",
       "      <td>he  earned  a  bachelor  of  laws  degree  fro...</td>\n",
       "      <td>[0.0, 0.0, 0.0, 0.0, 0.0, 0.0, 0.0, 0.0, 0.0, ...</td>\n",
       "      <td>[-6.073180669600748, -6.427793515842042, -5.40...</td>\n",
       "      <td>4.122116</td>\n",
       "      <td>-0.114905</td>\n",
       "      <td>-0.339134</td>\n",
       "      <td>...</td>\n",
       "      <td>-0.243867</td>\n",
       "      <td>-0.301714</td>\n",
       "      <td>0.702755</td>\n",
       "      <td>1.554849</td>\n",
       "      <td>-0.609225</td>\n",
       "      <td>0.311219</td>\n",
       "      <td>-0.229851</td>\n",
       "      <td>-0.780414</td>\n",
       "      <td>0.296170</td>\n",
       "      <td>0.371514</td>\n",
       "    </tr>\n",
       "    <tr>\n",
       "      <th>33684</th>\n",
       "      <td>1964</td>\n",
       "      <td>key</td>\n",
       "      <td>14</td>\n",
       "      <td>0.933333</td>\n",
       "      <td>he  earned  a  bachelor  of  laws  degree  fro...</td>\n",
       "      <td>[0.0, 0.0, 0.0, 0.0, 0.0, 0.0, 0.0, 0.0, 0.0, ...</td>\n",
       "      <td>[-8.256445914490332, -14.140688783935488, -12....</td>\n",
       "      <td>3.593744</td>\n",
       "      <td>-0.298268</td>\n",
       "      <td>-0.187092</td>\n",
       "      <td>...</td>\n",
       "      <td>-0.426633</td>\n",
       "      <td>-0.132420</td>\n",
       "      <td>0.587476</td>\n",
       "      <td>1.576056</td>\n",
       "      <td>-0.139140</td>\n",
       "      <td>0.010959</td>\n",
       "      <td>-0.392681</td>\n",
       "      <td>-0.722634</td>\n",
       "      <td>0.324757</td>\n",
       "      <td>0.282162</td>\n",
       "    </tr>\n",
       "    <tr>\n",
       "      <th>33685</th>\n",
       "      <td>.</td>\n",
       "      <td>key</td>\n",
       "      <td>15</td>\n",
       "      <td>1.000000</td>\n",
       "      <td>he  earned  a  bachelor  of  laws  degree  fro...</td>\n",
       "      <td>[0.0, 0.0, 0.0, 0.0, 0.0, 0.0, 0.0, 0.0, 0.0, ...</td>\n",
       "      <td>[-4.661043644538163, -5.052468780170742, -4.15...</td>\n",
       "      <td>3.912532</td>\n",
       "      <td>-0.107773</td>\n",
       "      <td>-0.182402</td>\n",
       "      <td>...</td>\n",
       "      <td>0.032009</td>\n",
       "      <td>-0.137743</td>\n",
       "      <td>0.380034</td>\n",
       "      <td>1.299862</td>\n",
       "      <td>-0.611678</td>\n",
       "      <td>0.111740</td>\n",
       "      <td>-0.046442</td>\n",
       "      <td>-1.232940</td>\n",
       "      <td>0.076320</td>\n",
       "      <td>-0.036805</td>\n",
       "    </tr>\n",
       "  </tbody>\n",
       "</table>\n",
       "<p>10 rows × 72 columns</p>\n",
       "</div>"
      ],
      "text/plain": [
       "             token type  pos_int  position  \\\n",
       "33676       degree  key        6  0.400000   \n",
       "33677         from  key        7  0.466667   \n",
       "33678          the  key        8  0.533333   \n",
       "33679   university  key        9  0.600000   \n",
       "33680           of  key       10  0.666667   \n",
       "33681      western  key       11  0.733333   \n",
       "33682    australia  key       12  0.800000   \n",
       "33683           in  key       13  0.866667   \n",
       "33684         1964  key       14  0.933333   \n",
       "33685            .  key       15  1.000000   \n",
       "\n",
       "                                                sentence  \\\n",
       "33676  he  earned  a  bachelor  of  laws  degree  fro...   \n",
       "33677  he  earned  a  bachelor  of  laws  degree  fro...   \n",
       "33678  he  earned  a  bachelor  of  laws  degree  fro...   \n",
       "33679  he  earned  a  bachelor  of  laws  degree  fro...   \n",
       "33680  he  earned  a  bachelor  of  laws  degree  fro...   \n",
       "33681  he  earned  a  bachelor  of  laws  degree  fro...   \n",
       "33682  he  earned  a  bachelor  of  laws  degree  fro...   \n",
       "33683  he  earned  a  bachelor  of  laws  degree  fro...   \n",
       "33684  he  earned  a  bachelor  of  laws  degree  fro...   \n",
       "33685  he  earned  a  bachelor  of  laws  degree  fro...   \n",
       "\n",
       "                                                    attn  \\\n",
       "33676  [0.0, 0.0, 0.0, 0.0, 0.0, 0.0, 0.1243270859122...   \n",
       "33677  [0.0, 0.0, 0.0, 0.0, 0.0, 0.0, 0.0, 0.21140174...   \n",
       "33678  [0.0, 0.0, 0.0, 0.0, 0.0, 0.0, 0.0, 0.0, 0.184...   \n",
       "33679  [0.0, 0.0, 0.0, 0.0, 0.0, 0.0, 0.0, 0.0, 0.0, ...   \n",
       "33680  [0.0, 0.0, 0.0, 0.0, 0.0, 0.0, 0.0, 0.0, 0.0, ...   \n",
       "33681  [0.0, 0.0, 0.0, 0.0, 0.0, 0.0, 0.0, 0.0, 0.0, ...   \n",
       "33682  [0.0, 0.0, 0.0, 0.0, 0.0, 0.0, 0.0, 0.0, 0.0, ...   \n",
       "33683  [0.0, 0.0, 0.0, 0.0, 0.0, 0.0, 0.0, 0.0, 0.0, ...   \n",
       "33684  [0.0, 0.0, 0.0, 0.0, 0.0, 0.0, 0.0, 0.0, 0.0, ...   \n",
       "33685  [0.0, 0.0, 0.0, 0.0, 0.0, 0.0, 0.0, 0.0, 0.0, ...   \n",
       "\n",
       "                                                dot_prod      norm        f0  \\\n",
       "33676  [-13.046032464386531, -18.92044913470422, -15....  4.251553 -0.165490   \n",
       "33677  [-9.542935143126776, -11.027076613057744, -9.2...  4.351697 -0.070377   \n",
       "33678  [-8.333902244105557, -10.565040761095037, -8.5...  4.386984 -0.070236   \n",
       "33679  [-11.55961318626591, -17.469658300678933, -14....  4.025716  0.277272   \n",
       "33680  [-7.360348619543907, -8.452249927709813, -7.01...  4.330401 -0.123005   \n",
       "33681  [-11.464520825201133, -17.9277108617094, -15.2...  4.001034  0.165821   \n",
       "33682  [-8.3018655622655, -11.14412708360897, -9.2368...  3.814458 -0.466861   \n",
       "33683  [-6.073180669600748, -6.427793515842042, -5.40...  4.122116 -0.114905   \n",
       "33684  [-8.256445914490332, -14.140688783935488, -12....  3.593744 -0.298268   \n",
       "33685  [-4.661043644538163, -5.052468780170742, -4.15...  3.912532 -0.107773   \n",
       "\n",
       "             f1  ...       f54       f55       f56       f57       f58  \\\n",
       "33676 -0.455163  ...  0.028001 -0.104282  0.945354  1.356283 -0.630933   \n",
       "33677 -0.186032  ... -0.170136 -0.173247  0.799077  1.296030 -0.558702   \n",
       "33678 -0.077174  ... -0.204657 -0.889120  1.125555  1.468779 -0.615570   \n",
       "33679 -0.527442  ... -0.376452  0.061742  0.701747  1.613002 -0.626181   \n",
       "33680 -0.131495  ...  0.009633 -0.267608  0.925500  1.464080 -0.753767   \n",
       "33681 -0.384317  ... -0.382434 -0.054419  0.783440  1.707273 -0.544521   \n",
       "33682 -0.324063  ... -0.251508 -0.372671  0.765145  1.444870 -0.139269   \n",
       "33683 -0.339134  ... -0.243867 -0.301714  0.702755  1.554849 -0.609225   \n",
       "33684 -0.187092  ... -0.426633 -0.132420  0.587476  1.576056 -0.139140   \n",
       "33685 -0.182402  ...  0.032009 -0.137743  0.380034  1.299862 -0.611678   \n",
       "\n",
       "            f59       f60       f61       f62       f63  \n",
       "33676  0.066298 -0.049647 -0.961263  0.051021  0.192271  \n",
       "33677  0.111981 -0.055555 -0.957584  0.231267  0.217181  \n",
       "33678  0.444403 -0.198410 -0.688448  0.377872  0.207750  \n",
       "33679  0.169012 -0.079601 -0.951412 -0.002236  0.427343  \n",
       "33680  0.230120 -0.294182 -0.773124  0.115910  0.165729  \n",
       "33681 -0.166136 -0.162974 -0.666544 -0.319569  0.215440  \n",
       "33682 -0.091538 -0.055186 -0.848108  0.338557  0.503233  \n",
       "33683  0.311219 -0.229851 -0.780414  0.296170  0.371514  \n",
       "33684  0.010959 -0.392681 -0.722634  0.324757  0.282162  \n",
       "33685  0.111740 -0.046442 -1.232940  0.076320 -0.036805  \n",
       "\n",
       "[10 rows x 72 columns]"
      ]
     },
     "execution_count": 32,
     "metadata": {},
     "output_type": "execute_result"
    }
   ],
   "source": [
    "#layer = 0\n",
    "#head = 0\n",
    "\n",
    "def fix_sentences(sentences, positions, types):\n",
    "    # format sentences to be displayed in html plot\n",
    "    new_sentences = []\n",
    "    for sent, pos, t in zip(sentences, positions, types):\n",
    "        s_arr = sent.split()\n",
    "        s = \"\"\n",
    "        for i in range(len(s_arr)):\n",
    "            if i % 10 == 0 and i not in [0, len(s_arr) - 1]:\n",
    "                s += \"<br>\" # add new line every 10 tokens\n",
    "                \n",
    "            if i == pos: # italicize  + color current token\n",
    "                color = \"#B6E1B9\"\n",
    "                if t == \"key\":\n",
    "                    color = \"#F6BA98\"\n",
    "                s += \"<b style='color:\" + color + \"'>\" + s_arr[i] + \"</b>\"\n",
    "            else:\n",
    "                s += s_arr[i]\n",
    "                \n",
    "            if s != len(s_arr) - 1:\n",
    "                s += \" \" # add space back between each token\n",
    "        new_sentences.append(s)\n",
    "    \n",
    "    return new_sentences\n",
    "\n",
    "def make_df(layer, head):\n",
    "# convert data into pandas dataframe\n",
    "    df = pd.DataFrame()\n",
    "    df['token'] = attn_dict['left_text'] + attn_dict['right_text'] # store tokens\n",
    "    df['token'] = df['token'].str.lower() # convert to lowercase\n",
    "    num_tokens = len(attn_dict['left_text'])\n",
    "    \n",
    "    df['type'] = ['query'] * num_tokens + ['key'] * num_tokens # store token type\n",
    "    df['pos_int'] = attn_dict['positions'] * 2 # positions\n",
    "    df['position'] = attn_dict['normalized_positions'] * 2\n",
    "    \n",
    "    # sentence itself\n",
    "    # df['sentence'] = fix_sentences(attn_dict['tokenized_sentences'], attn_dict['positions'], df['type'][:num_tokens]) + fix_sentences(attn_dict['tokenized_sentences'], attn_dict['positions'], df['type'][num_tokens:])\n",
    "    df['sentence'] = [s.lower() for s in attn_dict['tokenized_sentences']] * 2\n",
    "    \n",
    "    # save attn info\n",
    "    attn = attn_dict['attn'][layer][head]\n",
    "    df['attn'] = attn + k_matrix(attn)\n",
    "    #df['max_ind'] = [a.index(max(a)) for a in df['attn']]\n",
    "    dp = attn_dict['dot_prod'][layer][head]\n",
    "    df['dot_prod'] = dp + k_matrix(dp)\n",
    "    \n",
    "    # extract q/k vectors\n",
    "    queries = attn_dict['queries']\n",
    "    keys = attn_dict['keys']\n",
    "    # queries = new_queries\n",
    "    # keys = new_keys\n",
    "    vec_size = len(queries[layer][head][0])\n",
    "\n",
    "    # norms\n",
    "    norms_q = []\n",
    "    norms_k = []\n",
    "    for i in range(len(queries[layer][head])):\n",
    "        q = queries[layer][head][i]\n",
    "        k = keys[layer][head][i]\n",
    "        norms_q.append(np.linalg.norm(q))\n",
    "        norms_k.append(np.linalg.norm(k))\n",
    "    df[\"norm\"] = norms_q + norms_k\n",
    "    \n",
    "    # df = pd.concat([df.iloc[:5021], df.iloc[30070:30070+5021]]) # only get first X keys + queries\n",
    "\n",
    "    for i in range(vec_size): # store q/k vector values\n",
    "        qs = [queries[layer][head][j][i] for j in range(num_tokens)]\n",
    "        ks = [keys[layer][head][j][i] for j in range(num_tokens)]\n",
    "        df[\"f\" + str(i)] = qs + ks # add to dataframe\n",
    "        \n",
    "    # comment out line below if want all 60k data points\n",
    "    df = pd.concat([df.iloc[:5007], df.iloc[28679:28679+5007]]) # gpt\n",
    "    # df = pd.concat([df.iloc[:5021], df.iloc[30070:30070+5021]]) # bert\n",
    "    # df = pd.concat([df.iloc[:5024], df.iloc[30085:30085+5024]]) # only get first X keys + queries\n",
    "    # print(len(df))\n",
    "    # df_lab = df.iloc[:, :8].copy() # get label cols only\n",
    "    df.to_csv('layer{}_head{}.csv'.format(layer, head), index=False)\n",
    "    # df_lab.to_csv('layer' + str(layer) + '/labels' + str(head) + '.tsv', sep=\"\\t\", index=False) # save labels to file\n",
    "    \n",
    "    return df\n",
    "\n",
    "# testing\n",
    "df = make_df(1, 2)\n",
    "df.tail(10)"
   ]
  },
  {
   "cell_type": "markdown",
   "id": "46cf43da-970d-4ab2-bb49-a37a26375ae2",
   "metadata": {
    "tags": []
   },
   "source": [
    "### translating key vectors\n",
    "Translate keys to have same centroid as queries for easier(?) comparison"
   ]
  },
  {
   "cell_type": "code",
   "execution_count": 20,
   "id": "ede2e999-1d09-4cbb-ba12-03d01fb00e1f",
   "metadata": {},
   "outputs": [],
   "source": [
    "def find_q_means(df):\n",
    "    # find mean of each feature in query embeddings\n",
    "    df_queries = df.loc[df['type'] == 'query']\n",
    "    df_queries = df_queries.iloc[:, 8:].copy()\n",
    "    # df_queries.head()\n",
    "    query_means = df_queries.mean(axis=0)\n",
    "    return query_means\n",
    "\n",
    "# query_means = find_q_means(df)\n",
    "# query_means"
   ]
  },
  {
   "cell_type": "code",
   "execution_count": 21,
   "id": "07cc0a23-1527-4958-b7b2-1f91a14cf748",
   "metadata": {},
   "outputs": [],
   "source": [
    "def find_q_means_selective(df):\n",
    "    # find mean of each feature in query embeddings if norm is around mean\n",
    "    # mean_norm = df[\"norm\"].median()\n",
    "    # print(mean_norm)\n",
    "    mean_norm = 9.84 # GPT query norm\n",
    "    lower_bound = mean_norm - 1\n",
    "    upper_bound = mean_norm + 1\n",
    "    df_queries = df.loc[(df['type'] == 'query') & (df['norm'] > lower_bound) & (df['norm'] < upper_bound)]\n",
    "    df_queries = df_queries.iloc[:, 8:].copy()\n",
    "    # df_queries.head()\n",
    "    query_means = df_queries.mean(axis=0)\n",
    "    return query_means\n",
    "    \n",
    "# find_q_means_selective(df)"
   ]
  },
  {
   "cell_type": "code",
   "execution_count": 22,
   "id": "7dbc5dac-73d6-4dfd-82cc-21e9cdfffd13",
   "metadata": {},
   "outputs": [],
   "source": [
    "def find_k_means(df):\n",
    "    # find mean of each feature in key embeddings\n",
    "    df_keys = df.loc[df['type'] == 'key']\n",
    "    df_keys = df_keys.iloc[:, 8:].copy()\n",
    "    # df_keys.head()\n",
    "    key_means = df_keys.mean(axis=0)\n",
    "    # key_means\n",
    "    return df_keys, key_means\n",
    "\n",
    "# df_keys, key_means = find_k_means(df)\n",
    "# key_means"
   ]
  },
  {
   "cell_type": "code",
   "execution_count": 23,
   "id": "b3d06abe-3a29-42f5-9b53-3baf1319f34e",
   "metadata": {},
   "outputs": [],
   "source": [
    "def translate_keys(df, df_keys, query_means, key_means):\n",
    "# translate key vectors accordingly\n",
    "    # new_keys = pd.DataFrame()\n",
    "    for i in range(64):\n",
    "        col = \"f\" + str(i)\n",
    "        new_key = df_keys[col] - key_means[col] + query_means[col]\n",
    "        df.loc[df['type'] == 'key', col] = new_key\n",
    "\n",
    "    # print(new_keys.head())\n",
    "    new_means = df[df.type == 'key'].mean(axis=0)\n",
    "    # print(new_means)\n",
    "    # df.tail()\n",
    "    return df\n",
    "\n",
    "# df = translate_keys(df, df_keys, query_means, key_means)"
   ]
  },
  {
   "cell_type": "code",
   "execution_count": 24,
   "id": "7adc4bd0-dba7-469f-bf44-e9f3422a981a",
   "metadata": {},
   "outputs": [],
   "source": [
    "def translate_queries_and_keys(df):\n",
    "    df_queries = df.loc[df['type'] == 'query']\n",
    "    df_queries = df_queries.iloc[:, 8:].copy()\n",
    "    df_keys = df.loc[df['type'] == 'key']\n",
    "    df_keys = df_keys.iloc[:, 8:].copy()\n",
    "    for i in range(64):\n",
    "        col = \"f\" + str(i)\n",
    "        new_key = df_keys[col]*10\n",
    "        new_query = df_queries[col]/10\n",
    "        df.loc[df['type'] == 'key', col] = new_key\n",
    "        df.loc[df['type'] == 'query', col] = new_query\n",
    "    return df\n",
    "\n",
    "df = translate_queries_and_keys(df)"
   ]
  },
  {
   "cell_type": "code",
   "execution_count": 33,
   "id": "c403f80e-0e94-43f9-a450-4c62d180c2e6",
   "metadata": {},
   "outputs": [
    {
     "name": "stderr",
     "output_type": "stream",
     "text": [
      "<ipython-input-23-e5a17867bf1e>:10: FutureWarning:\n",
      "\n",
      "Dropping of nuisance columns in DataFrame reductions (with 'numeric_only=None') is deprecated; in a future version this will raise TypeError.  Select only valid columns before calling the reduction.\n",
      "\n"
     ]
    },
    {
     "data": {
      "text/html": [
       "<div>\n",
       "<style scoped>\n",
       "    .dataframe tbody tr th:only-of-type {\n",
       "        vertical-align: middle;\n",
       "    }\n",
       "\n",
       "    .dataframe tbody tr th {\n",
       "        vertical-align: top;\n",
       "    }\n",
       "\n",
       "    .dataframe thead th {\n",
       "        text-align: right;\n",
       "    }\n",
       "</style>\n",
       "<table border=\"1\" class=\"dataframe\">\n",
       "  <thead>\n",
       "    <tr style=\"text-align: right;\">\n",
       "      <th></th>\n",
       "      <th>token</th>\n",
       "      <th>type</th>\n",
       "      <th>pos_int</th>\n",
       "      <th>position</th>\n",
       "      <th>sentence</th>\n",
       "      <th>attn</th>\n",
       "      <th>dot_prod</th>\n",
       "      <th>norm</th>\n",
       "      <th>f0</th>\n",
       "      <th>f1</th>\n",
       "      <th>...</th>\n",
       "      <th>f54</th>\n",
       "      <th>f55</th>\n",
       "      <th>f56</th>\n",
       "      <th>f57</th>\n",
       "      <th>f58</th>\n",
       "      <th>f59</th>\n",
       "      <th>f60</th>\n",
       "      <th>f61</th>\n",
       "      <th>f62</th>\n",
       "      <th>f63</th>\n",
       "    </tr>\n",
       "  </thead>\n",
       "  <tbody>\n",
       "    <tr>\n",
       "      <th>33681</th>\n",
       "      <td>western</td>\n",
       "      <td>key</td>\n",
       "      <td>11</td>\n",
       "      <td>0.733333</td>\n",
       "      <td>he  earned  a  bachelor  of  laws  degree  fro...</td>\n",
       "      <td>[0.0, 0.0, 0.0, 0.0, 0.0, 0.0, 0.0, 0.0, 0.0, ...</td>\n",
       "      <td>[-11.464520825201133, -17.9277108617094, -15.2...</td>\n",
       "      <td>4.001034</td>\n",
       "      <td>0.406407</td>\n",
       "      <td>-0.824863</td>\n",
       "      <td>...</td>\n",
       "      <td>-0.304570</td>\n",
       "      <td>-0.685819</td>\n",
       "      <td>-0.349346</td>\n",
       "      <td>-2.975479</td>\n",
       "      <td>3.178447</td>\n",
       "      <td>0.295821</td>\n",
       "      <td>-0.071158</td>\n",
       "      <td>1.000928</td>\n",
       "      <td>-0.156295</td>\n",
       "      <td>-0.136290</td>\n",
       "    </tr>\n",
       "    <tr>\n",
       "      <th>33682</th>\n",
       "      <td>australia</td>\n",
       "      <td>key</td>\n",
       "      <td>12</td>\n",
       "      <td>0.800000</td>\n",
       "      <td>he  earned  a  bachelor  of  laws  degree  fro...</td>\n",
       "      <td>[0.0, 0.0, 0.0, 0.0, 0.0, 0.0, 0.0, 0.0, 0.0, ...</td>\n",
       "      <td>[-8.3018655622655, -11.14412708360897, -9.2368...</td>\n",
       "      <td>3.814458</td>\n",
       "      <td>-0.226276</td>\n",
       "      <td>-0.764609</td>\n",
       "      <td>...</td>\n",
       "      <td>-0.173644</td>\n",
       "      <td>-1.004072</td>\n",
       "      <td>-0.367642</td>\n",
       "      <td>-3.237883</td>\n",
       "      <td>3.583699</td>\n",
       "      <td>0.370419</td>\n",
       "      <td>0.036630</td>\n",
       "      <td>0.819364</td>\n",
       "      <td>0.501831</td>\n",
       "      <td>0.151504</td>\n",
       "    </tr>\n",
       "    <tr>\n",
       "      <th>33683</th>\n",
       "      <td>in</td>\n",
       "      <td>key</td>\n",
       "      <td>13</td>\n",
       "      <td>0.866667</td>\n",
       "      <td>he  earned  a  bachelor  of  laws  degree  fro...</td>\n",
       "      <td>[0.0, 0.0, 0.0, 0.0, 0.0, 0.0, 0.0, 0.0, 0.0, ...</td>\n",
       "      <td>[-6.073180669600748, -6.427793515842042, -5.40...</td>\n",
       "      <td>4.122116</td>\n",
       "      <td>0.125681</td>\n",
       "      <td>-0.779680</td>\n",
       "      <td>...</td>\n",
       "      <td>-0.166003</td>\n",
       "      <td>-0.933115</td>\n",
       "      <td>-0.430032</td>\n",
       "      <td>-3.127903</td>\n",
       "      <td>3.113744</td>\n",
       "      <td>0.773176</td>\n",
       "      <td>-0.138035</td>\n",
       "      <td>0.887057</td>\n",
       "      <td>0.459444</td>\n",
       "      <td>0.019785</td>\n",
       "    </tr>\n",
       "    <tr>\n",
       "      <th>33684</th>\n",
       "      <td>1964</td>\n",
       "      <td>key</td>\n",
       "      <td>14</td>\n",
       "      <td>0.933333</td>\n",
       "      <td>he  earned  a  bachelor  of  laws  degree  fro...</td>\n",
       "      <td>[0.0, 0.0, 0.0, 0.0, 0.0, 0.0, 0.0, 0.0, 0.0, ...</td>\n",
       "      <td>[-8.256445914490332, -14.140688783935488, -12....</td>\n",
       "      <td>3.593744</td>\n",
       "      <td>-0.057683</td>\n",
       "      <td>-0.627638</td>\n",
       "      <td>...</td>\n",
       "      <td>-0.348769</td>\n",
       "      <td>-0.763821</td>\n",
       "      <td>-0.545311</td>\n",
       "      <td>-3.106696</td>\n",
       "      <td>3.583829</td>\n",
       "      <td>0.472915</td>\n",
       "      <td>-0.300865</td>\n",
       "      <td>0.944837</td>\n",
       "      <td>0.488032</td>\n",
       "      <td>-0.069568</td>\n",
       "    </tr>\n",
       "    <tr>\n",
       "      <th>33685</th>\n",
       "      <td>.</td>\n",
       "      <td>key</td>\n",
       "      <td>15</td>\n",
       "      <td>1.000000</td>\n",
       "      <td>he  earned  a  bachelor  of  laws  degree  fro...</td>\n",
       "      <td>[0.0, 0.0, 0.0, 0.0, 0.0, 0.0, 0.0, 0.0, 0.0, ...</td>\n",
       "      <td>[-4.661043644538163, -5.052468780170742, -4.15...</td>\n",
       "      <td>3.912532</td>\n",
       "      <td>0.132812</td>\n",
       "      <td>-0.622948</td>\n",
       "      <td>...</td>\n",
       "      <td>0.109873</td>\n",
       "      <td>-0.769143</td>\n",
       "      <td>-0.752753</td>\n",
       "      <td>-3.382890</td>\n",
       "      <td>3.111290</td>\n",
       "      <td>0.573697</td>\n",
       "      <td>0.045374</td>\n",
       "      <td>0.434532</td>\n",
       "      <td>0.239595</td>\n",
       "      <td>-0.388535</td>\n",
       "    </tr>\n",
       "  </tbody>\n",
       "</table>\n",
       "<p>5 rows × 72 columns</p>\n",
       "</div>"
      ],
      "text/plain": [
       "            token type  pos_int  position  \\\n",
       "33681     western  key       11  0.733333   \n",
       "33682   australia  key       12  0.800000   \n",
       "33683          in  key       13  0.866667   \n",
       "33684        1964  key       14  0.933333   \n",
       "33685           .  key       15  1.000000   \n",
       "\n",
       "                                                sentence  \\\n",
       "33681  he  earned  a  bachelor  of  laws  degree  fro...   \n",
       "33682  he  earned  a  bachelor  of  laws  degree  fro...   \n",
       "33683  he  earned  a  bachelor  of  laws  degree  fro...   \n",
       "33684  he  earned  a  bachelor  of  laws  degree  fro...   \n",
       "33685  he  earned  a  bachelor  of  laws  degree  fro...   \n",
       "\n",
       "                                                    attn  \\\n",
       "33681  [0.0, 0.0, 0.0, 0.0, 0.0, 0.0, 0.0, 0.0, 0.0, ...   \n",
       "33682  [0.0, 0.0, 0.0, 0.0, 0.0, 0.0, 0.0, 0.0, 0.0, ...   \n",
       "33683  [0.0, 0.0, 0.0, 0.0, 0.0, 0.0, 0.0, 0.0, 0.0, ...   \n",
       "33684  [0.0, 0.0, 0.0, 0.0, 0.0, 0.0, 0.0, 0.0, 0.0, ...   \n",
       "33685  [0.0, 0.0, 0.0, 0.0, 0.0, 0.0, 0.0, 0.0, 0.0, ...   \n",
       "\n",
       "                                                dot_prod      norm        f0  \\\n",
       "33681  [-11.464520825201133, -17.9277108617094, -15.2...  4.001034  0.406407   \n",
       "33682  [-8.3018655622655, -11.14412708360897, -9.2368...  3.814458 -0.226276   \n",
       "33683  [-6.073180669600748, -6.427793515842042, -5.40...  4.122116  0.125681   \n",
       "33684  [-8.256445914490332, -14.140688783935488, -12....  3.593744 -0.057683   \n",
       "33685  [-4.661043644538163, -5.052468780170742, -4.15...  3.912532  0.132812   \n",
       "\n",
       "             f1  ...       f54       f55       f56       f57       f58  \\\n",
       "33681 -0.824863  ... -0.304570 -0.685819 -0.349346 -2.975479  3.178447   \n",
       "33682 -0.764609  ... -0.173644 -1.004072 -0.367642 -3.237883  3.583699   \n",
       "33683 -0.779680  ... -0.166003 -0.933115 -0.430032 -3.127903  3.113744   \n",
       "33684 -0.627638  ... -0.348769 -0.763821 -0.545311 -3.106696  3.583829   \n",
       "33685 -0.622948  ...  0.109873 -0.769143 -0.752753 -3.382890  3.111290   \n",
       "\n",
       "            f59       f60       f61       f62       f63  \n",
       "33681  0.295821 -0.071158  1.000928 -0.156295 -0.136290  \n",
       "33682  0.370419  0.036630  0.819364  0.501831  0.151504  \n",
       "33683  0.773176 -0.138035  0.887057  0.459444  0.019785  \n",
       "33684  0.472915 -0.300865  0.944837  0.488032 -0.069568  \n",
       "33685  0.573697  0.045374  0.434532  0.239595 -0.388535  \n",
       "\n",
       "[5 rows x 72 columns]"
      ]
     },
     "execution_count": 33,
     "metadata": {},
     "output_type": "execute_result"
    }
   ],
   "source": [
    "# whole translation loop\n",
    "def translate_loop(df): \n",
    "    query_means = find_q_means(df)\n",
    "    # query_means = find_q_means_selective(df)\n",
    "    df_keys, key_means = find_k_means(df)\n",
    "    df = translate_keys(df, df_keys, query_means, key_means)\n",
    "    return df\n",
    "\n",
    "df = translate_loop(df)\n",
    "df.tail()"
   ]
  },
  {
   "cell_type": "markdown",
   "id": "8d3c73f3-786f-4c34-9838-03f45b4a3cd5",
   "metadata": {
    "jp-MarkdownHeadingCollapsed": true,
    "tags": []
   },
   "source": [
    "### subtracting position"
   ]
  },
  {
   "cell_type": "code",
   "execution_count": null,
   "id": "ee92ded9-498d-46f8-9a83-70632c7257df",
   "metadata": {},
   "outputs": [],
   "source": [
    "def subtract_pos(df, layer, head, all_embeddings):\n",
    "    resids = get_residual(layer, head, all_embeddings)\n",
    "    for p in range(len(pos_embeddings)):\n",
    "        for i in range(64):\n",
    "            # col = \"f\" + str(i)\n",
    "            df.iloc[p, 8 + i] -= resids[p][i] - pos_embeddings[p][i]\n",
    "    \n",
    "    return df\n",
    "   \n",
    "# df = subtract_pos(df, 3, 3, all_embeddings)\n",
    "# df.tail()"
   ]
  },
  {
   "cell_type": "markdown",
   "id": "a7f219da-6f2c-4859-a401-98395c641e9d",
   "metadata": {
    "tags": []
   },
   "source": [
    "### plot generation"
   ]
  },
  {
   "cell_type": "markdown",
   "id": "0c95faaf-3b30-4698-9472-9d5807abc042",
   "metadata": {
    "tags": []
   },
   "source": [
    "#### pca"
   ]
  },
  {
   "cell_type": "code",
   "execution_count": null,
   "id": "c879cb91-6ee9-4a2c-bd79-d7fc9273aca4",
   "metadata": {},
   "outputs": [],
   "source": [
    "# imports\n",
    "from sklearn.decomposition import PCA\n",
    "import matplotlib.pyplot as plt \n",
    "import seaborn as sns"
   ]
  },
  {
   "cell_type": "code",
   "execution_count": null,
   "id": "736b92ab-ce3f-475e-b726-c8ec76705fdc",
   "metadata": {},
   "outputs": [],
   "source": [
    "# run PCA\n",
    "def run_pca(df, dim, layer, head):\n",
    "     # prepare data for feature plot\n",
    "    df_sub = df.iloc[:, 8:].copy()\n",
    "    df_subset = df_sub.values # only get feature cols\n",
    "    \n",
    "    # run PCA\n",
    "    time_start = time.time()\n",
    "    \n",
    "    if dim == 3:\n",
    "        pca = PCA(n_components=3) # 3D\n",
    "    else:\n",
    "        pca = PCA(n_components=2) # 2D\n",
    "    pca_results = pca.fit_transform(df_subset)\n",
    "    np.save(\"pca\" + str(dim) + \"d/layer\" + str(layer) + \"_head\" + str(head) + \".npy\", pca_results) # save results too\n",
    "    print('PCA done! Time elapsed: {} seconds'.format(time.time()-time_start))\n",
    "    \n",
    "#     type_list = list(df['type'])\n",
    "#     # Create dataframe\n",
    "#     if dim == 2: # 2D\n",
    "#         pca_df = pd.DataFrame(\n",
    "#             data=pca_results, \n",
    "#             columns=['PC1', 'PC2'])\n",
    "#     else:\n",
    "#         pca_df = pd.DataFrame( # 3D\n",
    "#             data=pca_results,  \n",
    "#             columns=['PC1', 'PC2', 'PC3'])\n",
    "\n",
    "#     pca_df['type'] = type_list\n",
    "#     return pca_df"
   ]
  },
  {
   "cell_type": "code",
   "execution_count": null,
   "id": "06e382d8-7fa3-41c3-a836-2df48453cf75",
   "metadata": {},
   "outputs": [],
   "source": [
    "def plot_pca(df, layer, head):\n",
    "    sns.set()\n",
    "    colors = ['#5FB96C', '#E3378F']\n",
    "    # Set your custom color palette\n",
    "    sns.set_palette(sns.color_palette(colors))\n",
    "\n",
    "    sns.lmplot(\n",
    "        x='PC1', \n",
    "        y='PC2', \n",
    "        data=df, \n",
    "        hue='type', \n",
    "        fit_reg=False, \n",
    "        legend=True\n",
    "        )\n",
    "\n",
    "    plt.title('Layer {} Head {}'.format(layer, head))\n",
    "    plt.savefig('pca/layer{}_head{}.png'.format(layer, head))\n",
    "    # plt.show()"
   ]
  },
  {
   "cell_type": "code",
   "execution_count": null,
   "id": "7c866736-52fc-45da-9fe1-3bcf107a9afa",
   "metadata": {},
   "outputs": [],
   "source": [
    "def pca_loop(layer, head):\n",
    "    df2 = make_df(layer, head)\n",
    "    df2 = translate_loop(df2)\n",
    "    # run_pca(df2, 2, layer, head) # 2d\n",
    "    run_pca(df2, 3, layer, head) # 3d\n",
    "    # plot_pca(pca_df, layer, head)\n",
    "    \n",
    "    "
   ]
  },
  {
   "cell_type": "code",
   "execution_count": null,
   "id": "9020d9b7-115f-4a71-99ea-26b104085a55",
   "metadata": {},
   "outputs": [],
   "source": [
    "for layer in range(12):\n",
    "    for head in range(12):\n",
    "        pca_loop(layer, head)\n",
    "        print(\"Layer {}, head {} done!\".format(layer, head))\n",
    "              "
   ]
  },
  {
   "cell_type": "code",
   "execution_count": null,
   "id": "431b83c0-c444-4cb0-97ed-f1035f2ac963",
   "metadata": {},
   "outputs": [],
   "source": [
    "## make grid\n",
    "import matplotlib.pyplot as plt\n",
    "import numpy as np\n",
    "import os\n",
    "from PIL import Image\n",
    "\n",
    "\n",
    "def img_reshape(img):\n",
    "    img = Image.open('pca/'+img).convert('RGB')\n",
    "    img = img.resize((400,300))\n",
    "    img = np.asarray(img)\n",
    "    return img\n",
    "\n",
    "images = os.listdir('pca/')\n",
    "img_arr = []\n",
    "\n",
    "for layer in range(12):\n",
    "    for head in range(12):\n",
    "        img_arr.append(img_reshape(\"layer{}_head{}.png\".format(layer, head)))\n",
    "    \n",
    "rows = 12\n",
    "cols = 12\n",
    "img_count = 0\n",
    "\n",
    "fig, axes = plt.subplots(nrows=rows, ncols=cols, figsize=(24,20))\n",
    "\n",
    "for i in range(rows):\n",
    "    for j in range(cols):        \n",
    "        if img_count < len(images):\n",
    "            axes[i, j].axis('off')\n",
    "            axes[i, j].imshow(img_arr[img_count])\n",
    "            img_count+=1\n",
    "            \n",
    "plt.tight_layout()\n",
    "fig.suptitle('PCA results by attention head', fontsize=16, y=1.01)\n",
    "fig.text(0.5, -0.01, 'Head', ha='center', fontsize=16)\n",
    "fig.text(-0.01, 0.5, 'Layer', va='center', rotation='vertical', fontsize=16)\n",
    "plt.show()"
   ]
  },
  {
   "cell_type": "markdown",
   "id": "3b626369-88fb-4ce9-b614-cf3ff0041862",
   "metadata": {
    "tags": []
   },
   "source": [
    "#### tsne + umap"
   ]
  },
  {
   "cell_type": "markdown",
   "id": "eb8f74da-2b49-41b7-b033-9279d7ff3411",
   "metadata": {
    "tags": []
   },
   "source": [
    "##### projection of projections"
   ]
  },
  {
   "cell_type": "markdown",
   "id": "7e44ffdd-5394-496b-885a-3332c85a998f",
   "metadata": {
    "tags": []
   },
   "source": [
    "###### dists"
   ]
  },
  {
   "cell_type": "code",
   "execution_count": 35,
   "id": "06fe2a56-2069-4855-a633-cf29d9f3094f",
   "metadata": {},
   "outputs": [],
   "source": [
    "# new_features = []\n",
    "layers = []\n",
    "heads = []\n",
    "for layer in range(12):\n",
    "    for head in range(12):\n",
    "        # dists = all_dists[layer][head]\n",
    "        # head_d = []\n",
    "        # for d in dists:\n",
    "        #     head_d.extend(d)\n",
    "        # dists = np.asarray(head_d)\n",
    "        # new_features.append(dists)\n",
    "        layers.append(layer)\n",
    "        heads.append(head)\n",
    "        \n",
    "df = pd.DataFrame()\n",
    "df[\"layers\"] = layers\n",
    "df[\"heads\"] = heads"
   ]
  },
  {
   "cell_type": "markdown",
   "id": "10598cd8-f338-4e96-9b8a-b6c933b2c2a2",
   "metadata": {
    "tags": []
   },
   "source": [
    "###### coords from file"
   ]
  },
  {
   "cell_type": "code",
   "execution_count": null,
   "id": "465dd87d-7d28-410a-9f04-08b95d5d19cf",
   "metadata": {},
   "outputs": [],
   "source": [
    "import os"
   ]
  },
  {
   "cell_type": "code",
   "execution_count": null,
   "id": "56c811ea-e27d-414b-b939-35ab26097612",
   "metadata": {},
   "outputs": [],
   "source": [
    "queries = attn_dict[\"queries\"]\n",
    "keys = attn_dict[\"keys\"]"
   ]
  },
  {
   "cell_type": "code",
   "execution_count": null,
   "id": "6e9b16bc-a471-4c79-af23-9afac1abb186",
   "metadata": {},
   "outputs": [],
   "source": [
    "new_features = []\n",
    "layers = []\n",
    "heads = []\n",
    "for layer in range(12):\n",
    "    for head in range(12):\n",
    "        q = queries[layer][head][:5007]\n",
    "        k = queries[layer][head][:5007]\n",
    "        q = np.asarray(q).flatten()\n",
    "        k = np.asarray(k).flatten()\n",
    "        combined = np.concatenate((q, k), axis=None)\n",
    "        new_features.append(combined)\n",
    "        layers.append(layer)\n",
    "        heads.append(head)\n",
    "        \n",
    "df = pd.DataFrame()\n",
    "df[\"layers\"] = layers\n",
    "df[\"heads\"] = heads"
   ]
  },
  {
   "cell_type": "code",
   "execution_count": 36,
   "id": "7f5af0eb-b7ff-4ffc-8c99-812b5f2b419d",
   "metadata": {},
   "outputs": [],
   "source": [
    "# gpt\n",
    "patterns = [\"other\", \"self\", \"other\", \"self\", \"self\", \"self\", \"other\", \"other\", \"other\", \"other\", \"other\", \"other\",\n",
    "            \"other\", \"other\", \"other\", \"other\", \"other\", \"other\", \"other\", \"other\", \"other\", \"other\", \"other\", \"self\",\n",
    "            \"other\", \"other\", \"previous\", \"other\", \"other\", \"other\", \"other\", \"other\", \"other\", \"other\", \"other\", \"other\",\n",
    "            \"self\", \"other\", \"other\", \"previous\", \"self\", \"other\", \"previous\", \"previous\", \"other\", \"other\", \"other\", \"other\",\n",
    "            \"other\", \"other\", \"other\", \"other\", \"self\", \"other\", \"other\", \"self\", \"self\", \"other\", \"other\", \"previous\",\n",
    "            \"ind-next\", \"ind-next\", \"other\", \"other\", \"other\", \"ind-next\", \"previous\", \"other\", \"ind-next\", \"other\", \"other\", \"self\",\n",
    "            \"other\", \"other\", \"other\", \"other\", \"other\", \"other\", \"self\", \"other\", \"previous\", \"ind-next\", \"ind-next\", \"other\",\n",
    "            \"previous\", \"other\", \"ind-next\", \"other\", \"ind-prev\", \"other\", \"other\", \"other\", \"other\", \"other\", \"ind-next\", \"ind-next\",\n",
    "            \"other\", \"ind-next\", \"other\", \"other\", \"other\", \"other\", \"ind-next\", \"other\", \"other\", \"other\", \"other\", \"other\",\n",
    "            \"other\", \"ind-next\", \"other\", \"other\", \"other\", \"self\", \"ind-next\", \"other\", \"other\", \"ind-next\", \"other\", \"other\",\n",
    "            \"ind-next\", \"ind-next\", \"other\", \"other\", \"other\", \"other\", \"ind-next\", \"ind-next\", \"other\", \"other\", \"other\", \"ind-next\",\n",
    "            \"other\", \"other\", \"other\", \"other\", \"other\", \"other\", \"other\", \"other\", \"self\", \"ind-next\", \"ind-next\", \"other\"]\n",
    "df['patterns'] = patterns"
   ]
  },
  {
   "cell_type": "code",
   "execution_count": 5,
   "id": "38a5bfd6-47c6-49d9-a482-9c7cd839f3ad",
   "metadata": {},
   "outputs": [],
   "source": [
    "# bert\n",
    "patterns = [\"other\", \"other\", \"previous\", \"previous\", \"other\", \"other\", \"other\", \"other\", \"other\", \"other\", \"next\", \"other\",\n",
    "            \"other\", \"next\", \"other\", \"other\", \"previous\", \"other\", \"other\", \"other\", \"other\", \"other\", \"other\", \"self\",\n",
    "            \"next\", \"other\", \"other\", \"other\", \"other\", \"other\", \"self\", \"other\", \"other\", \"next\", \"other\", \"other\",\n",
    "            \"self\", \"other\", \"other\", \"next\", \"other\", \"previous\", \"other\", \"other\", \"other\", \"next\", \"other\", \"previous\",\n",
    "            \"other\", \"other\", \"other\", \"self\", \"other\", \"other\", \"other\", \"other\", \"other\", \"other\", \"other\", \"next\",\n",
    "            \"other\", \"other\", \"other\", \"other\", \"other\", \"self\", \"other\", \"other\", \"other\", \"next\", \"previous\", \"other\",\n",
    "            \"self\", \"other\", \"other\", \"other\", \"other\", \"other\", \"next\", \"other\", \"other\", \"other\", \"other\", \"previous\",\n",
    "            \"ind-next\", \"other\", \"next\", \"other\", \"previous\", \"other\", \"other\", \"other\", \"other\", \"other\", \"other\", \"other\",\n",
    "            \"other\", \"other\", \"ind-next\", \"self\", \"other\", \"other\", \"other\", \"other\", \"other\", \"other\", \"other\", \"other\",\n",
    "            \"self\", \"other\", \"other\", \"other\", \"other\", \"other\", \"self\", \"self\", \"self\", \"ind-prev\", \"other\", \"other\",\n",
    "            \"other\", \"self\", \"other\", \"other\", \"other\", \"self\", \"self\", \"other\", \"other\", \"self\", \"self\", \"other\",\n",
    "            \"other\", \"other\", \"other\", \"other\", \"other\", \"self\", \"other\", \"self\", \"self\", \"other\", \"self\", \"self\"]\n",
    "df['patterns'] = patterns"
   ]
  },
  {
   "cell_type": "code",
   "execution_count": 16,
   "id": "9db75c8f-33f7-44b0-875e-0f921ea5014c",
   "metadata": {},
   "outputs": [],
   "source": [
    "def run_tsne(coords, model, dim):\n",
    "    time_start = time.time()\n",
    "    if dim == 3: # 3D\n",
    "        tsne = TSNE(n_components=3, verbose=0, perplexity=15, n_iter=300, metric='euclidean') # 3D\n",
    "    else: # 2D\n",
    "        tsne = TSNE(n_components=2, verbose=0, perplexity=15, n_iter=300, metric='euclidean') # 2D\n",
    "    tsne_results = tsne.fit_transform(coords)\n",
    "    # np.save(\"tsne/{}_{}d.npy\".format(model, dim), tsne_results) # save tsne results too\n",
    "    print('t-SNE done! Time elapsed: {} seconds'.format(time.time()-time_start))\n",
    "    \n",
    "    return tsne_results\n",
    "\n",
    "# tsne_results = run_tsne(all_coords, \"gpt\", 2)"
   ]
  },
  {
   "cell_type": "code",
   "execution_count": 17,
   "id": "4f7d8bf4-3c3c-4524-81a2-43ac8eaa6044",
   "metadata": {},
   "outputs": [],
   "source": [
    "def run_umap(coords, model, dim):\n",
    "    time_start = time.time()\n",
    "    if dim == 3: # 3D\n",
    "        umap = UMAP(n_components=3, init='random', random_state=0, metric='euclidean')\n",
    "    else: # 2D\n",
    "        umap = UMAP(n_components=2, init='random', random_state=0, metric='euclidean')\n",
    "    umap_results = umap.fit_transform(coords)\n",
    "    # np.save(\"umap/layer\" + str(layer) + \"_head\" + str(head) + \".npy\", umap_results) # save umap results too\n",
    "    print('UMAP done! Time elapsed: {} seconds'.format(time.time()-time_start))\n",
    "    \n",
    "    return umap_results"
   ]
  },
  {
   "cell_type": "code",
   "execution_count": null,
   "id": "0f564b41-23b9-4b42-b040-3f41fcd52795",
   "metadata": {},
   "outputs": [],
   "source": [
    "def run_pca(df, model, dim):\n",
    "    time_start = time.time()\n",
    "    if dim == 3:\n",
    "        pca = PCA(n_components=3) # 3D\n",
    "    else:\n",
    "        pca = PCA(n_components=2) # 2D\n",
    "    pca_results = pca.fit_transform(df)\n",
    "    # np.save(\"pca\" + str(dim) + \"d/layer\" + str(layer) + \"_head\" + str(head) + \".npy\", pca_results) # save results too\n",
    "    print('PCA done! Time elapsed: {} seconds'.format(time.time()-time_start))\n",
    "    return pca_results"
   ]
  },
  {
   "cell_type": "code",
   "execution_count": 8,
   "id": "f6f2778b-e800-42c7-a668-39843e72749a",
   "metadata": {},
   "outputs": [],
   "source": [
    "def make_fig(results, df, model, dim, viz, colorby):\n",
    "    # 2D version\n",
    "    if colorby == \"layer\":\n",
    "        df_color = df.layers\n",
    "    elif colorby == \"head\":\n",
    "        df_color = df.heads\n",
    "    else: # patterns\n",
    "        df_color = df.patterns\n",
    "        \n",
    "    if dim == 2:\n",
    "        fig = px.scatter(\n",
    "            results, x=0, y=1,\n",
    "            title='{} of {} attention heads (2D)'.format(viz, model),\n",
    "            color=df_color,\n",
    "            labels={'color': colorby},\n",
    "            color_discrete_sequence=px.colors.qualitative.Pastel,\n",
    "            height=800,\n",
    "            width=1200,\n",
    "            opacity=1\n",
    "        )\n",
    "    else: # 3d\n",
    "        fig = px.scatter_3d(\n",
    "            results, x=0, y=1, z=2,\n",
    "            title='{} of {} attention heads (3D)'.format(viz, model),\n",
    "            color=df_color,\n",
    "            labels={'color': colorby},\n",
    "            height=800,\n",
    "            opacity=1\n",
    "        )\n",
    "    fig.update_traces( # queries\n",
    "        customdata=df[['layers', 'heads']],\n",
    "        hovertemplate=\"layer: %{customdata[0]}, head: %{customdata[1]}\",\n",
    "    )\n",
    "    \n",
    "    fig.show()\n",
    "    \n",
    "# make_fig(tsne_results, df, \"GPT\", 2, \"TSNE\")"
   ]
  },
  {
   "cell_type": "code",
   "execution_count": 9,
   "id": "341c660f-f835-440e-8065-f7681f6b668d",
   "metadata": {},
   "outputs": [],
   "source": [
    "# loop\n",
    "def proj_heads2(all_coords, df, vis, model, dim, colorby):\n",
    "    if vis == \"TSNE\":\n",
    "        results = run_tsne(all_coords, model, dim)\n",
    "    elif vis == \"UMAP\":\n",
    "        results = run_umap(all_coords, model, dim)\n",
    "    else: # PCA\n",
    "        results = run_pca(all_coords, model, dim)\n",
    "    make_fig(results, df, model, dim, vis, colorby)"
   ]
  },
  {
   "cell_type": "markdown",
   "id": "518a221f-28da-429f-9482-0211287e0917",
   "metadata": {},
   "source": [
    "###### gpt (distance b/t weight matrices)"
   ]
  },
  {
   "cell_type": "code",
   "execution_count": 39,
   "id": "cfe4e52b-fd7c-44af-9b64-bc6523ab88f3",
   "metadata": {},
   "outputs": [
    {
     "name": "stderr",
     "output_type": "stream",
     "text": [
      "Exception ignored on calling ctypes callback function: <function _ThreadpoolInfo._find_modules_with_dl_iterate_phdr.<locals>.match_module_callback at 0x2b88b3e80940>\n",
      "Traceback (most recent call last):\n",
      "  File \"/n/home10/cyeh/anaconda3/envs/diffusion/lib/python3.9/site-packages/threadpoolctl.py\", line 400, in match_module_callback\n",
      "    self._make_module_from_path(filepath)\n",
      "  File \"/n/home10/cyeh/anaconda3/envs/diffusion/lib/python3.9/site-packages/threadpoolctl.py\", line 515, in _make_module_from_path\n",
      "    module = module_class(filepath, prefix, user_api, internal_api)\n",
      "  File \"/n/home10/cyeh/anaconda3/envs/diffusion/lib/python3.9/site-packages/threadpoolctl.py\", line 606, in __init__\n",
      "    self.version = self.get_version()\n",
      "  File \"/n/home10/cyeh/anaconda3/envs/diffusion/lib/python3.9/site-packages/threadpoolctl.py\", line 646, in get_version\n",
      "    config = get_config().split()\n",
      "AttributeError: 'NoneType' object has no attribute 'split'\n"
     ]
    },
    {
     "name": "stdout",
     "output_type": "stream",
     "text": [
      "t-SNE done! Time elapsed: 0.33199453353881836 seconds\n"
     ]
    },
    {
     "data": {
      "text/html": [
       "<iframe\n",
       "    scrolling=\"no\"\n",
       "    width=\"1220px\"\n",
       "    height=\"820\"\n",
       "    src=\"iframe_figures/figure_39.html\"\n",
       "    frameborder=\"0\"\n",
       "    allowfullscreen\n",
       "></iframe>\n"
      ]
     },
     "metadata": {},
     "output_type": "display_data"
    }
   ],
   "source": [
    "proj_heads2(all_agg, df, \"TSNE\", \"GPT\", 2, \"pattern\")"
   ]
  },
  {
   "cell_type": "code",
   "execution_count": 40,
   "id": "80e77c18-23b3-4c80-92f9-ad44ca589955",
   "metadata": {},
   "outputs": [
    {
     "name": "stdout",
     "output_type": "stream",
     "text": [
      "UMAP done! Time elapsed: 1.3819279670715332 seconds\n"
     ]
    },
    {
     "data": {
      "text/html": [
       "<iframe\n",
       "    scrolling=\"no\"\n",
       "    width=\"1220px\"\n",
       "    height=\"820\"\n",
       "    src=\"iframe_figures/figure_40.html\"\n",
       "    frameborder=\"0\"\n",
       "    allowfullscreen\n",
       "></iframe>\n"
      ]
     },
     "metadata": {},
     "output_type": "display_data"
    }
   ],
   "source": [
    "proj_heads2(all_agg, df, \"UMAP\", \"GPT\", 2, \"pattern\")\n"
   ]
  },
  {
   "cell_type": "markdown",
   "id": "19ad0a7f-884e-4e40-864a-89b35daaaf5a",
   "metadata": {
    "jp-MarkdownHeadingCollapsed": true,
    "tags": []
   },
   "source": [
    "##### gpt (concatenating vectors)"
   ]
  },
  {
   "cell_type": "code",
   "execution_count": null,
   "id": "3eb5b062-49e5-4776-88c3-26996e5f2d83",
   "metadata": {},
   "outputs": [],
   "source": [
    "proj_heads2(new_features, df, \"TSNE\", \"GPT\", 2, \"pattern\")"
   ]
  },
  {
   "cell_type": "code",
   "execution_count": null,
   "id": "d95fc3f1-bb4c-498e-aaa2-145f0253e705",
   "metadata": {},
   "outputs": [],
   "source": [
    "proj_heads2(new_features, df, \"TSNE\", \"GPT\", 3, \"layer\")"
   ]
  },
  {
   "cell_type": "code",
   "execution_count": null,
   "id": "9ababf0d-7487-4280-8dcc-7ba7ed8b707b",
   "metadata": {},
   "outputs": [],
   "source": [
    "proj_heads2(new_features, df, \"UMAP\", \"GPT\", 2, \"pattern\")"
   ]
  },
  {
   "cell_type": "code",
   "execution_count": null,
   "id": "8f6996ce-97ff-4bbc-9258-4de59b6bc8dc",
   "metadata": {},
   "outputs": [],
   "source": [
    "proj_heads2(new_features, df, \"UMAP\", \"GPT\", 3, \"pattern\")"
   ]
  },
  {
   "cell_type": "code",
   "execution_count": null,
   "id": "59c61aa9-4967-4dc9-8e3f-331c3f0e6f77",
   "metadata": {},
   "outputs": [],
   "source": [
    "proj_heads2(new_features, df, \"PCA\", \"GPT\", 2, \"layer\")"
   ]
  },
  {
   "cell_type": "code",
   "execution_count": null,
   "id": "68675a9a-9cb3-47e4-9b6d-4e16befd9719",
   "metadata": {},
   "outputs": [],
   "source": [
    "proj_heads2(new_features, df, \"PCA\", \"GPT\", 3, \"layer\")"
   ]
  },
  {
   "cell_type": "markdown",
   "id": "7fe9a70d-2ebc-4bc1-82f7-4e0d724419c6",
   "metadata": {
    "jp-MarkdownHeadingCollapsed": true,
    "tags": []
   },
   "source": [
    "##### bert (concatenating vectors)"
   ]
  },
  {
   "cell_type": "code",
   "execution_count": null,
   "id": "5e80357c-d732-48df-8f1e-4a3c66fc842f",
   "metadata": {},
   "outputs": [],
   "source": [
    "proj_heads2(new_features, df, \"TSNE\", \"BERT\", 2, \"pattern\")"
   ]
  },
  {
   "cell_type": "code",
   "execution_count": null,
   "id": "78f95d37-5021-4ccc-af5d-e7f409022f70",
   "metadata": {},
   "outputs": [],
   "source": [
    "proj_heads2(new_features, df, \"TSNE\", \"BERT\", 3, \"layer\")"
   ]
  },
  {
   "cell_type": "code",
   "execution_count": null,
   "id": "4c0db73c-f5d0-4f56-80d1-c3e6665327ff",
   "metadata": {},
   "outputs": [],
   "source": [
    "proj_heads2(new_features, df, \"UMAP\", \"BERT\", 2, \"pattern\")"
   ]
  },
  {
   "cell_type": "code",
   "execution_count": null,
   "id": "4b31f7c4-3252-44cc-8b7e-f12126e47a35",
   "metadata": {},
   "outputs": [],
   "source": [
    "proj_heads2(new_features, df, \"UMAP\", \"BERT\", 3, \"layer\")"
   ]
  },
  {
   "cell_type": "code",
   "execution_count": null,
   "id": "0648ed72-3c1d-4e59-8015-75989bad564c",
   "metadata": {},
   "outputs": [],
   "source": [
    "proj_heads2(new_features, df, \"PCA\", \"BERT\", 2, \"layer\")"
   ]
  },
  {
   "cell_type": "code",
   "execution_count": null,
   "id": "0850b310-72e6-47f7-8b7c-558cd73d9fa0",
   "metadata": {},
   "outputs": [],
   "source": [
    "proj_heads2(new_features, df, \"PCA\", \"BERT\", 3, \"layer\")"
   ]
  },
  {
   "cell_type": "markdown",
   "id": "b82730e5-c1ed-4754-98ac-afb072e373b1",
   "metadata": {
    "jp-MarkdownHeadingCollapsed": true,
    "tags": []
   },
   "source": [
    "##### archive"
   ]
  },
  {
   "cell_type": "code",
   "execution_count": null,
   "id": "f37058e2-a5d1-46de-9819-f708ddf645c8",
   "metadata": {},
   "outputs": [],
   "source": [
    "def collapseCoords(folder):\n",
    "    all_coords = []\n",
    "    labels = []\n",
    "    layers = []\n",
    "    heads = []\n",
    "    for file in sorted(os.listdir(folder)):\n",
    "        if \".npy\" not in file:\n",
    "            continue\n",
    "        l_start = file.index(\"layer\") + 5\n",
    "        l_end = file.index(\"_\")\n",
    "        h_start = file.index(\"head\") + 4\n",
    "        h_end = file.index(\".npy\")\n",
    "\n",
    "        layer = int(file[l_start:l_end])\n",
    "        head = int(file[h_start:h_end])\n",
    "        layers.append(layer)\n",
    "        heads.append(head)\n",
    "\n",
    "        labels.append(file[:-4])\n",
    "\n",
    "        coords = np.load(folder + file)\n",
    "        \n",
    "        # normalize coords\n",
    "        mins = np.min(coords, axis=0)\n",
    "        maxes = np.max(coords, axis=0)\n",
    "        ranges = maxes - mins\n",
    "        coords = coords - mins\n",
    "        coords = coords / ranges\n",
    "        \n",
    "        # flatten to 1D array\n",
    "        coords = coords.flatten()\n",
    "        all_coords.append(coords)\n",
    "\n",
    "    df = pd.DataFrame()\n",
    "    df['labels'] = labels\n",
    "    df['layers'] = layers\n",
    "    df['heads'] = heads\n",
    "    \n",
    "    return all_coords, df"
   ]
  },
  {
   "cell_type": "code",
   "execution_count": null,
   "id": "463b6b1f-cce9-4677-a43a-a33f45e85aa8",
   "metadata": {},
   "outputs": [],
   "source": [
    "# loop\n",
    "def proj_heads(folder, model, dim, colorby):\n",
    "    all_coords, df = collapseCoords(folder)\n",
    "    if \"tsne\" in folder:\n",
    "        viz = \"TSNE\"\n",
    "        results = run_tsne(all_coords, model, dim)\n",
    "    elif \"umap\" in folder:\n",
    "        viz = \"UMAP\"\n",
    "        results = run_umap(all_coords, model, dim)\n",
    "    else:\n",
    "        viz = \"PCA\"\n",
    "        results = run_pca(all_coords, model, dim)\n",
    "    make_fig(results, df, model, dim, viz, colorby)"
   ]
  },
  {
   "cell_type": "markdown",
   "id": "3b7c2d21-72de-46e1-8076-bee42bf276d1",
   "metadata": {
    "jp-MarkdownHeadingCollapsed": true,
    "tags": []
   },
   "source": [
    "##### gpt (from tsne/umap coords)"
   ]
  },
  {
   "cell_type": "code",
   "execution_count": null,
   "id": "b51026ac-2c27-4adc-8e6e-553e9cac196a",
   "metadata": {},
   "outputs": [],
   "source": [
    "# 2d tsne\n",
    "proj_heads(\"gpt/tsne/\", \"GPT\", 2, \"layer\")"
   ]
  },
  {
   "cell_type": "code",
   "execution_count": null,
   "id": "47a252e8-5b95-4e71-a24d-d8223bfb4969",
   "metadata": {},
   "outputs": [],
   "source": [
    "# 3d tsne\n",
    "proj_heads(\"gpt/tsne_3d/\", \"GPT\", 3, \"layer\")"
   ]
  },
  {
   "cell_type": "code",
   "execution_count": null,
   "id": "94f347ed-52a9-4d1a-b567-2fda12d8beda",
   "metadata": {},
   "outputs": [],
   "source": [
    "# 2d umap\n",
    "proj_heads(\"gpt/umap/\", \"GPT\", 2, \"layer\")"
   ]
  },
  {
   "cell_type": "code",
   "execution_count": null,
   "id": "21abc89b-9409-4cde-9400-368dbc5f68e1",
   "metadata": {},
   "outputs": [],
   "source": [
    "# 3d umap\n",
    "proj_heads(\"gpt/umap_3d/\", \"GPT\", 3, \"layer\")"
   ]
  },
  {
   "cell_type": "code",
   "execution_count": null,
   "id": "cd74469c-3385-4248-b115-7702646124e4",
   "metadata": {},
   "outputs": [],
   "source": [
    "# 2d pca\n",
    "proj_heads(\"gpt/pca/\", \"GPT\", 2, \"layer\")"
   ]
  },
  {
   "cell_type": "code",
   "execution_count": null,
   "id": "aaba60ca-de56-40d5-99a4-5d09c1db0e05",
   "metadata": {},
   "outputs": [],
   "source": [
    "# 3d pca\n",
    "proj_heads(\"gpt/pca_3d/\", \"GPT\", 3, \"layer\")"
   ]
  },
  {
   "cell_type": "markdown",
   "id": "635ed6d2-57ea-441d-baa6-e2ad10705bf1",
   "metadata": {
    "jp-MarkdownHeadingCollapsed": true,
    "tags": []
   },
   "source": [
    "##### bert (from tsne/umap coords)"
   ]
  },
  {
   "cell_type": "code",
   "execution_count": null,
   "id": "375c8582-53b0-4f44-90c1-dafcb738208e",
   "metadata": {
    "tags": []
   },
   "outputs": [],
   "source": [
    "# 2d tsne\n",
    "proj_heads(\"bert/tsne/\", \"BERT\", 2, \"layer\")"
   ]
  },
  {
   "cell_type": "code",
   "execution_count": null,
   "id": "21daa488-1ec8-4c73-bf21-14df5a6d7a20",
   "metadata": {},
   "outputs": [],
   "source": [
    "# 3d tsne\n",
    "proj_heads(\"bert/tsne_3d/\", \"BERT\", 3, \"layer\")"
   ]
  },
  {
   "cell_type": "code",
   "execution_count": null,
   "id": "67f37c76-216c-4c89-9261-bec2a8ea9b63",
   "metadata": {},
   "outputs": [],
   "source": [
    "# 2d umap\n",
    "proj_heads(\"bert/umap/\", \"BERT\", 2, \"layer\")"
   ]
  },
  {
   "cell_type": "code",
   "execution_count": null,
   "id": "c2740c69-9710-4bfe-954d-2fc4e1b767ec",
   "metadata": {},
   "outputs": [],
   "source": [
    "# 3d umap\n",
    "proj_heads(\"bert/umap_3d/\", \"BERT\", 3, \"layer\")"
   ]
  },
  {
   "cell_type": "code",
   "execution_count": null,
   "id": "1b456917-0e25-4ab1-819c-573a478c1b3f",
   "metadata": {},
   "outputs": [],
   "source": [
    "# 2d pca\n",
    "proj_heads(\"bert/pca/\", \"BERT\", 2, \"layer\")"
   ]
  },
  {
   "cell_type": "code",
   "execution_count": null,
   "id": "060b9b4a-973c-4904-b135-7e604dad85a6",
   "metadata": {},
   "outputs": [],
   "source": [
    "# 3d pca\n",
    "proj_heads(\"bert/pca_3d/\", \"BERT\", 3, \"layer\")"
   ]
  },
  {
   "cell_type": "markdown",
   "id": "0d38d918-9a5e-401e-b3fc-fa2894f0a2e3",
   "metadata": {
    "tags": []
   },
   "source": [
    "##### old version"
   ]
  },
  {
   "cell_type": "code",
   "execution_count": null,
   "id": "5d120625-4c09-4d53-be9a-fba4a5bcf297",
   "metadata": {},
   "outputs": [],
   "source": [
    "# load existing data\n",
    "tsne_results = np.load(\"tsne/translated_layer0_head0.npy\")\n",
    "# umap_results = np.load(\"umap/layer0_head0.npy\")"
   ]
  },
  {
   "cell_type": "code",
   "execution_count": 34,
   "id": "17e3cb64-aab2-48e5-bde6-8e777d5ba824",
   "metadata": {},
   "outputs": [
    {
     "name": "stderr",
     "output_type": "stream",
     "text": [
      "Exception ignored on calling ctypes callback function: <function _ThreadpoolInfo._find_modules_with_dl_iterate_phdr.<locals>.match_module_callback at 0x2ad1f356d820>\n",
      "Traceback (most recent call last):\n",
      "  File \"/n/home10/cyeh/anaconda3/envs/diffusion/lib/python3.9/site-packages/threadpoolctl.py\", line 400, in match_module_callback\n",
      "    self._make_module_from_path(filepath)\n",
      "  File \"/n/home10/cyeh/anaconda3/envs/diffusion/lib/python3.9/site-packages/threadpoolctl.py\", line 515, in _make_module_from_path\n",
      "    module = module_class(filepath, prefix, user_api, internal_api)\n",
      "  File \"/n/home10/cyeh/anaconda3/envs/diffusion/lib/python3.9/site-packages/threadpoolctl.py\", line 606, in __init__\n",
      "    self.version = self.get_version()\n",
      "  File \"/n/home10/cyeh/anaconda3/envs/diffusion/lib/python3.9/site-packages/threadpoolctl.py\", line 646, in get_version\n",
      "    config = get_config().split()\n",
      "AttributeError: 'NoneType' object has no attribute 'split'\n"
     ]
    },
    {
     "name": "stdout",
     "output_type": "stream",
     "text": [
      "t-SNE done! Time elapsed: 46.41531586647034 seconds\n"
     ]
    }
   ],
   "source": [
    "# run TSNE\n",
    "def run_tsne(df, layer, head):\n",
    "    # prepare data for feature plot\n",
    "    df_sub = df.iloc[:, 8:].copy()\n",
    "    df_subset = df_sub.values # only get feature cols\n",
    "    #df_sub.to_csv('layer' + str(layer) + '/features' + str(head) + '.tsv', sep=\"\\t\", index=False, header=False) # save feature data\n",
    "    \n",
    "    # run TSNE\n",
    "    # from: https://towardsdatascience.com/visualising-high-dimensional-datasets-using-pca-and-t-sne-in-python-8ef87e7915b\n",
    "    time_start = time.time()\n",
    "    # tsne = TSNE(n_components=3, verbose=0, perplexity=100, n_iter=300, metric=\"cosine\") # 3D\n",
    "    tsne = TSNE(n_components=2, verbose=0, perplexity=100, n_iter=300, metric=\"euclidean\", n_jobs=-1) # 2D\n",
    "    # tsne = TSNE(n_components=1, verbose=0, perplexity=100, n_iter=300, metric=\"cosine\") # 2D\n",
    "    tsne_results = tsne.fit_transform(df_subset)\n",
    "    # np.save(\"tsne/layer\" + str(layer) + \"_head\" + str(head) + \".npy\", tsne_results) # save tsne results too\n",
    "    print('t-SNE done! Time elapsed: {} seconds'.format(time.time()-time_start))\n",
    "    \n",
    "    return tsne_results\n",
    "\n",
    "tsne_results = run_tsne(df, 1, 2)"
   ]
  },
  {
   "cell_type": "code",
   "execution_count": null,
   "id": "af0ec94c-4f12-4e69-a43d-88ce285fdf5f",
   "metadata": {},
   "outputs": [],
   "source": [
    "def run_umap(df, layer, head):\n",
    "    # prepare data for feature plot\n",
    "    df_sub = df.iloc[:, 8:].copy()\n",
    "    df_subset = df_sub.values # only get feature cols\n",
    "    #df_sub.to_csv('layer' + str(layer) + '/features' + str(head) + '.tsv', sep=\"\\t\", index=False, header=False) # save feature data\n",
    "    \n",
    "    # run umap\n",
    "    time_start = time.time()\n",
    "    # umap = UMAP(n_components=3, init='random', random_state=0, metric=\"cosine\")\n",
    "    umap = UMAP(n_components=2, init='random', random_state=0, metric=\"cosine\") # 2D\n",
    "    # umap = UMAP(n_components=1, init='random', random_state=0, metric=\"cosine\") # 2D\n",
    "    umap_results = umap.fit_transform(df_subset)\n",
    "    # np.save(\"umap/layer\" + str(layer) + \"_head\" + str(head) + \".npy\", umap_results) # save umap results too\n",
    "    print('UMAP done! Time elapsed: {} seconds'.format(time.time()-time_start))\n",
    "    \n",
    "    return umap_results\n",
    "\n",
    "umap_results = run_umap(df, 1, 2)"
   ]
  },
  {
   "cell_type": "code",
   "execution_count": 28,
   "id": "ec0f0f9b-43ca-45fd-83f6-665f9af61b0f",
   "metadata": {},
   "outputs": [
    {
     "name": "stdout",
     "output_type": "stream",
     "text": [
      "5007\n"
     ]
    }
   ],
   "source": [
    "# save variable for later computation\n",
    "half = int(len(tsne_results) / 2)\n",
    "print(half)"
   ]
  },
  {
   "cell_type": "code",
   "execution_count": 35,
   "id": "3df027b7-c4e6-4376-a622-91e95b45ada6",
   "metadata": {},
   "outputs": [],
   "source": [
    "# add additional columns to df\n",
    "def add_to_df(df):\n",
    "    # positions (not normalized)\n",
    "    df['pos_int'] = attn_dict['positions'][:half] * 2\n",
    "    # df['pos_int'] = attn_dict['positions'] * 2\n",
    "    df['pos_int'] = df['pos_int'] + 1\n",
    "    #print(df['pos_int'].head(20))\n",
    "    \n",
    "    # length of sentence\n",
    "    words = df['sentence'].str.split().str.len()\n",
    "    df['length'] = words\n",
    "    # print(df['length'].head(20))\n",
    "    # print(len(df['length']))\n",
    "    \n",
    "    # corresponding color for queries/keys\n",
    "    colors = []\n",
    "    for t in df['type']:\n",
    "        if t == \"query\":\n",
    "            colors.append(\"#B6E1B9\")\n",
    "        else:\n",
    "            colors.append(\"#F6BA98\")\n",
    "\n",
    "    # print(colors[:20])\n",
    "    df['color'] = colors\n",
    "    df['norm'] = round(df['norm'], 2)\n",
    "\n",
    "    return df\n",
    "\n",
    "df = add_to_df(df)"
   ]
  },
  {
   "cell_type": "code",
   "execution_count": null,
   "id": "0e771a18-f896-4045-9c22-023c39477b14",
   "metadata": {},
   "outputs": [],
   "source": [
    "tsne_results_new = [[t[0], 0] for t in tsne_results]\n",
    "umap_results_new = [[t[0], 0] for t in umap_results]"
   ]
  },
  {
   "cell_type": "code",
   "execution_count": 36,
   "id": "3e53e7bb-8539-47cb-8fd0-ccdeaed9d39b",
   "metadata": {},
   "outputs": [
    {
     "data": {
      "text/html": [
       "<iframe\n",
       "    scrolling=\"no\"\n",
       "    width=\"100%\"\n",
       "    height=\"820\"\n",
       "    src=\"iframe_figures/figure_36.html\"\n",
       "    frameborder=\"0\"\n",
       "    allowfullscreen\n",
       "></iframe>\n"
      ]
     },
     "metadata": {},
     "output_type": "display_data"
    }
   ],
   "source": [
    "def make_fig(tsne_results, df, layer, head, plot_type):\n",
    "    # plot TSNE / UMAP results with plotly\n",
    "    # 3D version\n",
    "    # fig = px.scatter_3d(\n",
    "    #     tsne_results[half:], x=0, y=1, z=2,\n",
    "    #     color=df.norm[half:], labels={'color': 'normalized position'}, color_continuous_scale=px.colors.sequential.Burgyl,\n",
    "    #     title=plot_type + ' Plot for BERT (Layer ' + str(layer) + ', Head ' + str(head) + ')',\n",
    "    #     height=800,\n",
    "    #     opacity=0.5\n",
    "    # )\n",
    "    \n",
    "    # 2D version\n",
    "    fig = px.scatter(\n",
    "        tsne_results[half:], x=0, y=1,\n",
    "        color=df.position[half:], labels={'color': 'normalized position'}, color_continuous_scale=px.colors.sequential.Burgyl,\n",
    "        title=plot_type + ' Plot for BERT (Layer ' + str(layer) + ', Head ' + str(head) + ')',\n",
    "        height=800,\n",
    "        opacity=0.5\n",
    "    )\n",
    "    \n",
    "    # 3D version\n",
    "    # fig2 = px.scatter_3d(\n",
    "    #     tsne_results[:half], x=0, y=1, z=2, \n",
    "    #     color=df.position[:half], labels={'color': ''}, color_continuous_scale=px.colors.sequential.Blugrn,\n",
    "    #     title=plot_type + ' Plot for BERT (Layer ' + str(layer) + ', Head ' + str(head) + ')',\n",
    "    #     height=800,\n",
    "    #     opacity=0.5\n",
    "    # )\n",
    "    fig2 = px.scatter(\n",
    "        tsne_results[:half], x=0, y=1, \n",
    "        color=df.position[:half], labels={'color': ''}, color_continuous_scale=px.colors.sequential.Blugrn,\n",
    "        title=plot_type + ' Plot for BERT (Layer ' + str(layer) + ', Head ' + str(head) + ')',\n",
    "        height=800,\n",
    "        opacity=0.5\n",
    "    )\n",
    "    \n",
    "    # add second trace to include 2 color scales (1st is key, 2nd is query)\n",
    "    fig.layout.coloraxis2 = fig2.layout.coloraxis\n",
    "    fig.add_trace(fig2.data[0])\n",
    "    fig['data'][1]['marker'] = {    'color' : df['position'][:half],\n",
    "                                    'coloraxis' : 'coloraxis2',\n",
    "                                    'opacity' : 0.5\n",
    "                                }\n",
    "    # formatting things\n",
    "    fig.layout.coloraxis.colorbar.x = 1.05\n",
    "    fig.layout.coloraxis.colorbar.title.side = \"right\"\n",
    "    fig.layout.coloraxis2.colorbar.x = 1.01\n",
    "    fig.layout.coloraxis2.colorbar.ticklabelstep=70\n",
    "    fig.layout.coloraxis2.colorbar.ticklabelposition=\"inside\"\n",
    "    \n",
    "    # updating display\n",
    "    fig.update_traces( # queries\n",
    "        customdata=df[['token', 'sentence', 'pos_int', 'length', 'type', 'color', 'norm']][:half],\n",
    "        hovertemplate=\"<b style='font-size:larger'><span style='color:%{customdata[5]}'>%{customdata[0]}</span> (<i>%{customdata[4]}</i>, pos: %{customdata[2]} of %{customdata[3]}, norm: %{customdata[6]})</b><br><br>\",\n",
    "        selector=dict(marker_coloraxis='coloraxis2'),\n",
    "        marker=dict(size=6)\n",
    "    )\n",
    "    fig.update_traces( # keys\n",
    "        customdata=df[['token', 'sentence', 'pos_int', 'length', 'type', 'color', 'norm']][half:],\n",
    "        hovertemplate=\"<b style='font-size:larger'><span style='color:%{customdata[5]}'>%{customdata[0]}</span> (<i>%{customdata[4]}</i>, pos: %{customdata[2]} of %{customdata[3]}, norm: %{customdata[6]})</b><br><br>\",\n",
    "        selector=dict(marker_coloraxis='coloraxis'),\n",
    "        marker=dict(size=6)\n",
    "    )\n",
    "    fig.update_layout(\n",
    "        plot_bgcolor='#E8E8E8',\n",
    "        hoverlabel=dict(font_color = 'white', bordercolor = 'white'),\n",
    "    )\n",
    "    \n",
    "    # save plot as html file\n",
    "    # fig.write_html(plot_type + \"_plots/layer\" + str(layer) + \"_head\" + str(head) + \".html\")\n",
    "    fig.show()\n",
    "    \n",
    "make_fig(tsne_results, df, 1, 2, \"TSNE\")"
   ]
  },
  {
   "cell_type": "code",
   "execution_count": null,
   "id": "5dc252d9-18dd-4c40-aee4-197edd901f44",
   "metadata": {},
   "outputs": [],
   "source": [
    "# make 1 TSNE plot w/ pre-loaded data\n",
    "df = add_to_df(df)\n",
    "make_fig(tsne_results, df, 0, 0, \"TSNE\")"
   ]
  },
  {
   "cell_type": "code",
   "execution_count": null,
   "id": "3a7a91f6-0f15-48cf-aa5b-12135dc544d1",
   "metadata": {},
   "outputs": [],
   "source": [
    "# make 1 UMAP plot w/ pre-loaded data\n",
    "# df = add_to_df(df)\n",
    "make_fig(umap_results, df, 0, 0, \"UMAP\")"
   ]
  },
  {
   "cell_type": "code",
   "execution_count": null,
   "id": "fb3349f4-25d8-466a-a073-fca78cb8c272",
   "metadata": {},
   "outputs": [],
   "source": [
    "# generate tsne plot for specific layer, head of BERT\n",
    "def generate_tsne(layer, head):\n",
    "    df = make_df(layer, head)\n",
    "    df = translate_loop(df)\n",
    "    tsne_results = run_tsne(df, layer, head)\n",
    "    df = add_to_df(df)\n",
    "    make_fig(tsne_results, df, layer, head, \"TSNE\")"
   ]
  },
  {
   "cell_type": "code",
   "execution_count": null,
   "id": "f05ce332-f90a-4661-97ac-05b32d6f51e8",
   "metadata": {},
   "outputs": [],
   "source": [
    "generate_tsne(3, 11)"
   ]
  },
  {
   "cell_type": "code",
   "execution_count": null,
   "id": "380683e2-228f-41a0-b59b-58b7ed68ac27",
   "metadata": {},
   "outputs": [],
   "source": [
    "# generate umap plot for specific layer, head of BERT\n",
    "def generate_umap(layer, head):\n",
    "    df = make_df(layer, head)\n",
    "    df = translate_loop(df)\n",
    "    umap_results = run_umap(df, layer, head)\n",
    "    df = add_to_df(df)\n",
    "    make_fig(umap_results, df, layer, head, \"UMAP\")"
   ]
  },
  {
   "cell_type": "code",
   "execution_count": null,
   "id": "7034a852-80bb-44e0-b925-a9bb75bfa2c2",
   "metadata": {},
   "outputs": [],
   "source": [
    "generate_umap(0, 0)"
   ]
  },
  {
   "cell_type": "code",
   "execution_count": null,
   "id": "16437bba-faee-46f5-b3c0-2d38ac0d07e4",
   "metadata": {},
   "outputs": [],
   "source": [
    "# generate tsne/umap simultaneously\n",
    "def generate_tsne_and_umap(layer, head):\n",
    "    df = make_df(layer, head)\n",
    "    df = translate_loop(df)\n",
    "    # df = subtract_pos(df, layer, head, all_embeddings)\n",
    "    tsne_results = run_tsne(df, layer, head)\n",
    "    umap_results = run_umap(df, layer, head)\n",
    "    # df = add_to_df(df)\n",
    "    # make_fig(tsne_results, df, layer, head, \"TSNE\")\n",
    "    # make_fig(umap_results, df, layer, head, \"UMAP\")"
   ]
  },
  {
   "cell_type": "code",
   "execution_count": null,
   "id": "d018e295-675f-462b-8866-cfc0689a685a",
   "metadata": {},
   "outputs": [],
   "source": [
    "generate_tsne_and_umap(11, 3)"
   ]
  },
  {
   "cell_type": "code",
   "execution_count": null,
   "id": "a016548a-1c5d-4570-94e9-522da6a051a1",
   "metadata": {},
   "outputs": [],
   "source": [
    "# loop for generating plots\n",
    "for i in range(12):\n",
    "    for j in range(12):\n",
    "        generate_tsne_and_umap(i, j)\n",
    "        print(\"Layer {} Head {} done\".format(i, j))"
   ]
  },
  {
   "cell_type": "markdown",
   "id": "499718f4-9e9f-4407-81f3-35f45534bade",
   "metadata": {
    "jp-MarkdownHeadingCollapsed": true,
    "tags": []
   },
   "source": [
    "### extracting colors"
   ]
  },
  {
   "cell_type": "code",
   "execution_count": null,
   "id": "f0df1764-94b4-4d1d-a850-c8e50ddc6698",
   "metadata": {},
   "outputs": [],
   "source": [
    "from plotly.colors import colorscale_to_scale\n",
    "import plotly.express as px\n",
    "\n",
    "rgb_values = colorscale_to_scale(px.colors.sequential.Burgyl)\n",
    "print(rgb_values)"
   ]
  },
  {
   "cell_type": "markdown",
   "id": "95e7c2af-57d3-41cc-afb4-8a2e0274e66d",
   "metadata": {
    "jp-MarkdownHeadingCollapsed": true,
    "tags": []
   },
   "source": [
    "### saving coordinates"
   ]
  },
  {
   "cell_type": "code",
   "execution_count": null,
   "id": "056cc4f7-1110-47ce-aa32-4b1dbb10b551",
   "metadata": {},
   "outputs": [],
   "source": [
    "def save_norms():\n",
    "# convert data into pandas dataframe\n",
    "    df = pd.DataFrame()\n",
    "    \n",
    "    # extract q/k vectors\n",
    "    queries = attn_dict['queries']\n",
    "    keys = attn_dict['keys']\n",
    "    vec_size = len(queries[0][0][0])\n",
    "    \n",
    "    for layer in range(12):\n",
    "        for head in range(12):\n",
    "            # norms\n",
    "            norms_q = []\n",
    "            norms_k = []\n",
    "            for i in range(len(queries[layer][head])):\n",
    "                q = queries[layer][head][i]\n",
    "                k = keys[layer][head][i]\n",
    "                norms_q.append(np.linalg.norm(q))\n",
    "                norms_k.append(np.linalg.norm(k))\n",
    "            df[\"layer{}_head{}\".format(layer, head)] = norms_q + norms_k\n",
    "    \n",
    "    df = pd.concat([df.iloc[:5021], df.iloc[30070:30070+5021]]) # only get first X keys + queries\n",
    "    df.to_csv('test.csv', index=False)\n",
    "\n",
    "# testing\n",
    "save_norms()"
   ]
  },
  {
   "cell_type": "code",
   "execution_count": null,
   "id": "7b87b4a4-c906-4d13-b66b-b457ad536a5f",
   "metadata": {},
   "outputs": [],
   "source": [
    "def save_attention(layer, head):\n",
    "    df = pd.DataFrame()\n",
    "    attn = new_attention[layer][head]\n",
    "    df['attn'] = attn + k_matrix(attn)\n",
    "    df.to_csv('test.tsv', sep=\"\\t\", index=False)\n",
    "\n",
    "save_attention(9, 8)"
   ]
  },
  {
   "cell_type": "code",
   "execution_count": null,
   "id": "58bf05e7-6db9-47aa-baf1-f4df6edd2d04",
   "metadata": {},
   "outputs": [],
   "source": [
    "def convert_to_str(layer, head):\n",
    "    umap_str = \"\"\n",
    "    file = \"umap_coords/layer\" + str(layer) + \"_head\" + str(head) + \".txt\"\n",
    "    umap_results = np.load(\"umap/layer\" + str(layer) + \"_head\" + str(head) + \".npy\")\n",
    "    x = [i[0] for i in umap_results]\n",
    "    y = [i[1] for i in umap_results]\n",
    "    \n",
    "    half = int(len(x) / 2)\n",
    "\n",
    "    x1_str = '\"x\":' + str(x[:half])\n",
    "    y1_str = '\"y\":' + str(y[:half])\n",
    "    x2_str = '\"x\":' + str(x[half:])\n",
    "    y2_str = '\"y\":' + str(y[half:])\n",
    "    \n",
    "    umap_str = x1_str + \"\\n\" + y1_str + \"\\n\" + x2_str + \"\\n\" + y2_str\n",
    "    \n",
    "    with open(file, 'w') as o:\n",
    "        o.write(umap_str)\n",
    "    \n",
    "convert_to_str(0, 0)"
   ]
  },
  {
   "cell_type": "code",
   "execution_count": null,
   "id": "fdfbc01f-7fad-4283-9699-c586f7507b91",
   "metadata": {},
   "outputs": [],
   "source": [
    "for i in range(12):\n",
    "    for j in range(12):\n",
    "        convert_to_str(i, j)"
   ]
  },
  {
   "cell_type": "markdown",
   "id": "5da08e4d-7f7c-411b-9d41-48027bde9369",
   "metadata": {
    "jp-MarkdownHeadingCollapsed": true,
    "tags": []
   },
   "source": [
    "### distance archive\n",
    "Here, I was trying to compute distances between tokens to color points in the plot, but it didn't end up being very informative :)."
   ]
  },
  {
   "cell_type": "code",
   "execution_count": null,
   "id": "4f96857d-5add-4f9f-aca7-5fbd0b9abb9b",
   "metadata": {},
   "outputs": [],
   "source": [
    "q_distances = np.load(\"distances/q_dist.npy\")\n",
    "k_distances = np.load(\"distances/k_dist.npy\")"
   ]
  },
  {
   "cell_type": "code",
   "execution_count": null,
   "id": "1c28a7dd-c007-43b8-b3a7-d1b549a47d10",
   "metadata": {},
   "outputs": [],
   "source": [
    "# normalizing distances\n",
    "def normalize(data):\n",
    "    min_val = min(data)\n",
    "    #print(min_val)\n",
    "    max_val = max(data)\n",
    "    #print(max_val)\n",
    "    range_val = max_val - min_val\n",
    "    \n",
    "    return [(i - min_val) / range_val for i in data]\n",
    "\n",
    "#print(q_distances[:20])\n",
    "q_dist_norm = normalize(q_distances)\n",
    "#print(k_distances[:20])\n",
    "k_dist_norm = normalize(k_distances)\n",
    "\n",
    "#print(q_dist_norm[:20])\n",
    "#print(k_dist_norm[:20])\n",
    "\n",
    "all_dist = q_dist_norm + k_dist_norm\n",
    "all_dist = [min(1.1 - i, 1) for i in all_dist]\n",
    "print(all_dist[:20])\n",
    "print(min(all_dist))\n",
    "print(max(all_dist))"
   ]
  },
  {
   "cell_type": "code",
   "execution_count": null,
   "id": "8fb01bbb-94d5-467f-abd1-784954b4afea",
   "metadata": {},
   "outputs": [],
   "source": [
    "from scipy.spatial import distance\n",
    "\n",
    "queries = attn_dict['queries'][0][0]\n",
    "keys = attn_dict['keys'][0][0]\n",
    "half = len(queries)\n",
    "\n",
    "# q_distances = [0] * half  # query to key\n",
    "# k_distances = [0] * half # key to query\n",
    "# q_distances = np.load(\"distances/q_dist16299.npy\")\n",
    "# k_distances = np.load(\"distances/k_dist16299.npy\")\n",
    "saved_pairs = {}\n",
    "\n",
    "# find min cosine distance for each point to other group\n",
    "for i in range(half):\n",
    "    # q_min = q_distances[i]\n",
    "    for j in range(half):\n",
    "        # k_min = k_distances[j]\n",
    "        # if (i,j) in saved_pairs: # check if already computed\n",
    "        #     d = saved_pairs[(i,j)]\n",
    "        # elif (j,i) in saved_pairs:\n",
    "        #     d = saved_pairs[(j,i)]\n",
    "        # else: # otherwise, compute and save\n",
    "        if (i,j) not in saved_pairs and (j,i) not in saved_pairs:\n",
    "            d = distance.cosine(queries[i], keys[j])\n",
    "            saved_pairs[(i,j)] = d\n",
    "        \n",
    "        # if q_min == 0 or d < q_min: # new min distance found for query\n",
    "        #     q_min = d\n",
    "        # if k_min == 0 or d < k_min:\n",
    "        #     k_distances[j] = d # update min distance for key\n",
    "            \n",
    "#     q_distances[i] = q_min # store min distance for each query\n",
    "    \n",
    "#     if (i+1) % 100 == 0: # save incrementally\n",
    "#         np.save(\"distances/q_dist\" + str(i) + \".npy\", q_distances)\n",
    "#         np.save(\"distances/k_dist\" + str(i) + \".npy\", k_distances)"
   ]
  },
  {
   "cell_type": "code",
   "execution_count": null,
   "id": "f54a1c56-39d2-4d51-9bad-552723e45631",
   "metadata": {},
   "outputs": [],
   "source": [
    "np.save(\"distances/q_dist.npy\", q_distances)\n",
    "np.save(\"distances/k_dist.npy\", k_distances)"
   ]
  },
  {
   "cell_type": "code",
   "execution_count": null,
   "id": "ca49c1cc-9d5f-419c-9252-05bcfca31f7d",
   "metadata": {},
   "outputs": [],
   "source": [
    "num_pairs = len(saved_pairs)\n",
    "\n",
    "start = 0\n",
    "while start < num_pairs:\n",
    "    end = min(start + 10000000, num_pairs)\n",
    "    \n",
    "    with open('pair_dist' + str(end) + '.p', 'wb') as file:\n",
    "        pickle.dump(saved_pairs[start:end], file, protocol=pickle.HIGHEST_PROTOCOL)\n",
    "    \n",
    "    start = end"
   ]
  },
  {
   "cell_type": "code",
   "execution_count": null,
   "id": "72fe89e4-c160-41ab-a30a-48d5690c7ca1",
   "metadata": {},
   "outputs": [],
   "source": [
    "# compute distances for each point\n",
    "def distance_to_op(types, coords):\n",
    "    saved_pairs = {} # keep track of already computed distances\n",
    "    distances = {} # store all distances\n",
    "    \n",
    "    \n",
    "    half = int(len(coords) / 2) # half of points are queries, other half are keys\n",
    "    for i in range(half):\n",
    "        c = coords[i] # current point\n",
    "        x0 = c[0]\n",
    "        y0 = c[1]\n",
    "        t = types[i] # type of current point\n",
    "        \n",
    "        # find how far point is from one of the other color\n",
    "        dists = []\n",
    "        start = 0 # search queries\n",
    "        if t == \"query\": # search keys\n",
    "            start = half\n",
    "        \n",
    "        distances[i] = [] # new list of distances for each point\n",
    "        for j in range(start, start + half):\n",
    "            x1 = coords[j,0]\n",
    "            y1 = coords[j,1]\n",
    "            if ((x0,y0),(x1,y1)) in saved_pairs: # check if already computed\n",
    "                d = saved_pairs[((x0,y0),(x1,y1))]\n",
    "            elif ((x1,y1),(x0,y0)) in saved_pairs:\n",
    "                d = saved_pairs[((x1,y1),(x0,y0))]\n",
    "            else: # otherwise, compute and save\n",
    "                d = (x1-x0)**2 + (y1-y0)**2\n",
    "                saved_pairs[((x0,y0),(x1,y1))] = d\n",
    "                \n",
    "            distances[i].append([d,j])\n",
    "        \n",
    "        # sort neighbors by distance\n",
    "        ds_sorted = sorted(distances[i], key=lambda item: item[0])\n",
    "        distances[i] = ds_sorted\n",
    "        \n",
    "        if i + 1 % 100 == 0:\n",
    "            with open('distances/distance' + str(i+1) + '.p', 'wb') as file:\n",
    "                pickle.dump(distances, file, protocol=pickle.HIGHEST_PROTOCOL)\n",
    "            distances = {}\n",
    "            print(\"{} points done\".format(i+1))\n",
    "        \n",
    "    return distances"
   ]
  },
  {
   "cell_type": "code",
   "execution_count": null,
   "id": "8e73366d-0fcb-4eb5-a9bd-2834a2a9d887",
   "metadata": {},
   "outputs": [],
   "source": [
    "distances1 = distance_to_op(df['type'], tsne_results)\n",
    "\n",
    "# save distances to pickle file\n",
    "with open('distances.p', 'wb') as file:\n",
    "    pickle.dump(distances, file, protocol=pickle.HIGHEST_PROTOCOL)"
   ]
  },
  {
   "cell_type": "code",
   "execution_count": null,
   "id": "4df6db74-73e1-44c5-bfff-afe887354aa4",
   "metadata": {},
   "outputs": [],
   "source": [
    "# compute distances for each point\n",
    "def distance_to_op2(types, coords):\n",
    "    saved_pairs = {} # keep track of already computed distances\n",
    "    distances = {} # store all distances\n",
    "    \n",
    "    \n",
    "    half = int(len(coords) / 2) # half of points are queries, other half are keys\n",
    "    for i in range(half, len(coords)):\n",
    "        c = coords[i] # current point\n",
    "        x0 = c[0]\n",
    "        y0 = c[1]\n",
    "        t = types[i] # type of current point\n",
    "        \n",
    "        # find how far point is from one of the other color\n",
    "        dists = []\n",
    "        start = 0 # search queries\n",
    "        if t == \"query\": # search keys\n",
    "            start = half\n",
    "        \n",
    "        distances[i] = [] # new list of distances for each point\n",
    "        for j in range(start, start + half):\n",
    "            x1 = coords[j,0]\n",
    "            y1 = coords[j,1]\n",
    "            if ((x0,y0),(x1,y1)) in saved_pairs: # check if already computed\n",
    "                d = saved_pairs[((x0,y0),(x1,y1))]\n",
    "            elif ((x1,y1),(x0,y0)) in saved_pairs:\n",
    "                d = saved_pairs[((x1,y1),(x0,y0))]\n",
    "            else: # otherwise, compute and save\n",
    "                d = (x1-x0)**2 + (y1-y0)**2\n",
    "                saved_pairs[((x0,y0),(x1,y1))] = d\n",
    "                \n",
    "            distances[i].append([d,j])\n",
    "        \n",
    "        # sort neighbors by distance\n",
    "        ds_sorted = sorted(distances[i], key=lambda item: item[0])\n",
    "        distances[i] = ds_sorted\n",
    "        \n",
    "    return distances"
   ]
  },
  {
   "cell_type": "code",
   "execution_count": null,
   "id": "8c11b92b-3da0-4a84-82d3-91ad677af18d",
   "metadata": {},
   "outputs": [],
   "source": [
    "distances2 = distance_to_op2(df['type'], tsne_results)"
   ]
  },
  {
   "cell_type": "code",
   "execution_count": null,
   "id": "ce9ee8c7-ed5e-4473-b208-baa2ab0ef1a8",
   "metadata": {},
   "outputs": [],
   "source": [
    "# generate list of closest distance for each point\n",
    "closest = [distances[i][0][0] for i in distances]\n",
    "min_dist = min(closest)\n",
    "max_dist = max(closest)\n",
    "range_dist = max_dist - min_dist\n",
    "\n",
    "# normalize distances\n",
    "closest = [(i - min_dist) / range_dist for i in closest]\n",
    "\n",
    "print(closest)"
   ]
  },
  {
   "cell_type": "markdown",
   "id": "6ac671c7-61d8-451f-92e3-857570525e11",
   "metadata": {
    "jp-MarkdownHeadingCollapsed": true,
    "tags": []
   },
   "source": [
    "### archive"
   ]
  },
  {
   "cell_type": "code",
   "execution_count": null,
   "id": "d5247d55-381c-46b1-b601-9e18f73734ad",
   "metadata": {},
   "outputs": [],
   "source": [
    "# STATS\n",
    "words = df['sentence'].str.split().str.len()\n",
    "avg = words.mean() # average number of tokens per sentence\n",
    "mx = words.max() # max number of tokens per sentence\n",
    "mn = words.min() # min number of tokens per sentence\n",
    "\n",
    "print(\"mean: {}, max: {}, min: {}\".format(avg, mx, mn))"
   ]
  },
  {
   "cell_type": "code",
   "execution_count": null,
   "id": "98016488-a635-4b3d-b23e-2adb95524707",
   "metadata": {},
   "outputs": [],
   "source": [
    "import string\n",
    "def lighten_special_tokens(tokens):\n",
    "    # make special tokens/punctuation parks more transparent\n",
    "    opacity = []\n",
    "    for t in tokens:\n",
    "        if t in ['[CLS]', '[SEP]'] or t in string.punctuation:\n",
    "            opacity.append(0.5)\n",
    "        else:\n",
    "            opacity.append(1)\n",
    "    return opacity"
   ]
  },
  {
   "cell_type": "code",
   "execution_count": null,
   "id": "8688f22f-2081-4c26-97da-b99d755d0e0d",
   "metadata": {},
   "outputs": [],
   "source": [
    "print(tsne_results)\n",
    "print(tsne_results[0, 1])\n",
    "#np.save(\"tsne/layer\" + str(0) + \"_head\" + str(0) + \".npy\", tsne_results)"
   ]
  },
  {
   "cell_type": "code",
   "execution_count": null,
   "id": "9667d1ec-2684-4c09-939a-76fce81bc527",
   "metadata": {},
   "outputs": [],
   "source": [
    "res = np.load(\"tsne/layer\" + str(0) + \"_head\" + str(0) + \".npy\")\n",
    "print(res)"
   ]
  },
  {
   "cell_type": "code",
   "execution_count": null,
   "id": "45f38cf7-015b-4d71-ab41-fa96fb18f77a",
   "metadata": {},
   "outputs": [],
   "source": [
    "# double check\n",
    "#queries[layer][head][0]\n",
    "#keys[layer][head][0]"
   ]
  },
  {
   "cell_type": "code",
   "execution_count": null,
   "id": "3ede694b-b37d-41d9-b42d-cf52fa38a3ac",
   "metadata": {},
   "outputs": [],
   "source": [
    "# prepare data for feature plot\n",
    "df_sub = df.iloc[:, 2:].copy()\n",
    "df_subset = df_sub.values # only get feature cols\n",
    "df_subset"
   ]
  },
  {
   "cell_type": "code",
   "execution_count": null,
   "id": "d275685f-a288-4025-baea-74f99df86e47",
   "metadata": {},
   "outputs": [],
   "source": [
    "df_lab = df.iloc[:, :2].copy() # get label cols only\n",
    "df_lab.head()"
   ]
  },
  {
   "cell_type": "code",
   "execution_count": null,
   "id": "71c5c4cb-42b7-4400-8e08-0ad1bf531320",
   "metadata": {},
   "outputs": [],
   "source": [
    "df_sub.to_csv('features' + str(head) + '.tsv', sep=\"\\t\", index=False, header=False) # save feature data"
   ]
  },
  {
   "cell_type": "code",
   "execution_count": null,
   "id": "6588cd95-6bce-4a56-9e3c-5c3c7cb49827",
   "metadata": {},
   "outputs": [],
   "source": [
    "df_lab.to_csv('labels.tsv', sep=\"\\t\", index=False) # save label data"
   ]
  },
  {
   "cell_type": "code",
   "execution_count": null,
   "id": "c4d6a8bf-05ad-4e5a-8037-ac3755891b59",
   "metadata": {},
   "outputs": [],
   "source": [
    "# run TSNE\n",
    "# from: https://towardsdatascience.com/visualising-high-dimensional-datasets-using-pca-and-t-sne-in-python-8ef87e7915b\n",
    "time_start = time.time()\n",
    "tsne = TSNE(n_components=2, verbose=1, perplexity=100, n_iter=300)\n",
    "tsne_results = tsne.fit_transform(df_subset)\n",
    "print('t-SNE done! Time elapsed: {} seconds'.format(time.time()-time_start))"
   ]
  },
  {
   "cell_type": "code",
   "execution_count": null,
   "id": "377c58fb-05fd-4709-ad8c-82c23e1da4e1",
   "metadata": {},
   "outputs": [],
   "source": [
    "df['tsne-2d-one'] = tsne_results[:,0]\n",
    "df['tsne-2d-two'] = tsne_results[:,1]\n",
    "# plt.figure(figsize=(16,10))\n",
    "# sns.scatterplot(\n",
    "#     x=\"tsne-2d-one\", y=\"tsne-2d-two\",\n",
    "#     hue=\"type\",\n",
    "#     palette=sns.color_palette(\"hls\", 2),\n",
    "#     data=df,\n",
    "#     legend=\"full\",\n",
    "#     alpha=0.8\n",
    "# )\n",
    "# plt.title(\"TSNE Plot for Bert (Layer 0, Attention Head 0)\")\n",
    "# for i, label in enumerate(df['token']):\n",
    "#     plt.annotate(label, (df['tsne-2d-one'][i] - 3, df['tsne-2d-two'][i] + 2))"
   ]
  },
  {
   "cell_type": "code",
   "execution_count": null,
   "id": "6f296dd2-c62d-47eb-937e-01cefc2a1f4d",
   "metadata": {},
   "outputs": [],
   "source": [
    "plt.figure(figsize=(16,10))\n",
    "sns.scatterplot(\n",
    "    x=\"tsne-2d-one\", y=\"tsne-2d-two\",\n",
    "    hue=\"type\",\n",
    "    palette=sns.color_palette(\"hls\", 2),\n",
    "    data=df,\n",
    "    legend=\"full\",\n",
    "    alpha=0.8\n",
    ")\n",
    "plt.title(\"TSNE Plot for Bert (Layer 0, Attention Head \" + str(head) + \")\")"
   ]
  }
 ],
 "metadata": {
  "kernelspec": {
   "display_name": "Python [conda env:anaconda3-diffusion]",
   "language": "python",
   "name": "conda-env-anaconda3-diffusion-py"
  },
  "language_info": {
   "codemirror_mode": {
    "name": "ipython",
    "version": 3
   },
   "file_extension": ".py",
   "mimetype": "text/x-python",
   "name": "python",
   "nbconvert_exporter": "python",
   "pygments_lexer": "ipython3",
   "version": "3.9.13"
  }
 },
 "nbformat": 4,
 "nbformat_minor": 5
}
